{
 "cells": [
  {
   "cell_type": "markdown",
   "id": "74d78c0d-7d30-460e-b8e3-c907c38407cc",
   "metadata": {},
   "source": [
    "## 1. Attributes of numpy module"
   ]
  },
  {
   "cell_type": "code",
   "execution_count": 1,
   "id": "5f20b1ba-086d-4a5c-b8cf-1b9f36503347",
   "metadata": {},
   "outputs": [],
   "source": [
    "import numpy as np"
   ]
  },
  {
   "cell_type": "code",
   "execution_count": 2,
   "id": "ae332632-c4df-43c4-8309-9de0c5e78972",
   "metadata": {},
   "outputs": [],
   "source": [
    "a1 = np.array([1,2,3])"
   ]
  },
  {
   "cell_type": "code",
   "execution_count": 3,
   "id": "6e0bda9e-e8d3-48bb-8ba6-c1200fff3020",
   "metadata": {},
   "outputs": [
    {
     "data": {
      "text/plain": [
       "(3,)"
      ]
     },
     "execution_count": 3,
     "metadata": {},
     "output_type": "execute_result"
    }
   ],
   "source": [
    "a1.shape"
   ]
  },
  {
   "cell_type": "code",
   "execution_count": 4,
   "id": "7f83d7e7-2010-4f5a-80d8-d2d53dde18a9",
   "metadata": {},
   "outputs": [
    {
     "data": {
      "text/plain": [
       "numpy.ndarray"
      ]
     },
     "execution_count": 4,
     "metadata": {},
     "output_type": "execute_result"
    }
   ],
   "source": [
    "type(a1)"
   ]
  },
  {
   "cell_type": "code",
   "execution_count": 5,
   "id": "48dfba91-9b54-43ab-952d-a77d4e543712",
   "metadata": {},
   "outputs": [],
   "source": [
    "a2 = np.array([[2, 4, 6.5],\n",
    "               [5.5, 3, 7.2]])"
   ]
  },
  {
   "cell_type": "code",
   "execution_count": 6,
   "id": "26d6c25c-5a2d-4262-8487-6a46c8d844f3",
   "metadata": {},
   "outputs": [
    {
     "data": {
      "text/plain": [
       "array([[2. , 4. , 6.5],\n",
       "       [5.5, 3. , 7.2]])"
      ]
     },
     "execution_count": 6,
     "metadata": {},
     "output_type": "execute_result"
    }
   ],
   "source": [
    "a2"
   ]
  },
  {
   "cell_type": "code",
   "execution_count": 7,
   "id": "469fc159-62a4-467e-ae35-c94094b37554",
   "metadata": {},
   "outputs": [
    {
     "data": {
      "text/plain": [
       "(2, 3)"
      ]
     },
     "execution_count": 7,
     "metadata": {},
     "output_type": "execute_result"
    }
   ],
   "source": [
    "a2.shape"
   ]
  },
  {
   "cell_type": "code",
   "execution_count": 8,
   "id": "61b726d8-e1eb-4d70-9e0d-1228fa3459a0",
   "metadata": {},
   "outputs": [],
   "source": [
    "a3 = np.array([[[2, 4, 6],\n",
    "                [5, 9, 12]],\n",
    "               [[10, 9, 11],\n",
    "                [5.3, 4.5, 7.9]]])"
   ]
  },
  {
   "cell_type": "code",
   "execution_count": 9,
   "id": "5486e0a6-8393-4a67-9a6b-ad0cfa5ee97d",
   "metadata": {},
   "outputs": [
    {
     "data": {
      "text/plain": [
       "array([[[ 2. ,  4. ,  6. ],\n",
       "        [ 5. ,  9. , 12. ]],\n",
       "\n",
       "       [[10. ,  9. , 11. ],\n",
       "        [ 5.3,  4.5,  7.9]]])"
      ]
     },
     "execution_count": 9,
     "metadata": {},
     "output_type": "execute_result"
    }
   ],
   "source": [
    "a3"
   ]
  },
  {
   "cell_type": "code",
   "execution_count": 10,
   "id": "5b4eaecb-3b00-413f-b1a0-2fa9aaaa2a87",
   "metadata": {},
   "outputs": [
    {
     "data": {
      "text/plain": [
       "(2, 2, 3)"
      ]
     },
     "execution_count": 10,
     "metadata": {},
     "output_type": "execute_result"
    }
   ],
   "source": [
    "a3.shape"
   ]
  },
  {
   "cell_type": "code",
   "execution_count": 11,
   "id": "7999ec00-4b05-4fa2-be5c-756bb057d6f3",
   "metadata": {},
   "outputs": [
    {
     "data": {
      "text/plain": [
       "(1, 2, 3)"
      ]
     },
     "execution_count": 11,
     "metadata": {},
     "output_type": "execute_result"
    }
   ],
   "source": [
    "a1.ndim, a2.ndim, a3.ndim"
   ]
  },
  {
   "cell_type": "code",
   "execution_count": 12,
   "id": "7de4f93b-6614-4cda-849f-d0a8e7311acc",
   "metadata": {},
   "outputs": [
    {
     "data": {
      "text/plain": [
       "(dtype('int64'), dtype('float64'), dtype('float64'))"
      ]
     },
     "execution_count": 12,
     "metadata": {},
     "output_type": "execute_result"
    }
   ],
   "source": [
    "a1.dtype, a2.dtype, a3.dtype"
   ]
  },
  {
   "cell_type": "code",
   "execution_count": 13,
   "id": "ae88a559-8d7e-4bc3-a88d-7db4ab81a1c1",
   "metadata": {},
   "outputs": [
    {
     "data": {
      "text/plain": [
       "(3, 6, 12)"
      ]
     },
     "execution_count": 13,
     "metadata": {},
     "output_type": "execute_result"
    }
   ],
   "source": [
    "a1.size, a2.size, a3.size"
   ]
  },
  {
   "cell_type": "code",
   "execution_count": 14,
   "id": "2d7de9df-af28-44e6-98db-aad64d5e438c",
   "metadata": {},
   "outputs": [
    {
     "data": {
      "text/plain": [
       "(numpy.ndarray, numpy.ndarray, numpy.ndarray)"
      ]
     },
     "execution_count": 14,
     "metadata": {},
     "output_type": "execute_result"
    }
   ],
   "source": [
    "type(a1), type(a2), type(a3)"
   ]
  },
  {
   "cell_type": "markdown",
   "id": "aeb8a142-ff5a-48a4-8ff7-a3c5ad6a6eff",
   "metadata": {},
   "source": [
    "## 2. Creating arrays"
   ]
  },
  {
   "cell_type": "code",
   "execution_count": 15,
   "id": "65c8807e-5af2-4943-a87c-33b77fa0bf99",
   "metadata": {},
   "outputs": [
    {
     "data": {
      "text/plain": [
       "array([1, 2, 3])"
      ]
     },
     "execution_count": 15,
     "metadata": {},
     "output_type": "execute_result"
    }
   ],
   "source": [
    "sample_array = np.array([1,2,3])\n",
    "sample_array"
   ]
  },
  {
   "cell_type": "code",
   "execution_count": 16,
   "id": "cf91ac26-2c15-4e9a-ae41-94ad22a89748",
   "metadata": {},
   "outputs": [
    {
     "data": {
      "text/plain": [
       "dtype('int64')"
      ]
     },
     "execution_count": 16,
     "metadata": {},
     "output_type": "execute_result"
    }
   ],
   "source": [
    "sample_array.dtype"
   ]
  },
  {
   "cell_type": "code",
   "execution_count": 17,
   "id": "f37423e5-9ff0-4907-a09d-464c06e1cb93",
   "metadata": {},
   "outputs": [],
   "source": [
    "ones = np.ones((2,1))"
   ]
  },
  {
   "cell_type": "code",
   "execution_count": 18,
   "id": "25baec70-1835-4780-b484-641eebb86946",
   "metadata": {},
   "outputs": [
    {
     "data": {
      "text/plain": [
       "array([[1.],\n",
       "       [1.]])"
      ]
     },
     "execution_count": 18,
     "metadata": {},
     "output_type": "execute_result"
    }
   ],
   "source": [
    "ones"
   ]
  },
  {
   "cell_type": "code",
   "execution_count": 19,
   "id": "5b97fa2b-6c9d-4820-87cb-d7f88c934cec",
   "metadata": {},
   "outputs": [
    {
     "data": {
      "text/plain": [
       "(2, 1)"
      ]
     },
     "execution_count": 19,
     "metadata": {},
     "output_type": "execute_result"
    }
   ],
   "source": [
    "ones.shape"
   ]
  },
  {
   "cell_type": "code",
   "execution_count": 20,
   "id": "00c0d4ad-8efa-4b6d-9ae0-fe114b2a825e",
   "metadata": {},
   "outputs": [],
   "source": [
    "zeros = np.zeros((2,3,1))"
   ]
  },
  {
   "cell_type": "code",
   "execution_count": 21,
   "id": "ab6201b2-aee3-42df-925a-e2980c4fec4a",
   "metadata": {},
   "outputs": [
    {
     "data": {
      "text/plain": [
       "array([[[0.],\n",
       "        [0.],\n",
       "        [0.]],\n",
       "\n",
       "       [[0.],\n",
       "        [0.],\n",
       "        [0.]]])"
      ]
     },
     "execution_count": 21,
     "metadata": {},
     "output_type": "execute_result"
    }
   ],
   "source": [
    "zeros"
   ]
  },
  {
   "cell_type": "code",
   "execution_count": 22,
   "id": "774b07ac-997b-46f8-9085-0d4bdf5372d4",
   "metadata": {},
   "outputs": [
    {
     "data": {
      "text/plain": [
       "(2, 3, 1)"
      ]
     },
     "execution_count": 22,
     "metadata": {},
     "output_type": "execute_result"
    }
   ],
   "source": [
    "zeros.shape"
   ]
  },
  {
   "cell_type": "code",
   "execution_count": 23,
   "id": "83870fd6-6ed8-4631-885a-f2b3e826c646",
   "metadata": {},
   "outputs": [],
   "source": [
    "range_array = np.arange(0, 10, 2) "
   ]
  },
  {
   "cell_type": "code",
   "execution_count": 24,
   "id": "655e762d-8e88-4c78-8b0c-8bf496b8575e",
   "metadata": {},
   "outputs": [
    {
     "data": {
      "text/plain": [
       "array([0, 2, 4, 6, 8])"
      ]
     },
     "execution_count": 24,
     "metadata": {},
     "output_type": "execute_result"
    }
   ],
   "source": [
    "range_array"
   ]
  },
  {
   "cell_type": "code",
   "execution_count": 25,
   "id": "848b2ace-25c4-41ff-bde1-b61ce7609ea5",
   "metadata": {},
   "outputs": [
    {
     "data": {
      "text/plain": [
       "(5,)"
      ]
     },
     "execution_count": 25,
     "metadata": {},
     "output_type": "execute_result"
    }
   ],
   "source": [
    "range_array.shape"
   ]
  },
  {
   "cell_type": "code",
   "execution_count": 26,
   "id": "85bef275-0d77-4f1e-b35c-6c3689c620e6",
   "metadata": {},
   "outputs": [],
   "source": [
    "random_array = np.random.randint(0, 50, 20)"
   ]
  },
  {
   "cell_type": "code",
   "execution_count": 27,
   "id": "0e4d088a-670f-4537-94de-c505ea0db7e2",
   "metadata": {},
   "outputs": [
    {
     "data": {
      "text/plain": [
       "array([33, 15, 34, 29, 39, 46, 27,  5, 32,  3, 26,  1, 29, 28,  3, 20, 39,\n",
       "       25, 13, 24])"
      ]
     },
     "execution_count": 27,
     "metadata": {},
     "output_type": "execute_result"
    }
   ],
   "source": [
    "random_array"
   ]
  },
  {
   "cell_type": "code",
   "execution_count": 28,
   "id": "7eb8d817-3669-43e9-a3a2-4cba8fd70bc1",
   "metadata": {},
   "outputs": [
    {
     "data": {
      "text/plain": [
       "20"
      ]
     },
     "execution_count": 28,
     "metadata": {},
     "output_type": "execute_result"
    }
   ],
   "source": [
    "random_array.size"
   ]
  },
  {
   "cell_type": "code",
   "execution_count": 29,
   "id": "0e2bb25a-99dc-41f7-85fe-ad45c6d25f51",
   "metadata": {},
   "outputs": [],
   "source": [
    "random_array2 = np.random.randint(0, 10, size=(2,3))"
   ]
  },
  {
   "cell_type": "code",
   "execution_count": 30,
   "id": "72895d89-f873-4d5d-a5e3-26d2246cce50",
   "metadata": {},
   "outputs": [
    {
     "data": {
      "text/plain": [
       "array([[2, 7, 3],\n",
       "       [1, 0, 9]])"
      ]
     },
     "execution_count": 30,
     "metadata": {},
     "output_type": "execute_result"
    }
   ],
   "source": [
    "random_array2"
   ]
  },
  {
   "cell_type": "code",
   "execution_count": 31,
   "id": "dbf128cd-a0d7-4027-a881-e72506587769",
   "metadata": {},
   "outputs": [],
   "source": [
    "random_array3 = np.random.random((2,4))"
   ]
  },
  {
   "cell_type": "code",
   "execution_count": 32,
   "id": "622603c2-bd10-456e-9dc2-a3447a02b435",
   "metadata": {},
   "outputs": [
    {
     "data": {
      "text/plain": [
       "array([[0.43355973, 0.88632466, 0.22474985, 0.72007675],\n",
       "       [0.58788467, 0.93334335, 0.60191057, 0.83928787]])"
      ]
     },
     "execution_count": 32,
     "metadata": {},
     "output_type": "execute_result"
    }
   ],
   "source": [
    "random_array3"
   ]
  },
  {
   "cell_type": "code",
   "execution_count": 33,
   "id": "f10bf5e0-f1d9-45c4-8fec-2c95afda234c",
   "metadata": {},
   "outputs": [],
   "source": [
    "random_array4 = np.random.rand(2,4)"
   ]
  },
  {
   "cell_type": "code",
   "execution_count": 34,
   "id": "f25bedf7-b683-4c29-ba22-5b7a3b567efb",
   "metadata": {},
   "outputs": [
    {
     "data": {
      "text/plain": [
       "array([[0.71477924, 0.89702637, 0.43623902, 0.74989923],\n",
       "       [0.39025083, 0.33042124, 0.44833005, 0.88222424]])"
      ]
     },
     "execution_count": 34,
     "metadata": {},
     "output_type": "execute_result"
    }
   ],
   "source": [
    "random_array4"
   ]
  },
  {
   "cell_type": "code",
   "execution_count": 35,
   "id": "45ce1927-23a8-4e94-9463-2f159ef37d6f",
   "metadata": {},
   "outputs": [],
   "source": [
    "np.random.seed(999)\n",
    "random_array5 = np.random.rand(5,1)"
   ]
  },
  {
   "cell_type": "code",
   "execution_count": 36,
   "id": "2bf45b7b-eb14-47a7-a887-47cdf7b54e08",
   "metadata": {},
   "outputs": [
    {
     "data": {
      "text/plain": [
       "array([[0.80342804],\n",
       "       [0.5275223 ],\n",
       "       [0.11911147],\n",
       "       [0.63968144],\n",
       "       [0.09092526]])"
      ]
     },
     "execution_count": 36,
     "metadata": {},
     "output_type": "execute_result"
    }
   ],
   "source": [
    "random_array5"
   ]
  },
  {
   "cell_type": "code",
   "execution_count": 37,
   "id": "01c7eda0-c64b-4b3a-aa2d-b9dea457dad3",
   "metadata": {},
   "outputs": [
    {
     "data": {
      "text/plain": [
       "array([5, 0, 3, 3, 7, 9, 3, 5, 2, 4, 7, 6, 8, 8, 1, 6, 7, 7, 8, 1])"
      ]
     },
     "execution_count": 37,
     "metadata": {},
     "output_type": "execute_result"
    }
   ],
   "source": [
    "np.random.seed(seed=0)\n",
    "random_1 = np.random.randint(0,10,20)\n",
    "random_1"
   ]
  },
  {
   "cell_type": "code",
   "execution_count": 38,
   "id": "eba55d22-bfe6-4d31-9d99-f16d54f6cc7f",
   "metadata": {},
   "outputs": [
    {
     "data": {
      "text/plain": [
       "array([7, 3, 0, 5, 8, 8, 9, 5, 3, 1, 2, 5, 2, 8, 9, 9, 6, 1, 0, 7])"
      ]
     },
     "execution_count": 38,
     "metadata": {},
     "output_type": "execute_result"
    }
   ],
   "source": [
    "np.random.seed(seed=None)\n",
    "random_2 = np.random.randint(0,10,20)\n",
    "random_2\n",
    "#Result will change for every execution"
   ]
  },
  {
   "cell_type": "markdown",
   "id": "a85daab6-6173-40a4-9d25-0d9a55dc5db6",
   "metadata": {},
   "source": [
    "## 3. Viewing arrays and matrices"
   ]
  },
  {
   "cell_type": "code",
   "execution_count": 39,
   "id": "47b3359c-7956-4ef0-94a5-72000855773f",
   "metadata": {},
   "outputs": [],
   "source": [
    "np.random.seed(42)\n",
    "data = np.random.randint(1, 10, size=(2, 3, 3))"
   ]
  },
  {
   "cell_type": "code",
   "execution_count": 40,
   "id": "055449cc-d150-463e-bdca-8a386f8581e7",
   "metadata": {},
   "outputs": [
    {
     "data": {
      "text/plain": [
       "array([[[7, 4, 8],\n",
       "        [5, 7, 3],\n",
       "        [7, 8, 5]],\n",
       "\n",
       "       [[4, 8, 8],\n",
       "        [3, 6, 5],\n",
       "        [2, 8, 6]]])"
      ]
     },
     "execution_count": 40,
     "metadata": {},
     "output_type": "execute_result"
    }
   ],
   "source": [
    "data"
   ]
  },
  {
   "cell_type": "code",
   "execution_count": 41,
   "id": "3f001c51-48cc-4c56-ba76-bc3e7b7457b2",
   "metadata": {},
   "outputs": [
    {
     "data": {
      "text/plain": [
       "array([[[5, 7, 3],\n",
       "        [7, 4, 8],\n",
       "        [7, 8, 5]],\n",
       "\n",
       "       [[3, 6, 5],\n",
       "        [4, 8, 8],\n",
       "        [2, 8, 6]]])"
      ]
     },
     "execution_count": 41,
     "metadata": {},
     "output_type": "execute_result"
    }
   ],
   "source": [
    "np.unique(data, axis=1)"
   ]
  },
  {
   "cell_type": "code",
   "execution_count": 42,
   "id": "e329a455-d553-4d61-8383-1b2f28c0b0fe",
   "metadata": {},
   "outputs": [
    {
     "data": {
      "text/plain": [
       "array([1, 2, 3])"
      ]
     },
     "execution_count": 42,
     "metadata": {},
     "output_type": "execute_result"
    }
   ],
   "source": [
    "a1"
   ]
  },
  {
   "cell_type": "code",
   "execution_count": 43,
   "id": "c4a8a22d-c850-4b4e-9d50-e872309b1229",
   "metadata": {},
   "outputs": [
    {
     "data": {
      "text/plain": [
       "array([[2. , 4. , 6.5],\n",
       "       [5.5, 3. , 7.2]])"
      ]
     },
     "execution_count": 43,
     "metadata": {},
     "output_type": "execute_result"
    }
   ],
   "source": [
    "a2"
   ]
  },
  {
   "cell_type": "code",
   "execution_count": 44,
   "id": "1f0a6343-1190-473c-92a7-145c4c8215ca",
   "metadata": {},
   "outputs": [
    {
     "data": {
      "text/plain": [
       "array([[[ 2. ,  4. ,  6. ],\n",
       "        [ 5. ,  9. , 12. ]],\n",
       "\n",
       "       [[10. ,  9. , 11. ],\n",
       "        [ 5.3,  4.5,  7.9]]])"
      ]
     },
     "execution_count": 44,
     "metadata": {},
     "output_type": "execute_result"
    }
   ],
   "source": [
    "a3"
   ]
  },
  {
   "cell_type": "code",
   "execution_count": 45,
   "id": "bc4f2a1e-4bdd-4bd2-90d6-8a050ada061e",
   "metadata": {},
   "outputs": [
    {
     "data": {
      "text/plain": [
       "1"
      ]
     },
     "execution_count": 45,
     "metadata": {},
     "output_type": "execute_result"
    }
   ],
   "source": [
    "a1[0]"
   ]
  },
  {
   "cell_type": "code",
   "execution_count": 46,
   "id": "ea829099-6578-4ef7-bbfe-745cfe16c691",
   "metadata": {},
   "outputs": [
    {
     "data": {
      "text/plain": [
       "array([2. , 4. , 6.5])"
      ]
     },
     "execution_count": 46,
     "metadata": {},
     "output_type": "execute_result"
    }
   ],
   "source": [
    "a2[0]"
   ]
  },
  {
   "cell_type": "code",
   "execution_count": 47,
   "id": "a660c95e-91b5-4590-ad20-24b704cdecb6",
   "metadata": {},
   "outputs": [
    {
     "data": {
      "text/plain": [
       "2.0"
      ]
     },
     "execution_count": 47,
     "metadata": {},
     "output_type": "execute_result"
    }
   ],
   "source": [
    "a2[0][0]"
   ]
  },
  {
   "cell_type": "code",
   "execution_count": 48,
   "id": "6f8a4bc0-348b-4bcc-9445-a292d3556a32",
   "metadata": {},
   "outputs": [
    {
     "data": {
      "text/plain": [
       "array([[ 2.,  4.,  6.],\n",
       "       [ 5.,  9., 12.]])"
      ]
     },
     "execution_count": 48,
     "metadata": {},
     "output_type": "execute_result"
    }
   ],
   "source": [
    "a3[0]"
   ]
  },
  {
   "cell_type": "code",
   "execution_count": 49,
   "id": "cec439da-5257-467c-a63a-0d2154764623",
   "metadata": {},
   "outputs": [
    {
     "data": {
      "text/plain": [
       "array([2., 4., 6.])"
      ]
     },
     "execution_count": 49,
     "metadata": {},
     "output_type": "execute_result"
    }
   ],
   "source": [
    "a3[0][0]"
   ]
  },
  {
   "cell_type": "code",
   "execution_count": 50,
   "id": "d97e4e31-c6b6-4560-88ea-c0906431d024",
   "metadata": {},
   "outputs": [
    {
     "data": {
      "text/plain": [
       "4.0"
      ]
     },
     "execution_count": 50,
     "metadata": {},
     "output_type": "execute_result"
    }
   ],
   "source": [
    "a3[0][0][1]"
   ]
  },
  {
   "cell_type": "code",
   "execution_count": 51,
   "id": "1fa92149-7646-42c3-b979-15cc6990047e",
   "metadata": {},
   "outputs": [
    {
     "data": {
      "text/plain": [
       "array([[[ 2. ,  4. ],\n",
       "        [ 5. ,  9. ]],\n",
       "\n",
       "       [[10. ,  9. ],\n",
       "        [ 5.3,  4.5]]])"
      ]
     },
     "execution_count": 51,
     "metadata": {},
     "output_type": "execute_result"
    }
   ],
   "source": [
    "a3[:2, :2, :2]"
   ]
  },
  {
   "cell_type": "code",
   "execution_count": 52,
   "id": "6d8a9635-45ec-4e92-a89b-e127128c5f73",
   "metadata": {},
   "outputs": [
    {
     "data": {
      "text/plain": [
       "(2, 2, 3)"
      ]
     },
     "execution_count": 52,
     "metadata": {},
     "output_type": "execute_result"
    }
   ],
   "source": [
    "a3.shape"
   ]
  },
  {
   "cell_type": "code",
   "execution_count": 53,
   "id": "d4cff760-9fba-44eb-8431-ef43dfd214fe",
   "metadata": {},
   "outputs": [],
   "source": [
    "np.random.seed(9)\n",
    "a4 = np.random.randint(10, size=(2, 3, 4, 5))"
   ]
  },
  {
   "cell_type": "code",
   "execution_count": 54,
   "id": "6a4379dd-7e6c-4208-ac8c-781123c6aec7",
   "metadata": {},
   "outputs": [
    {
     "data": {
      "text/plain": [
       "array([[[[5, 6, 8, 6, 1],\n",
       "         [6, 4, 8, 1, 8],\n",
       "         [5, 1, 0, 8, 8],\n",
       "         [8, 2, 6, 8, 1]],\n",
       "\n",
       "        [[8, 3, 5, 3, 6],\n",
       "         [7, 9, 0, 8, 1],\n",
       "         [8, 1, 6, 6, 2],\n",
       "         [8, 4, 5, 3, 4]],\n",
       "\n",
       "        [[0, 8, 0, 4, 5],\n",
       "         [4, 8, 3, 8, 4],\n",
       "         [8, 0, 1, 2, 3],\n",
       "         [7, 7, 2, 0, 4]]],\n",
       "\n",
       "\n",
       "       [[[6, 2, 2, 2, 3],\n",
       "         [9, 2, 1, 3, 0],\n",
       "         [1, 0, 2, 0, 4],\n",
       "         [8, 0, 7, 0, 2]],\n",
       "\n",
       "        [[4, 0, 1, 6, 7],\n",
       "         [6, 1, 7, 6, 2],\n",
       "         [5, 0, 0, 9, 5],\n",
       "         [3, 7, 0, 6, 9]],\n",
       "\n",
       "        [[2, 6, 5, 0, 9],\n",
       "         [0, 5, 2, 5, 3],\n",
       "         [6, 3, 1, 6, 1],\n",
       "         [8, 8, 6, 8, 1]]]])"
      ]
     },
     "execution_count": 54,
     "metadata": {},
     "output_type": "execute_result"
    }
   ],
   "source": [
    "a4"
   ]
  },
  {
   "cell_type": "code",
   "execution_count": 55,
   "id": "935f23a1-db80-4612-89dd-b5e90381ebe7",
   "metadata": {},
   "outputs": [
    {
     "data": {
      "text/plain": [
       "array([[[[5, 6, 8, 6, 1],\n",
       "         [6, 4, 8, 1, 8],\n",
       "         [5, 1, 0, 8, 8],\n",
       "         [8, 2, 6, 8, 1]],\n",
       "\n",
       "        [[8, 3, 5, 3, 6],\n",
       "         [7, 9, 0, 8, 1],\n",
       "         [8, 1, 6, 6, 2],\n",
       "         [8, 4, 5, 3, 4]],\n",
       "\n",
       "        [[0, 8, 0, 4, 5],\n",
       "         [4, 8, 3, 8, 4],\n",
       "         [8, 0, 1, 2, 3],\n",
       "         [7, 7, 2, 0, 4]]],\n",
       "\n",
       "\n",
       "       [[[6, 2, 2, 2, 3],\n",
       "         [9, 2, 1, 3, 0],\n",
       "         [1, 0, 2, 0, 4],\n",
       "         [8, 0, 7, 0, 2]],\n",
       "\n",
       "        [[4, 0, 1, 6, 7],\n",
       "         [6, 1, 7, 6, 2],\n",
       "         [5, 0, 0, 9, 5],\n",
       "         [3, 7, 0, 6, 9]],\n",
       "\n",
       "        [[2, 6, 5, 0, 9],\n",
       "         [0, 5, 2, 5, 3],\n",
       "         [6, 3, 1, 6, 1],\n",
       "         [8, 8, 6, 8, 1]]]])"
      ]
     },
     "execution_count": 55,
     "metadata": {},
     "output_type": "execute_result"
    }
   ],
   "source": [
    "a4[:2]"
   ]
  },
  {
   "cell_type": "code",
   "execution_count": 56,
   "id": "4801d7c7-5ffb-4669-8bb2-aab982e4a758",
   "metadata": {},
   "outputs": [
    {
     "data": {
      "text/plain": [
       "array([[[[5, 6, 8, 6, 1],\n",
       "         [6, 4, 8, 1, 8],\n",
       "         [5, 1, 0, 8, 8],\n",
       "         [8, 2, 6, 8, 1]]],\n",
       "\n",
       "\n",
       "       [[[6, 2, 2, 2, 3],\n",
       "         [9, 2, 1, 3, 0],\n",
       "         [1, 0, 2, 0, 4],\n",
       "         [8, 0, 7, 0, 2]]]])"
      ]
     },
     "execution_count": 56,
     "metadata": {},
     "output_type": "execute_result"
    }
   ],
   "source": [
    "a4[:2, :1]"
   ]
  },
  {
   "cell_type": "code",
   "execution_count": 57,
   "id": "13564d5b-d9f1-4c4d-a301-1a81c2f0b2f3",
   "metadata": {},
   "outputs": [
    {
     "data": {
      "text/plain": [
       "array([6, 2, 2, 2, 3])"
      ]
     },
     "execution_count": 57,
     "metadata": {},
     "output_type": "execute_result"
    }
   ],
   "source": [
    "a4[1, 0, 0]"
   ]
  },
  {
   "cell_type": "code",
   "execution_count": 58,
   "id": "879b8445-fed4-4c8a-b140-692502d09002",
   "metadata": {},
   "outputs": [
    {
     "data": {
      "text/plain": [
       "array([[[[5, 6, 8],\n",
       "         [6, 4, 8],\n",
       "         [5, 1, 0],\n",
       "         [8, 2, 6]],\n",
       "\n",
       "        [[8, 3, 5],\n",
       "         [7, 9, 0],\n",
       "         [8, 1, 6],\n",
       "         [8, 4, 5]],\n",
       "\n",
       "        [[0, 8, 0],\n",
       "         [4, 8, 3],\n",
       "         [8, 0, 1],\n",
       "         [7, 7, 2]]],\n",
       "\n",
       "\n",
       "       [[[6, 2, 2],\n",
       "         [9, 2, 1],\n",
       "         [1, 0, 2],\n",
       "         [8, 0, 7]],\n",
       "\n",
       "        [[4, 0, 1],\n",
       "         [6, 1, 7],\n",
       "         [5, 0, 0],\n",
       "         [3, 7, 0]],\n",
       "\n",
       "        [[2, 6, 5],\n",
       "         [0, 5, 2],\n",
       "         [6, 3, 1],\n",
       "         [8, 8, 6]]]])"
      ]
     },
     "execution_count": 58,
     "metadata": {},
     "output_type": "execute_result"
    }
   ],
   "source": [
    "a4[:, :, :, :3]"
   ]
  },
  {
   "cell_type": "markdown",
   "id": "f3ee3d63-819a-450c-ba75-d55974a51b0e",
   "metadata": {},
   "source": [
    "## 4. Manipulating & Comparing arrays"
   ]
  },
  {
   "cell_type": "markdown",
   "id": "45f74c1c-d667-4e94-ab14-21b42d86f523",
   "metadata": {},
   "source": [
    "## Airthmetic"
   ]
  },
  {
   "cell_type": "code",
   "execution_count": 59,
   "id": "6659dd6e-c05b-40a7-8a03-e1d52c708e6c",
   "metadata": {},
   "outputs": [
    {
     "data": {
      "text/plain": [
       "array([1, 2, 3])"
      ]
     },
     "execution_count": 59,
     "metadata": {},
     "output_type": "execute_result"
    }
   ],
   "source": [
    "a1"
   ]
  },
  {
   "cell_type": "code",
   "execution_count": 60,
   "id": "cdb0bf2a-61fd-4cdd-b4f7-ceaa1d86f8ad",
   "metadata": {},
   "outputs": [
    {
     "data": {
      "text/plain": [
       "array([1., 1., 1.])"
      ]
     },
     "execution_count": 60,
     "metadata": {},
     "output_type": "execute_result"
    }
   ],
   "source": [
    "one = np.ones(3)\n",
    "one"
   ]
  },
  {
   "cell_type": "code",
   "execution_count": 61,
   "id": "c38307a0-338e-4c5d-8578-af0ee070dc02",
   "metadata": {},
   "outputs": [
    {
     "data": {
      "text/plain": [
       "array([2., 3., 4.])"
      ]
     },
     "execution_count": 61,
     "metadata": {},
     "output_type": "execute_result"
    }
   ],
   "source": [
    "a1+one"
   ]
  },
  {
   "cell_type": "code",
   "execution_count": 62,
   "id": "f43336d6-0013-44ff-86b6-965fb6e6fee4",
   "metadata": {},
   "outputs": [
    {
     "data": {
      "text/plain": [
       "array([0., 1., 2.])"
      ]
     },
     "execution_count": 62,
     "metadata": {},
     "output_type": "execute_result"
    }
   ],
   "source": [
    "a1-one"
   ]
  },
  {
   "cell_type": "code",
   "execution_count": 63,
   "id": "45ae79ff-c878-413d-97ed-1aa5ac6801fa",
   "metadata": {},
   "outputs": [
    {
     "data": {
      "text/plain": [
       "array([1., 2., 3.])"
      ]
     },
     "execution_count": 63,
     "metadata": {},
     "output_type": "execute_result"
    }
   ],
   "source": [
    "a1*one"
   ]
  },
  {
   "cell_type": "code",
   "execution_count": 64,
   "id": "7536512d-8e57-4722-b820-04bd74a9ecb5",
   "metadata": {},
   "outputs": [
    {
     "data": {
      "text/plain": [
       "array([1., 2., 3.])"
      ]
     },
     "execution_count": 64,
     "metadata": {},
     "output_type": "execute_result"
    }
   ],
   "source": [
    "a1/one"
   ]
  },
  {
   "cell_type": "code",
   "execution_count": 65,
   "id": "e3aad6bd-8c51-4235-875f-99eafa90e966",
   "metadata": {},
   "outputs": [
    {
     "data": {
      "text/plain": [
       "array([[2., 2., 2.],\n",
       "       [5., 1., 2.]])"
      ]
     },
     "execution_count": 65,
     "metadata": {},
     "output_type": "execute_result"
    }
   ],
   "source": [
    "# Floor division (Rounds down)\n",
    "a2//a1"
   ]
  },
  {
   "cell_type": "code",
   "execution_count": 66,
   "id": "4234c58f-b994-4611-9d28-e790a29ee9f7",
   "metadata": {},
   "outputs": [
    {
     "data": {
      "text/plain": [
       "array([1, 4, 9])"
      ]
     },
     "execution_count": 66,
     "metadata": {},
     "output_type": "execute_result"
    }
   ],
   "source": [
    "a1**2"
   ]
  },
  {
   "cell_type": "code",
   "execution_count": 67,
   "id": "bf52ab61-2b7d-4bbf-ba7f-b665cf00c643",
   "metadata": {},
   "outputs": [
    {
     "data": {
      "text/plain": [
       "array([[ 4.  , 16.  , 42.25],\n",
       "       [30.25,  9.  , 51.84]])"
      ]
     },
     "execution_count": 67,
     "metadata": {},
     "output_type": "execute_result"
    }
   ],
   "source": [
    "a2**2"
   ]
  },
  {
   "cell_type": "code",
   "execution_count": 68,
   "id": "65198db2-d710-4814-90da-a25777949d50",
   "metadata": {},
   "outputs": [
    {
     "data": {
      "text/plain": [
       "array([[ 4.  , 16.  , 42.25],\n",
       "       [30.25,  9.  , 51.84]])"
      ]
     },
     "execution_count": 68,
     "metadata": {},
     "output_type": "execute_result"
    }
   ],
   "source": [
    "np.square(a2)"
   ]
  },
  {
   "cell_type": "code",
   "execution_count": 69,
   "id": "30aa66c6-e43a-4765-a257-7c21d793269a",
   "metadata": {},
   "outputs": [
    {
     "data": {
      "text/plain": [
       "array([[ 3. ,  6. ,  9.5],\n",
       "       [ 6.5,  5. , 10.2]])"
      ]
     },
     "execution_count": 69,
     "metadata": {},
     "output_type": "execute_result"
    }
   ],
   "source": [
    "np.add(a1, a2)"
   ]
  },
  {
   "cell_type": "code",
   "execution_count": 70,
   "id": "0e749e8d-f5e9-4743-a6ef-7f3084dfcb8e",
   "metadata": {},
   "outputs": [
    {
     "data": {
      "text/plain": [
       "array([1, 0, 1])"
      ]
     },
     "execution_count": 70,
     "metadata": {},
     "output_type": "execute_result"
    }
   ],
   "source": [
    "a1%2"
   ]
  },
  {
   "cell_type": "code",
   "execution_count": 71,
   "id": "1d1b7b22-c53d-4be5-b61d-6853276fef8a",
   "metadata": {},
   "outputs": [
    {
     "data": {
      "text/plain": [
       "array([[0. , 0. , 0.5],\n",
       "       [1.5, 1. , 1.2]])"
      ]
     },
     "execution_count": 71,
     "metadata": {},
     "output_type": "execute_result"
    }
   ],
   "source": [
    "a2%2"
   ]
  },
  {
   "cell_type": "code",
   "execution_count": 72,
   "id": "d5e3e6fa-81ee-4d9f-977a-36c6098c71c7",
   "metadata": {},
   "outputs": [
    {
     "data": {
      "text/plain": [
       "array([ 2.71828183,  7.3890561 , 20.08553692])"
      ]
     },
     "execution_count": 72,
     "metadata": {},
     "output_type": "execute_result"
    }
   ],
   "source": [
    "np.exp(a1)"
   ]
  },
  {
   "cell_type": "code",
   "execution_count": 73,
   "id": "e9fb03f2-cbca-4e6a-b0fe-2fb9c3b7b7ca",
   "metadata": {},
   "outputs": [
    {
     "data": {
      "text/plain": [
       "array([0.        , 0.69314718, 1.09861229])"
      ]
     },
     "execution_count": 73,
     "metadata": {},
     "output_type": "execute_result"
    }
   ],
   "source": [
    "np.log(a1)"
   ]
  },
  {
   "cell_type": "markdown",
   "id": "ebc0553a-518a-453e-b455-48fd4e125094",
   "metadata": {},
   "source": [
    "## Aggregation"
   ]
  },
  {
   "cell_type": "code",
   "execution_count": 74,
   "id": "3f665256-0b23-4143-b2d2-f502ee1bb06d",
   "metadata": {},
   "outputs": [],
   "source": [
    "arr = np.array([1,2,3])"
   ]
  },
  {
   "cell_type": "code",
   "execution_count": 75,
   "id": "ef5d9171-c591-4aea-9312-8c681af98f81",
   "metadata": {},
   "outputs": [
    {
     "data": {
      "text/plain": [
       "6"
      ]
     },
     "execution_count": 75,
     "metadata": {},
     "output_type": "execute_result"
    }
   ],
   "source": [
    "np.sum(arr) #numpy sum"
   ]
  },
  {
   "cell_type": "code",
   "execution_count": 76,
   "id": "44b0e182-9897-4bdc-959e-c552448ac4fa",
   "metadata": {},
   "outputs": [
    {
     "data": {
      "text/plain": [
       "6"
      ]
     },
     "execution_count": 76,
     "metadata": {},
     "output_type": "execute_result"
    }
   ],
   "source": [
    "sum(arr) #Python sum"
   ]
  },
  {
   "cell_type": "code",
   "execution_count": 77,
   "id": "efa0ee01-8f67-48b0-90e8-4cdbe12fa00c",
   "metadata": {},
   "outputs": [],
   "source": [
    "massiveArr = np.random.random(1000)"
   ]
  },
  {
   "cell_type": "code",
   "execution_count": 78,
   "id": "f9797949-eec4-48f9-8d3c-78e01f9f062d",
   "metadata": {},
   "outputs": [
    {
     "data": {
      "text/plain": [
       "1000"
      ]
     },
     "execution_count": 78,
     "metadata": {},
     "output_type": "execute_result"
    }
   ],
   "source": [
    "massiveArr.size"
   ]
  },
  {
   "cell_type": "code",
   "execution_count": 79,
   "id": "15c3af87-b7ef-45d5-a7c1-c00cc80ac0e5",
   "metadata": {},
   "outputs": [
    {
     "name": "stdout",
     "output_type": "stream",
     "text": [
      "95.3 μs ± 2.55 μs per loop (mean ± std. dev. of 7 runs, 10,000 loops each)\n",
      "2.15 μs ± 100 ns per loop (mean ± std. dev. of 7 runs, 100,000 loops each)\n"
     ]
    }
   ],
   "source": [
    "%timeit sum(massiveArr)\n",
    "%timeit np.sum(massiveArr)"
   ]
  },
  {
   "cell_type": "code",
   "execution_count": 80,
   "id": "3c3732b6-0c94-448c-b135-7545d67ae7eb",
   "metadata": {},
   "outputs": [
    {
     "data": {
      "text/plain": [
       "array([0.28929928, 0.10305405, 0.49060155, 0.63209168, 0.03796922,\n",
       "       0.50010792, 0.08354343, 0.79131823, 0.75803602, 0.26227322])"
      ]
     },
     "execution_count": 80,
     "metadata": {},
     "output_type": "execute_result"
    }
   ],
   "source": [
    "massiveArr[:10]"
   ]
  },
  {
   "cell_type": "code",
   "execution_count": 81,
   "id": "b49c01de-3c0d-4abf-be23-c11fe13288d6",
   "metadata": {},
   "outputs": [
    {
     "data": {
      "text/plain": [
       "array([[2. , 4. , 6.5],\n",
       "       [5.5, 3. , 7.2]])"
      ]
     },
     "execution_count": 81,
     "metadata": {},
     "output_type": "execute_result"
    }
   ],
   "source": [
    "a2"
   ]
  },
  {
   "cell_type": "code",
   "execution_count": 82,
   "id": "f5423159-7a0f-44db-b983-72cb46888a39",
   "metadata": {},
   "outputs": [
    {
     "data": {
      "text/plain": [
       "4.7"
      ]
     },
     "execution_count": 82,
     "metadata": {},
     "output_type": "execute_result"
    }
   ],
   "source": [
    "np.mean(a2)"
   ]
  },
  {
   "cell_type": "code",
   "execution_count": 83,
   "id": "20071bd6-280f-4531-a7e3-967cbd61eda1",
   "metadata": {},
   "outputs": [
    {
     "data": {
      "text/plain": [
       "2.0"
      ]
     },
     "execution_count": 83,
     "metadata": {},
     "output_type": "execute_result"
    }
   ],
   "source": [
    "np.min(a2)"
   ]
  },
  {
   "cell_type": "code",
   "execution_count": 84,
   "id": "b9d61a7f-e850-49dc-961f-008f8329c56a",
   "metadata": {},
   "outputs": [
    {
     "data": {
      "text/plain": [
       "7.2"
      ]
     },
     "execution_count": 84,
     "metadata": {},
     "output_type": "execute_result"
    }
   ],
   "source": [
    "np.max(a2)"
   ]
  },
  {
   "cell_type": "code",
   "execution_count": 85,
   "id": "53ba89e7-5f08-4844-919f-68e87d3e33e9",
   "metadata": {},
   "outputs": [
    {
     "data": {
      "text/plain": [
       "1.8618986725025255"
      ]
     },
     "execution_count": 85,
     "metadata": {},
     "output_type": "execute_result"
    }
   ],
   "source": [
    "np.std(a2)"
   ]
  },
  {
   "cell_type": "code",
   "execution_count": 86,
   "id": "dce69077-ac12-403c-94a1-6117ea27321e",
   "metadata": {},
   "outputs": [
    {
     "data": {
      "text/plain": [
       "3.466666666666667"
      ]
     },
     "execution_count": 86,
     "metadata": {},
     "output_type": "execute_result"
    }
   ],
   "source": [
    "np.var(a2)"
   ]
  },
  {
   "cell_type": "code",
   "execution_count": 87,
   "id": "9f23c95f-58f2-48dd-a2b5-e9bc1ee344bc",
   "metadata": {},
   "outputs": [
    {
     "data": {
      "text/plain": [
       "1.8618986725025255"
      ]
     },
     "execution_count": 87,
     "metadata": {},
     "output_type": "execute_result"
    }
   ],
   "source": [
    "#Square root of variance is standard deviation\n",
    "np.sqrt(np.var(a2))"
   ]
  },
  {
   "cell_type": "code",
   "execution_count": 88,
   "id": "1b422599-5e64-4a85-b861-e4c26322f42b",
   "metadata": {},
   "outputs": [],
   "source": [
    "# Demo of standard deviation and variance"
   ]
  },
  {
   "cell_type": "code",
   "execution_count": 89,
   "id": "88861eb4-b735-497d-99ed-f123c39acf40",
   "metadata": {},
   "outputs": [],
   "source": [
    "high_var_array = np.array([1, 100, 200, 300, 400, 5000])\n",
    "low_var_array = np.array([2, 4, 6, 8, 10])"
   ]
  },
  {
   "cell_type": "code",
   "execution_count": 90,
   "id": "b1201280-8acd-403c-81db-ad203897633a",
   "metadata": {},
   "outputs": [
    {
     "data": {
      "text/plain": [
       "(3216333.4722222225, 8.0)"
      ]
     },
     "execution_count": 90,
     "metadata": {},
     "output_type": "execute_result"
    }
   ],
   "source": [
    "np.var(high_var_array), np.var(low_var_array)"
   ]
  },
  {
   "cell_type": "code",
   "execution_count": 91,
   "id": "7451476f-0eb2-47b0-8e18-6e1b9cb572e2",
   "metadata": {},
   "outputs": [
    {
     "data": {
      "text/plain": [
       "(1793.4139154757952, 2.8284271247461903)"
      ]
     },
     "execution_count": 91,
     "metadata": {},
     "output_type": "execute_result"
    }
   ],
   "source": [
    "np.std(high_var_array), np.std(low_var_array)"
   ]
  },
  {
   "cell_type": "code",
   "execution_count": 92,
   "id": "cb085933-0575-4fe1-a733-1211faca3c98",
   "metadata": {},
   "outputs": [
    {
     "data": {
      "text/plain": [
       "(1000.1666666666666, 6.0)"
      ]
     },
     "execution_count": 92,
     "metadata": {},
     "output_type": "execute_result"
    }
   ],
   "source": [
    "np.mean(high_var_array), np.mean(low_var_array)"
   ]
  },
  {
   "cell_type": "code",
   "execution_count": 93,
   "id": "06de026d-78bb-4672-8c71-1327db3e98c9",
   "metadata": {},
   "outputs": [
    {
     "data": {
      "text/plain": [
       "(array([5., 0., 0., 0., 0., 0., 0., 0., 0., 1.]),\n",
       " array([1.0000e+00, 5.0090e+02, 1.0008e+03, 1.5007e+03, 2.0006e+03,\n",
       "        2.5005e+03, 3.0004e+03, 3.5003e+03, 4.0002e+03, 4.5001e+03,\n",
       "        5.0000e+03]),\n",
       " <BarContainer object of 10 artists>)"
      ]
     },
     "execution_count": 93,
     "metadata": {},
     "output_type": "execute_result"
    },
    {
     "data": {
      "image/png": "[encoded data removed]",
      "text/plain": [
       "<Figure size 640x480 with 1 Axes>"
      ]
     },
     "metadata": {},
     "output_type": "display_data"
    }
   ],
   "source": [
    "import matplotlib.pyplot as plt\n",
    "plt.hist(high_var_array)"
   ]
  },
  {
   "cell_type": "code",
   "execution_count": 94,
   "id": "f38dcf90-9b61-4416-9cd7-cb7e1cdb47c1",
   "metadata": {},
   "outputs": [
    {
     "data": {
      "text/plain": [
       "(array([1., 0., 1., 0., 0., 1., 0., 1., 0., 1.]),\n",
       " array([ 2. ,  2.8,  3.6,  4.4,  5.2,  6. ,  6.8,  7.6,  8.4,  9.2, 10. ]),\n",
       " <BarContainer object of 10 artists>)"
      ]
     },
     "execution_count": 94,
     "metadata": {},
     "output_type": "execute_result"
    },
    {
     "data": {
      "image/png": "[encoded data removed]",
      "text/plain": [
       "<Figure size 640x480 with 1 Axes>"
      ]
     },
     "metadata": {},
     "output_type": "display_data"
    }
   ],
   "source": [
    "plt.hist(low_var_array)"
   ]
  },
  {
   "cell_type": "code",
   "execution_count": 95,
   "id": "05ae17ac-724a-4e48-b67e-cd430509d76e",
   "metadata": {},
   "outputs": [
    {
     "data": {
      "text/plain": [
       "array([[2. , 4. , 6.5],\n",
       "       [5.5, 3. , 7.2]])"
      ]
     },
     "execution_count": 95,
     "metadata": {},
     "output_type": "execute_result"
    }
   ],
   "source": [
    "a2"
   ]
  },
  {
   "cell_type": "code",
   "execution_count": 96,
   "id": "70198e36-ab0c-453a-86c2-39cefd80d895",
   "metadata": {},
   "outputs": [],
   "source": [
    "a0 = np.random.random((2,3,3))"
   ]
  },
  {
   "cell_type": "code",
   "execution_count": 97,
   "id": "f20304ed-a70a-46b7-8bde-5dbf77dc82ab",
   "metadata": {},
   "outputs": [
    {
     "data": {
      "text/plain": [
       "array([[[0.2430546 , 0.19124935, 0.30571999],\n",
       "        [0.46372069, 0.15405886, 0.17986751],\n",
       "        [0.36316814, 0.89005758, 0.09532423]],\n",
       "\n",
       "       [[0.67652054, 0.63792578, 0.78805231],\n",
       "        [0.01214386, 0.37351201, 0.77985257],\n",
       "        [0.58926793, 0.43126957, 0.92582443]]])"
      ]
     },
     "execution_count": 97,
     "metadata": {},
     "output_type": "execute_result"
    }
   ],
   "source": [
    "a0"
   ]
  },
  {
   "cell_type": "markdown",
   "id": "8bf27eba-12d5-429f-96d8-80c4b48ed942",
   "metadata": {},
   "source": [
    "## Reshaping of Array"
   ]
  },
  {
   "cell_type": "code",
   "execution_count": 98,
   "id": "087d4f4b-322f-4cf3-babf-45de1306f735",
   "metadata": {},
   "outputs": [],
   "source": [
    "a2_reshaped = a2.reshape(2,3,1)"
   ]
  },
  {
   "cell_type": "code",
   "execution_count": 99,
   "id": "cba686df-becb-469a-a06d-180db53434f8",
   "metadata": {},
   "outputs": [
    {
     "data": {
      "text/plain": [
       "array([[[0.48610919, 0.3824987 , 0.61143998],\n",
       "        [1.85488275, 0.61623543, 0.71947002],\n",
       "        [2.3605929 , 5.78537424, 0.61960749]],\n",
       "\n",
       "       [[3.72086296, 3.5085918 , 4.33428769],\n",
       "        [0.03643159, 1.12053604, 2.3395577 ],\n",
       "        [4.24272907, 3.10514087, 6.66593587]]])"
      ]
     },
     "execution_count": 99,
     "metadata": {},
     "output_type": "execute_result"
    }
   ],
   "source": [
    "a0*a2_reshaped"
   ]
  },
  {
   "cell_type": "code",
   "execution_count": 100,
   "id": "b2c22e42-9c7e-40cb-ac97-af81129b402b",
   "metadata": {},
   "outputs": [],
   "source": [
    "newArr = np.array([9, 5, 4, 2, 8, 11, 7, 3, 12])"
   ]
  },
  {
   "cell_type": "code",
   "execution_count": 101,
   "id": "168805c9-d729-43c1-99a2-ed781b654cb9",
   "metadata": {},
   "outputs": [],
   "source": [
    "reshapedNewArr = newArr.reshape(1,3,3)"
   ]
  },
  {
   "cell_type": "code",
   "execution_count": 102,
   "id": "5f38a26b-a0b0-4cf7-ad2b-27c218d45672",
   "metadata": {},
   "outputs": [
    {
     "data": {
      "text/plain": [
       "array([[[ 9,  5,  4],\n",
       "        [ 2,  8, 11],\n",
       "        [ 7,  3, 12]]])"
      ]
     },
     "execution_count": 102,
     "metadata": {},
     "output_type": "execute_result"
    }
   ],
   "source": [
    "reshapedNewArr"
   ]
  },
  {
   "cell_type": "markdown",
   "id": "f142e22d-30d6-41b1-a51f-cad1182fa6cf",
   "metadata": {},
   "source": [
    "## Transpose"
   ]
  },
  {
   "cell_type": "code",
   "execution_count": 103,
   "id": "fe0f7015-c35e-4806-841c-e163f87b1bf6",
   "metadata": {},
   "outputs": [
    {
     "data": {
      "text/plain": [
       "array([[2. , 4. , 6.5],\n",
       "       [5.5, 3. , 7.2]])"
      ]
     },
     "execution_count": 103,
     "metadata": {},
     "output_type": "execute_result"
    }
   ],
   "source": [
    "a2"
   ]
  },
  {
   "cell_type": "code",
   "execution_count": 104,
   "id": "1ddb2103-d61c-48b1-961c-99d73fee49ec",
   "metadata": {},
   "outputs": [
    {
     "data": {
      "text/plain": [
       "array([[2. , 5.5],\n",
       "       [4. , 3. ],\n",
       "       [6.5, 7.2]])"
      ]
     },
     "execution_count": 104,
     "metadata": {},
     "output_type": "execute_result"
    }
   ],
   "source": [
    "a2.T"
   ]
  },
  {
   "cell_type": "code",
   "execution_count": 105,
   "id": "43131699-71da-4e7a-9b2b-9d15bae94bfe",
   "metadata": {},
   "outputs": [
    {
     "data": {
      "text/plain": [
       "array([[[2. ],\n",
       "        [4. ],\n",
       "        [6.5]],\n",
       "\n",
       "       [[5.5],\n",
       "        [3. ],\n",
       "        [7.2]]])"
      ]
     },
     "execution_count": 105,
     "metadata": {},
     "output_type": "execute_result"
    }
   ],
   "source": [
    "a2_reshaped"
   ]
  },
  {
   "cell_type": "code",
   "execution_count": 106,
   "id": "f64cce17-c166-4574-b54e-7c03446de735",
   "metadata": {},
   "outputs": [
    {
     "data": {
      "text/plain": [
       "array([[[ 2. ,  4. ,  6. ],\n",
       "        [ 5. ,  9. , 12. ]],\n",
       "\n",
       "       [[10. ,  9. , 11. ],\n",
       "        [ 5.3,  4.5,  7.9]]])"
      ]
     },
     "execution_count": 106,
     "metadata": {},
     "output_type": "execute_result"
    }
   ],
   "source": [
    "a3"
   ]
  },
  {
   "cell_type": "code",
   "execution_count": 107,
   "id": "d2c0d25d-fb6e-4aac-b0c7-ac10a9af36ad",
   "metadata": {},
   "outputs": [
    {
     "data": {
      "text/plain": [
       "array([[[ 2. , 10. ],\n",
       "        [ 5. ,  5.3]],\n",
       "\n",
       "       [[ 4. ,  9. ],\n",
       "        [ 9. ,  4.5]],\n",
       "\n",
       "       [[ 6. , 11. ],\n",
       "        [12. ,  7.9]]])"
      ]
     },
     "execution_count": 107,
     "metadata": {},
     "output_type": "execute_result"
    }
   ],
   "source": [
    "a3.T"
   ]
  },
  {
   "cell_type": "markdown",
   "id": "d5d2786f-6e63-4d77-95ec-fd8a3088ff3c",
   "metadata": {},
   "source": [
    "## Dot Product"
   ]
  },
  {
   "cell_type": "code",
   "execution_count": 108,
   "id": "7a26e906-b75e-4306-8e69-894837b7ef61",
   "metadata": {},
   "outputs": [
    {
     "data": {
      "text/plain": [
       "array([29.5, 33.1])"
      ]
     },
     "execution_count": 108,
     "metadata": {},
     "output_type": "execute_result"
    }
   ],
   "source": [
    "np.dot(a1, a2.T)"
   ]
  },
  {
   "cell_type": "code",
   "execution_count": 109,
   "id": "165fea08-2f56-49e4-bc0b-4b14b28330ee",
   "metadata": {},
   "outputs": [],
   "source": [
    "np.random.seed(0)\n",
    "mat1 = np.random.randint(10, size=(5, 3))\n",
    "mat2 = np.random.randint(10, size=(5,3))"
   ]
  },
  {
   "cell_type": "code",
   "execution_count": 110,
   "id": "8d4dbf67-42e6-4beb-8da4-71e30a05e4e2",
   "metadata": {},
   "outputs": [
    {
     "data": {
      "text/plain": [
       "array([[5, 0, 3],\n",
       "       [3, 7, 9],\n",
       "       [3, 5, 2],\n",
       "       [4, 7, 6],\n",
       "       [8, 8, 1]])"
      ]
     },
     "execution_count": 110,
     "metadata": {},
     "output_type": "execute_result"
    }
   ],
   "source": [
    "mat1"
   ]
  },
  {
   "cell_type": "code",
   "execution_count": 111,
   "id": "b7d377c5-1647-4271-9f5c-dfb13ffb474b",
   "metadata": {},
   "outputs": [
    {
     "data": {
      "text/plain": [
       "array([[6, 7, 7],\n",
       "       [8, 1, 5],\n",
       "       [9, 8, 9],\n",
       "       [4, 3, 0],\n",
       "       [3, 5, 0]])"
      ]
     },
     "execution_count": 111,
     "metadata": {},
     "output_type": "execute_result"
    }
   ],
   "source": [
    "mat2"
   ]
  },
  {
   "cell_type": "code",
   "execution_count": 112,
   "id": "545aa215-b714-46cd-8cde-e5dfc05c8009",
   "metadata": {},
   "outputs": [
    {
     "data": {
      "text/plain": [
       "array([[30,  0, 21],\n",
       "       [24,  7, 45],\n",
       "       [27, 40, 18],\n",
       "       [16, 21,  0],\n",
       "       [24, 40,  0]])"
      ]
     },
     "execution_count": 112,
     "metadata": {},
     "output_type": "execute_result"
    }
   ],
   "source": [
    "# Element wise multiplication (Hadamard Product)\n",
    "mat1*mat2"
   ]
  },
  {
   "cell_type": "code",
   "execution_count": 113,
   "id": "4e445188-306c-4f66-a858-51a4ae4c2294",
   "metadata": {},
   "outputs": [
    {
     "data": {
      "text/plain": [
       "array([[6, 8, 9, 4, 3],\n",
       "       [7, 1, 8, 3, 5],\n",
       "       [7, 5, 9, 0, 0]])"
      ]
     },
     "execution_count": 113,
     "metadata": {},
     "output_type": "execute_result"
    }
   ],
   "source": [
    "mat2.T"
   ]
  },
  {
   "cell_type": "code",
   "execution_count": 114,
   "id": "ef232258-c772-4a87-98a8-516cef784be1",
   "metadata": {},
   "outputs": [
    {
     "data": {
      "text/plain": [
       "array([[ 51,  55,  72,  20,  15],\n",
       "       [130,  76, 164,  33,  44],\n",
       "       [ 67,  39,  85,  27,  34],\n",
       "       [115,  69, 146,  37,  47],\n",
       "       [111,  77, 145,  56,  64]])"
      ]
     },
     "execution_count": 114,
     "metadata": {},
     "output_type": "execute_result"
    }
   ],
   "source": [
    "np.dot(mat1, mat2.T)"
   ]
  },
  {
   "cell_type": "code",
   "execution_count": 115,
   "id": "93353e6d-2c63-4cbc-a1aa-e552bb555570",
   "metadata": {},
   "outputs": [],
   "source": [
    "np.random.seed(9)\n",
    "a = np.random.randint(5, size=(2, 3))\n",
    "b = np.random.randint(5, size=(3, 6))"
   ]
  },
  {
   "cell_type": "code",
   "execution_count": 116,
   "id": "154a29ca-141f-4faa-9faa-4dc97d2a3c45",
   "metadata": {},
   "outputs": [
    {
     "data": {
      "text/plain": [
       "array([[4, 0, 3],\n",
       "       [1, 4, 3]])"
      ]
     },
     "execution_count": 116,
     "metadata": {},
     "output_type": "execute_result"
    }
   ],
   "source": [
    "a"
   ]
  },
  {
   "cell_type": "code",
   "execution_count": 117,
   "id": "58c89030-c4d8-4e27-96a6-273536688e1f",
   "metadata": {},
   "outputs": [
    {
     "data": {
      "text/plain": [
       "array([[0, 2, 1, 0, 3, 1],\n",
       "       [4, 0, 4, 3, 0, 2],\n",
       "       [0, 2, 4, 0, 4, 2]])"
      ]
     },
     "execution_count": 117,
     "metadata": {},
     "output_type": "execute_result"
    }
   ],
   "source": [
    "b"
   ]
  },
  {
   "cell_type": "code",
   "execution_count": 118,
   "id": "3ad61f56-e22a-43d0-b03f-4cbaa9d8130a",
   "metadata": {},
   "outputs": [
    {
     "data": {
      "text/plain": [
       "((2, 3), (3, 6))"
      ]
     },
     "execution_count": 118,
     "metadata": {},
     "output_type": "execute_result"
    }
   ],
   "source": [
    "a.shape, b.shape"
   ]
  },
  {
   "cell_type": "code",
   "execution_count": 119,
   "id": "bbdaef6b-62a9-45da-99d7-f750a977f2d2",
   "metadata": {},
   "outputs": [
    {
     "data": {
      "text/plain": [
       "array([[ 0, 14, 16,  0, 24, 10],\n",
       "       [16,  8, 29, 12, 15, 15]])"
      ]
     },
     "execution_count": 119,
     "metadata": {},
     "output_type": "execute_result"
    }
   ],
   "source": [
    "np.dot(a, b)"
   ]
  },
  {
   "cell_type": "markdown",
   "id": "2d7e039f-181c-41b6-ac89-cbdfcb14a34e",
   "metadata": {},
   "source": [
    "## Dot Product Example (Nut Butter Sale)"
   ]
  },
  {
   "cell_type": "code",
   "execution_count": 120,
   "id": "71826002-47cc-4d96-acd3-67da41c70f85",
   "metadata": {},
   "outputs": [
    {
     "data": {
      "text/plain": [
       "array([[12, 15,  0],\n",
       "       [ 3,  3,  7],\n",
       "       [ 9, 19, 18],\n",
       "       [ 4,  6, 12],\n",
       "       [ 1,  6,  7]])"
      ]
     },
     "execution_count": 120,
     "metadata": {},
     "output_type": "execute_result"
    }
   ],
   "source": [
    "np.random.seed(0)\n",
    "sales_amount = np.random.randint(20, size=(5, 3))\n",
    "sales_amount"
   ]
  },
  {
   "cell_type": "code",
   "execution_count": 121,
   "id": "a0496c48-ba22-4263-9b31-f80bf8b20285",
   "metadata": {},
   "outputs": [],
   "source": [
    "import pandas as pd"
   ]
  },
  {
   "cell_type": "code",
   "execution_count": 122,
   "id": "f43d40d3-3c0d-416d-a011-d49d136e581f",
   "metadata": {},
   "outputs": [],
   "source": [
    "weekly_sales = pd.DataFrame(sales_amount, \n",
    "                            columns=['Almond Butter', 'Nut Butter', 'Cashew Butter'], \n",
    "                            index=['Mon', 'Tue', 'Wed', 'Thu', 'Fri'])"
   ]
  },
  {
   "cell_type": "code",
   "execution_count": 123,
   "id": "017aa06b-9a7f-4e82-9c45-70e6a1c7c01b",
   "metadata": {},
   "outputs": [
    {
     "data": {
      "text/html": [
       "<div>\n",
       "<style scoped>\n",
       "    .dataframe tbody tr th:only-of-type {\n",
       "        vertical-align: middle;\n",
       "    }\n",
       "\n",
       "    .dataframe tbody tr th {\n",
       "        vertical-align: top;\n",
       "    }\n",
       "\n",
       "    .dataframe thead th {\n",
       "        text-align: right;\n",
       "    }\n",
       "</style>\n",
       "<table border=\"1\" class=\"dataframe\">\n",
       "  <thead>\n",
       "    <tr style=\"text-align: right;\">\n",
       "      <th></th>\n",
       "      <th>Almond Butter</th>\n",
       "      <th>Nut Butter</th>\n",
       "      <th>Cashew Butter</th>\n",
       "    </tr>\n",
       "  </thead>\n",
       "  <tbody>\n",
       "    <tr>\n",
       "      <th>Mon</th>\n",
       "      <td>12</td>\n",
       "      <td>15</td>\n",
       "      <td>0</td>\n",
       "    </tr>\n",
       "    <tr>\n",
       "      <th>Tue</th>\n",
       "      <td>3</td>\n",
       "      <td>3</td>\n",
       "      <td>7</td>\n",
       "    </tr>\n",
       "    <tr>\n",
       "      <th>Wed</th>\n",
       "      <td>9</td>\n",
       "      <td>19</td>\n",
       "      <td>18</td>\n",
       "    </tr>\n",
       "    <tr>\n",
       "      <th>Thu</th>\n",
       "      <td>4</td>\n",
       "      <td>6</td>\n",
       "      <td>12</td>\n",
       "    </tr>\n",
       "    <tr>\n",
       "      <th>Fri</th>\n",
       "      <td>1</td>\n",
       "      <td>6</td>\n",
       "      <td>7</td>\n",
       "    </tr>\n",
       "  </tbody>\n",
       "</table>\n",
       "</div>"
      ],
      "text/plain": [
       "     Almond Butter  Nut Butter  Cashew Butter\n",
       "Mon             12          15              0\n",
       "Tue              3           3              7\n",
       "Wed              9          19             18\n",
       "Thu              4           6             12\n",
       "Fri              1           6              7"
      ]
     },
     "execution_count": 123,
     "metadata": {},
     "output_type": "execute_result"
    }
   ],
   "source": [
    "weekly_sales"
   ]
  },
  {
   "cell_type": "code",
   "execution_count": 124,
   "id": "df79498d-58ce-4f38-a3e6-87c8de50a649",
   "metadata": {},
   "outputs": [],
   "source": [
    "#Price Array\n",
    "prices = np.array([[10, 8, 12]])\n",
    "#For creating dataframe, 2-D array is necessary, so we have to convert given array to the 2-D array"
   ]
  },
  {
   "cell_type": "code",
   "execution_count": 125,
   "id": "1b1929d8-8894-4712-a9e0-784b802078df",
   "metadata": {},
   "outputs": [],
   "source": [
    "#Create prices Dataframe\n",
    "butter_prices = pd.DataFrame(prices,\n",
    "                             columns = ['Almond Butter', 'Nut Butter', 'Cashew Butter'],\n",
    "                             index = ['Price'])"
   ]
  },
  {
   "cell_type": "code",
   "execution_count": 126,
   "id": "6ea95057-18c6-45d6-b9b8-cf2f0adf6f00",
   "metadata": {},
   "outputs": [
    {
     "data": {
      "text/html": [
       "<div>\n",
       "<style scoped>\n",
       "    .dataframe tbody tr th:only-of-type {\n",
       "        vertical-align: middle;\n",
       "    }\n",
       "\n",
       "    .dataframe tbody tr th {\n",
       "        vertical-align: top;\n",
       "    }\n",
       "\n",
       "    .dataframe thead th {\n",
       "        text-align: right;\n",
       "    }\n",
       "</style>\n",
       "<table border=\"1\" class=\"dataframe\">\n",
       "  <thead>\n",
       "    <tr style=\"text-align: right;\">\n",
       "      <th></th>\n",
       "      <th>Almond Butter</th>\n",
       "      <th>Nut Butter</th>\n",
       "      <th>Cashew Butter</th>\n",
       "    </tr>\n",
       "  </thead>\n",
       "  <tbody>\n",
       "    <tr>\n",
       "      <th>Price</th>\n",
       "      <td>10</td>\n",
       "      <td>8</td>\n",
       "      <td>12</td>\n",
       "    </tr>\n",
       "  </tbody>\n",
       "</table>\n",
       "</div>"
      ],
      "text/plain": [
       "       Almond Butter  Nut Butter  Cashew Butter\n",
       "Price             10           8             12"
      ]
     },
     "execution_count": 126,
     "metadata": {},
     "output_type": "execute_result"
    }
   ],
   "source": [
    "butter_prices"
   ]
  },
  {
   "cell_type": "code",
   "execution_count": 127,
   "id": "83044414-24f7-42b6-815c-04cec6f2cf14",
   "metadata": {},
   "outputs": [],
   "source": [
    "## OR we can reshape 1-D array to 2-D array for operation\n",
    "prices_reshaped = prices.reshape(1,3)"
   ]
  },
  {
   "cell_type": "code",
   "execution_count": 128,
   "id": "72c1663b-3333-4b1a-9e43-b0ada8b8b2e8",
   "metadata": {},
   "outputs": [
    {
     "data": {
      "text/plain": [
       "array([[10,  8, 12]])"
      ]
     },
     "execution_count": 128,
     "metadata": {},
     "output_type": "execute_result"
    }
   ],
   "source": [
    "prices_reshaped"
   ]
  },
  {
   "cell_type": "code",
   "execution_count": 129,
   "id": "86d5084c-2b14-4566-b3cd-601cb34e421e",
   "metadata": {},
   "outputs": [
    {
     "data": {
      "text/html": [
       "<div>\n",
       "<style scoped>\n",
       "    .dataframe tbody tr th:only-of-type {\n",
       "        vertical-align: middle;\n",
       "    }\n",
       "\n",
       "    .dataframe tbody tr th {\n",
       "        vertical-align: top;\n",
       "    }\n",
       "\n",
       "    .dataframe thead th {\n",
       "        text-align: right;\n",
       "    }\n",
       "</style>\n",
       "<table border=\"1\" class=\"dataframe\">\n",
       "  <thead>\n",
       "    <tr style=\"text-align: right;\">\n",
       "      <th></th>\n",
       "      <th>Almond Butter</th>\n",
       "      <th>Nut Butter</th>\n",
       "      <th>Cashew Butter</th>\n",
       "    </tr>\n",
       "  </thead>\n",
       "  <tbody>\n",
       "    <tr>\n",
       "      <th>Price</th>\n",
       "      <td>10</td>\n",
       "      <td>8</td>\n",
       "      <td>12</td>\n",
       "    </tr>\n",
       "  </tbody>\n",
       "</table>\n",
       "</div>"
      ],
      "text/plain": [
       "       Almond Butter  Nut Butter  Cashew Butter\n",
       "Price             10           8             12"
      ]
     },
     "execution_count": 129,
     "metadata": {},
     "output_type": "execute_result"
    }
   ],
   "source": [
    "butter_prices_reshaped = pd.DataFrame(prices_reshaped, \n",
    "                                      columns = ['Almond Butter', 'Nut Butter', 'Cashew Butter'],\n",
    "                                      index = ['Price'])\n",
    "butter_prices_reshaped"
   ]
  },
  {
   "cell_type": "code",
   "execution_count": 130,
   "id": "14c03f5e-6649-47f4-8d89-5c81657f695b",
   "metadata": {},
   "outputs": [],
   "source": [
    "weekly_sales['Total'] = np.dot(weekly_sales, butter_prices.T) #We have to transpose butter_price (1, 3) shape to meet weekly_sales (5, 3) shape to make (5,3) and (3,1) "
   ]
  },
  {
   "cell_type": "code",
   "execution_count": 131,
   "id": "7e5325db-8faf-4ba9-a7b1-4c45be9c666f",
   "metadata": {},
   "outputs": [
    {
     "data": {
      "text/html": [
       "<div>\n",
       "<style scoped>\n",
       "    .dataframe tbody tr th:only-of-type {\n",
       "        vertical-align: middle;\n",
       "    }\n",
       "\n",
       "    .dataframe tbody tr th {\n",
       "        vertical-align: top;\n",
       "    }\n",
       "\n",
       "    .dataframe thead th {\n",
       "        text-align: right;\n",
       "    }\n",
       "</style>\n",
       "<table border=\"1\" class=\"dataframe\">\n",
       "  <thead>\n",
       "    <tr style=\"text-align: right;\">\n",
       "      <th></th>\n",
       "      <th>Almond Butter</th>\n",
       "      <th>Nut Butter</th>\n",
       "      <th>Cashew Butter</th>\n",
       "      <th>Total</th>\n",
       "    </tr>\n",
       "  </thead>\n",
       "  <tbody>\n",
       "    <tr>\n",
       "      <th>Mon</th>\n",
       "      <td>12</td>\n",
       "      <td>15</td>\n",
       "      <td>0</td>\n",
       "      <td>240</td>\n",
       "    </tr>\n",
       "    <tr>\n",
       "      <th>Tue</th>\n",
       "      <td>3</td>\n",
       "      <td>3</td>\n",
       "      <td>7</td>\n",
       "      <td>138</td>\n",
       "    </tr>\n",
       "    <tr>\n",
       "      <th>Wed</th>\n",
       "      <td>9</td>\n",
       "      <td>19</td>\n",
       "      <td>18</td>\n",
       "      <td>458</td>\n",
       "    </tr>\n",
       "    <tr>\n",
       "      <th>Thu</th>\n",
       "      <td>4</td>\n",
       "      <td>6</td>\n",
       "      <td>12</td>\n",
       "      <td>232</td>\n",
       "    </tr>\n",
       "    <tr>\n",
       "      <th>Fri</th>\n",
       "      <td>1</td>\n",
       "      <td>6</td>\n",
       "      <td>7</td>\n",
       "      <td>142</td>\n",
       "    </tr>\n",
       "  </tbody>\n",
       "</table>\n",
       "</div>"
      ],
      "text/plain": [
       "     Almond Butter  Nut Butter  Cashew Butter  Total\n",
       "Mon             12          15              0    240\n",
       "Tue              3           3              7    138\n",
       "Wed              9          19             18    458\n",
       "Thu              4           6             12    232\n",
       "Fri              1           6              7    142"
      ]
     },
     "execution_count": 131,
     "metadata": {},
     "output_type": "execute_result"
    }
   ],
   "source": [
    "weekly_sales"
   ]
  },
  {
   "cell_type": "markdown",
   "id": "4e466776-d1c2-4b99-9204-b0dd41f7eb67",
   "metadata": {},
   "source": [
    "## Comparison operator"
   ]
  },
  {
   "cell_type": "code",
   "execution_count": 132,
   "id": "39d40777-538c-477e-9690-70be9a0a58a1",
   "metadata": {},
   "outputs": [
    {
     "data": {
      "text/plain": [
       "array([1, 2, 3])"
      ]
     },
     "execution_count": 132,
     "metadata": {},
     "output_type": "execute_result"
    }
   ],
   "source": [
    "a1"
   ]
  },
  {
   "cell_type": "code",
   "execution_count": 133,
   "id": "54146e3a-4faf-43b9-9ab3-8c5fd9b9b599",
   "metadata": {},
   "outputs": [
    {
     "data": {
      "text/plain": [
       "array([[2. , 4. , 6.5],\n",
       "       [5.5, 3. , 7.2]])"
      ]
     },
     "execution_count": 133,
     "metadata": {},
     "output_type": "execute_result"
    }
   ],
   "source": [
    "a2"
   ]
  },
  {
   "cell_type": "code",
   "execution_count": 134,
   "id": "17f67d6f-fecd-4e17-8ee4-65b16467f916",
   "metadata": {},
   "outputs": [
    {
     "data": {
      "text/plain": [
       "array([[False, False, False],\n",
       "       [False, False, False]])"
      ]
     },
     "execution_count": 134,
     "metadata": {},
     "output_type": "execute_result"
    }
   ],
   "source": [
    "a1>a2"
   ]
  },
  {
   "cell_type": "code",
   "execution_count": 135,
   "id": "c6e00d52-554b-4fa1-bf25-5191ac7d6a30",
   "metadata": {},
   "outputs": [
    {
     "data": {
      "text/plain": [
       "array([[ True,  True,  True],\n",
       "       [ True,  True,  True]])"
      ]
     },
     "execution_count": 135,
     "metadata": {},
     "output_type": "execute_result"
    }
   ],
   "source": [
    "a1<=a2"
   ]
  },
  {
   "cell_type": "code",
   "execution_count": 136,
   "id": "f18d473c-aba5-4ced-bec1-5a73adf222d9",
   "metadata": {},
   "outputs": [
    {
     "data": {
      "text/plain": [
       "array([ True, False, False])"
      ]
     },
     "execution_count": 136,
     "metadata": {},
     "output_type": "execute_result"
    }
   ],
   "source": [
    "a1==1"
   ]
  },
  {
   "cell_type": "code",
   "execution_count": 137,
   "id": "f3aca890-4821-4212-ae37-159d2387a8ee",
   "metadata": {},
   "outputs": [
    {
     "data": {
      "text/plain": [
       "array([[False, False, False],\n",
       "       [False, False, False]])"
      ]
     },
     "execution_count": 137,
     "metadata": {},
     "output_type": "execute_result"
    }
   ],
   "source": [
    "a1==a2"
   ]
  },
  {
   "cell_type": "markdown",
   "id": "211a4710-8f12-49a1-b841-de5a274bdb12",
   "metadata": {},
   "source": [
    "## Sorting arrays"
   ]
  },
  {
   "cell_type": "code",
   "execution_count": 138,
   "id": "eafe8c1a-1926-499b-aa53-46e49aed8f4d",
   "metadata": {},
   "outputs": [],
   "source": [
    "np.random.seed(4)\n",
    "randomArray = np.random.randint(10, size=(3, 5))"
   ]
  },
  {
   "cell_type": "code",
   "execution_count": 139,
   "id": "77f9e724-3005-4532-bc37-e7fba70eb199",
   "metadata": {},
   "outputs": [
    {
     "data": {
      "text/plain": [
       "array([[7, 5, 1, 8, 7],\n",
       "       [8, 2, 9, 7, 7],\n",
       "       [7, 9, 8, 4, 2]])"
      ]
     },
     "execution_count": 139,
     "metadata": {},
     "output_type": "execute_result"
    }
   ],
   "source": [
    "randomArray"
   ]
  },
  {
   "cell_type": "code",
   "execution_count": 140,
   "id": "5c69d739-ceb7-4f65-aaac-fd060021ece8",
   "metadata": {},
   "outputs": [
    {
     "data": {
      "text/plain": [
       "array([[1, 5, 7, 7, 8],\n",
       "       [2, 7, 7, 8, 9],\n",
       "       [2, 4, 7, 8, 9]])"
      ]
     },
     "execution_count": 140,
     "metadata": {},
     "output_type": "execute_result"
    }
   ],
   "source": [
    "np.sort(randomArray)"
   ]
  },
  {
   "cell_type": "code",
   "execution_count": 141,
   "id": "005d0b89-529f-489a-b918-e42903869657",
   "metadata": {},
   "outputs": [
    {
     "data": {
      "text/plain": [
       "array([1, 2, 4, 5, 9])"
      ]
     },
     "execution_count": 141,
     "metadata": {},
     "output_type": "execute_result"
    }
   ],
   "source": [
    "np.sort([5,9,1,2,4])"
   ]
  },
  {
   "cell_type": "code",
   "execution_count": 142,
   "id": "da2ff86e-7e73-4fd5-a744-ca33ae298dba",
   "metadata": {},
   "outputs": [
    {
     "data": {
      "text/plain": [
       "array([[2, 1, 0, 4, 3],\n",
       "       [1, 3, 4, 0, 2],\n",
       "       [4, 3, 0, 2, 1]])"
      ]
     },
     "execution_count": 142,
     "metadata": {},
     "output_type": "execute_result"
    }
   ],
   "source": [
    "#Sorting array based on the position/index of each number\n",
    "np.argsort(randomArray)"
   ]
  },
  {
   "cell_type": "code",
   "execution_count": 143,
   "id": "1578945a-94ed-4b0b-99bf-ea09ccf10475",
   "metadata": {},
   "outputs": [
    {
     "data": {
      "text/plain": [
       "array([[0, 1, 0, 2, 2],\n",
       "       [2, 0, 2, 1, 0],\n",
       "       [1, 2, 1, 0, 1]])"
      ]
     },
     "execution_count": 143,
     "metadata": {},
     "output_type": "execute_result"
    }
   ],
   "source": [
    "np.argsort(randomArray, axis=0)"
   ]
  },
  {
   "cell_type": "code",
   "execution_count": 144,
   "id": "bc83ec41-fc3e-4fb5-b89e-6705c2c34757",
   "metadata": {},
   "outputs": [
    {
     "data": {
      "text/plain": [
       "array([[7, 5, 1, 8, 7],\n",
       "       [8, 2, 9, 7, 7],\n",
       "       [7, 9, 8, 4, 2]])"
      ]
     },
     "execution_count": 144,
     "metadata": {},
     "output_type": "execute_result"
    }
   ],
   "source": [
    "randomArray"
   ]
  },
  {
   "cell_type": "code",
   "execution_count": 145,
   "id": "41e7be47-ff1d-48d2-a1c2-71ef445f72a8",
   "metadata": {},
   "outputs": [
    {
     "data": {
      "text/plain": [
       "array([[7, 2, 1, 4, 2],\n",
       "       [7, 5, 8, 7, 7],\n",
       "       [8, 9, 9, 8, 7]])"
      ]
     },
     "execution_count": 145,
     "metadata": {},
     "output_type": "execute_result"
    }
   ],
   "source": [
    "np.sort(randomArray, axis=0)"
   ]
  },
  {
   "cell_type": "code",
   "execution_count": 146,
   "id": "05676b23-194d-4c05-8a1a-32413f1caf71",
   "metadata": {},
   "outputs": [],
   "source": [
    "arr = np.array([[1, 2, 3],\n",
    "               [4, 5, 6],\n",
    "               [7, 8, 9]])"
   ]
  },
  {
   "cell_type": "code",
   "execution_count": 147,
   "id": "971e3f64-8b8b-47e3-b1ad-641f41e0864b",
   "metadata": {},
   "outputs": [
    {
     "data": {
      "text/plain": [
       "array([12, 15, 18])"
      ]
     },
     "execution_count": 147,
     "metadata": {},
     "output_type": "execute_result"
    }
   ],
   "source": [
    "sumAxis_0 = np.sum(arr, axis=0)\n",
    "sumAxis_0"
   ]
  },
  {
   "cell_type": "code",
   "execution_count": 149,
   "id": "5c21100e-cb38-44e6-9ed7-5b20074e4a22",
   "metadata": {},
   "outputs": [
    {
     "data": {
      "text/plain": [
       "array([ 6, 15, 24])"
      ]
     },
     "execution_count": 149,
     "metadata": {},
     "output_type": "execute_result"
    }
   ],
   "source": [
    "sumAxis_1 = np.sum(arr, axis=1)\n",
    "sumAxis_1"
   ]
  },
  {
   "cell_type": "code",
   "execution_count": 150,
   "id": "18ea6ea7-ac5c-4a2d-ba09-987eb322f3b8",
   "metadata": {},
   "outputs": [
    {
     "data": {
      "text/plain": [
       "array([[7, 5, 1, 8, 7],\n",
       "       [8, 2, 9, 7, 7],\n",
       "       [7, 9, 8, 4, 2]])"
      ]
     },
     "execution_count": 150,
     "metadata": {},
     "output_type": "execute_result"
    }
   ],
   "source": [
    "randomArray"
   ]
  },
  {
   "cell_type": "code",
   "execution_count": 162,
   "id": "ccf4ca6c-6f5f-474e-b66f-d752d84e7cb5",
   "metadata": {},
   "outputs": [
    {
     "data": {
      "text/plain": [
       "array([[0, 1, 0, 2, 2],\n",
       "       [2, 0, 2, 1, 0],\n",
       "       [1, 2, 1, 0, 1]])"
      ]
     },
     "execution_count": 162,
     "metadata": {},
     "output_type": "execute_result"
    }
   ],
   "source": [
    "np.argsort(randomArray, axis=0)"
   ]
  },
  {
   "cell_type": "code",
   "execution_count": 163,
   "id": "8f6c4e7d-72fc-47a9-bc5e-7504ed531a3c",
   "metadata": {},
   "outputs": [
    {
     "data": {
      "text/plain": [
       "array([[2, 1, 0, 4, 3],\n",
       "       [1, 3, 4, 0, 2],\n",
       "       [4, 3, 0, 2, 1]])"
      ]
     },
     "execution_count": 163,
     "metadata": {},
     "output_type": "execute_result"
    }
   ],
   "source": [
    "np.argsort(randomArray, axis=1)"
   ]
  },
  {
   "cell_type": "code",
   "execution_count": 165,
   "id": "f674f060-dfa8-45be-a2c9-52de71cfd71f",
   "metadata": {},
   "outputs": [],
   "source": [
    "arry = np.array([[3, 2, 1],\n",
    "                [4, 1, 3], \n",
    "                [6, 0, 2]])"
   ]
  },
  {
   "cell_type": "code",
   "execution_count": 176,
   "id": "d7f541d1-efdb-47b5-bd38-72809ac3463e",
   "metadata": {},
   "outputs": [],
   "source": [
    "indices = np.argsort(arry, axis=0)"
   ]
  },
  {
   "cell_type": "code",
   "execution_count": 177,
   "id": "18b3f1a2-7aa4-4bd8-b000-4b8fdbf7b93f",
   "metadata": {},
   "outputs": [
    {
     "data": {
      "text/plain": [
       "array([[3, 0, 1],\n",
       "       [4, 1, 2],\n",
       "       [6, 2, 3]])"
      ]
     },
     "execution_count": 177,
     "metadata": {},
     "output_type": "execute_result"
    }
   ],
   "source": [
    "np.take_along_axis(arry, indices, axis=0)"
   ]
  },
  {
   "cell_type": "code",
   "execution_count": 178,
   "id": "e013d77b-8126-47d4-96d7-000024029fe1",
   "metadata": {},
   "outputs": [],
   "source": [
    "indexes = np.argsort(arry, axis=1)"
   ]
  },
  {
   "cell_type": "code",
   "execution_count": 180,
   "id": "53e0372c-358f-493c-846f-2f05d3118682",
   "metadata": {},
   "outputs": [
    {
     "data": {
      "text/plain": [
       "array([[1, 2, 3],\n",
       "       [1, 3, 4],\n",
       "       [0, 2, 6]])"
      ]
     },
     "execution_count": 180,
     "metadata": {},
     "output_type": "execute_result"
    }
   ],
   "source": [
    "np.take_along_axis(arry, indexes, axis=1)"
   ]
  },
  {
   "cell_type": "code",
   "execution_count": 185,
   "id": "2f7cdd46-df89-4b8f-8fd5-09420c1c6b5d",
   "metadata": {},
   "outputs": [
    {
     "data": {
      "text/plain": [
       "array([2, 1, 1])"
      ]
     },
     "execution_count": 185,
     "metadata": {},
     "output_type": "execute_result"
    }
   ],
   "source": [
    "np.argmin(arry, axis=1)"
   ]
  },
  {
   "cell_type": "code",
   "execution_count": 186,
   "id": "af313823-8871-49be-9548-de451f88c4ac",
   "metadata": {},
   "outputs": [
    {
     "data": {
      "text/plain": [
       "array([[7, 5, 1, 8, 7],\n",
       "       [8, 2, 9, 7, 7],\n",
       "       [7, 9, 8, 4, 2]])"
      ]
     },
     "execution_count": 186,
     "metadata": {},
     "output_type": "execute_result"
    }
   ],
   "source": [
    "randomArray"
   ]
  },
  {
   "cell_type": "code",
   "execution_count": 191,
   "id": "9dff7a62-caf9-4e39-b2ac-c29f8ccbe3f6",
   "metadata": {},
   "outputs": [
    {
     "data": {
      "text/plain": [
       "2"
      ]
     },
     "execution_count": 191,
     "metadata": {},
     "output_type": "execute_result"
    }
   ],
   "source": [
    "np.argmin(randomArray)"
   ]
  },
  {
   "cell_type": "code",
   "execution_count": 192,
   "id": "33fe6ff4-48a5-432a-af60-6e642681c902",
   "metadata": {},
   "outputs": [
    {
     "data": {
      "text/plain": [
       "7"
      ]
     },
     "execution_count": 192,
     "metadata": {},
     "output_type": "execute_result"
    }
   ],
   "source": [
    "np.argmax(randomArray)"
   ]
  },
  {
   "cell_type": "code",
   "execution_count": 193,
   "id": "5cfba1fe-d4fa-4045-9db5-21af8f3b008e",
   "metadata": {},
   "outputs": [
    {
     "data": {
      "text/plain": [
       "array([0, 1, 0, 2, 2])"
      ]
     },
     "execution_count": 193,
     "metadata": {},
     "output_type": "execute_result"
    }
   ],
   "source": [
    "np.argmin(randomArray, axis=0)"
   ]
  },
  {
   "cell_type": "code",
   "execution_count": 194,
   "id": "1800e0e1-9ac9-4ab1-b184-f58172267cdf",
   "metadata": {},
   "outputs": [
    {
     "data": {
      "text/plain": [
       "array([3, 2, 1])"
      ]
     },
     "execution_count": 194,
     "metadata": {},
     "output_type": "execute_result"
    }
   ],
   "source": [
    "np.argmax(randomArray, axis=1)"
   ]
  },
  {
   "cell_type": "code",
   "execution_count": 195,
   "id": "e1899ae0-cdeb-4612-ba6c-c64cfe47ee01",
   "metadata": {},
   "outputs": [
    {
     "data": {
      "text/plain": [
       "4"
      ]
     },
     "execution_count": 195,
     "metadata": {},
     "output_type": "execute_result"
    }
   ],
   "source": [
    "np.argmin([[3, 4, 6], \n",
    "           [7, 0, 2], \n",
    "           [4, 3, 1]])"
   ]
  },
  {
   "cell_type": "code",
   "execution_count": 196,
   "id": "d963d05c-922e-41a5-bf8c-697f194d2e39",
   "metadata": {},
   "outputs": [
    {
     "data": {
      "text/plain": [
       "3"
      ]
     },
     "execution_count": 196,
     "metadata": {},
     "output_type": "execute_result"
    }
   ],
   "source": [
    "np.argmax([[3, 4, 6], \n",
    "           [7, 0, 2], \n",
    "           [4, 3, 1]])"
   ]
  },
  {
   "cell_type": "code",
   "execution_count": 197,
   "id": "83f3d012-0fa3-44b8-b313-461b590892f4",
   "metadata": {},
   "outputs": [
    {
     "data": {
      "text/plain": [
       "array([0, 1, 2])"
      ]
     },
     "execution_count": 197,
     "metadata": {},
     "output_type": "execute_result"
    }
   ],
   "source": [
    "np.argmin([[3, 4, 6], \n",
    "           [7, 0, 2], \n",
    "           [4, 3, 1]], axis=0)"
   ]
  },
  {
   "cell_type": "code",
   "execution_count": 198,
   "id": "104abed6-ae47-4c44-93e4-fcc5ccc1b15a",
   "metadata": {},
   "outputs": [
    {
     "data": {
      "text/plain": [
       "array([1, 0, 0])"
      ]
     },
     "execution_count": 198,
     "metadata": {},
     "output_type": "execute_result"
    }
   ],
   "source": [
    "np.argmax([[3, 4, 6], \n",
    "           [7, 0, 2], \n",
    "           [4, 3, 1]], axis=0)"
   ]
  },
  {
   "cell_type": "code",
   "execution_count": 199,
   "id": "4cee6756-6b9e-455f-9b36-8fa284cf570e",
   "metadata": {},
   "outputs": [
    {
     "data": {
      "text/plain": [
       "array([0, 1, 2])"
      ]
     },
     "execution_count": 199,
     "metadata": {},
     "output_type": "execute_result"
    }
   ],
   "source": [
    "np.argmin([[3, 4, 6], \n",
    "           [7, 0, 2], \n",
    "           [4, 3, 1]], axis=1)"
   ]
  },
  {
   "cell_type": "code",
   "execution_count": 200,
   "id": "0c374805-ab40-4b34-9b10-98c115fb1b6c",
   "metadata": {},
   "outputs": [
    {
     "data": {
      "text/plain": [
       "array([2, 0, 0])"
      ]
     },
     "execution_count": 200,
     "metadata": {},
     "output_type": "execute_result"
    }
   ],
   "source": [
    "np.argmax([[3, 4, 6], \n",
    "           [7, 0, 2], \n",
    "           [4, 3, 1]], axis=1)"
   ]
  },
  {
   "cell_type": "code",
   "execution_count": 201,
   "id": "bbfedca1-a143-45dc-a9ef-50d03db731e9",
   "metadata": {},
   "outputs": [
    {
     "data": {
      "text/plain": [
       "array([[1, 2, 2],\n",
       "       [4, 3, 4],\n",
       "       [7, 3, 6]])"
      ]
     },
     "execution_count": 201,
     "metadata": {},
     "output_type": "execute_result"
    }
   ],
   "source": [
    "data = np.array([[4, 2, 6], [7, 3, 4], [1, 3, 2]])\n",
    "indices = np.argsort(data, axis=0)\n",
    "np.take_along_axis(data, indices, axis=0)"
   ]
  },
  {
   "cell_type": "markdown",
   "id": "627743d5-5069-4724-835f-7f7ca789702e",
   "metadata": {},
   "source": [
    "## Images in Numpy Module"
   ]
  },
  {
   "cell_type": "markdown",
   "id": "d18e8c21-934a-4bf8-bfc2-8355990a74de",
   "metadata": {},
   "source": [
    "![](panda.png)"
   ]
  },
  {
   "cell_type": "code",
   "execution_count": 204,
   "id": "97ca65cc-d745-41f0-af54-35ca44d322e1",
   "metadata": {},
   "outputs": [],
   "source": [
    "## Mardown code for importing images: ![](panda.png)"
   ]
  },
  {
   "cell_type": "code",
   "execution_count": 208,
   "id": "4ace3ca1-cbb8-4d88-93a2-1b1c78b33a6f",
   "metadata": {},
   "outputs": [],
   "source": [
    "import matplotlib.image as img"
   ]
  },
  {
   "cell_type": "code",
   "execution_count": 209,
   "id": "1bbe51be-6a80-41be-9c9f-c5c58e328418",
   "metadata": {},
   "outputs": [],
   "source": [
    "imageData = img.imread('panda.png')"
   ]
  },
  {
   "cell_type": "code",
   "execution_count": 214,
   "id": "d3f815d2-dccd-4693-8977-3cace453cd7f",
   "metadata": {},
   "outputs": [
    {
     "data": {
      "text/plain": [
       "(numpy.ndarray, dtype('float32'))"
      ]
     },
     "execution_count": 214,
     "metadata": {},
     "output_type": "execute_result"
    }
   ],
   "source": [
    "type(imageData), imageData.dtype"
   ]
  },
  {
   "cell_type": "code",
   "execution_count": 215,
   "id": "63a1c51a-f3ae-42d9-b2ce-d7978f00e481",
   "metadata": {},
   "outputs": [],
   "source": [
    "##OR"
   ]
  },
  {
   "cell_type": "code",
   "execution_count": 216,
   "id": "eb602b7c-6caf-4c0d-afef-dddcfeb80b57",
   "metadata": {},
   "outputs": [],
   "source": [
    "from matplotlib.image import imread"
   ]
  },
  {
   "cell_type": "code",
   "execution_count": 217,
   "id": "7c4131b1-f749-4b12-9016-7021ff1b9cee",
   "metadata": {},
   "outputs": [],
   "source": [
    "panda = imread('panda.png')"
   ]
  },
  {
   "cell_type": "code",
   "execution_count": 218,
   "id": "d4ac249c-cff9-437b-9391-f7ae72a5748a",
   "metadata": {},
   "outputs": [
    {
     "data": {
      "text/plain": [
       "(2330, 3500, 3)"
      ]
     },
     "execution_count": 218,
     "metadata": {},
     "output_type": "execute_result"
    }
   ],
   "source": [
    "panda.shape"
   ]
  },
  {
   "cell_type": "code",
   "execution_count": 236,
   "id": "3724d5b1-089d-496e-b0bd-f7e36faa61c1",
   "metadata": {},
   "outputs": [
    {
     "data": {
      "text/plain": [
       "array([[[0.05490196, 0.10588235, 0.06666667],\n",
       "        [0.05490196, 0.10588235, 0.06666667],\n",
       "        [0.05490196, 0.10588235, 0.06666667],\n",
       "        ...,\n",
       "        [0.16470589, 0.12941177, 0.09411765],\n",
       "        [0.16470589, 0.12941177, 0.09411765],\n",
       "        [0.16470589, 0.12941177, 0.09411765]]], dtype=float32)"
      ]
     },
     "execution_count": 236,
     "metadata": {},
     "output_type": "execute_result"
    }
   ],
   "source": [
    "panda[:1]"
   ]
  },
  {
   "cell_type": "code",
   "execution_count": 220,
   "id": "d86e6b4a-5f58-438e-ad3c-cf8607a05eb1",
   "metadata": {},
   "outputs": [
    {
     "data": {
      "text/plain": [
       "(24465000, (2330, 3500, 3), 3)"
      ]
     },
     "execution_count": 220,
     "metadata": {},
     "output_type": "execute_result"
    }
   ],
   "source": [
    "panda.size, panda.shape, panda.ndim"
   ]
  },
  {
   "cell_type": "markdown",
   "id": "d91f9c30-6974-409c-8ebc-224123b5706d",
   "metadata": {},
   "source": [
    "![Car Photo](car-photo.png)"
   ]
  },
  {
   "cell_type": "code",
   "execution_count": 222,
   "id": "84e494df-8210-4cd4-8a38-f564596748ce",
   "metadata": {},
   "outputs": [],
   "source": [
    "carPhoto = img.imread('car-photo.png')"
   ]
  },
  {
   "cell_type": "code",
   "execution_count": 223,
   "id": "7b8f01c7-fb16-472e-9482-14f51ad4056a",
   "metadata": {},
   "outputs": [
    {
     "data": {
      "text/plain": [
       "array([[[0.5019608 , 0.50980395, 0.4862745 , 1.        ],\n",
       "        [0.3372549 , 0.34509805, 0.30588236, 1.        ],\n",
       "        [0.20392157, 0.21568628, 0.14901961, 1.        ],\n",
       "        ...,\n",
       "        [0.64705884, 0.7058824 , 0.54901963, 1.        ],\n",
       "        [0.59607846, 0.63529414, 0.45882353, 1.        ],\n",
       "        [0.44705883, 0.47058824, 0.3372549 , 1.        ]],\n",
       "\n",
       "       [[0.44313726, 0.43529412, 0.40392157, 1.        ],\n",
       "        [0.3137255 , 0.31764707, 0.27450982, 1.        ],\n",
       "        [0.2       , 0.21176471, 0.14117648, 1.        ],\n",
       "        ...,\n",
       "        [0.5058824 , 0.5372549 , 0.4117647 , 1.        ],\n",
       "        [0.49803922, 0.52156866, 0.39607844, 1.        ],\n",
       "        [0.4       , 0.42745098, 0.34117648, 1.        ]],\n",
       "\n",
       "       [[0.39607844, 0.38039216, 0.34117648, 1.        ],\n",
       "        [0.31764707, 0.3137255 , 0.27450982, 1.        ],\n",
       "        [0.28627452, 0.29411766, 0.24705882, 1.        ],\n",
       "        ...,\n",
       "        [0.44705883, 0.45882353, 0.32156864, 1.        ],\n",
       "        [0.45882353, 0.48235294, 0.3529412 , 1.        ],\n",
       "        [0.4509804 , 0.49019608, 0.38039216, 1.        ]],\n",
       "\n",
       "       ...,\n",
       "\n",
       "       [[0.47058824, 0.57254905, 0.6313726 , 1.        ],\n",
       "        [0.4392157 , 0.53333336, 0.5882353 , 1.        ],\n",
       "        [0.48235294, 0.5803922 , 0.6392157 , 1.        ],\n",
       "        ...,\n",
       "        [0.6156863 , 0.7529412 , 0.827451  , 1.        ],\n",
       "        [0.61960787, 0.7607843 , 0.83137256, 1.        ],\n",
       "        [0.5921569 , 0.73333335, 0.7921569 , 1.        ]],\n",
       "\n",
       "       [[0.4745098 , 0.5803922 , 0.6392157 , 1.        ],\n",
       "        [0.47058824, 0.58431375, 0.63529414, 1.        ],\n",
       "        [0.4117647 , 0.5019608 , 0.5529412 , 1.        ],\n",
       "        ...,\n",
       "        [0.54901963, 0.6784314 , 0.74509805, 1.        ],\n",
       "        [0.65882355, 0.8117647 , 0.8862745 , 1.        ],\n",
       "        [0.60784316, 0.74509805, 0.8117647 , 1.        ]],\n",
       "\n",
       "       [[0.4745098 , 0.57254905, 0.627451  , 1.        ],\n",
       "        [0.49411765, 0.6       , 0.65882355, 1.        ],\n",
       "        [0.49019608, 0.5921569 , 0.64705884, 1.        ],\n",
       "        ...,\n",
       "        [0.5294118 , 0.63529414, 0.69803923, 1.        ],\n",
       "        [0.5529412 , 0.67058825, 0.7372549 , 1.        ],\n",
       "        [0.6156863 , 0.73333335, 0.8       , 1.        ]]], dtype=float32)"
      ]
     },
     "execution_count": 223,
     "metadata": {},
     "output_type": "execute_result"
    }
   ],
   "source": [
    "carPhoto"
   ]
  },
  {
   "cell_type": "code",
   "execution_count": 226,
   "id": "6e8d66bb-4462-42fc-a867-695f9e04b957",
   "metadata": {},
   "outputs": [
    {
     "data": {
      "text/plain": [
       "((431, 575, 4),\n",
       " 991300,\n",
       " 3,\n",
       " dtype('float32'),\n",
       " array([[[0.5019608 , 0.50980395, 0.4862745 , 1.        ],\n",
       "         [0.3372549 , 0.34509805, 0.30588236, 1.        ],\n",
       "         [0.20392157, 0.21568628, 0.14901961, 1.        ],\n",
       "         ...,\n",
       "         [0.64705884, 0.7058824 , 0.54901963, 1.        ],\n",
       "         [0.59607846, 0.63529414, 0.45882353, 1.        ],\n",
       "         [0.44705883, 0.47058824, 0.3372549 , 1.        ]]], dtype=float32))"
      ]
     },
     "execution_count": 226,
     "metadata": {},
     "output_type": "execute_result"
    }
   ],
   "source": [
    "carPhoto.shape, carPhoto.size, carPhoto.ndim, carPhoto.dtype, carPhoto[:1]"
   ]
  },
  {
   "cell_type": "markdown",
   "id": "fd8a9158-7eac-4ae8-908e-6faf6733de0d",
   "metadata": {},
   "source": [
    "![](dog-photo.png)"
   ]
  },
  {
   "cell_type": "code",
   "execution_count": 238,
   "id": "348c537d-a088-4624-bab6-9e79f222adeb",
   "metadata": {},
   "outputs": [],
   "source": [
    "dog = imread('dog-photo.png')"
   ]
  },
  {
   "cell_type": "code",
   "execution_count": 239,
   "id": "3855e130-a398-4113-9126-486b3127ffde",
   "metadata": {},
   "outputs": [
    {
     "data": {
      "text/plain": [
       "((432, 575, 4), 993600)"
      ]
     },
     "execution_count": 239,
     "metadata": {},
     "output_type": "execute_result"
    }
   ],
   "source": [
    "dog.shape, dog.size"
   ]
  },
  {
   "cell_type": "code",
   "execution_count": 240,
   "id": "efce05ec-d6fa-4549-88b4-f2eeb55075dd",
   "metadata": {},
   "outputs": [
    {
     "data": {
      "text/plain": [
       "3"
      ]
     },
     "execution_count": 240,
     "metadata": {},
     "output_type": "execute_result"
    }
   ],
   "source": [
    "dog.ndim"
   ]
  },
  {
   "cell_type": "code",
   "execution_count": 241,
   "id": "c8cca554-5368-4c2d-8b41-c13b6f9cccdf",
   "metadata": {},
   "outputs": [
    {
     "data": {
      "text/plain": [
       "array([[[0.70980394, 0.80784315, 0.88235295, 1.        ],\n",
       "        [0.72156864, 0.8117647 , 0.8862745 , 1.        ],\n",
       "        [0.7411765 , 0.8156863 , 0.8862745 , 1.        ],\n",
       "        ...,\n",
       "        [0.49803922, 0.6862745 , 0.8392157 , 1.        ],\n",
       "        [0.49411765, 0.68235296, 0.8392157 , 1.        ],\n",
       "        [0.49411765, 0.68235296, 0.8352941 , 1.        ]]], dtype=float32)"
      ]
     },
     "execution_count": 241,
     "metadata": {},
     "output_type": "execute_result"
    }
   ],
   "source": [
    "dog[:1]"
   ]
  },
  {
   "cell_type": "code",
   "execution_count": null,
   "id": "8c4beee3-8d8b-4e77-aacd-fc7dc37b5c28",
   "metadata": {},
   "outputs": [],
   "source": []
  }
 ],
 "metadata": {
  "kernelspec": {
   "display_name": "Python 3 (ipykernel)",
   "language": "python",
   "name": "python3"
  },
  "language_info": {
   "codemirror_mode": {
    "name": "ipython",
    "version": 3
   },
   "file_extension": ".py",
   "mimetype": "text/x-python",
   "name": "python",
   "nbconvert_exporter": "python",
   "pygments_lexer": "ipython3",
   "version": "3.12.7"
  }
 },
 "nbformat": 4,
 "nbformat_minor": 5
}
