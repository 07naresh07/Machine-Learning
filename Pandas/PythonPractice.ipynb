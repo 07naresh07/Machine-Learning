{
 "cells": [
  {
   "cell_type": "code",
   "execution_count": 36,
   "id": "c2dd481f-23cb-4a76-93fd-50d152109b6d",
   "metadata": {},
   "outputs": [
    {
     "name": "stdout",
     "output_type": "stream",
     "text": [
      "10\n"
     ]
    }
   ],
   "source": [
    "#Converting integer to decimal \n",
    "import decimal as de\n",
    "data = 10\n",
    "print(de.Decimal(data))"
   ]
  },
  {
   "cell_type": "code",
   "execution_count": 39,
   "id": "8c2d6c5e-38b6-48a7-acb2-22bb7c186d93",
   "metadata": {},
   "outputs": [
    {
     "name": "stdout",
     "output_type": "stream",
     "text": [
      "12345\n",
      "<class 'decimal.Decimal'>\n"
     ]
    }
   ],
   "source": [
    "#Converting string to decimal\n",
    "string = '12345'\n",
    "print(de.Decimal(string))\n",
    "print(type(de.Decimal(string)))"
   ]
  },
  {
   "cell_type": "code",
   "execution_count": 41,
   "id": "974ee9e2-9ee6-4cb2-a2c2-b9f6f4a5f009",
   "metadata": {},
   "outputs": [
    {
     "data": {
      "text/plain": [
       "'gnimmargorP nohtyP evoL I'"
      ]
     },
     "execution_count": 41,
     "metadata": {},
     "output_type": "execute_result"
    }
   ],
   "source": [
    "#Reversing a string\n",
    "text = 'I Love Python Programming'\n",
    "text[::-1]"
   ]
  },
  {
   "cell_type": "code",
   "execution_count": 50,
   "id": "77c2d703-8ed1-48c2-a158-1617953a3001",
   "metadata": {},
   "outputs": [
    {
     "data": {
      "text/plain": [
       "7"
      ]
     },
     "execution_count": 50,
     "metadata": {},
     "output_type": "execute_result"
    }
   ],
   "source": [
    "#Counting Vowels in a given sentence or word\n",
    "vowel = ['a', 'e', 'i', 'o', 'u']\n",
    "text = 'I Love Python Programming'\n",
    "count =0\n",
    "for char in text.lower():\n",
    "    if char in vowel:\n",
    "        count+=1\n",
    "count"
   ]
  },
  {
   "cell_type": "code",
   "execution_count": 51,
   "id": "26656d8b-7697-4d39-89ec-d89c4a8052f5",
   "metadata": {},
   "outputs": [
    {
     "data": {
      "text/plain": [
       "18"
      ]
     },
     "execution_count": 51,
     "metadata": {},
     "output_type": "execute_result"
    }
   ],
   "source": [
    "#Counting consonants in a word\n",
    "vowel = ['a', 'e', 'i', 'o', 'u']\n",
    "text = 'I Love Python Programming'\n",
    "count =0\n",
    "for char in text.lower():\n",
    "    if char not in vowel:\n",
    "        count+=1\n",
    "count"
   ]
  },
  {
   "cell_type": "code",
   "execution_count": 54,
   "id": "9bfa2943-ca4a-41bf-b751-4e1ff20a4396",
   "metadata": {},
   "outputs": [
    {
     "data": {
      "text/plain": [
       "2"
      ]
     },
     "execution_count": 54,
     "metadata": {},
     "output_type": "execute_result"
    }
   ],
   "source": [
    "#Counting occurrence of a character in a word\n",
    "word = 'I Love Python Programming'\n",
    "char = 'p'\n",
    "count = 0\n",
    "for i in word.lower():\n",
    "    if i==char:\n",
    "        count+=1\n",
    "count"
   ]
  },
  {
   "cell_type": "code",
   "execution_count": 58,
   "id": "dc2b6c5a-e002-4fb7-ba5e-871720b84a78",
   "metadata": {},
   "outputs": [
    {
     "data": {
      "text/plain": [
       "34"
      ]
     },
     "execution_count": 58,
     "metadata": {},
     "output_type": "execute_result"
    }
   ],
   "source": [
    "#Finding maximum in a list\n",
    "data = [13, 25, 34, 10, 21, 20, 8, 27]\n",
    "max = data[0]\n",
    "for i in data:\n",
    "    if i>max:\n",
    "        max = i\n",
    "max"
   ]
  },
  {
   "cell_type": "code",
   "execution_count": 60,
   "id": "ea6f9d89-c861-4dd8-9e8d-1ce600f91ffe",
   "metadata": {},
   "outputs": [
    {
     "data": {
      "text/plain": [
       "8"
      ]
     },
     "execution_count": 60,
     "metadata": {},
     "output_type": "execute_result"
    }
   ],
   "source": [
    "#Finding minimum in a list\n",
    "data = [13, 25, 34, 10, 21, 20, 8, 27]\n",
    "min = data[0]\n",
    "for i in data:\n",
    "    if i<min:\n",
    "        min = i\n",
    "min"
   ]
  },
  {
   "cell_type": "code",
   "execution_count": 70,
   "id": "6d20db16-fe5d-4cdb-8ae8-54cc26216f8a",
   "metadata": {},
   "outputs": [
    {
     "data": {
      "text/plain": [
       "21"
      ]
     },
     "execution_count": 70,
     "metadata": {},
     "output_type": "execute_result"
    }
   ],
   "source": [
    "#Finding middle element in a list\n",
    "data = [13, 25, 34, 10, 21, 20, 8, 27]\n",
    "result = int(len(data)/2)\n",
    "data[result]"
   ]
  },
  {
   "cell_type": "code",
   "execution_count": 84,
   "id": "b36925f5-d578-4075-ba02-f47fdf3df5d9",
   "metadata": {},
   "outputs": [
    {
     "data": {
      "text/plain": [
       "'aeiou'"
      ]
     },
     "execution_count": 84,
     "metadata": {},
     "output_type": "execute_result"
    }
   ],
   "source": [
    "#Converting list to string\n",
    "data = ['a', 'e', 'i', 'o', 'u']\n",
    "string = ''.join(data)\n",
    "string"
   ]
  },
  {
   "cell_type": "code",
   "execution_count": 89,
   "id": "e087a70e-ec1c-4162-835e-340932775f58",
   "metadata": {},
   "outputs": [
    {
     "data": {
      "text/plain": [
       "[50, 50, 50]"
      ]
     },
     "execution_count": 89,
     "metadata": {},
     "output_type": "execute_result"
    }
   ],
   "source": [
    "#Adding list elements\n",
    "list1 = [23, 12, 31]\n",
    "list2 = [27, 38, 19]\n",
    "finalList = []\n",
    "for i in range(0, len(list1)):\n",
    "    finalList.append(list1[i]+list2[i])\n",
    "finalList"
   ]
  },
  {
   "cell_type": "code",
   "execution_count": 92,
   "id": "d09f554a-5edc-4e41-a114-203e16e5721d",
   "metadata": {},
   "outputs": [
    {
     "name": "stdout",
     "output_type": "stream",
     "text": [
      "True\n"
     ]
    }
   ],
   "source": [
    "#Checking ANAGRAMS\n",
    "str1 = 'Linus'\n",
    "str2 = 'Sunil'\n",
    "str1 = str1.replace(' ', '').upper()\n",
    "str2 = str2.replace(' ', '').upper()\n",
    "if sorted(str1)==sorted(str2):\n",
    "    print(\"True\")\n",
    "else:\n",
    "    print(\"False\")"
   ]
  },
  {
   "cell_type": "code",
   "execution_count": 94,
   "id": "f08b2a0c-5702-4c6f-b3c3-1b0767af9dd8",
   "metadata": {},
   "outputs": [
    {
     "name": "stdout",
     "output_type": "stream",
     "text": [
      "4\n"
     ]
    }
   ],
   "source": [
    "#Counting white space in a word\n",
    "word = 'P r ogra m ming'\n",
    "print(word.count(' '))"
   ]
  },
  {
   "cell_type": "code",
   "execution_count": 99,
   "id": "dbd775b7-ee34-49d8-be47-712e26661893",
   "metadata": {},
   "outputs": [
    {
     "name": "stdout",
     "output_type": "stream",
     "text": [
      "True\n"
     ]
    }
   ],
   "source": [
    "#Palindrome Checking: KAYAK = reversed(KAYAK)\n",
    "word = 'Kayak'\n",
    "word = word.upper()\n",
    "if word == word[::-1]:\n",
    "    print(\"True\")\n",
    "else:\n",
    "    print(\"False\")"
   ]
  },
  {
   "cell_type": "code",
   "execution_count": 113,
   "id": "58ea1fc1-cefa-442f-8726-9e9f1c240871",
   "metadata": {},
   "outputs": [
    {
     "data": {
      "text/plain": [
       "4"
      ]
     },
     "execution_count": 113,
     "metadata": {},
     "output_type": "execute_result"
    }
   ],
   "source": [
    "#Counting special characters in a sentence\n",
    "def countChar(string):\n",
    "    specialChar = '@!#$%^&*~<>?[]{};:'\n",
    "    count = 0\n",
    "    for char in string:\n",
    "        if char in specialChar:\n",
    "            count+=1\n",
    "    return count\n",
    "text = \"Hello my N@me is N@resh! Are you going out with me?\"\n",
    "result = countChar(text)\n",
    "result"
   ]
  },
  {
   "cell_type": "code",
   "execution_count": 115,
   "id": "16ab5139-6290-4e42-b103-38590bb19870",
   "metadata": {},
   "outputs": [
    {
     "data": {
      "text/plain": [
       "'APPLE'"
      ]
     },
     "execution_count": 115,
     "metadata": {},
     "output_type": "execute_result"
    }
   ],
   "source": [
    "#Removing all white spaces in a word\n",
    "word = 'A P P L E'\n",
    "word.replace(' ', '')"
   ]
  },
  {
   "cell_type": "code",
   "execution_count": 121,
   "id": "598b5ed4-a6f0-4d14-b80e-d8c50ab3e17d",
   "metadata": {},
   "outputs": [
    {
     "data": {
      "text/plain": [
       "'APPLE'"
      ]
     },
     "execution_count": 121,
     "metadata": {},
     "output_type": "execute_result"
    }
   ],
   "source": [
    "#Removing all white spaces in a word\n",
    "word = 'A P P L E'\n",
    "result = ''.join(char for char in word if char!=' ')\n",
    "result"
   ]
  },
  {
   "cell_type": "code",
   "execution_count": 126,
   "id": "1081ef61-0625-48dd-b196-fc3975308457",
   "metadata": {},
   "outputs": [
    {
     "name": "stdout",
     "output_type": "stream",
     "text": [
      "   *   \n",
      "  ***  \n",
      " ***** \n",
      "*******\n",
      "   *   \n",
      "   *   \n"
     ]
    }
   ],
   "source": [
    "#Printing christmas tree\n",
    "picture = [\n",
    "    [0,0,0,1,0,0,0],\n",
    "    [0,0,1,1,1,0,0],\n",
    "    [0,1,1,1,1,1,0],\n",
    "    [1,1,1,1,1,1,1],\n",
    "    [0,0,0,1,0,0,0],\n",
    "    [0,0,0,1,0,0,0]\n",
    "]\n",
    "def christmasTree():\n",
    "    for image in picture:\n",
    "        for pixel in image:\n",
    "            if pixel==0:\n",
    "                print(' ', end='')\n",
    "            else:\n",
    "                print('*', end='')\n",
    "        print('', end='\\n')\n",
    "i = 0\n",
    "while i<=0:\n",
    "    christmasTree()\n",
    "    i+=1"
   ]
  },
  {
   "cell_type": "code",
   "execution_count": 123,
   "id": "6019bb5a-90a9-483a-9d02-c86f450b0938",
   "metadata": {},
   "outputs": [
    {
     "data": {
      "text/plain": [
       "{0: 'red', 1: 'green', 2: 'blue'}"
      ]
     },
     "execution_count": 123,
     "metadata": {},
     "output_type": "execute_result"
    }
   ],
   "source": [
    "colors = ['red', 'green', 'blue']\n",
    "{item:index for item, index in enumerate(colors)}"
   ]
  },
  {
   "cell_type": "code",
   "execution_count": null,
   "id": "23d22f6a-4724-412c-ad27-ccfe5a666fee",
   "metadata": {},
   "outputs": [],
   "source": []
  }
 ],
 "metadata": {
  "kernelspec": {
   "display_name": "Python 3 (ipykernel)",
   "language": "python",
   "name": "python3"
  },
  "language_info": {
   "codemirror_mode": {
    "name": "ipython",
    "version": 3
   },
   "file_extension": ".py",
   "mimetype": "text/x-python",
   "name": "python",
   "nbconvert_exporter": "python",
   "pygments_lexer": "ipython3",
   "version": "3.12.7"
  }
 },
 "nbformat": 4,
 "nbformat_minor": 5
}
