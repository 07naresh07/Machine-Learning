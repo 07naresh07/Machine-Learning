{
 "cells": [
  {
   "cell_type": "code",
   "execution_count": 9,
   "id": "d21370d9-480d-4056-8fa6-caa7d5f48c6d",
   "metadata": {},
   "outputs": [],
   "source": [
    "import pandas as pd"
   ]
  },
  {
   "cell_type": "code",
   "execution_count": 10,
   "id": "3dccbd94-c322-49ff-96b5-c655dfa3273a",
   "metadata": {},
   "outputs": [],
   "source": [
    "df = pd.read_csv('1_ML_Datas/sales.csv')"
   ]
  },
  {
   "cell_type": "code",
   "execution_count": 11,
   "id": "9172f8af-0c0c-4afc-9bd4-a48bf444e2e6",
   "metadata": {},
   "outputs": [
    {
     "data": {
      "text/html": [
       "<div>\n",
       "<style scoped>\n",
       "    .dataframe tbody tr th:only-of-type {\n",
       "        vertical-align: middle;\n",
       "    }\n",
       "\n",
       "    .dataframe tbody tr th {\n",
       "        vertical-align: top;\n",
       "    }\n",
       "\n",
       "    .dataframe thead th {\n",
       "        text-align: right;\n",
       "    }\n",
       "</style>\n",
       "<table border=\"1\" class=\"dataframe\">\n",
       "  <thead>\n",
       "    <tr style=\"text-align: right;\">\n",
       "      <th></th>\n",
       "      <th>order_id</th>\n",
       "      <th>customer_id</th>\n",
       "      <th>product_id</th>\n",
       "      <th>quantity</th>\n",
       "      <th>price</th>\n",
       "      <th>order_date</th>\n",
       "      <th>region</th>\n",
       "    </tr>\n",
       "  </thead>\n",
       "  <tbody>\n",
       "    <tr>\n",
       "      <th>0</th>\n",
       "      <td>1</td>\n",
       "      <td>162</td>\n",
       "      <td>29</td>\n",
       "      <td>1</td>\n",
       "      <td>492.11</td>\n",
       "      <td>2024-02-03</td>\n",
       "      <td>North</td>\n",
       "    </tr>\n",
       "    <tr>\n",
       "      <th>1</th>\n",
       "      <td>2</td>\n",
       "      <td>133</td>\n",
       "      <td>79</td>\n",
       "      <td>1</td>\n",
       "      <td>76.00</td>\n",
       "      <td>2023-04-01</td>\n",
       "      <td>East</td>\n",
       "    </tr>\n",
       "    <tr>\n",
       "      <th>2</th>\n",
       "      <td>3</td>\n",
       "      <td>179</td>\n",
       "      <td>81</td>\n",
       "      <td>3</td>\n",
       "      <td>441.70</td>\n",
       "      <td>2023-12-07</td>\n",
       "      <td>South</td>\n",
       "    </tr>\n",
       "    <tr>\n",
       "      <th>3</th>\n",
       "      <td>4</td>\n",
       "      <td>120</td>\n",
       "      <td>68</td>\n",
       "      <td>1</td>\n",
       "      <td>289.98</td>\n",
       "      <td>2024-08-07</td>\n",
       "      <td>North</td>\n",
       "    </tr>\n",
       "    <tr>\n",
       "      <th>4</th>\n",
       "      <td>5</td>\n",
       "      <td>42</td>\n",
       "      <td>2</td>\n",
       "      <td>1</td>\n",
       "      <td>236.52</td>\n",
       "      <td>2025-03-12</td>\n",
       "      <td>West</td>\n",
       "    </tr>\n",
       "  </tbody>\n",
       "</table>\n",
       "</div>"
      ],
      "text/plain": [
       "   order_id  customer_id  product_id  quantity   price  order_date region\n",
       "0         1          162          29         1  492.11  2024-02-03  North\n",
       "1         2          133          79         1   76.00  2023-04-01   East\n",
       "2         3          179          81         3  441.70  2023-12-07  South\n",
       "3         4          120          68         1  289.98  2024-08-07  North\n",
       "4         5           42           2         1  236.52  2025-03-12   West"
      ]
     },
     "execution_count": 11,
     "metadata": {},
     "output_type": "execute_result"
    }
   ],
   "source": [
    "df.head()"
   ]
  },
  {
   "cell_type": "code",
   "execution_count": 17,
   "id": "730e9e4d-eba4-4d35-bfac-66a0eda571f1",
   "metadata": {},
   "outputs": [],
   "source": [
    "writer = pd.ExcelWriter('splitted_region_data.xlsx', engine='xlsxwriter')"
   ]
  },
  {
   "cell_type": "code",
   "execution_count": 18,
   "id": "b0cd6c91-7627-4832-a032-dc9daf4f0a51",
   "metadata": {},
   "outputs": [],
   "source": [
    "for region in df['region'].unique():\n",
    "    df_n = df[df['region']==region]\n",
    "    df_n.to_excel(writer, sheet_name=region, index=False)\n",
    "writer.close()"
   ]
  },
  {
   "cell_type": "code",
   "execution_count": null,
   "id": "8c6c0f52-a072-45b4-806f-013959153981",
   "metadata": {},
   "outputs": [],
   "source": []
  }
 ],
 "metadata": {
  "kernelspec": {
   "display_name": "Python 3 (ipykernel)",
   "language": "python",
   "name": "python3"
  },
  "language_info": {
   "codemirror_mode": {
    "name": "ipython",
    "version": 3
   },
   "file_extension": ".py",
   "mimetype": "text/x-python",
   "name": "python",
   "nbconvert_exporter": "python",
   "pygments_lexer": "ipython3",
   "version": "3.12.7"
  }
 },
 "nbformat": 4,
 "nbformat_minor": 5
}
