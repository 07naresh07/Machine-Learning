{
 "cells": [
  {
   "cell_type": "code",
   "execution_count": 139,
   "id": "a8ce5b2e-dac1-4845-b88c-53ace3bc8a46",
   "metadata": {},
   "outputs": [],
   "source": [
    "from openpyxl import Workbook, load_workbook\n",
    "from openpyxl.styles import Font, Alignment, Border, Side, PatternFill\n",
    "from openpyxl.utils import get_column_letter\n",
    "import pandas as pd\n",
    "from colorsys import hsv_to_rgb"
   ]
  },
  {
   "cell_type": "code",
   "execution_count": 140,
   "id": "36f5d5cc-abf0-49ae-ba70-c7527e2ffb32",
   "metadata": {},
   "outputs": [],
   "source": [
    "input_file = 'MEP.xlsx'\n",
    "output_file = 'MEP_Out.xlsx'"
   ]
  },
  {
   "cell_type": "code",
   "execution_count": 141,
   "id": "c05ae569-6736-4816-a773-44006c7e7dd1",
   "metadata": {},
   "outputs": [
    {
     "data": {
      "text/html": [
       "<div>\n",
       "<style scoped>\n",
       "    .dataframe tbody tr th:only-of-type {\n",
       "        vertical-align: middle;\n",
       "    }\n",
       "\n",
       "    .dataframe tbody tr th {\n",
       "        vertical-align: top;\n",
       "    }\n",
       "\n",
       "    .dataframe thead th {\n",
       "        text-align: right;\n",
       "    }\n",
       "</style>\n",
       "<table border=\"1\" class=\"dataframe\">\n",
       "  <thead>\n",
       "    <tr style=\"text-align: right;\">\n",
       "      <th></th>\n",
       "      <th>UID</th>\n",
       "      <th>FromRevit_GM</th>\n",
       "      <th>Plumbing</th>\n",
       "      <th>Fire</th>\n",
       "      <th>Sprinkler</th>\n",
       "      <th>Mechanical</th>\n",
       "    </tr>\n",
       "  </thead>\n",
       "  <tbody>\n",
       "    <tr>\n",
       "      <th>0</th>\n",
       "      <td>ed1ff2d1-bd87-4816-91c0-455213062d80-02d63ce0</td>\n",
       "      <td>NaN</td>\n",
       "      <td>MP-CS</td>\n",
       "      <td>FF-AA-FH-B2-01</td>\n",
       "      <td>SP-AA-GQH</td>\n",
       "      <td>AA-OHU-B2-01</td>\n",
       "    </tr>\n",
       "    <tr>\n",
       "      <th>1</th>\n",
       "      <td>ed1ff2d1-bd87-4816-91c0-455213062d80-02d63cea</td>\n",
       "      <td>NaN</td>\n",
       "      <td>MP-CS-KP</td>\n",
       "      <td>FF-AA-FH-01-01</td>\n",
       "      <td>SP-AA-DQU</td>\n",
       "      <td>AA-OHU-B2-02</td>\n",
       "    </tr>\n",
       "    <tr>\n",
       "      <th>2</th>\n",
       "      <td>ed1ff2d1-bd87-4816-91c0-455213062d80-02d63cef</td>\n",
       "      <td>PP-ARM-VP-1</td>\n",
       "      <td>MP-CR</td>\n",
       "      <td>FF-AA-FH-02-01</td>\n",
       "      <td>SP-AA-HFQR</td>\n",
       "      <td>AA-AHU-B2-01</td>\n",
       "    </tr>\n",
       "    <tr>\n",
       "      <th>3</th>\n",
       "      <td>ed1ff2d1-bd87-4816-91c0-455213062d80-02d63cf6</td>\n",
       "      <td>PP-W-VL-1</td>\n",
       "      <td>MP-CR-KP</td>\n",
       "      <td>FF-AA-FH-03-01</td>\n",
       "      <td>NaN</td>\n",
       "      <td>AA-AHU-B2-02</td>\n",
       "    </tr>\n",
       "    <tr>\n",
       "      <th>4</th>\n",
       "      <td>ed1ff2d1-bd87-4816-91c0-455213062d80-02d63cfa</td>\n",
       "      <td>PP-W-VL-1</td>\n",
       "      <td>MP-HS</td>\n",
       "      <td>NaN</td>\n",
       "      <td>NaN</td>\n",
       "      <td>AA-FCU-B2-01</td>\n",
       "    </tr>\n",
       "  </tbody>\n",
       "</table>\n",
       "</div>"
      ],
      "text/plain": [
       "                                             UID FromRevit_GM  Plumbing  \\\n",
       "0  ed1ff2d1-bd87-4816-91c0-455213062d80-02d63ce0          NaN     MP-CS   \n",
       "1  ed1ff2d1-bd87-4816-91c0-455213062d80-02d63cea          NaN  MP-CS-KP   \n",
       "2  ed1ff2d1-bd87-4816-91c0-455213062d80-02d63cef  PP-ARM-VP-1     MP-CR   \n",
       "3  ed1ff2d1-bd87-4816-91c0-455213062d80-02d63cf6    PP-W-VL-1  MP-CR-KP   \n",
       "4  ed1ff2d1-bd87-4816-91c0-455213062d80-02d63cfa    PP-W-VL-1     MP-HS   \n",
       "\n",
       "             Fire   Sprinkler    Mechanical  \n",
       "0  FF-AA-FH-B2-01   SP-AA-GQH  AA-OHU-B2-01  \n",
       "1  FF-AA-FH-01-01   SP-AA-DQU  AA-OHU-B2-02  \n",
       "2  FF-AA-FH-02-01  SP-AA-HFQR  AA-AHU-B2-01  \n",
       "3  FF-AA-FH-03-01         NaN  AA-AHU-B2-02  \n",
       "4             NaN         NaN  AA-FCU-B2-01  "
      ]
     },
     "execution_count": 141,
     "metadata": {},
     "output_type": "execute_result"
    }
   ],
   "source": [
    "df = pd.read_excel(input_file)\n",
    "df.head()"
   ]
  },
  {
   "cell_type": "code",
   "execution_count": 142,
   "id": "5891b362-4d4f-4f78-8894-0669c941c556",
   "metadata": {},
   "outputs": [],
   "source": [
    "unique_elements = df.iloc[:, 1].dropna().unique().tolist()"
   ]
  },
  {
   "cell_type": "code",
   "execution_count": 143,
   "id": "190b91be-b691-4a84-9c41-1cb2f30a1504",
   "metadata": {},
   "outputs": [],
   "source": [
    "workbook = load_workbook(input_file)\n",
    "worksheet = workbook.active"
   ]
  },
  {
   "cell_type": "markdown",
   "id": "c04e8c26-40e6-4591-99aa-af0637795bb3",
   "metadata": {},
   "source": [
    "**Color Creation**"
   ]
  },
  {
   "cell_type": "code",
   "execution_count": 144,
   "id": "1851472c-1e41-44c8-84bc-0d91e88d1604",
   "metadata": {},
   "outputs": [],
   "source": [
    "def generate_color(n):\n",
    "    colors = []\n",
    "    for i in range(n):\n",
    "        hue = i%n\n",
    "        saturation = 0.5+(i%2)*0.25\n",
    "        value = 0.8\n",
    "        rgb = hsv_to_rgb(hue, saturation, value)\n",
    "        hex_color = ''.join(f'{int(c*255):02X}' for c in rgb)\n",
    "        colors.append(hex_color)\n",
    "    return colors"
   ]
  },
  {
   "cell_type": "code",
   "execution_count": 145,
   "id": "5497b7d2-3faf-4841-87ed-2b42aa5c52a8",
   "metadata": {},
   "outputs": [],
   "source": [
    "colors = generate_color(len(unique_elements))"
   ]
  },
  {
   "cell_type": "code",
   "execution_count": 146,
   "id": "5f2743a9-2aaf-421e-ab59-77ffa3ac8247",
   "metadata": {},
   "outputs": [],
   "source": [
    "fill = [PatternFill(start_color=color, end_color=color, fill_type='solid') for color in colors]"
   ]
  },
  {
   "cell_type": "code",
   "execution_count": 147,
   "id": "4af14a6a-0bfc-4d19-9f6e-5a5cf080bcdf",
   "metadata": {},
   "outputs": [],
   "source": [
    "fill_elements = {unique_element: fill[idx%len(fill)] for idx, unique_element in enumerate(unique_elements)}"
   ]
  },
  {
   "cell_type": "code",
   "execution_count": 148,
   "id": "381a26a3-f878-4eda-ad93-773522c1b41f",
   "metadata": {},
   "outputs": [],
   "source": [
    "matched_elements = set()"
   ]
  },
  {
   "cell_type": "markdown",
   "id": "d0ff4694-a5fa-4db9-a623-552f688e189e",
   "metadata": {},
   "source": [
    "**Color fill columns that matches revit identification numbers**"
   ]
  },
  {
   "cell_type": "code",
   "execution_count": 149,
   "id": "b4e16eb5-4d5a-410a-9197-f7e1c2035f58",
   "metadata": {},
   "outputs": [],
   "source": [
    "for row in range(2, worksheet.max_row+1):\n",
    "    for col in range(3, worksheet.max_column+1):\n",
    "        cell = worksheet.cell(row=row, column=col)\n",
    "        if cell.value in fill_elements:\n",
    "            matched_elements.add(cell.value)\n",
    "            cell.fill = fill_elements[cell.value]"
   ]
  },
  {
   "cell_type": "markdown",
   "id": "4a2436ab-bfc4-439e-9850-6133bcf4faff",
   "metadata": {},
   "source": [
    "**Color fill Identification column if it has matching elements in excel sheet elements**"
   ]
  },
  {
   "cell_type": "code",
   "execution_count": 150,
   "id": "90cb6945-4e75-46b4-8e55-a2a68e9bfbc1",
   "metadata": {},
   "outputs": [],
   "source": [
    "for row in range(2, worksheet.max_row+1):\n",
    "    cell = worksheet.cell(row=row, column=2)\n",
    "    if cell.value in matched_elements:\n",
    "        cell.fill = fill_elements[cell.value]\n",
    "    else:\n",
    "        cell.fill = PatternFill(fill_type=None)"
   ]
  },
  {
   "cell_type": "markdown",
   "id": "016397f3-724b-4f70-bc8e-bb6378a84e5a",
   "metadata": {},
   "source": [
    "**Finding unmatched elements**"
   ]
  },
  {
   "cell_type": "code",
   "execution_count": 151,
   "id": "ae7c9b70-cfff-4087-9a14-5d8b91fd9271",
   "metadata": {},
   "outputs": [],
   "source": [
    "unmatched_elements = [element for element in unique_elements if element not in matched_elements]"
   ]
  },
  {
   "cell_type": "markdown",
   "id": "e4348ca1-e7b4-4e3e-924c-e4ea7d5012c7",
   "metadata": {},
   "source": [
    "**Adding new column for unmatched elements**"
   ]
  },
  {
   "cell_type": "code",
   "execution_count": 152,
   "id": "5b0494c8-ba31-4f73-bc99-c7149cf5a964",
   "metadata": {},
   "outputs": [],
   "source": [
    "if unmatched_elements is not None:\n",
    "    new_column = worksheet.max_column+1\n",
    "    worksheet.cell(row=1, column=new_column, value=\"Unmatched Elements\")\n",
    "for idx, value in enumerate(unmatched_elements, start=2):\n",
    "    worksheet.cell(row=idx, column=new_column, value=value)"
   ]
  },
  {
   "cell_type": "markdown",
   "id": "d635eaef-cd29-4099-af13-65cc2c1aa2e9",
   "metadata": {},
   "source": [
    "**Adding unmatched elements from excel based data to new column**"
   ]
  },
  {
   "cell_type": "code",
   "execution_count": 153,
   "id": "c8374a98-74fd-4878-9dfc-23ce8c81f373",
   "metadata": {},
   "outputs": [],
   "source": [
    "for col in range(3, worksheet.max_column):\n",
    "    not_found_ids = []\n",
    "    for row in range(2, worksheet.max_row+1):\n",
    "        cell = worksheet.cell(row=row, column=col)\n",
    "        if cell.value not in matched_elements:\n",
    "            not_found_ids.append(cell.value)\n",
    "    new_col = worksheet.max_column+1\n",
    "    original_header = worksheet.cell(row=1, column=col).value\n",
    "    worksheet.cell(row=1, column=new_col, value=original_header)\n",
    "    for idx, value in enumerate(not_found_ids, start=2):\n",
    "        worksheet.cell(row=idx, column=new_col, value=value)"
   ]
  },
  {
   "cell_type": "markdown",
   "id": "cbd6a095-9433-44ad-8e80-2730c2deffb4",
   "metadata": {},
   "source": [
    "**For auto fixing the size of each columns**"
   ]
  },
  {
   "cell_type": "code",
   "execution_count": 154,
   "id": "b08bf7e7-2049-48d1-8311-aa1d529c283a",
   "metadata": {},
   "outputs": [],
   "source": [
    "for col in worksheet.columns:\n",
    "    max_length = 0\n",
    "    col_letter = get_column_letter(col[0].column)\n",
    "    for cell in col:\n",
    "        if cell.value is not None:\n",
    "            max_length = max(max_length, len(str(cell.value)))\n",
    "    worksheet.column_dimensions[col_letter].width = max_length+2"
   ]
  },
  {
   "cell_type": "code",
   "execution_count": 155,
   "id": "6dfb74a1-9013-48b2-b8f8-86601e25e896",
   "metadata": {},
   "outputs": [],
   "source": [
    "workbook.save(output_file)"
   ]
  },
  {
   "cell_type": "code",
   "execution_count": null,
   "id": "6a3c24e7-4b73-482d-bb8f-4919c0863ac3",
   "metadata": {},
   "outputs": [],
   "source": []
  }
 ],
 "metadata": {
  "kernelspec": {
   "display_name": "Python 3 (ipykernel)",
   "language": "python",
   "name": "python3"
  },
  "language_info": {
   "codemirror_mode": {
    "name": "ipython",
    "version": 3
   },
   "file_extension": ".py",
   "mimetype": "text/x-python",
   "name": "python",
   "nbconvert_exporter": "python",
   "pygments_lexer": "ipython3",
   "version": "3.12.7"
  }
 },
 "nbformat": 4,
 "nbformat_minor": 5
}
