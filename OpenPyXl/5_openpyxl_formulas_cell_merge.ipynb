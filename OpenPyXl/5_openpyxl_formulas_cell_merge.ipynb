{
 "cells": [
  {
   "cell_type": "code",
   "execution_count": 70,
   "id": "4542f405-6693-4d08-858e-db0583d6de82",
   "metadata": {},
   "outputs": [],
   "source": [
    "from openpyxl import Workbook, load_workbook\n",
    "from openpyxl.styles import Font, Alignment, PatternFill, Border"
   ]
  },
  {
   "cell_type": "code",
   "execution_count": 71,
   "id": "e35d0a80-ed7a-42e0-9f3c-ea9e9d76f9d7",
   "metadata": {},
   "outputs": [],
   "source": [
    "wb = load_workbook('openpyxl.xlsx')\n",
    "ws = wb.active"
   ]
  },
  {
   "cell_type": "code",
   "execution_count": 72,
   "id": "d68ebdc8-0232-44be-95bc-50a64bba0d05",
   "metadata": {},
   "outputs": [],
   "source": [
    "ws['H2'].value"
   ]
  },
  {
   "cell_type": "code",
   "execution_count": 73,
   "id": "f279c2f5-005c-4677-9cab-4c65e2fc3a9c",
   "metadata": {},
   "outputs": [],
   "source": [
    "for row in range(2, ws.max_row+1):\n",
    "    ws[f'I{row}'] = f\"=E{row}-F{row}\""
   ]
  },
  {
   "cell_type": "code",
   "execution_count": 74,
   "id": "94fb6bb0-b61f-4d8c-9631-fbafd2102a6a",
   "metadata": {},
   "outputs": [],
   "source": [
    "ws['E12'] = \"=SUM(E2:E11)\""
   ]
  },
  {
   "cell_type": "code",
   "execution_count": 75,
   "id": "b56689b0-0458-4a21-b3aa-b4bf312e5e03",
   "metadata": {},
   "outputs": [],
   "source": [
    "ws.merge_cells(start_row=12, end_row=12, start_column=1, end_column=4)"
   ]
  },
  {
   "cell_type": "code",
   "execution_count": 76,
   "id": "a6392ad6-e1e1-4280-947e-66d06929639d",
   "metadata": {},
   "outputs": [],
   "source": [
    "merged_cell = ws.cell(row=12, column=1)"
   ]
  },
  {
   "cell_type": "code",
   "execution_count": 77,
   "id": "47967982-015a-47da-bee8-d54d1e855d74",
   "metadata": {},
   "outputs": [],
   "source": [
    "merged_cell.value='Total'"
   ]
  },
  {
   "cell_type": "code",
   "execution_count": 81,
   "id": "c9790494-7e95-42dc-80c1-08ed38ad49d2",
   "metadata": {},
   "outputs": [],
   "source": [
    "merged_cell.font = Font(name='calibri', sz=11, italic=True, bold=True)"
   ]
  },
  {
   "cell_type": "code",
   "execution_count": 82,
   "id": "b4493806-4161-467b-ad3b-83b7fec5c138",
   "metadata": {},
   "outputs": [],
   "source": [
    "merged_cell.alignment = Alignment(horizontal='center', vertical='center')"
   ]
  },
  {
   "cell_type": "code",
   "execution_count": 83,
   "id": "1ed758be-080a-4195-a83d-768985f3dad8",
   "metadata": {},
   "outputs": [],
   "source": [
    "wb.save('openpyxl1.xlsx')"
   ]
  },
  {
   "cell_type": "code",
   "execution_count": null,
   "id": "1b97b1c0-1a57-406d-812f-384484fa01ac",
   "metadata": {},
   "outputs": [],
   "source": []
  }
 ],
 "metadata": {
  "kernelspec": {
   "display_name": "Python 3 (ipykernel)",
   "language": "python",
   "name": "python3"
  },
  "language_info": {
   "codemirror_mode": {
    "name": "ipython",
    "version": 3
   },
   "file_extension": ".py",
   "mimetype": "text/x-python",
   "name": "python",
   "nbconvert_exporter": "python",
   "pygments_lexer": "ipython3",
   "version": "3.12.7"
  }
 },
 "nbformat": 4,
 "nbformat_minor": 5
}
