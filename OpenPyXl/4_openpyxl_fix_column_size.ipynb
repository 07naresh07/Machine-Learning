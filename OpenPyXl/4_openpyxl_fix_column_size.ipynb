{
 "cells": [
  {
   "cell_type": "code",
   "execution_count": 69,
   "id": "a6964986-d352-485c-befe-eb3478faa436",
   "metadata": {},
   "outputs": [],
   "source": [
    "from openpyxl import Workbook, load_workbook\n",
    "from openpyxl.styles import Font, Alignment"
   ]
  },
  {
   "cell_type": "code",
   "execution_count": 70,
   "id": "7febb229-c1d1-4119-b255-74576fd6dfa3",
   "metadata": {},
   "outputs": [],
   "source": [
    "wb = load_workbook('openpyxl.xlsx')"
   ]
  },
  {
   "cell_type": "code",
   "execution_count": 71,
   "id": "7987bac4-e44e-4d51-bcd1-b3a056edc795",
   "metadata": {},
   "outputs": [
    {
     "data": {
      "text/plain": [
       "['Sheet1']"
      ]
     },
     "execution_count": 71,
     "metadata": {},
     "output_type": "execute_result"
    }
   ],
   "source": [
    "wb.sheetnames"
   ]
  },
  {
   "cell_type": "code",
   "execution_count": 72,
   "id": "75dc4d59-e764-441b-aabe-02f0014aeb29",
   "metadata": {},
   "outputs": [],
   "source": [
    "ws = wb.active"
   ]
  },
  {
   "cell_type": "code",
   "execution_count": 73,
   "id": "1529d892-5295-4e63-8864-22c1c7e4cecb",
   "metadata": {},
   "outputs": [
    {
     "data": {
      "text/plain": [
       "19980"
      ]
     },
     "execution_count": 73,
     "metadata": {},
     "output_type": "execute_result"
    }
   ],
   "source": [
    "ws['E2'].value"
   ]
  },
  {
   "cell_type": "code",
   "execution_count": 74,
   "id": "c2399039-3b73-4087-91c4-fd1fe7f00caa",
   "metadata": {},
   "outputs": [
    {
     "name": "stdout",
     "output_type": "stream",
     "text": [
      "['Date', 'Cars', 'Region', 'Made In', 'Price', 'Resale Value', 'Maximum Speed']\n",
      "[datetime.datetime(2020, 3, 15, 0, 0), 'Toyota', 'Western', 'America', 19980, 10779, 343]\n",
      "[datetime.datetime(2020, 3, 16, 0, 0), 'Toyota', 'Western', 'America', 24937, 8235, 338]\n",
      "[datetime.datetime(2020, 3, 17, 0, 0), 'Honda', 'Far Western', 'Nepal', 22418, 8527, 228]\n",
      "[datetime.datetime(2020, 3, 18, 0, 0), 'Honda', 'Eastern', 'China', 23645, 10163, 285]\n",
      "[datetime.datetime(2020, 3, 19, 0, 0), 'Ferrari', 'Mid-Western', 'America', 15364, 7335, 342]\n",
      "[datetime.datetime(2020, 3, 20, 0, 0), 'BMW', 'Eastern', 'Japan', 18757, 5806, 267]\n",
      "[datetime.datetime(2020, 3, 21, 0, 0), 'Toyota', 'Western', 'China', 16631, 6547, 279]\n",
      "[datetime.datetime(2020, 3, 22, 0, 0), 'Lambo', 'Eastern', 'China', 17849, 8484, 210]\n",
      "[datetime.datetime(2020, 3, 23, 0, 0), 'Ferrari', 'Central', 'India', 12306, 5685, 250]\n",
      "[datetime.datetime(2020, 3, 24, 0, 0), 'Honda', 'Far Western', 'Nepal', 19089, 10796, 278]\n"
     ]
    }
   ],
   "source": [
    "for row in ws.iter_rows(min_row=1, max_row=ws.max_row, min_col=1, max_col=ws.max_column):\n",
    "    print([cell.value for cell in row])"
   ]
  },
  {
   "cell_type": "code",
   "execution_count": 75,
   "id": "6f7b255f-cfce-4495-9523-ee0e1d1d33f5",
   "metadata": {},
   "outputs": [],
   "source": [
    "for row in range(2, ws.max_row+1):\n",
    "    ws[f'H{row}'] = ws[f'E{row}'].value-ws[f'F{row}'].value"
   ]
  },
  {
   "cell_type": "code",
   "execution_count": 76,
   "id": "ce9698e1-90a2-47f7-a084-086672749fde",
   "metadata": {},
   "outputs": [],
   "source": [
    "ws['H1'] = 'Difference of Price'"
   ]
  },
  {
   "cell_type": "code",
   "execution_count": 77,
   "id": "c814543f-f207-4049-bb36-18758e577b31",
   "metadata": {},
   "outputs": [],
   "source": [
    "ws['H1'].font = Font(name='calibri', bold=True, sz=11)"
   ]
  },
  {
   "cell_type": "code",
   "execution_count": 78,
   "id": "7b28dd45-be38-4b3b-8e1a-6058e9625383",
   "metadata": {},
   "outputs": [],
   "source": [
    "ws.column_dimensions['H'].width = 20"
   ]
  },
  {
   "cell_type": "code",
   "execution_count": 79,
   "id": "58a6f187-2e65-4209-aadf-bd9afa2561e6",
   "metadata": {},
   "outputs": [],
   "source": [
    "for col in ws.columns:\n",
    "    max_length = 0\n",
    "    column_letter = col[0].column_letter\n",
    "    for cell in col:\n",
    "        if cell.value is not None:\n",
    "            max_length = max(max_length, len(str(cell.value)))\n",
    "    ws.column_dimensions[column_letter].width = max_length+2"
   ]
  },
  {
   "cell_type": "code",
   "execution_count": 80,
   "id": "35dbd712-5d52-4299-b530-183fbde81bb5",
   "metadata": {},
   "outputs": [],
   "source": [
    "wb.save('openpyxl1.xlsx')"
   ]
  },
  {
   "cell_type": "code",
   "execution_count": null,
   "id": "554d6c7a-7f1b-4a2b-810f-ace6204cbc26",
   "metadata": {},
   "outputs": [],
   "source": []
  }
 ],
 "metadata": {
  "kernelspec": {
   "display_name": "Python 3 (ipykernel)",
   "language": "python",
   "name": "python3"
  },
  "language_info": {
   "codemirror_mode": {
    "name": "ipython",
    "version": 3
   },
   "file_extension": ".py",
   "mimetype": "text/x-python",
   "name": "python",
   "nbconvert_exporter": "python",
   "pygments_lexer": "ipython3",
   "version": "3.12.7"
  }
 },
 "nbformat": 4,
 "nbformat_minor": 5
}
