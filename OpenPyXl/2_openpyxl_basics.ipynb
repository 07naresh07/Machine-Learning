{
 "cells": [
  {
   "cell_type": "code",
   "execution_count": 13,
   "id": "2a936205-3bfc-4f34-acd5-b69886e88c89",
   "metadata": {},
   "outputs": [],
   "source": [
    "from openpyxl import Workbook, load_workbook\n",
    "import numpy as np"
   ]
  },
  {
   "cell_type": "code",
   "execution_count": 14,
   "id": "23b2dfd9-110f-4d03-91cc-24820dae7929",
   "metadata": {},
   "outputs": [],
   "source": [
    "wb = load_workbook('basic_example.xlsx')"
   ]
  },
  {
   "cell_type": "code",
   "execution_count": 15,
   "id": "ea7b32e4-6914-48d4-ac96-8df09a79ebdb",
   "metadata": {},
   "outputs": [
    {
     "data": {
      "text/plain": [
       "['First Sheet', 'practical sheet']"
      ]
     },
     "execution_count": 15,
     "metadata": {},
     "output_type": "execute_result"
    }
   ],
   "source": [
    "wb.sheetnames"
   ]
  },
  {
   "cell_type": "code",
   "execution_count": 16,
   "id": "50f5ab16-6bd5-40a5-ab01-e5b65dca4103",
   "metadata": {},
   "outputs": [],
   "source": [
    "ws = wb['practical sheet']"
   ]
  },
  {
   "cell_type": "code",
   "execution_count": 17,
   "id": "56fe1506-279c-4c56-ba80-47f19b16bd5c",
   "metadata": {},
   "outputs": [],
   "source": [
    "for row, value in enumerate(np.random.randint(5, 50, 10), start=1):\n",
    "    ws[f'B{row}']=value"
   ]
  },
  {
   "cell_type": "code",
   "execution_count": 38,
   "id": "29e1a36e-54f9-4166-8850-38c1fb77e47b",
   "metadata": {},
   "outputs": [
    {
     "name": "stdout",
     "output_type": "stream",
     "text": [
      "30\n",
      "77\n",
      "29\n",
      "65\n",
      "12\n",
      "21\n",
      "43\n",
      "87\n",
      "67\n",
      "71\n"
     ]
    }
   ],
   "source": [
    "for row in range(1, 11):\n",
    "    print(ws[f'A{row}'].value)"
   ]
  },
  {
   "cell_type": "code",
   "execution_count": 39,
   "id": "9e0829e9-72e8-4315-b21c-3d5672811b8b",
   "metadata": {},
   "outputs": [
    {
     "name": "stdout",
     "output_type": "stream",
     "text": [
      "40\n",
      "10\n",
      "34\n",
      "49\n",
      "5\n",
      "44\n",
      "15\n",
      "30\n",
      "15\n",
      "38\n"
     ]
    }
   ],
   "source": [
    "for row in range(1, 11):\n",
    "    print(ws[f'B{row}'].value)"
   ]
  },
  {
   "cell_type": "code",
   "execution_count": 40,
   "id": "ff6f78ac-6a5a-431a-a82c-96aa20cae63f",
   "metadata": {},
   "outputs": [],
   "source": [
    "wb.save('basic_example.xlsx')"
   ]
  },
  {
   "cell_type": "code",
   "execution_count": 41,
   "id": "daba7f51-2921-4db0-a47c-fea2de72f7a9",
   "metadata": {},
   "outputs": [
    {
     "name": "stdout",
     "output_type": "stream",
     "text": [
      "30\n",
      "40\n",
      "77\n",
      "10\n",
      "29\n",
      "34\n",
      "65\n",
      "49\n",
      "12\n",
      "5\n"
     ]
    }
   ],
   "source": [
    "for row in ws.iter_rows(min_row=1, max_row=5, min_col=1, max_col=2):\n",
    "    for cell in row:\n",
    "        print(cell.value)"
   ]
  },
  {
   "cell_type": "code",
   "execution_count": 35,
   "id": "d137d978-61d3-45bb-a8fc-52a1b5f633f4",
   "metadata": {},
   "outputs": [
    {
     "name": "stdout",
     "output_type": "stream",
     "text": [
      "[30, 40]\n",
      "[77, 10]\n",
      "[29, 34]\n",
      "[65, 49]\n",
      "[12, 5]\n"
     ]
    }
   ],
   "source": [
    "for row in ws.iter_rows(min_row=1, max_row=5, min_col=1, max_col=2):\n",
    "    print([cell.value for cell in row])"
   ]
  },
  {
   "cell_type": "code",
   "execution_count": 46,
   "id": "9470bcd3-b36d-4451-b690-bac5f02354b0",
   "metadata": {},
   "outputs": [
    {
     "name": "stdout",
     "output_type": "stream",
     "text": [
      "30\n",
      "77\n",
      "29\n",
      "65\n",
      "12\n",
      "21\n",
      "43\n",
      "87\n",
      "67\n",
      "71\n",
      "40\n",
      "10\n",
      "34\n",
      "49\n",
      "5\n",
      "44\n",
      "15\n",
      "30\n",
      "15\n",
      "38\n"
     ]
    }
   ],
   "source": [
    "for col in ws.iter_cols(min_row=1, max_row=10, min_col=1, max_col=2):\n",
    "    for cell in col:\n",
    "        print(cell.value)"
   ]
  },
  {
   "cell_type": "code",
   "execution_count": 47,
   "id": "55094b49-4061-4b3a-9f8f-dae7bf9af40d",
   "metadata": {},
   "outputs": [
    {
     "name": "stdout",
     "output_type": "stream",
     "text": [
      "[30, 77, 29, 65, 12, 21, 43, 87, 67, 71]\n",
      "[40, 10, 34, 49, 5, 44, 15, 30, 15, 38]\n"
     ]
    }
   ],
   "source": [
    "for col in ws.iter_cols(min_row=1, max_row=10, min_col=1, max_col=2):\n",
    "    print([cell.value for cell in col])"
   ]
  },
  {
   "cell_type": "code",
   "execution_count": null,
   "id": "e4d0b6e2-9f25-47b2-8c1b-909f2fc3a989",
   "metadata": {},
   "outputs": [],
   "source": []
  }
 ],
 "metadata": {
  "kernelspec": {
   "display_name": "Python 3 (ipykernel)",
   "language": "python",
   "name": "python3"
  },
  "language_info": {
   "codemirror_mode": {
    "name": "ipython",
    "version": 3
   },
   "file_extension": ".py",
   "mimetype": "text/x-python",
   "name": "python",
   "nbconvert_exporter": "python",
   "pygments_lexer": "ipython3",
   "version": "3.12.7"
  }
 },
 "nbformat": 4,
 "nbformat_minor": 5
}
