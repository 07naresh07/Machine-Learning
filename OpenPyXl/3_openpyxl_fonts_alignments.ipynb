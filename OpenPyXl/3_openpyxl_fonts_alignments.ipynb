{
 "cells": [
  {
   "cell_type": "code",
   "execution_count": 46,
   "id": "a1e84744-03d6-44b8-a977-9b6e5b5abe18",
   "metadata": {},
   "outputs": [],
   "source": [
    "from openpyxl.styles import Font, Alignment, Border, PatternFill\n",
    "from openpyxl import Workbook, load_workbook"
   ]
  },
  {
   "cell_type": "code",
   "execution_count": 47,
   "id": "a0682068-6180-40e7-9604-248d8c332f98",
   "metadata": {},
   "outputs": [],
   "source": [
    "wb = Workbook()\n",
    "ws = wb.active\n",
    "ws.title = 'my_sheet'"
   ]
  },
  {
   "cell_type": "code",
   "execution_count": 48,
   "id": "157faf2d-f876-4ae6-a4f9-7839742fbadb",
   "metadata": {},
   "outputs": [
    {
     "data": {
      "text/plain": [
       "['my_sheet']"
      ]
     },
     "execution_count": 48,
     "metadata": {},
     "output_type": "execute_result"
    }
   ],
   "source": [
    "wb.sheetnames"
   ]
  },
  {
   "cell_type": "code",
   "execution_count": 49,
   "id": "f7d9897a-ce32-41c0-a76d-1e596f2a8500",
   "metadata": {},
   "outputs": [],
   "source": [
    "ws['A1']='Hello World'"
   ]
  },
  {
   "cell_type": "code",
   "execution_count": 50,
   "id": "2f01052e-ab14-49e6-9a2f-33ad8105eac3",
   "metadata": {},
   "outputs": [],
   "source": [
    "ws['B1'] = 'My Name is Naresh Singh Dhami'"
   ]
  },
  {
   "cell_type": "code",
   "execution_count": 51,
   "id": "29f2f1f9-f63e-450d-be5a-78b8c5f1ec1c",
   "metadata": {},
   "outputs": [],
   "source": [
    "wb.save('basic_example.xlsx')"
   ]
  },
  {
   "cell_type": "code",
   "execution_count": 52,
   "id": "2ae3f2be-be43-40ad-b6e6-b8b5dfdc391e",
   "metadata": {},
   "outputs": [],
   "source": [
    "ws['A1'].font = Font(name='Times New Roman', sz=15, bold=True)"
   ]
  },
  {
   "cell_type": "code",
   "execution_count": 53,
   "id": "35154dc7-6f62-41f5-89d0-8a897ad5a2a0",
   "metadata": {},
   "outputs": [],
   "source": [
    "ws['B1'].font = Font(name='serif', italic=True, bold=True, color='FFFF00')"
   ]
  },
  {
   "cell_type": "code",
   "execution_count": 54,
   "id": "0ab3c377-2156-42fa-a7e8-8d135bc6f121",
   "metadata": {},
   "outputs": [],
   "source": [
    "ws['A1'].alignment = Alignment(horizontal='center', vertical='center')"
   ]
  },
  {
   "cell_type": "code",
   "execution_count": 55,
   "id": "20f76393-c9f3-4028-96c0-4fa50b173e1b",
   "metadata": {},
   "outputs": [],
   "source": [
    "thin_border = Border(left=Side(style='thin'), right = Side(style='thin'), \n",
    "                     top = Side(style='dashed'), bottom = Side(style='dashed'))"
   ]
  },
  {
   "cell_type": "code",
   "execution_count": 56,
   "id": "2cf831ca-8bfc-42fa-826f-f781ca1968fa",
   "metadata": {},
   "outputs": [],
   "source": [
    "ws['A1'].border = thin_border"
   ]
  },
  {
   "cell_type": "code",
   "execution_count": 57,
   "id": "7ae3c400-b88e-4e82-82c3-7ffa1ceb3bc5",
   "metadata": {},
   "outputs": [],
   "source": [
    "ws['B1'].fill = PatternFill(start_color='FFFF26', end_color='FFFF26', fill_type='solid')"
   ]
  },
  {
   "cell_type": "code",
   "execution_count": 58,
   "id": "1b28370e-f551-4b6e-bb6e-63b9990bb085",
   "metadata": {},
   "outputs": [],
   "source": [
    "wb.save('basic_example.xlsx')"
   ]
  },
  {
   "cell_type": "code",
   "execution_count": null,
   "id": "61bbf5d3-0f62-4cb6-906b-0381f26a2c1d",
   "metadata": {},
   "outputs": [],
   "source": []
  }
 ],
 "metadata": {
  "kernelspec": {
   "display_name": "Python 3 (ipykernel)",
   "language": "python",
   "name": "python3"
  },
  "language_info": {
   "codemirror_mode": {
    "name": "ipython",
    "version": 3
   },
   "file_extension": ".py",
   "mimetype": "text/x-python",
   "name": "python",
   "nbconvert_exporter": "python",
   "pygments_lexer": "ipython3",
   "version": "3.12.7"
  }
 },
 "nbformat": 4,
 "nbformat_minor": 5
}
