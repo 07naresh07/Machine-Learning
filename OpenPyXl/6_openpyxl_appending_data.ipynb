{
 "cells": [
  {
   "cell_type": "code",
   "execution_count": 145,
   "id": "40c66b56-bfc2-41cc-b8bc-95613774f97d",
   "metadata": {},
   "outputs": [],
   "source": [
    "from openpyxl import Workbook, load_workbook\n",
    "from openpyxl.styles import Font, Border, Alignment, PatternFill, Side"
   ]
  },
  {
   "cell_type": "code",
   "execution_count": 146,
   "id": "51be1434-b10d-475a-8f40-c1e30fdfdedc",
   "metadata": {},
   "outputs": [],
   "source": [
    "wb = Workbook()\n",
    "ws = wb.active"
   ]
  },
  {
   "cell_type": "code",
   "execution_count": 147,
   "id": "941f603b-f81e-4016-8bef-1ba16370af21",
   "metadata": {},
   "outputs": [],
   "source": [
    "ws.title='Append'"
   ]
  },
  {
   "cell_type": "code",
   "execution_count": 148,
   "id": "1c7ece2c-1fb6-43e8-93b6-38c5c92a43f7",
   "metadata": {},
   "outputs": [
    {
     "data": {
      "text/plain": [
       "['Append']"
      ]
     },
     "execution_count": 148,
     "metadata": {},
     "output_type": "execute_result"
    }
   ],
   "source": [
    "wb.sheetnames"
   ]
  },
  {
   "cell_type": "code",
   "execution_count": 149,
   "id": "f9741697-e958-4165-8b59-dcbc7554e02e",
   "metadata": {},
   "outputs": [],
   "source": [
    "ws.append(['Name', 'Age', 'Sex', 'Education'])"
   ]
  },
  {
   "cell_type": "code",
   "execution_count": 150,
   "id": "957101d2-3a4d-45fd-8cff-488c604e0fea",
   "metadata": {},
   "outputs": [],
   "source": [
    "ws.append(['Naresh Singh Dhami', 29, 'Male', 'Bachelor'])\n",
    "ws.append(['Uma Khadayat', 28, 'Female', 'Bachelor'])\n",
    "ws.append(['Sudeep Singh Dhami', 20, 'Male', 'Bachelor Running'])"
   ]
  },
  {
   "cell_type": "code",
   "execution_count": 151,
   "id": "4ccb10bf-db6d-40f7-9bda-08a3f749ba6c",
   "metadata": {},
   "outputs": [],
   "source": [
    "for col in ws.columns:\n",
    "    max_length = 0\n",
    "    column_letter = col[0].column_letter\n",
    "    for cell in col:\n",
    "        if cell.value is not None:\n",
    "            max_length = max(max_length, len(str(cell.value)))\n",
    "    ws.column_dimensions[column_letter].width = max_length+2"
   ]
  },
  {
   "cell_type": "code",
   "execution_count": 152,
   "id": "5a1688e9-0fda-4178-95b1-caa7f1ae69c5",
   "metadata": {},
   "outputs": [
    {
     "name": "stdout",
     "output_type": "stream",
     "text": [
      "Name\n",
      "Naresh Singh Dhami\n",
      "Uma Khadayat\n",
      "Sudeep Singh Dhami\n"
     ]
    }
   ],
   "source": [
    "for i in range(1, ws.max_row+1):\n",
    "    print(ws[f'A{i}'].value)"
   ]
  },
  {
   "cell_type": "code",
   "execution_count": 153,
   "id": "23b652ba-9e91-4574-9714-e8d970414770",
   "metadata": {},
   "outputs": [
    {
     "name": "stdout",
     "output_type": "stream",
     "text": [
      "Age\n",
      "29\n",
      "28\n",
      "20\n"
     ]
    }
   ],
   "source": [
    "for j in range(1, ws.max_row+1):\n",
    "    print(ws[f'B{j}'].value)"
   ]
  },
  {
   "cell_type": "code",
   "execution_count": 154,
   "id": "9f35a558-d058-4d23-9b88-eb9c019178f7",
   "metadata": {},
   "outputs": [
    {
     "name": "stdout",
     "output_type": "stream",
     "text": [
      "Name\n",
      "Age\n",
      "Sex\n",
      "Education\n",
      "Naresh Singh Dhami\n",
      "29\n",
      "Male\n",
      "Bachelor\n",
      "Uma Khadayat\n",
      "28\n",
      "Female\n",
      "Bachelor\n",
      "Sudeep Singh Dhami\n",
      "20\n",
      "Male\n",
      "Bachelor Running\n"
     ]
    }
   ],
   "source": [
    "for row in ws.iter_rows(max_row=4, min_row=1, max_col=4, min_col=1):\n",
    "    for cell in row:\n",
    "        print(cell.value)"
   ]
  },
  {
   "cell_type": "code",
   "execution_count": 155,
   "id": "7c64320e-12fb-4cce-91c5-a2ea75d2d6ea",
   "metadata": {},
   "outputs": [
    {
     "name": "stdout",
     "output_type": "stream",
     "text": [
      "['Name', 'Naresh Singh Dhami', 'Uma Khadayat', 'Sudeep Singh Dhami']\n",
      "['Age', 29, 28, 20]\n",
      "['Sex', 'Male', 'Female', 'Male']\n",
      "['Education', 'Bachelor', 'Bachelor', 'Bachelor Running']\n"
     ]
    }
   ],
   "source": [
    "for col in ws.iter_cols(min_row=1, max_row=4, min_col=1, max_col=4):\n",
    "    print([cell.value for cell in col])"
   ]
  },
  {
   "cell_type": "code",
   "execution_count": 156,
   "id": "51dd26c5-b75c-43b7-94fc-537bdec6e336",
   "metadata": {},
   "outputs": [],
   "source": [
    "ws['A1'].font = Font(name='calibir', sz=12, bold=True, italic=True)\n",
    "ws['A1'].alignment = Alignment(horizontal='center', vertical='center')\n",
    "ws['A1'].border = Border(left=Side(style='thin'), right=Side(style='thin'), top=Side(style='thin'), bottom=Side(style='thin'))"
   ]
  },
  {
   "cell_type": "code",
   "execution_count": 157,
   "id": "185b2b24-8133-43fc-b6f8-a366d0a6dd0f",
   "metadata": {},
   "outputs": [],
   "source": [
    "ws.append(['Sarita Dhami', 25, 'Female', 'Bachelor'])"
   ]
  },
  {
   "cell_type": "code",
   "execution_count": 158,
   "id": "ac361c8d-ca03-4628-9ead-67c78b0ff64c",
   "metadata": {},
   "outputs": [],
   "source": [
    "data=['Salary', 500000, 240000, 35000, 200000]\n",
    "for row_idx, value in enumerate(data, start=1):\n",
    "    ws.cell(row=row_idx, column=5, value=value)"
   ]
  },
  {
   "cell_type": "code",
   "execution_count": 159,
   "id": "f5bcfcfb-dd0e-4e65-93ba-5431c056e187",
   "metadata": {},
   "outputs": [],
   "source": [
    "font_style = Font(name='Times New Roman', sz=12)\n",
    "alignment_style = Alignment(horizontal='center', vertical='center')\n",
    "border_style = Border(left=Side(style='dotted'), right=Side(style='dotted'),\n",
    "                      top=Side(style='thin'), bottom=Side(style='thin'))"
   ]
  },
  {
   "cell_type": "code",
   "execution_count": 160,
   "id": "2b4bc336-507d-4eef-8f76-0f282bed494f",
   "metadata": {},
   "outputs": [],
   "source": [
    "for row in ws.iter_rows(min_row=1, max_row=ws.max_row, min_col=1, max_col=ws.max_column):\n",
    "    for cell in row:\n",
    "        cell.font=font_style\n",
    "        cell.alignment=alignment_style\n",
    "        cell.border=border_style"
   ]
  },
  {
   "cell_type": "code",
   "execution_count": 161,
   "id": "a9e23321-70f4-43eb-b2ff-c1277412e7c8",
   "metadata": {},
   "outputs": [],
   "source": [
    "for col in ws.iter_cols(min_row=1, max_row=1, min_col=1, max_col=ws.max_column):\n",
    "    for cell in col:\n",
    "        cell.font = Font(name='calibri', sz=14, bold=True, italic=True)\n",
    "        cell.fill = PatternFill(start_color='FF5733', end_color='FF5733', fill_type='solid')"
   ]
  },
  {
   "cell_type": "code",
   "execution_count": 162,
   "id": "382065ca-1daa-40d2-9e80-4696402935a6",
   "metadata": {},
   "outputs": [],
   "source": [
    "ws.merge_cells(start_column=1, end_column=4, start_row=6, end_row=6)"
   ]
  },
  {
   "cell_type": "code",
   "execution_count": 163,
   "id": "c3d65099-0ca9-47fe-8e54-d4e87c8d1714",
   "metadata": {},
   "outputs": [],
   "source": [
    "merged_cell = ws.cell(row=6, column=1)"
   ]
  },
  {
   "cell_type": "code",
   "execution_count": 164,
   "id": "8f3aaeaf-6336-4bcb-8541-8c712fb3614a",
   "metadata": {},
   "outputs": [],
   "source": [
    "merged_cell.value='Total Salary'"
   ]
  },
  {
   "cell_type": "code",
   "execution_count": 168,
   "id": "11db5120-ebd8-4581-81de-5e5e1d156835",
   "metadata": {},
   "outputs": [],
   "source": [
    "merged_cell.alignment = alignment_style"
   ]
  },
  {
   "cell_type": "code",
   "execution_count": 169,
   "id": "986eaf3c-a04c-49c8-9948-54e33470474e",
   "metadata": {},
   "outputs": [],
   "source": [
    "ws['E6'] = \"=SUM(E2:E5)\""
   ]
  },
  {
   "cell_type": "code",
   "execution_count": 170,
   "id": "ef258b1f-c163-484b-88c1-9ac0518cd86e",
   "metadata": {},
   "outputs": [],
   "source": [
    "wb.save('save_me.xlsx')"
   ]
  },
  {
   "cell_type": "code",
   "execution_count": null,
   "id": "27c9f302-ae3a-48e1-8cf2-b6a89c8c9c76",
   "metadata": {},
   "outputs": [],
   "source": []
  }
 ],
 "metadata": {
  "kernelspec": {
   "display_name": "Python 3 (ipykernel)",
   "language": "python",
   "name": "python3"
  },
  "language_info": {
   "codemirror_mode": {
    "name": "ipython",
    "version": 3
   },
   "file_extension": ".py",
   "mimetype": "text/x-python",
   "name": "python",
   "nbconvert_exporter": "python",
   "pygments_lexer": "ipython3",
   "version": "3.12.7"
  }
 },
 "nbformat": 4,
 "nbformat_minor": 5
}
