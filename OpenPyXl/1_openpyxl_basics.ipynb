{
 "cells": [
  {
   "cell_type": "markdown",
   "id": "037d5599-c85a-440d-8f20-131d9d0508b4",
   "metadata": {},
   "source": [
    "## Create a new Excel sheet completely out of scratch"
   ]
  },
  {
   "cell_type": "code",
   "execution_count": 71,
   "id": "7530ccd0-c083-44b2-922e-7a13984d40d2",
   "metadata": {},
   "outputs": [],
   "source": [
    "from openpyxl import Workbook\n",
    "import numpy as np\n",
    "import pandas as pd"
   ]
  },
  {
   "cell_type": "code",
   "execution_count": 31,
   "id": "a413b005-29c8-4540-8cf6-5d5591609b13",
   "metadata": {},
   "outputs": [],
   "source": [
    "wb = Workbook()"
   ]
  },
  {
   "cell_type": "code",
   "execution_count": 32,
   "id": "c3e8d134-9010-4dd5-90ff-1a08de443009",
   "metadata": {},
   "outputs": [],
   "source": [
    "ws = wb.active"
   ]
  },
  {
   "cell_type": "code",
   "execution_count": 33,
   "id": "40dc687b-eb4e-4696-9d60-f400d7a0f321",
   "metadata": {},
   "outputs": [],
   "source": [
    "ws[\"A1\"] = \"Hello\"\n",
    "ws[\"B1\"] = \"World\""
   ]
  },
  {
   "cell_type": "code",
   "execution_count": 34,
   "id": "c617a0a3-e9ba-4941-89ca-e1b2d558f801",
   "metadata": {},
   "outputs": [],
   "source": [
    "wb.save('basic_example.xlsx')"
   ]
  },
  {
   "cell_type": "code",
   "execution_count": null,
   "id": "c283ebb7-6965-484a-be4e-6e204dd1944b",
   "metadata": {},
   "outputs": [],
   "source": []
  },
  {
   "cell_type": "markdown",
   "id": "8ca5b66d-c555-41f3-8a92-4bb4bc01bfa6",
   "metadata": {},
   "source": [
    "## Load an existing excel workbook"
   ]
  },
  {
   "cell_type": "code",
   "execution_count": 35,
   "id": "7b45270e-ce91-4bab-984a-175cfd4bbc7f",
   "metadata": {},
   "outputs": [],
   "source": [
    "from openpyxl import load_workbook"
   ]
  },
  {
   "cell_type": "code",
   "execution_count": 36,
   "id": "d6c7e9cc-b5ac-48b2-82b8-6418e39db7e2",
   "metadata": {},
   "outputs": [],
   "source": [
    "wb1 = load_workbook('basic_example.xlsx')"
   ]
  },
  {
   "cell_type": "code",
   "execution_count": 37,
   "id": "69cac0e9-5be7-40bb-bd04-b7d37eeb4bc6",
   "metadata": {},
   "outputs": [],
   "source": [
    "ws1 = wb1.active"
   ]
  },
  {
   "cell_type": "code",
   "execution_count": 39,
   "id": "87c45eac-8fd3-4536-8141-0e72a039c4ae",
   "metadata": {},
   "outputs": [
    {
     "data": {
      "text/plain": [
       "'Hello'"
      ]
     },
     "execution_count": 39,
     "metadata": {},
     "output_type": "execute_result"
    }
   ],
   "source": [
    "ws1['A1'].value"
   ]
  },
  {
   "cell_type": "code",
   "execution_count": 40,
   "id": "ff335b04-ad1b-4da3-a5b8-81c3cf61b8a6",
   "metadata": {},
   "outputs": [],
   "source": [
    "# Rewriting the existing cell value"
   ]
  },
  {
   "cell_type": "code",
   "execution_count": 45,
   "id": "62c699ec-f84d-4718-a2be-99f44c50f0e3",
   "metadata": {},
   "outputs": [],
   "source": [
    "ws1['A1'] = 'HELLO'"
   ]
  },
  {
   "cell_type": "code",
   "execution_count": 49,
   "id": "e6409770-fa69-4115-9d19-14fa28e5580e",
   "metadata": {},
   "outputs": [],
   "source": [
    "ws1['B1'] = 'WORLD'"
   ]
  },
  {
   "cell_type": "code",
   "execution_count": 50,
   "id": "cc2d97a9-8faa-4104-9cc8-37be5e9e7ea4",
   "metadata": {},
   "outputs": [
    {
     "data": {
      "text/plain": [
       "'HELLO'"
      ]
     },
     "execution_count": 50,
     "metadata": {},
     "output_type": "execute_result"
    }
   ],
   "source": [
    "ws1['A1'].value"
   ]
  },
  {
   "cell_type": "code",
   "execution_count": 51,
   "id": "83dc942e-c6ff-4e91-ae84-4bbb87e2518a",
   "metadata": {},
   "outputs": [],
   "source": [
    "wb1.save('basic_example.xlsx')"
   ]
  },
  {
   "cell_type": "code",
   "execution_count": null,
   "id": "9fb886c8-b63f-47af-acd1-4d799f9911eb",
   "metadata": {},
   "outputs": [],
   "source": []
  },
  {
   "cell_type": "code",
   "execution_count": 52,
   "id": "3f59c629-c703-43f4-b93c-1ce40ebce228",
   "metadata": {},
   "outputs": [],
   "source": [
    "# Create new sheet in workbook"
   ]
  },
  {
   "cell_type": "code",
   "execution_count": 55,
   "id": "667fc54f-e457-4a8b-886f-a90b4414849a",
   "metadata": {},
   "outputs": [],
   "source": [
    "ws_new = wb1.create_sheet(title='practical sheet')"
   ]
  },
  {
   "cell_type": "code",
   "execution_count": 60,
   "id": "fcf8c602-9a5e-4818-b6cd-d022dcc02e6b",
   "metadata": {},
   "outputs": [],
   "source": [
    "ws1.title='First Sheet'"
   ]
  },
  {
   "cell_type": "code",
   "execution_count": 61,
   "id": "381ad573-3422-4d7f-bdb7-254f4d42694c",
   "metadata": {},
   "outputs": [],
   "source": [
    "wb1.save('basic_example.xlsx')"
   ]
  },
  {
   "cell_type": "code",
   "execution_count": 62,
   "id": "03d88f57-ec54-40f2-bff0-20853ac78a11",
   "metadata": {},
   "outputs": [
    {
     "data": {
      "text/plain": [
       "['First Sheet', 'practical sheet', 'practical sheet1']"
      ]
     },
     "execution_count": 62,
     "metadata": {},
     "output_type": "execute_result"
    }
   ],
   "source": [
    "wb1.sheetnames"
   ]
  },
  {
   "cell_type": "code",
   "execution_count": 67,
   "id": "1da3e6cf-173a-4a7a-8d23-3c4a10f7863d",
   "metadata": {},
   "outputs": [
    {
     "name": "stderr",
     "output_type": "stream",
     "text": [
      "/var/folders/tj/260lnk5505z6wf67xhl6yccw0000gn/T/ipykernel_15627/257329230.py:1: DeprecationWarning: Call to deprecated function remove_sheet (Use wb.remove(worksheet) or del wb[sheetname]).\n",
      "  wb1.remove_sheet(ws_new)\n"
     ]
    }
   ],
   "source": [
    "wb1.remove_sheet(ws_new)"
   ]
  },
  {
   "cell_type": "code",
   "execution_count": 68,
   "id": "18f429ef-4f08-4935-9d7b-692dedd115d8",
   "metadata": {},
   "outputs": [
    {
     "data": {
      "text/plain": [
       "['First Sheet', 'practical sheet']"
      ]
     },
     "execution_count": 68,
     "metadata": {},
     "output_type": "execute_result"
    }
   ],
   "source": [
    "wb1.sheetnames"
   ]
  },
  {
   "cell_type": "code",
   "execution_count": 87,
   "id": "1dff95d0-0cce-4258-a826-8ff0d3d0c13e",
   "metadata": {},
   "outputs": [],
   "source": [
    "wb1.save('basic_example.xlsx')"
   ]
  },
  {
   "cell_type": "code",
   "execution_count": 88,
   "id": "2e42d6bf-284a-48c2-8d09-c9d21c62569f",
   "metadata": {},
   "outputs": [],
   "source": [
    "ws_new = wb1['practical sheet']"
   ]
  },
  {
   "cell_type": "code",
   "execution_count": 94,
   "id": "baf68249-d464-41e7-95c3-b5b76a836e46",
   "metadata": {},
   "outputs": [],
   "source": [
    "random_nums = np.random.randint(10, 100, 10)\n",
    "for row, value in enumerate(random_nums, start=1):\n",
    "    ws_new[f'A{row}']=value"
   ]
  },
  {
   "cell_type": "code",
   "execution_count": 98,
   "id": "384ff1b5-b7ee-4f72-b3ce-858c5ec9cfd2",
   "metadata": {},
   "outputs": [
    {
     "name": "stdout",
     "output_type": "stream",
     "text": [
      "30\n",
      "77\n",
      "29\n",
      "65\n",
      "12\n",
      "21\n",
      "43\n",
      "87\n",
      "67\n",
      "71\n"
     ]
    }
   ],
   "source": [
    "for row in range(1, 11):\n",
    "    print(ws_new[f'A{row}'].value)"
   ]
  },
  {
   "cell_type": "code",
   "execution_count": 96,
   "id": "ef6230bb-cc7c-4722-a2c3-461aa401d3e5",
   "metadata": {},
   "outputs": [],
   "source": [
    "wb1.save('basic_example.xlsx')"
   ]
  },
  {
   "cell_type": "code",
   "execution_count": null,
   "id": "ab17a698-bb67-4695-96de-6628f39cd073",
   "metadata": {},
   "outputs": [],
   "source": []
  }
 ],
 "metadata": {
  "kernelspec": {
   "display_name": "Python 3 (ipykernel)",
   "language": "python",
   "name": "python3"
  },
  "language_info": {
   "codemirror_mode": {
    "name": "ipython",
    "version": 3
   },
   "file_extension": ".py",
   "mimetype": "text/x-python",
   "name": "python",
   "nbconvert_exporter": "python",
   "pygments_lexer": "ipython3",
   "version": "3.12.7"
  }
 },
 "nbformat": 4,
 "nbformat_minor": 5
}
