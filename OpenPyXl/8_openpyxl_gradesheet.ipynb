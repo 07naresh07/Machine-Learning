{
 "cells": [
  {
   "cell_type": "code",
   "execution_count": 76,
   "id": "cf60ade3-448c-4545-987a-d75ad46ef033",
   "metadata": {},
   "outputs": [],
   "source": [
    "from openpyxl import Workbook\n",
    "from openpyxl.styles import Font\n",
    "from openpyxl.utils import get_column_letter"
   ]
  },
  {
   "cell_type": "code",
   "execution_count": 77,
   "id": "85504e90-b10f-47ec-b0c5-fd32d26b5037",
   "metadata": {},
   "outputs": [],
   "source": [
    "data = {\n",
    "    \"Naresh\":{\n",
    "    \"Math\":74,\n",
    "    \"English\":68,\n",
    "    \"Nepali\":66,\n",
    "    \"Chemistry\":71,\n",
    "    \"Physics\":72\n",
    "    },\n",
    "    \"Uma\":{\n",
    "        \"Math\":67,\n",
    "        \"English\":67,\n",
    "        \"Nepali\":69,\n",
    "        \"Chemistry\":59,\n",
    "        \"Physics\":54\n",
    "    },\n",
    "    \"Matty\":{\n",
    "        \"Math\":81,\n",
    "        \"English\":83,\n",
    "        \"Nepali\":92,\n",
    "        \"Chemistry\":95,\n",
    "        \"Physics\":88\n",
    "    },\n",
    "    \"Jane\":{\n",
    "        \"Math\":61,\n",
    "        \"English\":67,\n",
    "        \"Nepali\":56,\n",
    "        \"Chemistry\":88,\n",
    "        \"Physics\":70\n",
    "    },\n",
    "    \"Michael\":{\n",
    "        \"Math\":99,\n",
    "        \"English\":67,\n",
    "        \"Nepali\":78,\n",
    "        \"Chemistry\":82,\n",
    "        \"Physics\":89\n",
    "    }\n",
    "}"
   ]
  },
  {
   "cell_type": "code",
   "execution_count": 78,
   "id": "b36d4f72-ed4f-4f92-9f6f-f75d4e47b818",
   "metadata": {},
   "outputs": [],
   "source": [
    "wb = Workbook()\n",
    "ws = wb.active"
   ]
  },
  {
   "cell_type": "code",
   "execution_count": 79,
   "id": "d97c5e62-980f-48d8-a0ea-b2f002e9d12e",
   "metadata": {},
   "outputs": [],
   "source": [
    "header = ['Name']+list(data[\"Naresh\"].keys())\n",
    "ws.append(header)\n",
    "for person in data:\n",
    "    grades = list(data[person].values())\n",
    "    ws.append([person]+grades)"
   ]
  },
  {
   "cell_type": "code",
   "execution_count": 80,
   "id": "8b95c618-0f9a-4835-af96-2056cd9f13aa",
   "metadata": {},
   "outputs": [],
   "source": [
    "for col in range(2, len(data['Naresh'])+2):\n",
    "    char = get_column_letter(col)\n",
    "    ws[char+str(len(data)+2)] = f\"=AVERAGE({char+'2'}:{char+str(len(data)+1)})\""
   ]
  },
  {
   "cell_type": "code",
   "execution_count": 82,
   "id": "1888eb52-cf39-4b21-870c-a1a1deb84142",
   "metadata": {},
   "outputs": [],
   "source": [
    "for col in range(1, ws.max_column+1):\n",
    "    ws[get_column_letter(col)+'1'].font = Font(name='Times New Roman', sz=12, bold=True, color='003366FF')"
   ]
  },
  {
   "cell_type": "code",
   "execution_count": 83,
   "id": "9d69d003-58e6-4667-9f15-3bc85ee88dd1",
   "metadata": {},
   "outputs": [],
   "source": [
    "wb.save('grade_sheet.xlsx')"
   ]
  },
  {
   "cell_type": "code",
   "execution_count": null,
   "id": "7b80751f-5150-45a7-bce3-bfa17fffb3de",
   "metadata": {},
   "outputs": [],
   "source": []
  }
 ],
 "metadata": {
  "kernelspec": {
   "display_name": "Python 3 (ipykernel)",
   "language": "python",
   "name": "python3"
  },
  "language_info": {
   "codemirror_mode": {
    "name": "ipython",
    "version": 3
   },
   "file_extension": ".py",
   "mimetype": "text/x-python",
   "name": "python",
   "nbconvert_exporter": "python",
   "pygments_lexer": "ipython3",
   "version": "3.12.7"
  }
 },
 "nbformat": 4,
 "nbformat_minor": 5
}
