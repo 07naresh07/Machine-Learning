{
 "cells": [
  {
   "cell_type": "code",
   "execution_count": 215,
   "id": "70c3029a-39cd-4a14-b71f-9fc61b87c1ae",
   "metadata": {},
   "outputs": [],
   "source": [
    "#Importing necessary libraries\n",
    "import pandas as pd\n",
    "import numpy as np\n",
    "from openpyxl import Workbook, load_workbook\n",
    "from openpyxl.styles import Alignment, Font, Border, Side, PatternFill\n",
    "from colorsys import hsv_to_rgb\n",
    "from openpyxl.utils import get_column_letter"
   ]
  },
  {
   "cell_type": "code",
   "execution_count": 216,
   "id": "b3a59e5d-2a3d-49bb-ab4c-8d400845536b",
   "metadata": {},
   "outputs": [],
   "source": [
    "#Defining colors for filling\n",
    "def color_generator(n):\n",
    "    colors = []\n",
    "    for i in range(n):\n",
    "        hue = i/n\n",
    "        saturation = 0.5 + (i%2)*0.25\n",
    "        value = 0.8\n",
    "        rgb = hsv_to_rgb(hue, saturation, value)\n",
    "        hex_color = ''.join(f'{int(c*255):02X}' for c in rgb)\n",
    "        colors.append(hex_color)\n",
    "    return colors"
   ]
  },
  {
   "cell_type": "code",
   "execution_count": 217,
   "id": "e64b388b-8f4e-4b4e-a553-e0e6f1b00c7e",
   "metadata": {},
   "outputs": [],
   "source": [
    "#Defining importing files and exporting files\n",
    "input_file = 'MEP.xlsx'\n",
    "output_file = 'MEP_Out.xlsx'"
   ]
  },
  {
   "cell_type": "code",
   "execution_count": 218,
   "id": "5bac83a8-5935-4339-b2cc-8409ed055864",
   "metadata": {},
   "outputs": [
    {
     "data": {
      "text/html": [
       "<div>\n",
       "<style scoped>\n",
       "    .dataframe tbody tr th:only-of-type {\n",
       "        vertical-align: middle;\n",
       "    }\n",
       "\n",
       "    .dataframe tbody tr th {\n",
       "        vertical-align: top;\n",
       "    }\n",
       "\n",
       "    .dataframe thead th {\n",
       "        text-align: right;\n",
       "    }\n",
       "</style>\n",
       "<table border=\"1\" class=\"dataframe\">\n",
       "  <thead>\n",
       "    <tr style=\"text-align: right;\">\n",
       "      <th></th>\n",
       "      <th>UID</th>\n",
       "      <th>FromRevit_GM</th>\n",
       "      <th>Plumbing</th>\n",
       "      <th>Fire</th>\n",
       "      <th>Sprinkler</th>\n",
       "      <th>Mechanical</th>\n",
       "    </tr>\n",
       "  </thead>\n",
       "  <tbody>\n",
       "    <tr>\n",
       "      <th>0</th>\n",
       "      <td>ed1ff2d1-bd87-4816-91c0-455213062d80-02d63ce0</td>\n",
       "      <td>NaN</td>\n",
       "      <td>MP-CS</td>\n",
       "      <td>FF-AA-FH-B2-01</td>\n",
       "      <td>SP-AA-GQH</td>\n",
       "      <td>AA-OHU-B2-01</td>\n",
       "    </tr>\n",
       "    <tr>\n",
       "      <th>1</th>\n",
       "      <td>ed1ff2d1-bd87-4816-91c0-455213062d80-02d63cea</td>\n",
       "      <td>NaN</td>\n",
       "      <td>MP-CS-KP</td>\n",
       "      <td>FF-AA-FH-01-01</td>\n",
       "      <td>SP-AA-DQU</td>\n",
       "      <td>AA-OHU-B2-02</td>\n",
       "    </tr>\n",
       "    <tr>\n",
       "      <th>2</th>\n",
       "      <td>ed1ff2d1-bd87-4816-91c0-455213062d80-02d63cef</td>\n",
       "      <td>PP-ARM-VP-1</td>\n",
       "      <td>MP-CR</td>\n",
       "      <td>FF-AA-FH-02-01</td>\n",
       "      <td>SP-AA-HFQR</td>\n",
       "      <td>AA-AHU-B2-01</td>\n",
       "    </tr>\n",
       "    <tr>\n",
       "      <th>3</th>\n",
       "      <td>ed1ff2d1-bd87-4816-91c0-455213062d80-02d63cf6</td>\n",
       "      <td>PP-W-VL-1</td>\n",
       "      <td>MP-CR-KP</td>\n",
       "      <td>FF-AA-FH-03-01</td>\n",
       "      <td>NaN</td>\n",
       "      <td>AA-AHU-B2-02</td>\n",
       "    </tr>\n",
       "    <tr>\n",
       "      <th>4</th>\n",
       "      <td>ed1ff2d1-bd87-4816-91c0-455213062d80-02d63cfa</td>\n",
       "      <td>PP-W-VL-1</td>\n",
       "      <td>MP-HS</td>\n",
       "      <td>NaN</td>\n",
       "      <td>NaN</td>\n",
       "      <td>AA-FCU-B2-01</td>\n",
       "    </tr>\n",
       "  </tbody>\n",
       "</table>\n",
       "</div>"
      ],
      "text/plain": [
       "                                             UID FromRevit_GM  Plumbing  \\\n",
       "0  ed1ff2d1-bd87-4816-91c0-455213062d80-02d63ce0          NaN     MP-CS   \n",
       "1  ed1ff2d1-bd87-4816-91c0-455213062d80-02d63cea          NaN  MP-CS-KP   \n",
       "2  ed1ff2d1-bd87-4816-91c0-455213062d80-02d63cef  PP-ARM-VP-1     MP-CR   \n",
       "3  ed1ff2d1-bd87-4816-91c0-455213062d80-02d63cf6    PP-W-VL-1  MP-CR-KP   \n",
       "4  ed1ff2d1-bd87-4816-91c0-455213062d80-02d63cfa    PP-W-VL-1     MP-HS   \n",
       "\n",
       "             Fire   Sprinkler    Mechanical  \n",
       "0  FF-AA-FH-B2-01   SP-AA-GQH  AA-OHU-B2-01  \n",
       "1  FF-AA-FH-01-01   SP-AA-DQU  AA-OHU-B2-02  \n",
       "2  FF-AA-FH-02-01  SP-AA-HFQR  AA-AHU-B2-01  \n",
       "3  FF-AA-FH-03-01         NaN  AA-AHU-B2-02  \n",
       "4             NaN         NaN  AA-FCU-B2-01  "
      ]
     },
     "execution_count": 218,
     "metadata": {},
     "output_type": "execute_result"
    }
   ],
   "source": [
    "#Importing data as Pandas DataFrame\n",
    "df = pd.read_excel(input_file)\n",
    "df.head()"
   ]
  },
  {
   "cell_type": "code",
   "execution_count": 219,
   "id": "cacf3432-ac44-4758-b4af-2c344e8de3be",
   "metadata": {},
   "outputs": [],
   "source": [
    "#Finding unique elements from the specified columns by dropping duplicates\n",
    "unique_elements = df['FromRevit_GM'].dropna().unique().tolist()"
   ]
  },
  {
   "cell_type": "code",
   "execution_count": 220,
   "id": "9073482f-b8a5-4c2f-bd16-d58ecb0a3e51",
   "metadata": {},
   "outputs": [],
   "source": [
    "#Loading workbooka and worksheets\n",
    "workbook = load_workbook(input_file)\n",
    "work_sheet = workbook.active"
   ]
  },
  {
   "cell_type": "code",
   "execution_count": 221,
   "id": "f19b053c-8449-4269-9aed-6eb068c6d3d4",
   "metadata": {},
   "outputs": [],
   "source": [
    "#Generating colors \n",
    "colors = color_generator(len(unique_elements))\n",
    "fills = [PatternFill(start_color = color, end_color=color, fill_type='solid') for color in colors]"
   ]
  },
  {
   "cell_type": "code",
   "execution_count": 222,
   "id": "86d58526-cd5d-46c7-88d8-bdac63bc503e",
   "metadata": {},
   "outputs": [],
   "source": [
    "#Finding elements to fill with respective colors according to unique elements\n",
    "elements_to_fill = {unique_element: fills[idx%len(fills)] for idx, unique_element in enumerate(unique_elements)}"
   ]
  },
  {
   "cell_type": "code",
   "execution_count": 223,
   "id": "d048f659-afe1-42a5-b97e-1e95feeb5b7e",
   "metadata": {},
   "outputs": [],
   "source": [
    "#Creating set for storing matching elements as set only holds the unique elements\n",
    "matched_elements = set()"
   ]
  },
  {
   "cell_type": "code",
   "execution_count": 224,
   "id": "32b020bb-c3f2-4a4e-8257-c7dcc23e6b01",
   "metadata": {},
   "outputs": [],
   "source": [
    "#Using logic for pattern-filling elements other than unique elements\n",
    "for row in range(2, work_sheet.max_row+1):\n",
    "    for col in range(3, work_sheet.max_column+1):\n",
    "        cell = work_sheet.cell(row=row, column=col)\n",
    "        if cell.value in elements_to_fill:\n",
    "            matched_elements.add(cell.value)\n",
    "            cell.fill = elements_to_fill[cell.value]"
   ]
  },
  {
   "cell_type": "code",
   "execution_count": 225,
   "id": "32708a00-156d-48a6-b740-39785b807468",
   "metadata": {},
   "outputs": [],
   "source": [
    "#Using logic for pattern-filling column that contains unique elements\n",
    "for row in range(2, work_sheet.max_row+1):\n",
    "    cell = work_sheet.cell(row=row, column=2)\n",
    "    if cell.value in matched_elements:\n",
    "        cell.fill = elements_to_fill[cell.value]\n",
    "    else:\n",
    "        cell.fill = PatternFill(fill_type=None)"
   ]
  },
  {
   "cell_type": "code",
   "execution_count": 226,
   "id": "f02bf6cc-3a7a-44f3-8870-a4c0d0c00e0e",
   "metadata": {},
   "outputs": [],
   "source": [
    "#Listing unmatched elements\n",
    "unmatched_elements = [element for element in unique_elements if element not in matched_elements]"
   ]
  },
  {
   "cell_type": "code",
   "execution_count": 227,
   "id": "54f4c15e-c62a-40d4-9ce1-d179cba243b3",
   "metadata": {},
   "outputs": [],
   "source": [
    "#Creating a new column for appending unmatched elements\n",
    "if unmatched_elements is not None:\n",
    "    new_column = work_sheet.max_column+1\n",
    "    work_sheet.cell(row=1, column=new_column, value='Unmatched Elements')\n",
    "    for idx, values in enumerate(unmatched_elements, start=2):\n",
    "        work_sheet.cell(row=idx, column=new_column, value=values)"
   ]
  },
  {
   "cell_type": "code",
   "execution_count": 228,
   "id": "4e877c87-5091-47c4-b75e-92b6515dcd17",
   "metadata": {},
   "outputs": [],
   "source": [
    "'''\n",
    "#Creating a new sheet for appending unmatched elements\n",
    "if unmatched_elements is not None:\n",
    "    new_sheet = workbook.create_sheet(title='UnmatchedElements')\n",
    "    new_sheet = workbook['UnmatchedElements']\n",
    "    new_sheet.cell(row=1, column=1, value='Unmatched Elements')\n",
    "    for idx, values in enumerate(unmatched_elements, start=2):\n",
    "        new_sheet.cell(row=idx, column=1, value=values)\n",
    "        ''';"
   ]
  },
  {
   "cell_type": "code",
   "execution_count": 229,
   "id": "74f2eca3-d07d-428f-8005-a8190649775a",
   "metadata": {},
   "outputs": [],
   "source": [
    "#Creating a new column for appending unmatched elements from excel based data\n",
    "for col in range(3, work_sheet.max_column):\n",
    "    not_found_elements = set()\n",
    "    for row in range(2, work_sheet.max_row+1):\n",
    "        cell = work_sheet.cell(row=row, column=col)\n",
    "        if cell.value and cell.value not in matched_elements:\n",
    "            not_found_elements.add(cell.value)\n",
    "\n",
    "    new_column_idx = work_sheet.max_column+1\n",
    "    original_column_header = work_sheet.cell(row=1, column=col).value\n",
    "    work_sheet.cell(row=1, column=new_column_idx, value=original_column_header)\n",
    "    for idx, values in enumerate(not_found_elements, start=2):\n",
    "        work_sheet.cell(row=idx, column=new_column_idx, value=values)"
   ]
  },
  {
   "cell_type": "code",
   "execution_count": 230,
   "id": "90220ff3-7d8e-4f00-b74f-caa34432fafa",
   "metadata": {},
   "outputs": [],
   "source": [
    "#Adjusting the column width\n",
    "for col in work_sheet.columns:\n",
    "    max_length = 0\n",
    "    column_letter = get_column_letter(col[0].column)\n",
    "    for cell in col:\n",
    "        if cell.value is not None:\n",
    "            max_length = max(max_length, len(str(cell.value)))\n",
    "    work_sheet.column_dimensions[column_letter].width = max_length+2"
   ]
  },
  {
   "cell_type": "code",
   "execution_count": 231,
   "id": "63682b28-e8bc-4348-8c34-a47c69ca32b5",
   "metadata": {},
   "outputs": [],
   "source": [
    "#Saving the result in new file\n",
    "workbook.save(output_file)"
   ]
  },
  {
   "cell_type": "code",
   "execution_count": null,
   "id": "5e4ce42b-707b-4ea1-8d64-1d4fe0bc377f",
   "metadata": {},
   "outputs": [],
   "source": []
  }
 ],
 "metadata": {
  "kernelspec": {
   "display_name": "Python 3 (ipykernel)",
   "language": "python",
   "name": "python3"
  },
  "language_info": {
   "codemirror_mode": {
    "name": "ipython",
    "version": 3
   },
   "file_extension": ".py",
   "mimetype": "text/x-python",
   "name": "python",
   "nbconvert_exporter": "python",
   "pygments_lexer": "ipython3",
   "version": "3.12.7"
  }
 },
 "nbformat": 4,
 "nbformat_minor": 5
}
