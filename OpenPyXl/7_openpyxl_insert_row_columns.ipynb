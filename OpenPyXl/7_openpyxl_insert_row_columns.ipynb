{
 "cells": [
  {
   "cell_type": "code",
   "execution_count": 16,
   "id": "cf3427d1-6066-4157-a16c-16ed78b0a688",
   "metadata": {},
   "outputs": [],
   "source": [
    "from openpyxl import Workbook, load_workbook"
   ]
  },
  {
   "cell_type": "code",
   "execution_count": 17,
   "id": "988399f2-bd74-43c5-b4e2-8abb4624dd68",
   "metadata": {},
   "outputs": [],
   "source": [
    "wb = load_workbook('openpyxl1.xlsx')\n",
    "ws = wb.active"
   ]
  },
  {
   "cell_type": "code",
   "execution_count": 18,
   "id": "9f74790e-c47e-49af-ae20-302e38e592dd",
   "metadata": {},
   "outputs": [
    {
     "data": {
      "text/plain": [
       "['Sheet1']"
      ]
     },
     "execution_count": 18,
     "metadata": {},
     "output_type": "execute_result"
    }
   ],
   "source": [
    "wb.sheetnames"
   ]
  },
  {
   "cell_type": "code",
   "execution_count": 21,
   "id": "5a53349e-db6e-4fa4-be6f-059b3cff2a42",
   "metadata": {},
   "outputs": [],
   "source": [
    "ws.insert_rows(2)\n",
    "ws.insert_cols(2)\n",
    "ws.delete_cols(2)\n",
    "ws.delete_rows(2)"
   ]
  },
  {
   "cell_type": "code",
   "execution_count": 35,
   "id": "d37bb155-11ce-463c-ac77-3ab42fb3fe59",
   "metadata": {},
   "outputs": [],
   "source": [
    "ws.move_range('E1:E11', rows=1, cols=9)"
   ]
  },
  {
   "cell_type": "code",
   "execution_count": 36,
   "id": "1f8faaf4-5b6d-40e2-b75c-44bb0be2b597",
   "metadata": {},
   "outputs": [],
   "source": [
    "wb.save('openpyxl1.xlsx')"
   ]
  },
  {
   "cell_type": "code",
   "execution_count": null,
   "id": "60c6206b-9fee-4b83-a148-54746fef6fce",
   "metadata": {},
   "outputs": [],
   "source": []
  }
 ],
 "metadata": {
  "kernelspec": {
   "display_name": "Python 3 (ipykernel)",
   "language": "python",
   "name": "python3"
  },
  "language_info": {
   "codemirror_mode": {
    "name": "ipython",
    "version": 3
   },
   "file_extension": ".py",
   "mimetype": "text/x-python",
   "name": "python",
   "nbconvert_exporter": "python",
   "pygments_lexer": "ipython3",
   "version": "3.12.7"
  }
 },
 "nbformat": 4,
 "nbformat_minor": 5
}
