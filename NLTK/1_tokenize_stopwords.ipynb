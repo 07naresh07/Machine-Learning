{
 "cells": [
  {
   "cell_type": "code",
   "execution_count": 85,
   "id": "36b13f86-4758-44aa-a630-0dee0bba3515",
   "metadata": {},
   "outputs": [],
   "source": [
    "import nltk\n",
    "from nltk.tokenize import word_tokenize, sent_tokenize\n",
    "from nltk.corpus import stopwords"
   ]
  },
  {
   "cell_type": "code",
   "execution_count": 93,
   "id": "1453bfce-54ad-4708-8944-05209d0200ef",
   "metadata": {},
   "outputs": [
    {
     "name": "stderr",
     "output_type": "stream",
     "text": [
      "[nltk_data] Downloading package punkt to\n",
      "[nltk_data]     /Users/nareshdhami/nltk_data...\n",
      "[nltk_data]   Package punkt is already up-to-date!\n",
      "[nltk_data] Downloading package stopwords to\n",
      "[nltk_data]     /Users/nareshdhami/nltk_data...\n",
      "[nltk_data]   Package stopwords is already up-to-date!\n"
     ]
    },
    {
     "data": {
      "text/plain": [
       "True"
      ]
     },
     "execution_count": 93,
     "metadata": {},
     "output_type": "execute_result"
    }
   ],
   "source": [
    "nltk.download('punkt')\n",
    "nltk.download('stopwords')"
   ]
  },
  {
   "cell_type": "code",
   "execution_count": 94,
   "id": "af4a357b-1ef3-4432-8fa2-a5215c29da94",
   "metadata": {},
   "outputs": [],
   "source": [
    "text = \"The early morning mist clung to the mountains like a soft, translucent veil, creating an ethereal atmosphere. Maria's curiosity often led her to discover hidden trails through the forest, and today was no exception. As she wandered, the old clock in the hallway of her cottage chimed twelve times, its echo faintly audible even in the quiet woods. Nearby, the shimmering surface of the lake reflected the dappled sunlight, while tiny fish darted beneath, adding life to the serene landscape.\""
   ]
  },
  {
   "cell_type": "code",
   "execution_count": 95,
   "id": "d7435534-61b5-4664-b9dd-86a5c25dcaab",
   "metadata": {},
   "outputs": [],
   "source": [
    "word_tok = word_tokenize(text)"
   ]
  },
  {
   "cell_type": "code",
   "execution_count": 96,
   "id": "b96995bc-14e4-44fb-9836-fd271b5284b4",
   "metadata": {},
   "outputs": [],
   "source": [
    "sent_tok = sent_tokenize(text)"
   ]
  },
  {
   "cell_type": "code",
   "execution_count": 97,
   "id": "bf4cd760-6048-40de-82b5-d1f6e793fdd0",
   "metadata": {},
   "outputs": [],
   "source": [
    "stop_words = set(stopwords.words('english'))"
   ]
  },
  {
   "cell_type": "code",
   "execution_count": 98,
   "id": "0b725dd1-bbc4-46ab-bf19-12f6c994bb64",
   "metadata": {},
   "outputs": [],
   "source": [
    "filtered_words = [word for word in word_tok if word.lower() not in stop_words]"
   ]
  },
  {
   "cell_type": "code",
   "execution_count": 103,
   "id": "89a8c2ca-bfa6-4f1c-a010-aa8a6dcfd682",
   "metadata": {},
   "outputs": [
    {
     "data": {
      "text/plain": [
       "{'As',\n",
       " 'The',\n",
       " 'a',\n",
       " 'an',\n",
       " 'and',\n",
       " 'her',\n",
       " 'in',\n",
       " 'its',\n",
       " 'no',\n",
       " 'of',\n",
       " 'she',\n",
       " 'the',\n",
       " 'through',\n",
       " 'to',\n",
       " 'was',\n",
       " 'while'}"
      ]
     },
     "execution_count": 103,
     "metadata": {},
     "output_type": "execute_result"
    }
   ],
   "source": [
    "set([word for word in word_tok if word.lower() in stop_words])"
   ]
  }
 ],
 "metadata": {
  "kernelspec": {
   "display_name": "Python 3 (ipykernel)",
   "language": "python",
   "name": "python3"
  },
  "language_info": {
   "codemirror_mode": {
    "name": "ipython",
    "version": 3
   },
   "file_extension": ".py",
   "mimetype": "text/x-python",
   "name": "python",
   "nbconvert_exporter": "python",
   "pygments_lexer": "ipython3",
   "version": "3.12.7"
  }
 },
 "nbformat": 4,
 "nbformat_minor": 5
}
