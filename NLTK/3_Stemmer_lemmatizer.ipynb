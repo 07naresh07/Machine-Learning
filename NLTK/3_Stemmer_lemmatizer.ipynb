{
 "cells": [
  {
   "cell_type": "code",
   "execution_count": 22,
   "id": "6ca36b38-7bec-4654-befb-1babdc5df4df",
   "metadata": {},
   "outputs": [],
   "source": [
    "import nltk\n",
    "from nltk.corpus import stopwords\n",
    "from nltk.tokenize import word_tokenize, sent_tokenize\n",
    "from nltk.stem import PorterStemmer, LancasterStemmer, WordNetLemmatizer\n",
    "import string"
   ]
  },
  {
   "cell_type": "code",
   "execution_count": 14,
   "id": "772222b9-8101-46d0-90de-8c8ca4d86596",
   "metadata": {},
   "outputs": [],
   "source": [
    "text = \"Your code has a small issue: the function gen_otp is appending the generated OTP (otps) to the otp list but does not return it directly to the caller. Instead, the function returns the result of otp.append(otps), which is always None.\""
   ]
  },
  {
   "cell_type": "code",
   "execution_count": 16,
   "id": "acf5259c-56dd-49f1-9e93-6928c38fb921",
   "metadata": {},
   "outputs": [],
   "source": [
    "word_tok = word_tokenize(text)"
   ]
  },
  {
   "cell_type": "code",
   "execution_count": 18,
   "id": "3cbaa2a2-7465-45f0-a723-4e53a89f78ac",
   "metadata": {},
   "outputs": [],
   "source": [
    "sent_tok = sent_tokenize(text)"
   ]
  },
  {
   "cell_type": "code",
   "execution_count": 20,
   "id": "0fa6f60b-54f1-4c12-9533-b26aec8ab095",
   "metadata": {},
   "outputs": [],
   "source": [
    "stop_words = set(stopwords.words('english'))"
   ]
  },
  {
   "cell_type": "code",
   "execution_count": 23,
   "id": "a8cb6222-5421-4633-9370-ff1eb11f0087",
   "metadata": {},
   "outputs": [],
   "source": [
    "puncs = string.punctuation"
   ]
  },
  {
   "cell_type": "code",
   "execution_count": 24,
   "id": "26940658-7f4c-4e10-a976-3b8979750190",
   "metadata": {},
   "outputs": [],
   "source": [
    "filt_words = [word for word in word_tok if word.lower() not in stop_words]"
   ]
  },
  {
   "cell_type": "code",
   "execution_count": 30,
   "id": "df4ff91c-dc88-4343-be14-c9cacae19699",
   "metadata": {},
   "outputs": [
    {
     "data": {
      "text/plain": [
       "'code small issue function gen_otp appending generated OTP otps otp list return directly caller Instead function returns result otp.append otps always None'"
      ]
     },
     "execution_count": 30,
     "metadata": {},
     "output_type": "execute_result"
    }
   ],
   "source": [
    "final = [word for word in filt_words if word not in puncs]\n",
    "final_words = ' '.join(final)\n",
    "final_words"
   ]
  },
  {
   "cell_type": "code",
   "execution_count": 31,
   "id": "b3e920bc-ac09-4eed-a856-e12844b7faa8",
   "metadata": {},
   "outputs": [],
   "source": [
    "final_tokens = word_tokenize(final_words)"
   ]
  },
  {
   "cell_type": "markdown",
   "id": "e39c40dd-93f8-42fb-abf4-6c5d4e23d6dd",
   "metadata": {},
   "source": [
    "**Lemmatizer**"
   ]
  },
  {
   "cell_type": "code",
   "execution_count": 38,
   "id": "08c741c6-c7ad-4545-8d67-bce3fa814840",
   "metadata": {},
   "outputs": [
    {
     "name": "stdout",
     "output_type": "stream",
     "text": [
      "Lemmatized form of words:\n",
      "code: code\n",
      "small: small\n",
      "issue: issue\n",
      "function: function\n",
      "gen_otp: gen_otp\n",
      "appending: appending\n",
      "generated: generated\n",
      "OTP: OTP\n",
      "otps: otps\n",
      "otp: otp\n",
      "list: list\n",
      "return: return\n",
      "directly: directly\n",
      "caller: caller\n",
      "Instead: Instead\n",
      "function: function\n",
      "returns: return\n",
      "result: result\n",
      "otp.append: otp.append\n",
      "otps: otps\n",
      "always: always\n",
      "None: None\n"
     ]
    }
   ],
   "source": [
    "lemmatizer = WordNetLemmatizer()\n",
    "print('Lemmatized form of words:')\n",
    "for word in final_tokens:\n",
    "    print(f'{word}: {lemmatizer.lemmatize(word)}')"
   ]
  },
  {
   "cell_type": "markdown",
   "id": "91df4c98-5419-4529-a5b2-548c406965d2",
   "metadata": {},
   "source": [
    "**PortemStemmer**"
   ]
  },
  {
   "cell_type": "code",
   "execution_count": 39,
   "id": "a991eb05-e7bc-4038-a506-2dba883f850d",
   "metadata": {},
   "outputs": [
    {
     "name": "stdout",
     "output_type": "stream",
     "text": [
      "Stem words using PorterStemmer:\n",
      "code: code\n",
      "small: small\n",
      "issue: issu\n",
      "function: function\n",
      "gen_otp: gen_otp\n",
      "appending: append\n",
      "generated: gener\n",
      "OTP: otp\n",
      "otps: otp\n",
      "otp: otp\n",
      "list: list\n",
      "return: return\n",
      "directly: directli\n",
      "caller: caller\n",
      "Instead: instead\n",
      "function: function\n",
      "returns: return\n",
      "result: result\n",
      "otp.append: otp.append\n",
      "otps: otp\n",
      "always: alway\n",
      "None: none\n"
     ]
    }
   ],
   "source": [
    "porter = PorterStemmer()\n",
    "print('Stem words using PorterStemmer:')\n",
    "for word in final_tokens:\n",
    "    print(f'{word}: {porter.stem(word)}')"
   ]
  },
  {
   "cell_type": "markdown",
   "id": "ae49c22f-38dd-4172-aaa5-ba11902bc01b",
   "metadata": {},
   "source": [
    "**LancasterStemmer**"
   ]
  },
  {
   "cell_type": "code",
   "execution_count": 41,
   "id": "9eedbd69-7167-45a0-af4e-6238f73e5b64",
   "metadata": {},
   "outputs": [
    {
     "name": "stdout",
     "output_type": "stream",
     "text": [
      "Stem words using LancasterStemmer:\n",
      "code: cod\n",
      "small: smal\n",
      "issue: issu\n",
      "function: funct\n",
      "gen_otp: gen_otp\n",
      "appending: append\n",
      "generated: gen\n",
      "OTP: otp\n",
      "otps: otp\n",
      "otp: otp\n",
      "list: list\n",
      "return: return\n",
      "directly: direct\n",
      "caller: cal\n",
      "Instead: instead\n",
      "function: funct\n",
      "returns: return\n",
      "result: result\n",
      "otp.append: otp.append\n",
      "otps: otp\n",
      "always: alway\n",
      "None: non\n"
     ]
    }
   ],
   "source": [
    "lanc = LancasterStemmer()\n",
    "print('Stem words using LancasterStemmer:')\n",
    "for word in final_tokens:\n",
    "    print(f'{word}: {lanc.stem(word)}')"
   ]
  },
  {
   "cell_type": "code",
   "execution_count": null,
   "id": "02aaf24e-62f2-434a-8b89-a29a4e0e2275",
   "metadata": {},
   "outputs": [],
   "source": []
  }
 ],
 "metadata": {
  "kernelspec": {
   "display_name": "Python 3 (ipykernel)",
   "language": "python",
   "name": "python3"
  },
  "language_info": {
   "codemirror_mode": {
    "name": "ipython",
    "version": 3
   },
   "file_extension": ".py",
   "mimetype": "text/x-python",
   "name": "python",
   "nbconvert_exporter": "python",
   "pygments_lexer": "ipython3",
   "version": "3.12.7"
  }
 },
 "nbformat": 4,
 "nbformat_minor": 5
}
