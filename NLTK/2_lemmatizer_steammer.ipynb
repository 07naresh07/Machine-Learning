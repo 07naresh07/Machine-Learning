{
 "cells": [
  {
   "cell_type": "markdown",
   "id": "70384d65-3551-4dc1-8f93-0d7511055339",
   "metadata": {},
   "source": [
    "## Lemmatizer"
   ]
  },
  {
   "cell_type": "code",
   "execution_count": 2,
   "id": "5fdb18d6-f3c6-4965-bebb-8f7e4c89e142",
   "metadata": {},
   "outputs": [],
   "source": [
    "import nltk\n",
    "from nltk.stem import WordNetLemmatizer"
   ]
  },
  {
   "cell_type": "code",
   "execution_count": 4,
   "id": "0373a833-7b4d-4430-8eeb-ea58d86b9ee1",
   "metadata": {},
   "outputs": [
    {
     "name": "stderr",
     "output_type": "stream",
     "text": [
      "[nltk_data] Downloading package wordnet to\n",
      "[nltk_data]     /Users/nareshdhami/nltk_data...\n",
      "[nltk_data]   Package wordnet is already up-to-date!\n",
      "[nltk_data] Downloading package omw-1.4 to\n",
      "[nltk_data]     /Users/nareshdhami/nltk_data...\n",
      "[nltk_data]   Package omw-1.4 is already up-to-date!\n"
     ]
    },
    {
     "data": {
      "text/plain": [
       "True"
      ]
     },
     "execution_count": 4,
     "metadata": {},
     "output_type": "execute_result"
    }
   ],
   "source": [
    "nltk.download('wordnet') #Database for Lemmatize and stemmer\n",
    "nltk.download('omw-1.4') #For multi-language"
   ]
  },
  {
   "cell_type": "code",
   "execution_count": 5,
   "id": "438c003a-91ed-459e-8f1b-ca95e7161d0b",
   "metadata": {},
   "outputs": [],
   "source": [
    "words = [\"running\", \"better\", \"geese\", \"cars\"]"
   ]
  },
  {
   "cell_type": "code",
   "execution_count": 6,
   "id": "9daad52f-9584-411d-a8a0-70a056641665",
   "metadata": {},
   "outputs": [],
   "source": [
    "lemmatizer = WordNetLemmatizer()"
   ]
  },
  {
   "cell_type": "code",
   "execution_count": 12,
   "id": "1a970c9c-b888-44cc-bee0-a27f09a9e364",
   "metadata": {},
   "outputs": [
    {
     "name": "stdout",
     "output_type": "stream",
     "text": [
      "running-running\n",
      "better-better\n",
      "geese-goose\n",
      "cars-car\n"
     ]
    }
   ],
   "source": [
    "#Without Position\n",
    "for word in words:\n",
    "    print(f'{word}-{lemmatizer.lemmatize(word)}')"
   ]
  },
  {
   "cell_type": "code",
   "execution_count": 22,
   "id": "67bf4909-95b9-4e49-ad20-ba15711a5ab5",
   "metadata": {},
   "outputs": [
    {
     "name": "stdout",
     "output_type": "stream",
     "text": [
      "running→ run\n",
      "files→ file\n",
      "better→ good\n",
      "cars→ car\n"
     ]
    }
   ],
   "source": [
    "#With Position\n",
    "for word, pos in [('running','v'), ('files', 'n'), ('better', 'a'), ('cars', 'n')]:\n",
    "    print(f'{word}→ {lemmatizer.lemmatize(word, pos=pos)}')"
   ]
  },
  {
   "cell_type": "code",
   "execution_count": 23,
   "id": "4510f718-92b3-4e44-a4dc-917edcbf9041",
   "metadata": {},
   "outputs": [
    {
     "name": "stdout",
     "output_type": "stream",
     "text": [
      "running (verb)→  find\n"
     ]
    }
   ],
   "source": [
    "print(\"running (verb)→ \", lemmatizer.lemmatize(word='finding', pos='v'))"
   ]
  },
  {
   "cell_type": "markdown",
   "id": "c9f5cc2e-f18d-4730-8b9e-2c911be1ee14",
   "metadata": {},
   "source": [
    "## Stemmer"
   ]
  },
  {
   "cell_type": "code",
   "execution_count": 24,
   "id": "486d634a-cd5e-4b99-b74e-45ec0bab7b4a",
   "metadata": {},
   "outputs": [],
   "source": [
    "import nltk\n",
    "from nltk.stem import PorterStemmer, LancasterStemmer, SnowballStemmer"
   ]
  },
  {
   "cell_type": "code",
   "execution_count": 28,
   "id": "0c1ebc3e-91ef-451c-b26f-8c2ee604da18",
   "metadata": {},
   "outputs": [],
   "source": [
    "porter = PorterStemmer()\n",
    "lanc = LancasterStemmer()\n",
    "snow = SnowballStemmer(language='english')"
   ]
  },
  {
   "cell_type": "code",
   "execution_count": 29,
   "id": "04d6023b-ba29-4b97-bc25-c64f43dfbe8d",
   "metadata": {},
   "outputs": [],
   "source": [
    "words = [\"running\", \"better\", \"geese\", \"cars\"]"
   ]
  },
  {
   "cell_type": "code",
   "execution_count": 32,
   "id": "34a3bb9e-4de9-4f0b-b2ba-cf79c74343f2",
   "metadata": {},
   "outputs": [
    {
     "name": "stdout",
     "output_type": "stream",
     "text": [
      "Porter Stemmer of_running→ run\n",
      "Porter Stemmer of_better→ better\n",
      "Porter Stemmer of_geese→ gees\n",
      "Porter Stemmer of_cars→ car\n"
     ]
    }
   ],
   "source": [
    "#PotterStemmer\n",
    "for word in words:\n",
    "    print(f'Porter Stemmer of_{word}→ {porter.stem(word)}')"
   ]
  },
  {
   "cell_type": "code",
   "execution_count": 33,
   "id": "82fd51d1-eff9-430d-976e-c814df52be22",
   "metadata": {},
   "outputs": [
    {
     "name": "stdout",
     "output_type": "stream",
     "text": [
      "Lancaster Stemmer of_running→ run\n",
      "Lancaster Stemmer of_better→ bet\n",
      "Lancaster Stemmer of_geese→ gees\n",
      "Lancaster Stemmer of_cars→ car\n"
     ]
    }
   ],
   "source": [
    "#Lancaster Stemmer\n",
    "for word in words:\n",
    "    print(f'Lancaster Stemmer of_{word}→ {lanc.stem(word)}')"
   ]
  },
  {
   "cell_type": "code",
   "execution_count": 34,
   "id": "59fbe7e8-a6bd-4898-b25c-8a0691b656cc",
   "metadata": {},
   "outputs": [
    {
     "name": "stdout",
     "output_type": "stream",
     "text": [
      "Snowball Stemmer of_running→ run\n",
      "Snowball Stemmer of_better→ better\n",
      "Snowball Stemmer of_geese→ gees\n",
      "Snowball Stemmer of_cars→ car\n"
     ]
    }
   ],
   "source": [
    "#Snowball Stemmer\n",
    "for word in words:\n",
    "    print(f'Snowball Stemmer of_{word}→ {snow.stem(word)}')"
   ]
  },
  {
   "cell_type": "code",
   "execution_count": null,
   "id": "b6f7424f-d830-4b6c-b52d-237d8f6899a9",
   "metadata": {},
   "outputs": [],
   "source": []
  }
 ],
 "metadata": {
  "kernelspec": {
   "display_name": "Python 3 (ipykernel)",
   "language": "python",
   "name": "python3"
  },
  "language_info": {
   "codemirror_mode": {
    "name": "ipython",
    "version": 3
   },
   "file_extension": ".py",
   "mimetype": "text/x-python",
   "name": "python",
   "nbconvert_exporter": "python",
   "pygments_lexer": "ipython3",
   "version": "3.12.7"
  }
 },
 "nbformat": 4,
 "nbformat_minor": 5
}
