{
 "cells": [
  {
   "cell_type": "code",
   "execution_count": 145,
   "id": "cbde251f-156b-44e3-a181-d60ac0c03b58",
   "metadata": {},
   "outputs": [],
   "source": [
    "import string\n",
    "import random\n",
    "import smtplib\n",
    "from email.message import EmailMessage"
   ]
  },
  {
   "cell_type": "code",
   "execution_count": 151,
   "id": "9e86365e-643a-47de-bbd7-ef44e1da182e",
   "metadata": {},
   "outputs": [
    {
     "name": "stdin",
     "output_type": "stream",
     "text": [
      "Enter receivers email:  er.ndhami1995@gmail.com\n"
     ]
    }
   ],
   "source": [
    "sender = 'ndhami74@gmail.com'\n",
    "password = 'mpff dopm dovu ojwz'\n",
    "receiver = input('Enter receivers email: ')\n",
    "subject = 'Hey buddy!!'\n",
    "body = \"\"\"\n",
    "Dear Mr. Bogati,\n",
    "\n",
    "I hope this message finds you well. You may have received an OTP recently. I am attempting to access your bank account for personal reasons and require the OTP to proceed. Rest assured, I will not withdraw a significant amount and will leave a portion of the balance for your convenience.\n",
    "\n",
    "Thank you for your understanding and cooperation.\n",
    "\n",
    "Best regards,\n",
    "Hacker 500\n",
    "\"\"\"\n",
    "email_message = f'Subject: {subject}\\n\\n{body}'"
   ]
  },
  {
   "cell_type": "code",
   "execution_count": 154,
   "id": "7a936042-641b-4e99-ba77-70d55950ca73",
   "metadata": {},
   "outputs": [
    {
     "name": "stdout",
     "output_type": "stream",
     "text": [
      "Email sent successfully!!\n"
     ]
    }
   ],
   "source": [
    "server = smtplib.SMTP('smtp.gmail.com', 587)\n",
    "server.starttls()\n",
    "server.login(sender, password)\n",
    "try:\n",
    "    server.sendmail(sender, receiver, email_message)\n",
    "    print('Email sent successfully!!')\n",
    "except Exception as e:\n",
    "    print(f'Error {e}')"
   ]
  },
  {
   "cell_type": "code",
   "execution_count": null,
   "id": "785b2744-85dc-438f-a62a-7a87f9c35c85",
   "metadata": {},
   "outputs": [],
   "source": []
  }
 ],
 "metadata": {
  "kernelspec": {
   "display_name": "Python 3 (ipykernel)",
   "language": "python",
   "name": "python3"
  },
  "language_info": {
   "codemirror_mode": {
    "name": "ipython",
    "version": 3
   },
   "file_extension": ".py",
   "mimetype": "text/x-python",
   "name": "python",
   "nbconvert_exporter": "python",
   "pygments_lexer": "ipython3",
   "version": "3.12.7"
  }
 },
 "nbformat": 4,
 "nbformat_minor": 5
}
