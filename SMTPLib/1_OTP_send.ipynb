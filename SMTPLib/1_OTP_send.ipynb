{
 "cells": [
  {
   "cell_type": "code",
   "execution_count": 140,
   "id": "cbde251f-156b-44e3-a181-d60ac0c03b58",
   "metadata": {},
   "outputs": [],
   "source": [
    "import string\n",
    "import smtplib\n",
    "import random\n",
    "from email.message import EmailMessage"
   ]
  },
  {
   "cell_type": "code",
   "execution_count": 141,
   "id": "ded64b4a-ac54-4724-a057-595c1eae340c",
   "metadata": {},
   "outputs": [],
   "source": [
    "otp = []\n",
    "def gen_otp(length):\n",
    "    char = string.ascii_letters+string.digits+string.punctuation\n",
    "    otps =  ''.join(random.choice(char) for _ in range(length))\n",
    "    otp.append(otps)\n",
    "gen_otp(6)"
   ]
  },
  {
   "cell_type": "code",
   "execution_count": 144,
   "id": "acf57107-f7dd-4391-9844-34bc3aa2dbda",
   "metadata": {},
   "outputs": [
    {
     "name": "stdout",
     "output_type": "stream",
     "text": [
      "Email sent successfully\n"
     ]
    }
   ],
   "source": [
    "sender_email = 'ndhami74@gmail.com'\n",
    "password = 'mpff dopm dovu ojwz'\n",
    "receiver_email = 'er.ndhami1995@gmail.com'\n",
    "msg = EmailMessage()\n",
    "msg['From']=sender_email\n",
    "msg['To']=receiver_email\n",
    "msg['subject'] = 'OTP Verification'\n",
    "content = f\"\"\"\n",
    "Dear XXX,\n",
    "Please find the {otp} as your required OTP.\n",
    "Thank you!\n",
    "Regards,\n",
    "XXXXXXX\n",
    "\"\"\"\n",
    "msg.set_content(content)\n",
    "try:\n",
    "    with smtplib.SMTP('smtp.gmail.com', 587) as server:\n",
    "        server.starttls()\n",
    "        server.login(sender_email, password)\n",
    "        server.send_message(msg)\n",
    "        print('Email sent successfully')\n",
    "except Exception as e:\n",
    "    print(f'Error {e}')"
   ]
  },
  {
   "cell_type": "code",
   "execution_count": null,
   "id": "42873176-6f1f-4728-a9e5-61a1887203e9",
   "metadata": {},
   "outputs": [],
   "source": []
  }
 ],
 "metadata": {
  "kernelspec": {
   "display_name": "Python 3 (ipykernel)",
   "language": "python",
   "name": "python3"
  },
  "language_info": {
   "codemirror_mode": {
    "name": "ipython",
    "version": 3
   },
   "file_extension": ".py",
   "mimetype": "text/x-python",
   "name": "python",
   "nbconvert_exporter": "python",
   "pygments_lexer": "ipython3",
   "version": "3.12.7"
  }
 },
 "nbformat": 4,
 "nbformat_minor": 5
}
