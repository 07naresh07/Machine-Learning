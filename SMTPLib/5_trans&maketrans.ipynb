{
 "cells": [
  {
   "cell_type": "code",
   "execution_count": 1,
   "id": "f54eff60-c8bd-4b9d-b2d5-cc7ad94dd5fb",
   "metadata": {},
   "outputs": [],
   "source": [
    "import string"
   ]
  },
  {
   "cell_type": "code",
   "execution_count": 10,
   "id": "93603c46-b70b-43fa-8a06-80c9df8e763d",
   "metadata": {},
   "outputs": [],
   "source": [
    "text = \"Café Déjà vù! Are you going at 4:30 pm?\"\n",
    "to_be_replaced = \"éàèù\"\n",
    "replacing_value = \"eaeu\"\n",
    "punctuations_to_space = string.punctuation"
   ]
  },
  {
   "cell_type": "code",
   "execution_count": 15,
   "id": "9a70a7fa-f117-49dc-a3aa-21620d3a9c05",
   "metadata": {},
   "outputs": [],
   "source": [
    "translated_text = str.maketrans(to_be_replaced, \n",
    "                                replacing_value, \n",
    "                                string.digits)"
   ]
  },
  {
   "cell_type": "code",
   "execution_count": 16,
   "id": "41d82788-a24a-413b-8749-35100d693612",
   "metadata": {},
   "outputs": [
    {
     "data": {
      "text/plain": [
       "{233: 101,\n",
       " 224: 97,\n",
       " 232: 101,\n",
       " 249: 117,\n",
       " 48: None,\n",
       " 49: None,\n",
       " 50: None,\n",
       " 51: None,\n",
       " 52: None,\n",
       " 53: None,\n",
       " 54: None,\n",
       " 55: None,\n",
       " 56: None,\n",
       " 57: None}"
      ]
     },
     "execution_count": 16,
     "metadata": {},
     "output_type": "execute_result"
    }
   ],
   "source": [
    "translated_text"
   ]
  },
  {
   "cell_type": "code",
   "execution_count": 17,
   "id": "b58de543-5e76-4ac7-8a09-8a944a8deff1",
   "metadata": {},
   "outputs": [],
   "source": [
    "for punc in punctuations_to_space:\n",
    "    translated_text[ord(punc)]=ord(\" \")"
   ]
  },
  {
   "cell_type": "code",
   "execution_count": 18,
   "id": "b69dda65-ca0f-4372-a444-dea07da7805f",
   "metadata": {},
   "outputs": [
    {
     "data": {
      "text/plain": [
       "'Cafe Deja vu  Are you going at   pm '"
      ]
     },
     "execution_count": 18,
     "metadata": {},
     "output_type": "execute_result"
    }
   ],
   "source": [
    "normalized_text = text.translate(translated_text)\n",
    "normalized_text"
   ]
  },
  {
   "cell_type": "code",
   "execution_count": 27,
   "id": "bad50600-cdf0-44ba-a3e7-12595d40b12e",
   "metadata": {},
   "outputs": [],
   "source": [
    "clear_text = ' '.join(normalized_text.split())"
   ]
  },
  {
   "cell_type": "code",
   "execution_count": 28,
   "id": "04ac8cb4-fdee-4cdc-8c83-0ad509c018cd",
   "metadata": {},
   "outputs": [
    {
     "data": {
      "text/plain": [
       "'Cafe Deja vu Are you going at pm'"
      ]
     },
     "execution_count": 28,
     "metadata": {},
     "output_type": "execute_result"
    }
   ],
   "source": [
    "clear_text"
   ]
  },
  {
   "cell_type": "code",
   "execution_count": 29,
   "id": "ce4c0adc-1b12-4338-b2cb-4bfb24219ca5",
   "metadata": {},
   "outputs": [
    {
     "name": "stdout",
     "output_type": "stream",
     "text": [
      "Original text: Café Déjà vù! Are you going at 4:30 pm?\n",
      "Normalized text: Cafe Deja vu  Are you going at   pm \n",
      "Cleaned text: Cafe Deja vu Are you going at pm\n"
     ]
    }
   ],
   "source": [
    "print(\"Original text:\", text)\n",
    "print(\"Normalized text:\", normalized_text)\n",
    "print(\"Cleaned text:\", clear_text)"
   ]
  },
  {
   "cell_type": "code",
   "execution_count": null,
   "id": "0f3472da-19d1-40c3-982b-c64328533154",
   "metadata": {},
   "outputs": [],
   "source": []
  }
 ],
 "metadata": {
  "kernelspec": {
   "display_name": "Python 3 (ipykernel)",
   "language": "python",
   "name": "python3"
  },
  "language_info": {
   "codemirror_mode": {
    "name": "ipython",
    "version": 3
   },
   "file_extension": ".py",
   "mimetype": "text/x-python",
   "name": "python",
   "nbconvert_exporter": "python",
   "pygments_lexer": "ipython3",
   "version": "3.12.7"
  }
 },
 "nbformat": 4,
 "nbformat_minor": 5
}
