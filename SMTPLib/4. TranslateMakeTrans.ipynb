{
 "cells": [
  {
   "cell_type": "code",
   "execution_count": 5,
   "id": "958e4ebf-8da6-452c-80f2-71ade21daef5",
   "metadata": {},
   "outputs": [],
   "source": [
    "import string"
   ]
  },
  {
   "cell_type": "code",
   "execution_count": 6,
   "id": "0c53f3e4-eda7-49bc-921d-2a71a70e98fe",
   "metadata": {},
   "outputs": [
    {
     "data": {
      "text/plain": [
       "'HELLO wOrLd'"
      ]
     },
     "execution_count": 6,
     "metadata": {},
     "output_type": "execute_result"
    }
   ],
   "source": [
    "text = 'hello world'\n",
    "m_trans = str.maketrans('hello', 'HELLO')\n",
    "text.translate(m_trans)"
   ]
  },
  {
   "cell_type": "code",
   "execution_count": 8,
   "id": "2c0cc612-806b-4c14-959a-d4edfb6ad828",
   "metadata": {},
   "outputs": [
    {
     "data": {
      "text/plain": [
       "'My nm s Nrsh Sngh Dhm'"
      ]
     },
     "execution_count": 8,
     "metadata": {},
     "output_type": "execute_result"
    }
   ],
   "source": [
    "data = 'My name is Naresh Singh Dhami'\n",
    "make_trans = str.maketrans('', '', 'aeiou')\n",
    "data.translate(make_trans)"
   ]
  },
  {
   "cell_type": "code",
   "execution_count": 10,
   "id": "e6348b11-cfd2-4c5b-8eee-42686236c87f",
   "metadata": {},
   "outputs": [
    {
     "data": {
      "text/plain": [
       "'h2ll4 w4rld'"
      ]
     },
     "execution_count": 10,
     "metadata": {},
     "output_type": "execute_result"
    }
   ],
   "source": [
    "word = 'hello world!!'\n",
    "make = str.maketrans('aeiou', '12345', '!')\n",
    "word.translate(make)"
   ]
  },
  {
   "cell_type": "code",
   "execution_count": null,
   "id": "7e7ac977-5c57-4218-a695-ffcfbde9c60a",
   "metadata": {},
   "outputs": [],
   "source": []
  }
 ],
 "metadata": {
  "kernelspec": {
   "display_name": "Python 3 (ipykernel)",
   "language": "python",
   "name": "python3"
  },
  "language_info": {
   "codemirror_mode": {
    "name": "ipython",
    "version": 3
   },
   "file_extension": ".py",
   "mimetype": "text/x-python",
   "name": "python",
   "nbconvert_exporter": "python",
   "pygments_lexer": "ipython3",
   "version": "3.12.7"
  }
 },
 "nbformat": 4,
 "nbformat_minor": 5
}
