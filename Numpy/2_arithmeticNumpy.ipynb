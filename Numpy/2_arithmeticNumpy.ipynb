{
 "cells": [
  {
   "cell_type": "code",
   "execution_count": 2,
   "id": "5c6102d9-62a5-40ea-b4dd-1809feb9843a",
   "metadata": {},
   "outputs": [],
   "source": [
    "import numpy as np\n",
    "a = np.array([1, 2, 3])\n",
    "b = np.array([4, 5, 6])"
   ]
  },
  {
   "cell_type": "code",
   "execution_count": 3,
   "id": "1d408bb1-4f4f-4534-9755-aa8bd3c24adc",
   "metadata": {},
   "outputs": [
    {
     "data": {
      "text/plain": [
       "array([5, 7, 9])"
      ]
     },
     "execution_count": 3,
     "metadata": {},
     "output_type": "execute_result"
    }
   ],
   "source": [
    "np.add(a, b)"
   ]
  },
  {
   "cell_type": "code",
   "execution_count": 15,
   "id": "419d6b93-674b-482f-832c-975e3a0cdb07",
   "metadata": {},
   "outputs": [],
   "source": [
    "c = np.subtract(a,b)"
   ]
  },
  {
   "cell_type": "code",
   "execution_count": 7,
   "id": "56b9d673-7726-422c-a8d4-5a89cb9b8066",
   "metadata": {},
   "outputs": [
    {
     "data": {
      "text/plain": [
       "array([ 4, 10, 18])"
      ]
     },
     "execution_count": 7,
     "metadata": {},
     "output_type": "execute_result"
    }
   ],
   "source": [
    "np.multiply(a, b)"
   ]
  },
  {
   "cell_type": "code",
   "execution_count": 8,
   "id": "b839a0c8-4345-417b-8f49-4bcc69e33a72",
   "metadata": {},
   "outputs": [
    {
     "data": {
      "text/plain": [
       "array([4. , 2.5, 2. ])"
      ]
     },
     "execution_count": 8,
     "metadata": {},
     "output_type": "execute_result"
    }
   ],
   "source": [
    "np.divide(b, a)"
   ]
  },
  {
   "cell_type": "code",
   "execution_count": 9,
   "id": "821ed631-857c-421b-9f99-d4c0a16be01e",
   "metadata": {},
   "outputs": [
    {
     "data": {
      "text/plain": [
       "array([ 1,  8, 27])"
      ]
     },
     "execution_count": 9,
     "metadata": {},
     "output_type": "execute_result"
    }
   ],
   "source": [
    "np.power(a, 3)"
   ]
  },
  {
   "cell_type": "code",
   "execution_count": 10,
   "id": "9f07df89-6822-4162-ad45-87ec633bbfc8",
   "metadata": {},
   "outputs": [
    {
     "data": {
      "text/plain": [
       "array([16, 25, 36])"
      ]
     },
     "execution_count": 10,
     "metadata": {},
     "output_type": "execute_result"
    }
   ],
   "source": [
    "np.square(b)"
   ]
  },
  {
   "cell_type": "code",
   "execution_count": 14,
   "id": "6368a66c-0a99-4976-ab00-443eb7bd9523",
   "metadata": {},
   "outputs": [
    {
     "data": {
      "text/plain": [
       "array([1, 2, 0])"
      ]
     },
     "execution_count": 14,
     "metadata": {},
     "output_type": "execute_result"
    }
   ],
   "source": [
    "np.mod(a, 3)"
   ]
  },
  {
   "cell_type": "code",
   "execution_count": 16,
   "id": "b55ec38a-96c6-49f1-bf28-f33ebb34e15d",
   "metadata": {},
   "outputs": [
    {
     "data": {
      "text/plain": [
       "array([3, 3, 3])"
      ]
     },
     "execution_count": 16,
     "metadata": {},
     "output_type": "execute_result"
    }
   ],
   "source": [
    "np.abs(c)"
   ]
  },
  {
   "cell_type": "code",
   "execution_count": 17,
   "id": "e29a5f11-f931-4e8d-a7eb-7dc54c6670b5",
   "metadata": {},
   "outputs": [
    {
     "data": {
      "text/plain": [
       "array([0.        , 0.69314718, 1.09861229])"
      ]
     },
     "execution_count": 17,
     "metadata": {},
     "output_type": "execute_result"
    }
   ],
   "source": [
    "np.log(a)"
   ]
  },
  {
   "cell_type": "code",
   "execution_count": 22,
   "id": "d49c9e3d-20b5-4475-8368-81116385f231",
   "metadata": {},
   "outputs": [
    {
     "data": {
      "text/plain": [
       "array([2.30258509, 4.60517019, 6.90775528])"
      ]
     },
     "execution_count": 22,
     "metadata": {},
     "output_type": "execute_result"
    }
   ],
   "source": [
    "d = np.array([10, 100, 1000])\n",
    "e=np.log(d)\n",
    "e"
   ]
  },
  {
   "cell_type": "code",
   "execution_count": 23,
   "id": "85342c0e-b55e-4355-af09-0aea2deb78c0",
   "metadata": {},
   "outputs": [
    {
     "data": {
      "text/plain": [
       "array([  10.,  100., 1000.])"
      ]
     },
     "execution_count": 23,
     "metadata": {},
     "output_type": "execute_result"
    }
   ],
   "source": [
    "np.exp(e)"
   ]
  },
  {
   "cell_type": "markdown",
   "id": "408b56de-2623-4980-949f-1cbe64cf2cf7",
   "metadata": {},
   "source": [
    "## random.seed"
   ]
  },
  {
   "cell_type": "code",
   "execution_count": 68,
   "id": "78cce8bb-05aa-46c8-844c-86d1680c9f65",
   "metadata": {},
   "outputs": [],
   "source": [
    "np.random.seed(1)\n",
    "a = np.random.normal(10, 5, 10)\n",
    "b = np.random.rand(2,3,3)\n",
    "c = np.random.random((3, 1))"
   ]
  },
  {
   "cell_type": "code",
   "execution_count": 69,
   "id": "562d39d0-ea2e-4d25-8b33-c34a8ac8aedc",
   "metadata": {},
   "outputs": [
    {
     "data": {
      "text/plain": [
       "array([[[0.02738759, 0.67046751, 0.4173048 ],\n",
       "        [0.55868983, 0.14038694, 0.19810149],\n",
       "        [0.80074457, 0.96826158, 0.31342418]],\n",
       "\n",
       "       [[0.69232262, 0.87638915, 0.89460666],\n",
       "        [0.08504421, 0.03905478, 0.16983042],\n",
       "        [0.8781425 , 0.09834683, 0.42110763]]])"
      ]
     },
     "execution_count": 69,
     "metadata": {},
     "output_type": "execute_result"
    }
   ],
   "source": [
    "b"
   ]
  },
  {
   "cell_type": "code",
   "execution_count": 70,
   "id": "047e2b8e-1cb0-4230-a4b0-287573cc5ac0",
   "metadata": {},
   "outputs": [
    {
     "data": {
      "text/plain": [
       "array([[0.95788953],\n",
       "       [0.53316528],\n",
       "       [0.69187711]])"
      ]
     },
     "execution_count": 70,
     "metadata": {},
     "output_type": "execute_result"
    }
   ],
   "source": [
    "c"
   ]
  },
  {
   "cell_type": "code",
   "execution_count": 71,
   "id": "faec99f2-8097-4468-be69-43eb675c14d0",
   "metadata": {},
   "outputs": [
    {
     "data": {
      "text/plain": [
       "array([18.12172682,  6.94121793,  7.35914124,  4.63515689, 14.32703815,\n",
       "       -1.50769348, 18.72405882,  6.1939655 , 11.59519548,  8.75314812])"
      ]
     },
     "execution_count": 71,
     "metadata": {},
     "output_type": "execute_result"
    }
   ],
   "source": [
    "a"
   ]
  },
  {
   "cell_type": "code",
   "execution_count": 72,
   "id": "5da9060e-ee52-4e03-960b-0088ed7418a6",
   "metadata": {},
   "outputs": [
    {
     "data": {
      "text/plain": [
       "array([[[0.98527712, 1.62835704, 1.37519433],\n",
       "        [1.09185511, 0.67355222, 0.73126677],\n",
       "        [1.49262168, 1.66013869, 1.00530129]],\n",
       "\n",
       "       [[1.65021215, 1.83427868, 1.85249619],\n",
       "        [0.6182095 , 0.57222007, 0.7029957 ],\n",
       "        [1.57001962, 0.79022395, 1.11298474]]])"
      ]
     },
     "execution_count": 72,
     "metadata": {},
     "output_type": "execute_result"
    }
   ],
   "source": [
    "b+c"
   ]
  },
  {
   "cell_type": "code",
   "execution_count": 73,
   "id": "7045c6be-9e88-4ca1-8b74-d70b7350add5",
   "metadata": {},
   "outputs": [],
   "source": [
    "arr = np.array([[1, 2], [3, 4]])"
   ]
  },
  {
   "cell_type": "code",
   "execution_count": 81,
   "id": "8774d847-2a81-4530-bf11-91c5a779f677",
   "metadata": {},
   "outputs": [
    {
     "data": {
      "text/plain": [
       "array([2., 3.])"
      ]
     },
     "execution_count": 81,
     "metadata": {},
     "output_type": "execute_result"
    }
   ],
   "source": [
    "np.mean(arr, axis=0)"
   ]
  },
  {
   "cell_type": "code",
   "execution_count": null,
   "id": "ecbf59c8-16dd-4063-8e96-60f02d37de6a",
   "metadata": {},
   "outputs": [],
   "source": []
  }
 ],
 "metadata": {
  "kernelspec": {
   "display_name": "Python 3 (ipykernel)",
   "language": "python",
   "name": "python3"
  },
  "language_info": {
   "codemirror_mode": {
    "name": "ipython",
    "version": 3
   },
   "file_extension": ".py",
   "mimetype": "text/x-python",
   "name": "python",
   "nbconvert_exporter": "python",
   "pygments_lexer": "ipython3",
   "version": "3.12.7"
  }
 },
 "nbformat": 4,
 "nbformat_minor": 5
}
