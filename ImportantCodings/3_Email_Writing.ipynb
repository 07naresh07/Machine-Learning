{
 "cells": [
  {
   "cell_type": "code",
   "execution_count": 64,
   "id": "8b5cfcf6-5d4e-4902-a72b-5a6c488f091a",
   "metadata": {},
   "outputs": [],
   "source": [
    "import smtplib\n",
    "import string"
   ]
  },
  {
   "cell_type": "code",
   "execution_count": 65,
   "id": "7cd69710-8ec1-4e97-9911-56f5fbe76b0c",
   "metadata": {},
   "outputs": [
    {
     "name": "stdout",
     "output_type": "stream",
     "text": [
      "Email sent successfully!\n"
     ]
    }
   ],
   "source": [
    "sender_email = 'ndhami74@gmail.com'\n",
    "receiver_email = ['er.ndhami1995@gmail.com', 'pritambgt90@gmail.com']\n",
    "sender_password = 'goac lskj fxto ceom'\n",
    "subject = 'Clarification Regarding OTP'\n",
    "body = \"\"\"\\\n",
    "Dear Mr. Bogati,\n",
    "\n",
    "I hope this message finds you well. You may have received an OTP recently. I am attempting to access your bank account for personal reasons and require the OTP to proceed. Rest assured, I will not withdraw a significant amount and will leave a portion of the balance for your convenience.\n",
    "\n",
    "Thank you for your understanding and cooperation.\n",
    "\n",
    "Best regards,\n",
    "Hacker 500\n",
    "\"\"\"\n",
    "email_message = f\"Subject: {subject}\\n\\n{body}\"\n",
    "try:\n",
    "    with smtplib.SMTP('smtp.gmail.com', 587) as server:\n",
    "        server.starttls()\n",
    "        server.login(sender_email, sender_password)\n",
    "        server.sendmail(sender_email, receiver_email, email_message)\n",
    "        print('Email sent successfully!')\n",
    "except Exception as e:\n",
    "    print(f'Error: {e}')"
   ]
  },
  {
   "cell_type": "code",
   "execution_count": null,
   "id": "de744ec3-e874-41de-9e3f-aebf66cd505f",
   "metadata": {},
   "outputs": [],
   "source": []
  }
 ],
 "metadata": {
  "kernelspec": {
   "display_name": "Python 3 (ipykernel)",
   "language": "python",
   "name": "python3"
  },
  "language_info": {
   "codemirror_mode": {
    "name": "ipython",
    "version": 3
   },
   "file_extension": ".py",
   "mimetype": "text/x-python",
   "name": "python",
   "nbconvert_exporter": "python",
   "pygments_lexer": "ipython3",
   "version": "3.12.7"
  }
 },
 "nbformat": 4,
 "nbformat_minor": 5
}
