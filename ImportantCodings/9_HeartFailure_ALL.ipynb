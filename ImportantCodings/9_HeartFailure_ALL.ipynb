{
 "cells": [
  {
   "cell_type": "code",
   "execution_count": 2,
   "id": "2e0bd098-990c-4ebf-9942-b89471f13585",
   "metadata": {},
   "outputs": [],
   "source": [
    "import numpy as np\n",
    "import pandas as pd\n",
    "import seaborn as sns\n",
    "import matplotlib.pyplot as plt\n",
    "from sklearn.model_selection import train_test_split, cross_val_score\n",
    "from sklearn.ensemble import RandomForestClassifier, GradientBoostingClassifier\n",
    "from sklearn.linear_model import LogisticRegression\n",
    "from sklearn.neighbors import KNeighborsClassifier\n",
    "from xgboost import XGBClassifier\n",
    "from lightgbm import LGBMClassifier\n",
    "from catboost import CatBoostClassifier\n",
    "from sklearn.decomposition import PCA\n",
    "from sklearn.svm import SVC\n",
    "from sklearn.datasets import load_digits\n",
    "from sklearn.preprocessing import OneHotEncoder, StandardScaler\n",
    "from sklearn.compose import ColumnTransformer\n",
    "from sklearn.impute import SimpleImputer\n",
    "from sklearn.metrics import confusion_matrix, roc_auc_score, roc_curve, recall_score, precision_score, f1_score, accuracy_score, classification_report"
   ]
  },
  {
   "cell_type": "code",
   "execution_count": 6,
   "id": "00dbd9c1-6017-4d27-b5cc-0feb4b8c0f2f",
   "metadata": {},
   "outputs": [
    {
     "data": {
      "text/html": [
       "<div>\n",
       "<style scoped>\n",
       "    .dataframe tbody tr th:only-of-type {\n",
       "        vertical-align: middle;\n",
       "    }\n",
       "\n",
       "    .dataframe tbody tr th {\n",
       "        vertical-align: top;\n",
       "    }\n",
       "\n",
       "    .dataframe thead th {\n",
       "        text-align: right;\n",
       "    }\n",
       "</style>\n",
       "<table border=\"1\" class=\"dataframe\">\n",
       "  <thead>\n",
       "    <tr style=\"text-align: right;\">\n",
       "      <th></th>\n",
       "      <th>Age</th>\n",
       "      <th>Sex</th>\n",
       "      <th>ChestPainType</th>\n",
       "      <th>RestingBP</th>\n",
       "      <th>Cholesterol</th>\n",
       "      <th>FastingBS</th>\n",
       "      <th>RestingECG</th>\n",
       "      <th>MaxHR</th>\n",
       "      <th>ExerciseAngina</th>\n",
       "      <th>Oldpeak</th>\n",
       "      <th>ST_Slope</th>\n",
       "      <th>HeartDisease</th>\n",
       "    </tr>\n",
       "  </thead>\n",
       "  <tbody>\n",
       "    <tr>\n",
       "      <th>0</th>\n",
       "      <td>40</td>\n",
       "      <td>M</td>\n",
       "      <td>ATA</td>\n",
       "      <td>140</td>\n",
       "      <td>289</td>\n",
       "      <td>0</td>\n",
       "      <td>Normal</td>\n",
       "      <td>172</td>\n",
       "      <td>N</td>\n",
       "      <td>0.0</td>\n",
       "      <td>Up</td>\n",
       "      <td>0</td>\n",
       "    </tr>\n",
       "    <tr>\n",
       "      <th>1</th>\n",
       "      <td>49</td>\n",
       "      <td>F</td>\n",
       "      <td>NAP</td>\n",
       "      <td>160</td>\n",
       "      <td>180</td>\n",
       "      <td>0</td>\n",
       "      <td>Normal</td>\n",
       "      <td>156</td>\n",
       "      <td>N</td>\n",
       "      <td>1.0</td>\n",
       "      <td>Flat</td>\n",
       "      <td>1</td>\n",
       "    </tr>\n",
       "    <tr>\n",
       "      <th>2</th>\n",
       "      <td>37</td>\n",
       "      <td>M</td>\n",
       "      <td>ATA</td>\n",
       "      <td>130</td>\n",
       "      <td>283</td>\n",
       "      <td>0</td>\n",
       "      <td>ST</td>\n",
       "      <td>98</td>\n",
       "      <td>N</td>\n",
       "      <td>0.0</td>\n",
       "      <td>Up</td>\n",
       "      <td>0</td>\n",
       "    </tr>\n",
       "    <tr>\n",
       "      <th>3</th>\n",
       "      <td>48</td>\n",
       "      <td>F</td>\n",
       "      <td>ASY</td>\n",
       "      <td>138</td>\n",
       "      <td>214</td>\n",
       "      <td>0</td>\n",
       "      <td>Normal</td>\n",
       "      <td>108</td>\n",
       "      <td>Y</td>\n",
       "      <td>1.5</td>\n",
       "      <td>Flat</td>\n",
       "      <td>1</td>\n",
       "    </tr>\n",
       "    <tr>\n",
       "      <th>4</th>\n",
       "      <td>54</td>\n",
       "      <td>M</td>\n",
       "      <td>NAP</td>\n",
       "      <td>150</td>\n",
       "      <td>195</td>\n",
       "      <td>0</td>\n",
       "      <td>Normal</td>\n",
       "      <td>122</td>\n",
       "      <td>N</td>\n",
       "      <td>0.0</td>\n",
       "      <td>Up</td>\n",
       "      <td>0</td>\n",
       "    </tr>\n",
       "  </tbody>\n",
       "</table>\n",
       "</div>"
      ],
      "text/plain": [
       "   Age Sex ChestPainType  RestingBP  Cholesterol  FastingBS RestingECG  MaxHR  \\\n",
       "0   40   M           ATA        140          289          0     Normal    172   \n",
       "1   49   F           NAP        160          180          0     Normal    156   \n",
       "2   37   M           ATA        130          283          0         ST     98   \n",
       "3   48   F           ASY        138          214          0     Normal    108   \n",
       "4   54   M           NAP        150          195          0     Normal    122   \n",
       "\n",
       "  ExerciseAngina  Oldpeak ST_Slope  HeartDisease  \n",
       "0              N      0.0       Up             0  \n",
       "1              N      1.0     Flat             1  \n",
       "2              N      0.0       Up             0  \n",
       "3              Y      1.5     Flat             1  \n",
       "4              N      0.0       Up             0  "
      ]
     },
     "execution_count": 6,
     "metadata": {},
     "output_type": "execute_result"
    }
   ],
   "source": [
    "heart = pd.read_csv('heartFailure.csv')\n",
    "heart.head()"
   ]
  },
  {
   "cell_type": "code",
   "execution_count": 7,
   "id": "ffe719f9-39df-4863-9d59-fd6bb6002719",
   "metadata": {},
   "outputs": [
    {
     "data": {
      "text/plain": [
       "Age               0\n",
       "Sex               0\n",
       "ChestPainType     0\n",
       "RestingBP         0\n",
       "Cholesterol       0\n",
       "FastingBS         0\n",
       "RestingECG        0\n",
       "MaxHR             0\n",
       "ExerciseAngina    0\n",
       "Oldpeak           0\n",
       "ST_Slope          0\n",
       "HeartDisease      0\n",
       "dtype: int64"
      ]
     },
     "execution_count": 7,
     "metadata": {},
     "output_type": "execute_result"
    }
   ],
   "source": [
    "heart.isna().sum()"
   ]
  },
  {
   "cell_type": "markdown",
   "id": "ae6598ae-8a98-42ed-9802-971e2826d4be",
   "metadata": {},
   "source": [
    "**Separating categorical and numerica columns**"
   ]
  },
  {
   "cell_type": "code",
   "execution_count": 1,
   "id": "822af830-5669-4436-92ff-ec316fb38e79",
   "metadata": {},
   "outputs": [
    {
     "ename": "NameError",
     "evalue": "name 'heart' is not defined",
     "output_type": "error",
     "traceback": [
      "\u001b[0;31m---------------------------------------------------------------------------\u001b[0m",
      "\u001b[0;31mNameError\u001b[0m                                 Traceback (most recent call last)",
      "Cell \u001b[0;32mIn[1], line 1\u001b[0m\n\u001b[0;32m----> 1\u001b[0m category_features \u001b[38;5;241m=\u001b[39m [col \u001b[38;5;28;01mfor\u001b[39;00m col \u001b[38;5;129;01min\u001b[39;00m heart\u001b[38;5;241m.\u001b[39mcolumns \u001b[38;5;28;01mif\u001b[39;00m heart[col]\u001b[38;5;241m.\u001b[39mdropna()\u001b[38;5;241m.\u001b[39mapply(\u001b[38;5;28;01mlambda\u001b[39;00m x: \u001b[38;5;28misinstance\u001b[39m(x, \u001b[38;5;28mstr\u001b[39m))\u001b[38;5;241m.\u001b[39mall()]\n\u001b[1;32m      2\u001b[0m numeric_features \u001b[38;5;241m=\u001b[39m [col \u001b[38;5;28;01mfor\u001b[39;00m col \u001b[38;5;129;01min\u001b[39;00m heart\u001b[38;5;241m.\u001b[39mcolumns \u001b[38;5;28;01mif\u001b[39;00m heart[col]\u001b[38;5;241m.\u001b[39mdropna()\u001b[38;5;241m.\u001b[39mapply(\u001b[38;5;28;01mlambda\u001b[39;00m x: \u001b[38;5;28misinstance\u001b[39m(x, (\u001b[38;5;28mint\u001b[39m, \u001b[38;5;28mfloat\u001b[39m)))\u001b[38;5;241m.\u001b[39mall()]\n",
      "\u001b[0;31mNameError\u001b[0m: name 'heart' is not defined"
     ]
    }
   ],
   "source": [
    "category_features = [col for col in heart.columns if heart[col].dropna().apply(lambda x: isinstance(x, str)).all()]\n",
    "numeric_features = [col for col in heart.columns if heart[col].dropna().apply(lambda x: isinstance(x, (int, float))).all()]"
   ]
  },
  {
   "cell_type": "markdown",
   "id": "a433430b-1cdd-4abe-8756-99aa609d15af",
   "metadata": {},
   "source": [
    "**Filling Missing Values with SimpleImputer**"
   ]
  },
  {
   "cell_type": "code",
   "execution_count": 9,
   "id": "726f5c22-01f5-4cec-8a27-90ca20cfa40c",
   "metadata": {},
   "outputs": [],
   "source": [
    "cat_imputer = SimpleImputer(strategy='most_frequent')\n",
    "num_imputer = SimpleImputer(strategy='mean')\n",
    "oneHot = OneHotEncoder()"
   ]
  },
  {
   "cell_type": "code",
   "execution_count": 10,
   "id": "0c435fdb-76af-40f1-8069-c8779b4a70e9",
   "metadata": {},
   "outputs": [],
   "source": [
    "fill = ColumnTransformer([('categorical_filling', cat_imputer, category_features),\n",
    "                                ('numerical_filling', num_imputer, numeric_features)],\n",
    "                               remainder='passthrough')\n",
    "filled_value = fill.fit_transform(heart)"
   ]
  },
  {
   "cell_type": "markdown",
   "id": "ec645546-6a5e-42f0-b9ea-5da72d2401ba",
   "metadata": {},
   "source": [
    "**Creating DataFrame out of filled values**"
   ]
  },
  {
   "cell_type": "code",
   "execution_count": 11,
   "id": "60f8e27b-582c-4762-94ec-ad8e56b80781",
   "metadata": {},
   "outputs": [],
   "source": [
    "filled_df = pd.DataFrame(filled_value, columns=category_features+numeric_features).round(2)"
   ]
  },
  {
   "cell_type": "markdown",
   "id": "8cbc7b5e-346f-43c8-8895-ce5ec248811e",
   "metadata": {},
   "source": [
    "**Making column appearance or order accoring to the original column patterns**"
   ]
  },
  {
   "cell_type": "code",
   "execution_count": 13,
   "id": "bab9d5da-c9b6-427b-afb7-e42d461cb3e7",
   "metadata": {},
   "outputs": [
    {
     "data": {
      "text/html": [
       "<div>\n",
       "<style scoped>\n",
       "    .dataframe tbody tr th:only-of-type {\n",
       "        vertical-align: middle;\n",
       "    }\n",
       "\n",
       "    .dataframe tbody tr th {\n",
       "        vertical-align: top;\n",
       "    }\n",
       "\n",
       "    .dataframe thead th {\n",
       "        text-align: right;\n",
       "    }\n",
       "</style>\n",
       "<table border=\"1\" class=\"dataframe\">\n",
       "  <thead>\n",
       "    <tr style=\"text-align: right;\">\n",
       "      <th></th>\n",
       "      <th>Age</th>\n",
       "      <th>Sex</th>\n",
       "      <th>ChestPainType</th>\n",
       "      <th>RestingBP</th>\n",
       "      <th>Cholesterol</th>\n",
       "      <th>FastingBS</th>\n",
       "      <th>RestingECG</th>\n",
       "      <th>MaxHR</th>\n",
       "      <th>ExerciseAngina</th>\n",
       "      <th>Oldpeak</th>\n",
       "      <th>ST_Slope</th>\n",
       "      <th>HeartDisease</th>\n",
       "    </tr>\n",
       "  </thead>\n",
       "  <tbody>\n",
       "    <tr>\n",
       "      <th>0</th>\n",
       "      <td>40.0</td>\n",
       "      <td>M</td>\n",
       "      <td>ATA</td>\n",
       "      <td>140.0</td>\n",
       "      <td>289.0</td>\n",
       "      <td>0.0</td>\n",
       "      <td>Normal</td>\n",
       "      <td>172.0</td>\n",
       "      <td>N</td>\n",
       "      <td>0.0</td>\n",
       "      <td>Up</td>\n",
       "      <td>0.0</td>\n",
       "    </tr>\n",
       "    <tr>\n",
       "      <th>1</th>\n",
       "      <td>49.0</td>\n",
       "      <td>F</td>\n",
       "      <td>NAP</td>\n",
       "      <td>160.0</td>\n",
       "      <td>180.0</td>\n",
       "      <td>0.0</td>\n",
       "      <td>Normal</td>\n",
       "      <td>156.0</td>\n",
       "      <td>N</td>\n",
       "      <td>1.0</td>\n",
       "      <td>Flat</td>\n",
       "      <td>1.0</td>\n",
       "    </tr>\n",
       "    <tr>\n",
       "      <th>2</th>\n",
       "      <td>37.0</td>\n",
       "      <td>M</td>\n",
       "      <td>ATA</td>\n",
       "      <td>130.0</td>\n",
       "      <td>283.0</td>\n",
       "      <td>0.0</td>\n",
       "      <td>ST</td>\n",
       "      <td>98.0</td>\n",
       "      <td>N</td>\n",
       "      <td>0.0</td>\n",
       "      <td>Up</td>\n",
       "      <td>0.0</td>\n",
       "    </tr>\n",
       "    <tr>\n",
       "      <th>3</th>\n",
       "      <td>48.0</td>\n",
       "      <td>F</td>\n",
       "      <td>ASY</td>\n",
       "      <td>138.0</td>\n",
       "      <td>214.0</td>\n",
       "      <td>0.0</td>\n",
       "      <td>Normal</td>\n",
       "      <td>108.0</td>\n",
       "      <td>Y</td>\n",
       "      <td>1.5</td>\n",
       "      <td>Flat</td>\n",
       "      <td>1.0</td>\n",
       "    </tr>\n",
       "    <tr>\n",
       "      <th>4</th>\n",
       "      <td>54.0</td>\n",
       "      <td>M</td>\n",
       "      <td>NAP</td>\n",
       "      <td>150.0</td>\n",
       "      <td>195.0</td>\n",
       "      <td>0.0</td>\n",
       "      <td>Normal</td>\n",
       "      <td>122.0</td>\n",
       "      <td>N</td>\n",
       "      <td>0.0</td>\n",
       "      <td>Up</td>\n",
       "      <td>0.0</td>\n",
       "    </tr>\n",
       "  </tbody>\n",
       "</table>\n",
       "</div>"
      ],
      "text/plain": [
       "    Age Sex ChestPainType RestingBP Cholesterol FastingBS RestingECG  MaxHR  \\\n",
       "0  40.0   M           ATA     140.0       289.0       0.0     Normal  172.0   \n",
       "1  49.0   F           NAP     160.0       180.0       0.0     Normal  156.0   \n",
       "2  37.0   M           ATA     130.0       283.0       0.0         ST   98.0   \n",
       "3  48.0   F           ASY     138.0       214.0       0.0     Normal  108.0   \n",
       "4  54.0   M           NAP     150.0       195.0       0.0     Normal  122.0   \n",
       "\n",
       "  ExerciseAngina Oldpeak ST_Slope HeartDisease  \n",
       "0              N     0.0       Up          0.0  \n",
       "1              N     1.0     Flat          1.0  \n",
       "2              N     0.0       Up          0.0  \n",
       "3              Y     1.5     Flat          1.0  \n",
       "4              N     0.0       Up          0.0  "
      ]
     },
     "execution_count": 13,
     "metadata": {},
     "output_type": "execute_result"
    }
   ],
   "source": [
    "heart_df = filled_df[heart.columns]\n",
    "heart_df.head()"
   ]
  },
  {
   "cell_type": "markdown",
   "id": "39752f45-9ecc-42cb-9607-340fe4e660ac",
   "metadata": {},
   "source": [
    "**Splitting x and y value**"
   ]
  },
  {
   "cell_type": "code",
   "execution_count": 16,
   "id": "0369a716-2ad4-4e74-a067-50405706a0ac",
   "metadata": {},
   "outputs": [],
   "source": [
    "X = heart_df.drop(columns=['HeartDisease'])\n",
    "y = heart_df.HeartDisease.astype(int)"
   ]
  },
  {
   "cell_type": "markdown",
   "id": "078d703e-e0cc-4fe5-aac2-e3ceee9e854b",
   "metadata": {},
   "source": [
    "**Category Transform: Changing string value to numeric values**"
   ]
  },
  {
   "cell_type": "code",
   "execution_count": 17,
   "id": "0d604ef2-39f7-4ff3-aba6-7ad77ee29b89",
   "metadata": {},
   "outputs": [],
   "source": [
    "transformer = ColumnTransformer([('cat_conversion', oneHot, category_features)],\n",
    "                                remainder = 'passthrough')\n",
    "transformed_data = transformer.fit_transform(X)"
   ]
  },
  {
   "cell_type": "code",
   "execution_count": 18,
   "id": "49d0fb86-1bbe-463f-a609-3420222eece7",
   "metadata": {},
   "outputs": [],
   "source": [
    "# Skimming floating values to 2-decimal places\n",
    "transformed_x = pd.DataFrame(transformed_data).map(lambda col: round(col, 2) if isinstance(col, (int, float)) else col)"
   ]
  },
  {
   "cell_type": "code",
   "execution_count": 19,
   "id": "3e71b812-2f71-4d37-b829-930d7d23328b",
   "metadata": {},
   "outputs": [
    {
     "data": {
      "text/html": [
       "<div>\n",
       "<style scoped>\n",
       "    .dataframe tbody tr th:only-of-type {\n",
       "        vertical-align: middle;\n",
       "    }\n",
       "\n",
       "    .dataframe tbody tr th {\n",
       "        vertical-align: top;\n",
       "    }\n",
       "\n",
       "    .dataframe thead th {\n",
       "        text-align: right;\n",
       "    }\n",
       "</style>\n",
       "<table border=\"1\" class=\"dataframe\">\n",
       "  <thead>\n",
       "    <tr style=\"text-align: right;\">\n",
       "      <th></th>\n",
       "      <th>0</th>\n",
       "      <th>1</th>\n",
       "      <th>2</th>\n",
       "      <th>3</th>\n",
       "      <th>4</th>\n",
       "      <th>5</th>\n",
       "      <th>6</th>\n",
       "      <th>7</th>\n",
       "      <th>8</th>\n",
       "      <th>9</th>\n",
       "      <th>10</th>\n",
       "      <th>11</th>\n",
       "      <th>12</th>\n",
       "      <th>13</th>\n",
       "      <th>14</th>\n",
       "      <th>15</th>\n",
       "      <th>16</th>\n",
       "      <th>17</th>\n",
       "      <th>18</th>\n",
       "      <th>19</th>\n",
       "    </tr>\n",
       "  </thead>\n",
       "  <tbody>\n",
       "    <tr>\n",
       "      <th>0</th>\n",
       "      <td>0.0</td>\n",
       "      <td>1.0</td>\n",
       "      <td>0.0</td>\n",
       "      <td>1.0</td>\n",
       "      <td>0.0</td>\n",
       "      <td>0.0</td>\n",
       "      <td>0.0</td>\n",
       "      <td>1.0</td>\n",
       "      <td>0.0</td>\n",
       "      <td>1.0</td>\n",
       "      <td>0.0</td>\n",
       "      <td>0.0</td>\n",
       "      <td>0.0</td>\n",
       "      <td>1.0</td>\n",
       "      <td>40.0</td>\n",
       "      <td>140.0</td>\n",
       "      <td>289.0</td>\n",
       "      <td>0.0</td>\n",
       "      <td>172.0</td>\n",
       "      <td>0.0</td>\n",
       "    </tr>\n",
       "    <tr>\n",
       "      <th>1</th>\n",
       "      <td>1.0</td>\n",
       "      <td>0.0</td>\n",
       "      <td>0.0</td>\n",
       "      <td>0.0</td>\n",
       "      <td>1.0</td>\n",
       "      <td>0.0</td>\n",
       "      <td>0.0</td>\n",
       "      <td>1.0</td>\n",
       "      <td>0.0</td>\n",
       "      <td>1.0</td>\n",
       "      <td>0.0</td>\n",
       "      <td>0.0</td>\n",
       "      <td>1.0</td>\n",
       "      <td>0.0</td>\n",
       "      <td>49.0</td>\n",
       "      <td>160.0</td>\n",
       "      <td>180.0</td>\n",
       "      <td>0.0</td>\n",
       "      <td>156.0</td>\n",
       "      <td>1.0</td>\n",
       "    </tr>\n",
       "    <tr>\n",
       "      <th>2</th>\n",
       "      <td>0.0</td>\n",
       "      <td>1.0</td>\n",
       "      <td>0.0</td>\n",
       "      <td>1.0</td>\n",
       "      <td>0.0</td>\n",
       "      <td>0.0</td>\n",
       "      <td>0.0</td>\n",
       "      <td>0.0</td>\n",
       "      <td>1.0</td>\n",
       "      <td>1.0</td>\n",
       "      <td>0.0</td>\n",
       "      <td>0.0</td>\n",
       "      <td>0.0</td>\n",
       "      <td>1.0</td>\n",
       "      <td>37.0</td>\n",
       "      <td>130.0</td>\n",
       "      <td>283.0</td>\n",
       "      <td>0.0</td>\n",
       "      <td>98.0</td>\n",
       "      <td>0.0</td>\n",
       "    </tr>\n",
       "    <tr>\n",
       "      <th>3</th>\n",
       "      <td>1.0</td>\n",
       "      <td>0.0</td>\n",
       "      <td>1.0</td>\n",
       "      <td>0.0</td>\n",
       "      <td>0.0</td>\n",
       "      <td>0.0</td>\n",
       "      <td>0.0</td>\n",
       "      <td>1.0</td>\n",
       "      <td>0.0</td>\n",
       "      <td>0.0</td>\n",
       "      <td>1.0</td>\n",
       "      <td>0.0</td>\n",
       "      <td>1.0</td>\n",
       "      <td>0.0</td>\n",
       "      <td>48.0</td>\n",
       "      <td>138.0</td>\n",
       "      <td>214.0</td>\n",
       "      <td>0.0</td>\n",
       "      <td>108.0</td>\n",
       "      <td>1.5</td>\n",
       "    </tr>\n",
       "    <tr>\n",
       "      <th>4</th>\n",
       "      <td>0.0</td>\n",
       "      <td>1.0</td>\n",
       "      <td>0.0</td>\n",
       "      <td>0.0</td>\n",
       "      <td>1.0</td>\n",
       "      <td>0.0</td>\n",
       "      <td>0.0</td>\n",
       "      <td>1.0</td>\n",
       "      <td>0.0</td>\n",
       "      <td>1.0</td>\n",
       "      <td>0.0</td>\n",
       "      <td>0.0</td>\n",
       "      <td>0.0</td>\n",
       "      <td>1.0</td>\n",
       "      <td>54.0</td>\n",
       "      <td>150.0</td>\n",
       "      <td>195.0</td>\n",
       "      <td>0.0</td>\n",
       "      <td>122.0</td>\n",
       "      <td>0.0</td>\n",
       "    </tr>\n",
       "  </tbody>\n",
       "</table>\n",
       "</div>"
      ],
      "text/plain": [
       "    0    1    2    3    4    5    6    7    8    9    10   11   12   13    14  \\\n",
       "0  0.0  1.0  0.0  1.0  0.0  0.0  0.0  1.0  0.0  1.0  0.0  0.0  0.0  1.0  40.0   \n",
       "1  1.0  0.0  0.0  0.0  1.0  0.0  0.0  1.0  0.0  1.0  0.0  0.0  1.0  0.0  49.0   \n",
       "2  0.0  1.0  0.0  1.0  0.0  0.0  0.0  0.0  1.0  1.0  0.0  0.0  0.0  1.0  37.0   \n",
       "3  1.0  0.0  1.0  0.0  0.0  0.0  0.0  1.0  0.0  0.0  1.0  0.0  1.0  0.0  48.0   \n",
       "4  0.0  1.0  0.0  0.0  1.0  0.0  0.0  1.0  0.0  1.0  0.0  0.0  0.0  1.0  54.0   \n",
       "\n",
       "      15     16   17     18   19  \n",
       "0  140.0  289.0  0.0  172.0  0.0  \n",
       "1  160.0  180.0  0.0  156.0  1.0  \n",
       "2  130.0  283.0  0.0   98.0  0.0  \n",
       "3  138.0  214.0  0.0  108.0  1.5  \n",
       "4  150.0  195.0  0.0  122.0  0.0  "
      ]
     },
     "execution_count": 19,
     "metadata": {},
     "output_type": "execute_result"
    }
   ],
   "source": [
    "transformed_x.head()"
   ]
  },
  {
   "cell_type": "markdown",
   "id": "6e8d88af-5854-4efd-b0ba-e2113d667269",
   "metadata": {},
   "source": [
    "**Splitting train and test data**"
   ]
  },
  {
   "cell_type": "code",
   "execution_count": 20,
   "id": "978a714e-fa21-4d12-8912-92e3e5d96a64",
   "metadata": {},
   "outputs": [],
   "source": [
    "np.random.seed(42)\n",
    "X_train, X_test, y_train, y_test = train_test_split(transformed_x, y, test_size=0.2)"
   ]
  },
  {
   "cell_type": "markdown",
   "id": "8c2bab2c-3a7d-4e10-b757-0d8a1fb3987d",
   "metadata": {},
   "source": [
    "## Normalizing Data and ML Models that require normalization"
   ]
  },
  {
   "cell_type": "markdown",
   "id": "8a9579ef-0b23-41ae-889e-77b0686d200f",
   "metadata": {},
   "source": [
    "**`LinearRegression, LogisticRegression, SVM, K-NearestNeighbors` require normalized data**"
   ]
  },
  {
   "cell_type": "code",
   "execution_count": 21,
   "id": "48b314c3-b071-4f88-9e3c-49114406dce9",
   "metadata": {},
   "outputs": [],
   "source": [
    "scaler = StandardScaler()\n",
    "X_trains = scaler.fit_transform(X_train)\n",
    "X_tests = scaler.transform(X_test)"
   ]
  },
  {
   "cell_type": "markdown",
   "id": "b9a34ba6-d752-46de-aae9-2fd50c65a982",
   "metadata": {},
   "source": [
    "**1. `LogisticRegression`**"
   ]
  },
  {
   "cell_type": "code",
   "execution_count": 22,
   "id": "79719d0c-cb48-46c5-8dde-dbca9f0f3891",
   "metadata": {},
   "outputs": [
    {
     "data": {
      "text/plain": [
       "85.3"
      ]
     },
     "execution_count": 22,
     "metadata": {},
     "output_type": "execute_result"
    }
   ],
   "source": [
    "log_reg = LogisticRegression()\n",
    "log_reg.fit(X_trains, y_train)\n",
    "round(log_reg.score(X_tests, y_test), 3)*100"
   ]
  },
  {
   "cell_type": "code",
   "execution_count": 87,
   "id": "00f97eef-98aa-4c6b-a5c3-d3a15903265a",
   "metadata": {},
   "outputs": [],
   "source": [
    "y_log_pred = log_reg.predict(X_tests)\n",
    "y_log_pred_proba = log_reg.predict_proba(X_tests)\n",
    "y_log_tpr = y_log_pred_proba[:, 1]"
   ]
  },
  {
   "cell_type": "markdown",
   "id": "408c7f5f-21cf-4d50-821a-7a8f95ac5903",
   "metadata": {},
   "source": [
    "**2. `Support Vector Mechanism (SVM)`**"
   ]
  },
  {
   "cell_type": "code",
   "execution_count": 24,
   "id": "eb63af7b-4518-4877-bd89-fc2d9f39ec12",
   "metadata": {},
   "outputs": [
    {
     "data": {
      "text/plain": [
       "89.1"
      ]
     },
     "execution_count": 24,
     "metadata": {},
     "output_type": "execute_result"
    }
   ],
   "source": [
    "svm = SVC()\n",
    "svm.fit(X_trains, y_train)\n",
    "round(svm.score(X_tests, y_test), 3)*100"
   ]
  },
  {
   "cell_type": "code",
   "execution_count": 89,
   "id": "b3014ff5-1e46-4f9f-bb54-094dd9b81176",
   "metadata": {},
   "outputs": [],
   "source": [
    "y_svm_pred = svm.predict(X_tests)"
   ]
  },
  {
   "cell_type": "markdown",
   "id": "ab60235c-4280-442c-a13a-ad191604f251",
   "metadata": {},
   "source": [
    "**3. `K-Nearest Neighbors (KNN)`**"
   ]
  },
  {
   "cell_type": "code",
   "execution_count": 26,
   "id": "454baa27-9cc6-4818-a38d-3cea323ddf29",
   "metadata": {},
   "outputs": [
    {
     "data": {
      "text/plain": [
       "85.9"
      ]
     },
     "execution_count": 26,
     "metadata": {},
     "output_type": "execute_result"
    }
   ],
   "source": [
    "knn = KNeighborsClassifier(n_neighbors=5, n_jobs=-1)\n",
    "knn.fit(X_trains, y_train)\n",
    "round(knn.score(X_tests, y_test), 3)*100"
   ]
  },
  {
   "cell_type": "code",
   "execution_count": 91,
   "id": "7dcc3d52-4493-45ac-b56c-52ce70d7666a",
   "metadata": {},
   "outputs": [],
   "source": [
    "y_knn_pred = knn.predict(X_tests)\n",
    "y_knn_pred_proba = knn.predict_proba(X_tests)\n",
    "y_knn_tpr = y_knn_pred_proba[:, 1]"
   ]
  },
  {
   "cell_type": "markdown",
   "id": "3753a176-001f-4803-b1bf-4a5e0e1f3881",
   "metadata": {},
   "source": [
    "**4. `Principal Component Analysis (PCA)`**\n",
    "* PCA is used for dimensionality reduction (higher dimension data to lower)\n",
    "* PCA is similar to StandardScaler(), but it changes the dimensions\n",
    "* If we have 20 columns, using PCA, columns can be reduced to `n_components=n` number of dimensions"
   ]
  },
  {
   "cell_type": "code",
   "execution_count": 28,
   "id": "ebb6631d-601b-453b-bb98-ec0f9605d1ce",
   "metadata": {},
   "outputs": [],
   "source": [
    "scaler = StandardScaler()\n",
    "X_scaled = scaler.fit_transform(transformed_x)"
   ]
  },
  {
   "cell_type": "code",
   "execution_count": 29,
   "id": "384fb824-5748-4410-ab08-262226277d3d",
   "metadata": {},
   "outputs": [],
   "source": [
    "pca = PCA(n_components=2)\n",
    "X_pca = pca.fit_transform(X_scaled)"
   ]
  },
  {
   "cell_type": "code",
   "execution_count": 30,
   "id": "65993cdb-6e31-48b2-a92d-181cd6ca920b",
   "metadata": {},
   "outputs": [],
   "source": [
    "#Splitting Data in training and testing sets\n",
    "np.random.seed(42)\n",
    "X_train_I, X_test_I, y_train_I, y_test_I = train_test_split(X_pca, y, test_size=0.2)"
   ]
  },
  {
   "cell_type": "code",
   "execution_count": 31,
   "id": "7fb19981-c98c-445e-9ddf-6d3e630f5ebb",
   "metadata": {},
   "outputs": [
    {
     "data": {
      "text/plain": [
       "83.0"
      ]
     },
     "execution_count": 31,
     "metadata": {},
     "output_type": "execute_result"
    }
   ],
   "source": [
    "# Using ML model on training and testing sets\n",
    "clf = LogisticRegression()\n",
    "clf.fit(X_train_I, y_train_I)\n",
    "round(clf.score(X_test_I, y_test_I), 2)*100"
   ]
  },
  {
   "cell_type": "markdown",
   "id": "a0c29b1e-7f22-4267-b621-7f159e7be4aa",
   "metadata": {},
   "source": [
    "## ML models that do not require normalization"
   ]
  },
  {
   "cell_type": "markdown",
   "id": "5f172138-9490-48dc-8cd0-7ce0ba122813",
   "metadata": {},
   "source": [
    "**1. Gradient Boosted Frameworks**\n",
    "* `XGBClassifier`"
   ]
  },
  {
   "cell_type": "code",
   "execution_count": 35,
   "id": "d6ece1f5-8bc8-4544-b183-e2f2a42aeeda",
   "metadata": {},
   "outputs": [
    {
     "data": {
      "text/plain": [
       "89.1"
      ]
     },
     "execution_count": 35,
     "metadata": {},
     "output_type": "execute_result"
    }
   ],
   "source": [
    "xgb_clf = XGBClassifier(n_estimators=100, learning_rate=0.1, max_depth=4, random_state=42)\n",
    "xgb_clf.fit(X_train, y_train)\n",
    "round(xgb_clf.score(X_test, y_test), 3)*100"
   ]
  },
  {
   "cell_type": "code",
   "execution_count": 98,
   "id": "fc218faf-2151-457e-9f07-7f34fc4140bd",
   "metadata": {},
   "outputs": [],
   "source": [
    "y_xgb_pred = xgb_clf.predict(X_test)\n",
    "y_xgb_pred_proba = xgb_clf.predict_proba(X_test)\n",
    "y_xgb_tpr = y_xgb_pred_proba[:, 1]"
   ]
  },
  {
   "cell_type": "markdown",
   "id": "3cfec76d-5c7b-428a-81a3-4e01c022f5bd",
   "metadata": {},
   "source": [
    "* `LGBMClassifier`"
   ]
  },
  {
   "cell_type": "code",
   "execution_count": 99,
   "id": "b0845670-dd8c-4923-84ea-0ca1f6d06287",
   "metadata": {},
   "outputs": [
    {
     "data": {
      "text/plain": [
       "88.6"
      ]
     },
     "execution_count": 99,
     "metadata": {},
     "output_type": "execute_result"
    }
   ],
   "source": [
    "lgbm_clf = LGBMClassifier(n_estimators=100, learning_rate=0.1, max_depth=3, random_state=42, verbose=-1)\n",
    "lgbm_clf.fit(X_train, y_train)\n",
    "round(lgbm_clf.score(X_test, y_test), 3)*100"
   ]
  },
  {
   "cell_type": "code",
   "execution_count": 100,
   "id": "eb49e669-2ed5-4270-8643-407056a0857e",
   "metadata": {},
   "outputs": [],
   "source": [
    "y_lgbm_pred = lgbm_clf.predict(X_test)\n",
    "y_lgbm_pred_proba = lgbm_clf.predict_proba(X_test)\n",
    "y_lgbm_tpr = y_lgbm_pred_proba[:, 1]"
   ]
  },
  {
   "cell_type": "markdown",
   "id": "fb2a1e99-57fb-4917-a366-c3f8f5fafcf4",
   "metadata": {},
   "source": [
    "* `CatBoostClassifier`"
   ]
  },
  {
   "cell_type": "code",
   "execution_count": 39,
   "id": "f4ff76d5-41ae-4606-9bd2-ff77a4477681",
   "metadata": {},
   "outputs": [
    {
     "data": {
      "text/plain": [
       "88.6"
      ]
     },
     "execution_count": 39,
     "metadata": {},
     "output_type": "execute_result"
    }
   ],
   "source": [
    "catboost_clf = CatBoostClassifier(n_estimators=100, learning_rate=0.1, max_depth=3, verbose=0, random_state=42)\n",
    "catboost_clf.fit(X_train, y_train)\n",
    "round(catboost_clf.score(X_test, y_test), 3)*100"
   ]
  },
  {
   "cell_type": "code",
   "execution_count": 102,
   "id": "bdfbbc46-46f8-4101-977b-75319200f7fe",
   "metadata": {},
   "outputs": [],
   "source": [
    "y_cat_pred = catboost_clf.predict(X_test)\n",
    "y_cat_pred_proba = catboost_clf.predict_proba(X_test)\n",
    "y_cat_tpr = y_cat_pred_proba[:, 1]"
   ]
  },
  {
   "cell_type": "markdown",
   "id": "c28f6ad0-93c9-4387-8e16-8ad69278e681",
   "metadata": {},
   "source": [
    "**2. `GradientBoostingClassifier`**"
   ]
  },
  {
   "cell_type": "code",
   "execution_count": 41,
   "id": "4cb45d1b-8144-4eea-9cda-e637c0b31d21",
   "metadata": {},
   "outputs": [
    {
     "data": {
      "text/plain": [
       "87.5"
      ]
     },
     "execution_count": 41,
     "metadata": {},
     "output_type": "execute_result"
    }
   ],
   "source": [
    "grad_clf = GradientBoostingClassifier(n_estimators=150, learning_rate=0.3, max_depth=3, random_state=42)\n",
    "grad_clf.fit(X_train, y_train)\n",
    "round(grad_clf.score(X_test, y_test), 3)*100"
   ]
  },
  {
   "cell_type": "code",
   "execution_count": 103,
   "id": "2ea965d8-e5ee-4eb7-a5ca-675330e87d58",
   "metadata": {},
   "outputs": [],
   "source": [
    "y_gradient_pred = grad_clf.predict(X_test)\n",
    "y_gradient_pred_proba = grad_clf.predict_proba(X_test)\n",
    "y_gradient_tpr = y_gradient_pred_proba[:, 1]"
   ]
  },
  {
   "cell_type": "markdown",
   "id": "91b74c36-d20a-477e-8981-b8ca9b557245",
   "metadata": {},
   "source": [
    "**3. `RandomForestClassifier`**"
   ]
  },
  {
   "cell_type": "code",
   "execution_count": 43,
   "id": "19fc489d-7e0f-403f-b5cd-78b5ec4197f2",
   "metadata": {},
   "outputs": [
    {
     "data": {
      "text/plain": [
       "87.5"
      ]
     },
     "execution_count": 43,
     "metadata": {},
     "output_type": "execute_result"
    }
   ],
   "source": [
    "rand_clf = RandomForestClassifier()\n",
    "rand_clf.fit(X_train, y_train)\n",
    "round(rand_clf.score(X_test, y_test), 3)*100"
   ]
  },
  {
   "cell_type": "code",
   "execution_count": 104,
   "id": "ebaaad71-c52f-4d10-ab4d-055472208ab7",
   "metadata": {},
   "outputs": [],
   "source": [
    "y_rand_pred = rand_clf.predict(X_test)\n",
    "y_rand_pred_proba = rand_clf.predict_proba(X_test)\n",
    "y_rand_tpr = y_rand_pred_proba[:, 1]"
   ]
  },
  {
   "cell_type": "markdown",
   "id": "a7b0bfd6-ecb0-440b-8fa4-4f1a42daf7f5",
   "metadata": {},
   "source": [
    "## Creating Dictionary out of all Machine Learning Models"
   ]
  },
  {
   "cell_type": "markdown",
   "id": "f2906719-2720-4dce-85a6-96c1a1919ce6",
   "metadata": {},
   "source": [
    "**Creating Function for all kind of scores**"
   ]
  },
  {
   "cell_type": "code",
   "execution_count": 45,
   "id": "16de6412-1a44-4207-a5c3-af749d08de87",
   "metadata": {},
   "outputs": [],
   "source": [
    "def model_evaluation(y_test, y_pred):\n",
    "    print(f'AccuracyScor: {accuracy_score(y_test, y_pred):.3f}'),\n",
    "    print(f'PrecisionScore: {precision_score(y_test, y_pred, average='weighted'):.3f}'),\n",
    "    print(f'RecallScore: {recall_score(y_test, y_pred, average='weighted'):.3f}'),\n",
    "    print(f'F1Score: {f1_score(y_test, y_pred, average='weighted'):.3f}')\n",
    "    print('\\n')\n",
    "    \n",
    "    metrics = {'AccuracyScore': accuracy_score(y_test, y_pred),\n",
    "               'PrecisionScore': precision_score(y_test, y_pred, average='weighted'),\n",
    "               'RecallScore': recall_score(y_test, y_pred, average='weighted'),\n",
    "               'F1Score': f1_score(y_test, y_pred, average='micro')\n",
    "              }\n",
    "    return metrics"
   ]
  },
  {
   "cell_type": "code",
   "execution_count": 46,
   "id": "476e7153-8e8d-45e4-824a-d29b9e9c026a",
   "metadata": {},
   "outputs": [
    {
     "name": "stdout",
     "output_type": "stream",
     "text": [
      "AccuracyScor: 0.853\n",
      "PrecisionScore: 0.857\n",
      "RecallScore: 0.853\n",
      "F1Score: 0.854\n",
      "\n",
      "\n",
      "AccuracyScor: 0.891\n",
      "PrecisionScore: 0.892\n",
      "RecallScore: 0.891\n",
      "F1Score: 0.891\n",
      "\n",
      "\n",
      "AccuracyScor: 0.859\n",
      "PrecisionScore: 0.863\n",
      "RecallScore: 0.859\n",
      "F1Score: 0.859\n",
      "\n",
      "\n",
      "AccuracyScor: 0.891\n",
      "PrecisionScore: 0.892\n",
      "RecallScore: 0.891\n",
      "F1Score: 0.891\n",
      "\n",
      "\n",
      "AccuracyScor: 0.886\n",
      "PrecisionScore: 0.888\n",
      "RecallScore: 0.886\n",
      "F1Score: 0.886\n",
      "\n",
      "\n",
      "AccuracyScor: 0.886\n",
      "PrecisionScore: 0.888\n",
      "RecallScore: 0.886\n",
      "F1Score: 0.886\n",
      "\n",
      "\n",
      "AccuracyScor: 0.875\n",
      "PrecisionScore: 0.879\n",
      "RecallScore: 0.875\n",
      "F1Score: 0.876\n",
      "\n",
      "\n",
      "AccuracyScor: 0.875\n",
      "PrecisionScore: 0.877\n",
      "RecallScore: 0.875\n",
      "F1Score: 0.875\n",
      "\n",
      "\n"
     ]
    }
   ],
   "source": [
    "ml_models = {\n",
    "    'LogisticRegression': model_evaluation(y_test, y_log_pred),\n",
    "    'SupportVectorMechanism': model_evaluation(y_test, y_svm_pred),\n",
    "    'K-NearestNeighbors': model_evaluation(y_test, y_knn_pred),\n",
    "    'XGBClassifier': model_evaluation(y_test, y_xgb_pred),\n",
    "    'LGBMClassifier': model_evaluation(y_test, y_lgbm_pred),\n",
    "    'CatBoostClassifier': model_evaluation(y_test, y_cat_pred),\n",
    "    'GradientBoostingClassifier': model_evaluation(y_test, y_gradient_pred),\n",
    "    'RandomForestClassifier': model_evaluation(y_test, y_rand_pred)\n",
    "}"
   ]
  },
  {
   "cell_type": "code",
   "execution_count": 47,
   "id": "32c35020-80b8-494d-9102-0682906f2956",
   "metadata": {},
   "outputs": [],
   "source": [
    "model_df = pd.DataFrame.from_dict(ml_models, orient='index')"
   ]
  },
  {
   "cell_type": "code",
   "execution_count": 48,
   "id": "7fa10785-8426-4a46-82ae-74913f23f76a",
   "metadata": {},
   "outputs": [
    {
     "data": {
      "text/html": [
       "<div>\n",
       "<style scoped>\n",
       "    .dataframe tbody tr th:only-of-type {\n",
       "        vertical-align: middle;\n",
       "    }\n",
       "\n",
       "    .dataframe tbody tr th {\n",
       "        vertical-align: top;\n",
       "    }\n",
       "\n",
       "    .dataframe thead th {\n",
       "        text-align: right;\n",
       "    }\n",
       "</style>\n",
       "<table border=\"1\" class=\"dataframe\">\n",
       "  <thead>\n",
       "    <tr style=\"text-align: right;\">\n",
       "      <th></th>\n",
       "      <th>AccuracyScore</th>\n",
       "      <th>PrecisionScore</th>\n",
       "      <th>RecallScore</th>\n",
       "      <th>F1Score</th>\n",
       "    </tr>\n",
       "  </thead>\n",
       "  <tbody>\n",
       "    <tr>\n",
       "      <th>LogisticRegression</th>\n",
       "      <td>0.853261</td>\n",
       "      <td>0.857156</td>\n",
       "      <td>0.853261</td>\n",
       "      <td>0.853261</td>\n",
       "    </tr>\n",
       "    <tr>\n",
       "      <th>SupportVectorMechanism</th>\n",
       "      <td>0.891304</td>\n",
       "      <td>0.891886</td>\n",
       "      <td>0.891304</td>\n",
       "      <td>0.891304</td>\n",
       "    </tr>\n",
       "    <tr>\n",
       "      <th>K-NearestNeighbors</th>\n",
       "      <td>0.858696</td>\n",
       "      <td>0.863439</td>\n",
       "      <td>0.858696</td>\n",
       "      <td>0.858696</td>\n",
       "    </tr>\n",
       "    <tr>\n",
       "      <th>XGBClassifier</th>\n",
       "      <td>0.891304</td>\n",
       "      <td>0.891886</td>\n",
       "      <td>0.891304</td>\n",
       "      <td>0.891304</td>\n",
       "    </tr>\n",
       "    <tr>\n",
       "      <th>LGBMClassifier</th>\n",
       "      <td>0.885870</td>\n",
       "      <td>0.888046</td>\n",
       "      <td>0.885870</td>\n",
       "      <td>0.885870</td>\n",
       "    </tr>\n",
       "    <tr>\n",
       "      <th>CatBoostClassifier</th>\n",
       "      <td>0.885870</td>\n",
       "      <td>0.888046</td>\n",
       "      <td>0.885870</td>\n",
       "      <td>0.885870</td>\n",
       "    </tr>\n",
       "    <tr>\n",
       "      <th>GradientBoostingClassifier</th>\n",
       "      <td>0.875000</td>\n",
       "      <td>0.878750</td>\n",
       "      <td>0.875000</td>\n",
       "      <td>0.875000</td>\n",
       "    </tr>\n",
       "    <tr>\n",
       "      <th>RandomForestClassifier</th>\n",
       "      <td>0.875000</td>\n",
       "      <td>0.877242</td>\n",
       "      <td>0.875000</td>\n",
       "      <td>0.875000</td>\n",
       "    </tr>\n",
       "  </tbody>\n",
       "</table>\n",
       "</div>"
      ],
      "text/plain": [
       "                            AccuracyScore  PrecisionScore  RecallScore  \\\n",
       "LogisticRegression               0.853261        0.857156     0.853261   \n",
       "SupportVectorMechanism           0.891304        0.891886     0.891304   \n",
       "K-NearestNeighbors               0.858696        0.863439     0.858696   \n",
       "XGBClassifier                    0.891304        0.891886     0.891304   \n",
       "LGBMClassifier                   0.885870        0.888046     0.885870   \n",
       "CatBoostClassifier               0.885870        0.888046     0.885870   \n",
       "GradientBoostingClassifier       0.875000        0.878750     0.875000   \n",
       "RandomForestClassifier           0.875000        0.877242     0.875000   \n",
       "\n",
       "                             F1Score  \n",
       "LogisticRegression          0.853261  \n",
       "SupportVectorMechanism      0.891304  \n",
       "K-NearestNeighbors          0.858696  \n",
       "XGBClassifier               0.891304  \n",
       "LGBMClassifier              0.885870  \n",
       "CatBoostClassifier          0.885870  \n",
       "GradientBoostingClassifier  0.875000  \n",
       "RandomForestClassifier      0.875000  "
      ]
     },
     "execution_count": 48,
     "metadata": {},
     "output_type": "execute_result"
    }
   ],
   "source": [
    "model_df"
   ]
  },
  {
   "cell_type": "code",
   "execution_count": 49,
   "id": "8f97e0be-383b-4035-862b-76c52b1297b1",
   "metadata": {},
   "outputs": [
    {
     "data": {
      "text/plain": [
       "<Axes: >"
      ]
     },
     "execution_count": 49,
     "metadata": {},
     "output_type": "execute_result"
    },
    {
     "data": {
      "image/png": "[encoded data removed]",
      "text/plain": [
       "<Figure size 1000x800 with 1 Axes>"
      ]
     },
     "metadata": {},
     "output_type": "display_data"
    }
   ],
   "source": [
    "model_df.plot(kind='bar', figsize=(10,8))"
   ]
  },
  {
   "cell_type": "code",
   "execution_count": 50,
   "id": "b923a1f8-c9d0-4043-8c13-050cfefcada2",
   "metadata": {},
   "outputs": [],
   "source": [
    "models_long = model_df.reset_index().melt(id_vars='index', var_name='Metrics', value_name='Score')\n",
    "models_long.rename(columns={'index':'Models'}, inplace=True)"
   ]
  },
  {
   "cell_type": "code",
   "execution_count": 84,
   "id": "c7294095-83cd-4d32-af9f-16a3a277fa2a",
   "metadata": {},
   "outputs": [
    {
     "data": {
      "image/png": "[encoded data removed]",
      "text/plain": [
       "<Figure size 1200x800 with 1 Axes>"
      ]
     },
     "metadata": {},
     "output_type": "display_data"
    }
   ],
   "source": [
    "plt.figure(figsize=(12, 8))\n",
    "sns.barplot(data=models_long, x='Metrics', y='Score', hue='Models', palette='bright')\n",
    "plt.title('Model Evaluation', fontsize=14)\n",
    "plt.xlabel('Metrices', fontsize=12)\n",
    "plt.ylabel('Score', fontsize=12)\n",
    "plt.xticks(rotation=45, fontsize=10)\n",
    "plt.legend(title='Models', fontsize=10, bbox_to_anchor = (1.01, 1.01))\n",
    "plt.tight_layout()\n",
    "plt.show();"
   ]
  },
  {
   "cell_type": "markdown",
   "id": "6a722cf2-d3ca-4a84-9c58-b2bc1e3dde71",
   "metadata": {},
   "source": [
    "## Cross Validation"
   ]
  },
  {
   "cell_type": "code",
   "execution_count": 168,
   "id": "57e4845a-33ec-49fd-8796-95fcd2469d9e",
   "metadata": {},
   "outputs": [],
   "source": [
    "x = transformed_x\n",
    "y = heart_df.HeartDisease.astype(int)\n",
    "x_scaled = scaler.fit_transform(x)"
   ]
  },
  {
   "cell_type": "code",
   "execution_count": 61,
   "id": "83d1b8b4-2b6f-47b3-a094-d5a547f110c5",
   "metadata": {},
   "outputs": [
    {
     "name": "stdout",
     "output_type": "stream",
     "text": [
      "\n",
      "LogisticRegression: \n",
      "accuracy: 0.827\n",
      "precision: 0.853\n",
      "recall: 0.840\n",
      "f1: 0.842\n",
      "\n",
      "SVC: \n",
      "accuracy: 0.823\n",
      "precision: 0.842\n",
      "recall: 0.850\n",
      "f1: 0.841\n",
      "\n",
      "KNeighborsClassifier: \n",
      "accuracy: 0.819\n",
      "precision: 0.841\n",
      "recall: 0.836\n",
      "f1: 0.835\n",
      "\n",
      "XGBClassifier\n",
      "accuracy: 0.828\n",
      "precision: 0.859\n",
      "recall: 0.838\n",
      "f1: 0.843\n",
      "\n",
      "LGBMClassifier\n",
      "accuracy: 0.820\n",
      "precision: 0.852\n",
      "recall: 0.831\n",
      "f1: 0.835\n",
      "\n",
      "CatBoostClassifier\n",
      "accuracy: 0.827\n",
      "precision: 0.854\n",
      "recall: 0.838\n",
      "f1: 0.841\n",
      "\n",
      "GradientBoostingClassifier\n",
      "accuracy: 0.818\n",
      "precision: 0.848\n",
      "recall: 0.828\n",
      "f1: 0.832\n",
      "\n",
      "RandomForestClassifier\n",
      "accuracy: 0.822\n",
      "precision: 0.850\n",
      "recall: 0.858\n",
      "f1: 0.846\n"
     ]
    }
   ],
   "source": [
    "models_norm = [log_reg, svm, knn]\n",
    "models_not_norm = [xgb_clf, lgbm_clf, catboost_clf, grad_clf, rand_clf]\n",
    "score_list = ['accuracy', 'precision', 'recall', 'f1']\n",
    "# For normalized data sets\n",
    "results = {}\n",
    "for mod in models_norm:\n",
    "    model_name = mod.__class__.__name__\n",
    "    results[model_name]= {}\n",
    "    for metric in score_list:\n",
    "        score = cross_val_score(estimator=mod, X=x_scaled, y=y, cv=5, scoring=metric).mean()\n",
    "        results[model_name][metric] = score\n",
    "\n",
    "for model, metrics in results.items():\n",
    "    print(f'\\n{model}: ')\n",
    "    for metric, score in metrics.items():\n",
    "        print(f'{metric}: {score:.3f}')\n",
    "\n",
    "# For not normalized Datasets\n",
    "result = {}\n",
    "for mod in models_not_norm:\n",
    "    model_name = mod.__class__.__name__\n",
    "    result[model_name]={}\n",
    "    for metric in score_list:\n",
    "        score = cross_val_score(mod, x, y, cv=5, scoring=metric).mean()\n",
    "        result[model_name][metric] = score\n",
    "for model, metric in result.items():\n",
    "    print(f'\\n{model}')\n",
    "    for metric, score in metric.items():\n",
    "        print(f'{metric}: {score:.3f}')"
   ]
  },
  {
   "cell_type": "code",
   "execution_count": 76,
   "id": "f16de3d3-3c47-4ccd-974b-c0a3a88a78ef",
   "metadata": {},
   "outputs": [
    {
     "data": {
      "text/html": [
       "<div>\n",
       "<style scoped>\n",
       "    .dataframe tbody tr th:only-of-type {\n",
       "        vertical-align: middle;\n",
       "    }\n",
       "\n",
       "    .dataframe tbody tr th {\n",
       "        vertical-align: top;\n",
       "    }\n",
       "\n",
       "    .dataframe thead th {\n",
       "        text-align: right;\n",
       "    }\n",
       "</style>\n",
       "<table border=\"1\" class=\"dataframe\">\n",
       "  <thead>\n",
       "    <tr style=\"text-align: right;\">\n",
       "      <th></th>\n",
       "      <th>accuracy</th>\n",
       "      <th>precision</th>\n",
       "      <th>recall</th>\n",
       "      <th>f1</th>\n",
       "    </tr>\n",
       "  </thead>\n",
       "  <tbody>\n",
       "    <tr>\n",
       "      <th>LogisticRegression</th>\n",
       "      <td>0.826758</td>\n",
       "      <td>0.853316</td>\n",
       "      <td>0.840478</td>\n",
       "      <td>0.841668</td>\n",
       "    </tr>\n",
       "    <tr>\n",
       "      <th>SVC</th>\n",
       "      <td>0.823450</td>\n",
       "      <td>0.842292</td>\n",
       "      <td>0.850320</td>\n",
       "      <td>0.841142</td>\n",
       "    </tr>\n",
       "    <tr>\n",
       "      <th>KNeighborsClassifier</th>\n",
       "      <td>0.819102</td>\n",
       "      <td>0.841343</td>\n",
       "      <td>0.836478</td>\n",
       "      <td>0.835275</td>\n",
       "    </tr>\n",
       "    <tr>\n",
       "      <th>XGBClassifier</th>\n",
       "      <td>0.827798</td>\n",
       "      <td>0.859072</td>\n",
       "      <td>0.838400</td>\n",
       "      <td>0.842871</td>\n",
       "    </tr>\n",
       "    <tr>\n",
       "      <th>LGBMClassifier</th>\n",
       "      <td>0.820183</td>\n",
       "      <td>0.852197</td>\n",
       "      <td>0.830538</td>\n",
       "      <td>0.834756</td>\n",
       "    </tr>\n",
       "    <tr>\n",
       "      <th>CatBoostClassifier</th>\n",
       "      <td>0.826746</td>\n",
       "      <td>0.854141</td>\n",
       "      <td>0.838459</td>\n",
       "      <td>0.840728</td>\n",
       "    </tr>\n",
       "    <tr>\n",
       "      <th>GradientBoostingClassifier</th>\n",
       "      <td>0.817979</td>\n",
       "      <td>0.848328</td>\n",
       "      <td>0.828480</td>\n",
       "      <td>0.831741</td>\n",
       "    </tr>\n",
       "    <tr>\n",
       "      <th>RandomForestClassifier</th>\n",
       "      <td>0.822363</td>\n",
       "      <td>0.850429</td>\n",
       "      <td>0.858144</td>\n",
       "      <td>0.846145</td>\n",
       "    </tr>\n",
       "  </tbody>\n",
       "</table>\n",
       "</div>"
      ],
      "text/plain": [
       "                            accuracy  precision    recall        f1\n",
       "LogisticRegression          0.826758   0.853316  0.840478  0.841668\n",
       "SVC                         0.823450   0.842292  0.850320  0.841142\n",
       "KNeighborsClassifier        0.819102   0.841343  0.836478  0.835275\n",
       "XGBClassifier               0.827798   0.859072  0.838400  0.842871\n",
       "LGBMClassifier              0.820183   0.852197  0.830538  0.834756\n",
       "CatBoostClassifier          0.826746   0.854141  0.838459  0.840728\n",
       "GradientBoostingClassifier  0.817979   0.848328  0.828480  0.831741\n",
       "RandomForestClassifier      0.822363   0.850429  0.858144  0.846145"
      ]
     },
     "execution_count": 76,
     "metadata": {},
     "output_type": "execute_result"
    }
   ],
   "source": [
    "df1 = pd.DataFrame.from_dict(results, orient='index')\n",
    "df2 = pd.DataFrame.from_dict(result, orient='index')\n",
    "df = pd.concat([df1, df2])\n",
    "df"
   ]
  },
  {
   "cell_type": "markdown",
   "id": "5570e631-6a67-4eae-a8d8-3ebc8c27a986",
   "metadata": {},
   "source": [
    "* Making short DataFrame to long for seaborn plot"
   ]
  },
  {
   "cell_type": "code",
   "execution_count": 79,
   "id": "69b99995-d9ed-4274-98f0-3dc712af8d9f",
   "metadata": {
    "scrolled": true
   },
   "outputs": [
    {
     "data": {
      "text/html": [
       "<div>\n",
       "<style scoped>\n",
       "    .dataframe tbody tr th:only-of-type {\n",
       "        vertical-align: middle;\n",
       "    }\n",
       "\n",
       "    .dataframe tbody tr th {\n",
       "        vertical-align: top;\n",
       "    }\n",
       "\n",
       "    .dataframe thead th {\n",
       "        text-align: right;\n",
       "    }\n",
       "</style>\n",
       "<table border=\"1\" class=\"dataframe\">\n",
       "  <thead>\n",
       "    <tr style=\"text-align: right;\">\n",
       "      <th></th>\n",
       "      <th>Models</th>\n",
       "      <th>Metrics</th>\n",
       "      <th>Score</th>\n",
       "    </tr>\n",
       "  </thead>\n",
       "  <tbody>\n",
       "    <tr>\n",
       "      <th>0</th>\n",
       "      <td>LogisticRegression</td>\n",
       "      <td>accuracy</td>\n",
       "      <td>0.826758</td>\n",
       "    </tr>\n",
       "    <tr>\n",
       "      <th>1</th>\n",
       "      <td>SVC</td>\n",
       "      <td>accuracy</td>\n",
       "      <td>0.823450</td>\n",
       "    </tr>\n",
       "    <tr>\n",
       "      <th>2</th>\n",
       "      <td>KNeighborsClassifier</td>\n",
       "      <td>accuracy</td>\n",
       "      <td>0.819102</td>\n",
       "    </tr>\n",
       "    <tr>\n",
       "      <th>3</th>\n",
       "      <td>XGBClassifier</td>\n",
       "      <td>accuracy</td>\n",
       "      <td>0.827798</td>\n",
       "    </tr>\n",
       "    <tr>\n",
       "      <th>4</th>\n",
       "      <td>LGBMClassifier</td>\n",
       "      <td>accuracy</td>\n",
       "      <td>0.820183</td>\n",
       "    </tr>\n",
       "    <tr>\n",
       "      <th>5</th>\n",
       "      <td>CatBoostClassifier</td>\n",
       "      <td>accuracy</td>\n",
       "      <td>0.826746</td>\n",
       "    </tr>\n",
       "    <tr>\n",
       "      <th>6</th>\n",
       "      <td>GradientBoostingClassifier</td>\n",
       "      <td>accuracy</td>\n",
       "      <td>0.817979</td>\n",
       "    </tr>\n",
       "    <tr>\n",
       "      <th>7</th>\n",
       "      <td>RandomForestClassifier</td>\n",
       "      <td>accuracy</td>\n",
       "      <td>0.822363</td>\n",
       "    </tr>\n",
       "    <tr>\n",
       "      <th>8</th>\n",
       "      <td>LogisticRegression</td>\n",
       "      <td>precision</td>\n",
       "      <td>0.853316</td>\n",
       "    </tr>\n",
       "    <tr>\n",
       "      <th>9</th>\n",
       "      <td>SVC</td>\n",
       "      <td>precision</td>\n",
       "      <td>0.842292</td>\n",
       "    </tr>\n",
       "    <tr>\n",
       "      <th>10</th>\n",
       "      <td>KNeighborsClassifier</td>\n",
       "      <td>precision</td>\n",
       "      <td>0.841343</td>\n",
       "    </tr>\n",
       "    <tr>\n",
       "      <th>11</th>\n",
       "      <td>XGBClassifier</td>\n",
       "      <td>precision</td>\n",
       "      <td>0.859072</td>\n",
       "    </tr>\n",
       "    <tr>\n",
       "      <th>12</th>\n",
       "      <td>LGBMClassifier</td>\n",
       "      <td>precision</td>\n",
       "      <td>0.852197</td>\n",
       "    </tr>\n",
       "    <tr>\n",
       "      <th>13</th>\n",
       "      <td>CatBoostClassifier</td>\n",
       "      <td>precision</td>\n",
       "      <td>0.854141</td>\n",
       "    </tr>\n",
       "    <tr>\n",
       "      <th>14</th>\n",
       "      <td>GradientBoostingClassifier</td>\n",
       "      <td>precision</td>\n",
       "      <td>0.848328</td>\n",
       "    </tr>\n",
       "    <tr>\n",
       "      <th>15</th>\n",
       "      <td>RandomForestClassifier</td>\n",
       "      <td>precision</td>\n",
       "      <td>0.850429</td>\n",
       "    </tr>\n",
       "    <tr>\n",
       "      <th>16</th>\n",
       "      <td>LogisticRegression</td>\n",
       "      <td>recall</td>\n",
       "      <td>0.840478</td>\n",
       "    </tr>\n",
       "    <tr>\n",
       "      <th>17</th>\n",
       "      <td>SVC</td>\n",
       "      <td>recall</td>\n",
       "      <td>0.850320</td>\n",
       "    </tr>\n",
       "    <tr>\n",
       "      <th>18</th>\n",
       "      <td>KNeighborsClassifier</td>\n",
       "      <td>recall</td>\n",
       "      <td>0.836478</td>\n",
       "    </tr>\n",
       "    <tr>\n",
       "      <th>19</th>\n",
       "      <td>XGBClassifier</td>\n",
       "      <td>recall</td>\n",
       "      <td>0.838400</td>\n",
       "    </tr>\n",
       "    <tr>\n",
       "      <th>20</th>\n",
       "      <td>LGBMClassifier</td>\n",
       "      <td>recall</td>\n",
       "      <td>0.830538</td>\n",
       "    </tr>\n",
       "    <tr>\n",
       "      <th>21</th>\n",
       "      <td>CatBoostClassifier</td>\n",
       "      <td>recall</td>\n",
       "      <td>0.838459</td>\n",
       "    </tr>\n",
       "    <tr>\n",
       "      <th>22</th>\n",
       "      <td>GradientBoostingClassifier</td>\n",
       "      <td>recall</td>\n",
       "      <td>0.828480</td>\n",
       "    </tr>\n",
       "    <tr>\n",
       "      <th>23</th>\n",
       "      <td>RandomForestClassifier</td>\n",
       "      <td>recall</td>\n",
       "      <td>0.858144</td>\n",
       "    </tr>\n",
       "    <tr>\n",
       "      <th>24</th>\n",
       "      <td>LogisticRegression</td>\n",
       "      <td>f1</td>\n",
       "      <td>0.841668</td>\n",
       "    </tr>\n",
       "    <tr>\n",
       "      <th>25</th>\n",
       "      <td>SVC</td>\n",
       "      <td>f1</td>\n",
       "      <td>0.841142</td>\n",
       "    </tr>\n",
       "    <tr>\n",
       "      <th>26</th>\n",
       "      <td>KNeighborsClassifier</td>\n",
       "      <td>f1</td>\n",
       "      <td>0.835275</td>\n",
       "    </tr>\n",
       "    <tr>\n",
       "      <th>27</th>\n",
       "      <td>XGBClassifier</td>\n",
       "      <td>f1</td>\n",
       "      <td>0.842871</td>\n",
       "    </tr>\n",
       "    <tr>\n",
       "      <th>28</th>\n",
       "      <td>LGBMClassifier</td>\n",
       "      <td>f1</td>\n",
       "      <td>0.834756</td>\n",
       "    </tr>\n",
       "    <tr>\n",
       "      <th>29</th>\n",
       "      <td>CatBoostClassifier</td>\n",
       "      <td>f1</td>\n",
       "      <td>0.840728</td>\n",
       "    </tr>\n",
       "    <tr>\n",
       "      <th>30</th>\n",
       "      <td>GradientBoostingClassifier</td>\n",
       "      <td>f1</td>\n",
       "      <td>0.831741</td>\n",
       "    </tr>\n",
       "    <tr>\n",
       "      <th>31</th>\n",
       "      <td>RandomForestClassifier</td>\n",
       "      <td>f1</td>\n",
       "      <td>0.846145</td>\n",
       "    </tr>\n",
       "  </tbody>\n",
       "</table>\n",
       "</div>"
      ],
      "text/plain": [
       "                        Models    Metrics     Score\n",
       "0           LogisticRegression   accuracy  0.826758\n",
       "1                          SVC   accuracy  0.823450\n",
       "2         KNeighborsClassifier   accuracy  0.819102\n",
       "3                XGBClassifier   accuracy  0.827798\n",
       "4               LGBMClassifier   accuracy  0.820183\n",
       "5           CatBoostClassifier   accuracy  0.826746\n",
       "6   GradientBoostingClassifier   accuracy  0.817979\n",
       "7       RandomForestClassifier   accuracy  0.822363\n",
       "8           LogisticRegression  precision  0.853316\n",
       "9                          SVC  precision  0.842292\n",
       "10        KNeighborsClassifier  precision  0.841343\n",
       "11               XGBClassifier  precision  0.859072\n",
       "12              LGBMClassifier  precision  0.852197\n",
       "13          CatBoostClassifier  precision  0.854141\n",
       "14  GradientBoostingClassifier  precision  0.848328\n",
       "15      RandomForestClassifier  precision  0.850429\n",
       "16          LogisticRegression     recall  0.840478\n",
       "17                         SVC     recall  0.850320\n",
       "18        KNeighborsClassifier     recall  0.836478\n",
       "19               XGBClassifier     recall  0.838400\n",
       "20              LGBMClassifier     recall  0.830538\n",
       "21          CatBoostClassifier     recall  0.838459\n",
       "22  GradientBoostingClassifier     recall  0.828480\n",
       "23      RandomForestClassifier     recall  0.858144\n",
       "24          LogisticRegression         f1  0.841668\n",
       "25                         SVC         f1  0.841142\n",
       "26        KNeighborsClassifier         f1  0.835275\n",
       "27               XGBClassifier         f1  0.842871\n",
       "28              LGBMClassifier         f1  0.834756\n",
       "29          CatBoostClassifier         f1  0.840728\n",
       "30  GradientBoostingClassifier         f1  0.831741\n",
       "31      RandomForestClassifier         f1  0.846145"
      ]
     },
     "execution_count": 79,
     "metadata": {},
     "output_type": "execute_result"
    }
   ],
   "source": [
    "df_new = df.reset_index().melt(id_vars='index', var_name='Metrics', value_name='Score')\n",
    "df_new.rename(columns={'index':'Models'}, inplace=True)\n",
    "df_new"
   ]
  },
  {
   "cell_type": "markdown",
   "id": "d4f8a604-69bf-4de7-90ba-8ab819cfb375",
   "metadata": {},
   "source": [
    "* Plotting `cross_val_score` sets"
   ]
  },
  {
   "cell_type": "code",
   "execution_count": 122,
   "id": "0ad8c170-59c6-4218-a713-522e0b6b6360",
   "metadata": {},
   "outputs": [
    {
     "data": {
      "image/png": "[encoded data removed]",
      "text/plain": [
       "<Figure size 1200x800 with 1 Axes>"
      ]
     },
     "metadata": {},
     "output_type": "display_data"
    }
   ],
   "source": [
    "plt.figure(figsize=(12, 8))\n",
    "sns.barplot(data=df_new, x='Metrics', y='Score', hue='Models', palette='dark')\n",
    "plt.title('Cross Validation Scores', fontsize=14)\n",
    "plt.xlabel('Metrices', fontsize=12)\n",
    "plt.xticks(rotation=45, fontsize=12)\n",
    "plt.legend(title='Models', bbox_to_anchor=(1.01, 1.01))\n",
    "plt.tight_layout()\n",
    "plt.show()"
   ]
  },
  {
   "cell_type": "markdown",
   "id": "aa22ae5a-42b7-4b13-82e0-dd30459b88fa",
   "metadata": {},
   "source": [
    "**ROC AUC Curve and ROC Score**"
   ]
  },
  {
   "cell_type": "code",
   "execution_count": 162,
   "id": "ff81e97c-05e9-482e-a0e5-3675cd526f12",
   "metadata": {},
   "outputs": [],
   "source": [
    "fpr, tpr, thresholds = roc_curve(y_test, y_log_tpr)"
   ]
  },
  {
   "cell_type": "code",
   "execution_count": 163,
   "id": "73f0b127-21d3-41f1-aeff-2cd27d0337e2",
   "metadata": {},
   "outputs": [
    {
     "data": {
      "image/png": "[encoded data removed]",
      "text/plain": [
       "<Figure size 640x480 with 1 Axes>"
      ]
     },
     "metadata": {},
     "output_type": "display_data"
    }
   ],
   "source": [
    "plt.plot(fpr, tpr, color='orange', ls='--', label='ROC Curve')\n",
    "plt.plot([0,1], [0,1], ls='-.', label='Random Line')\n",
    "plt.title('ROC Curve')\n",
    "plt.xlabel('FPR')\n",
    "plt.ylabel('TPR')\n",
    "plt.show()"
   ]
  },
  {
   "cell_type": "code",
   "execution_count": 118,
   "id": "8295b6cb-a591-4810-9d1c-60eb46ac1232",
   "metadata": {},
   "outputs": [
    {
     "data": {
      "text/plain": [
       "0.927"
      ]
     },
     "execution_count": 118,
     "metadata": {},
     "output_type": "execute_result"
    }
   ],
   "source": [
    "round(roc_auc_score(y_test, y_log_tpr), 3)"
   ]
  },
  {
   "cell_type": "code",
   "execution_count": 115,
   "id": "f1373ca7-063a-439f-8613-eb049eed9406",
   "metadata": {},
   "outputs": [
    {
     "data": {
      "image/png": "[encoded data removed]",
      "text/plain": [
       "<Figure size 640x480 with 1 Axes>"
      ]
     },
     "metadata": {},
     "output_type": "display_data"
    }
   ],
   "source": [
    "fpr1, tpr1, thresholds = roc_curve(y_test, y_rand_tpr)\n",
    "plt.plot(fpr1, tpr1, color='red', ls='--', label='ROC Curve')\n",
    "plt.plot([0,1], [0,1], ls='-.', label='Random Line')\n",
    "plt.title('ROC Curve')\n",
    "plt.xlabel('FPR')\n",
    "plt.ylabel('TPR')\n",
    "plt.show()"
   ]
  },
  {
   "cell_type": "code",
   "execution_count": 119,
   "id": "8e35cb77-c040-409f-b504-57dec0d0729c",
   "metadata": {},
   "outputs": [
    {
     "data": {
      "text/plain": [
       "0.946"
      ]
     },
     "execution_count": 119,
     "metadata": {},
     "output_type": "execute_result"
    }
   ],
   "source": [
    "round(roc_auc_score(y_test, y_rand_tpr), 3)"
   ]
  },
  {
   "cell_type": "markdown",
   "id": "18b02830-7d7c-4051-8701-680eb14d819c",
   "metadata": {},
   "source": [
    "**Confusion Matrix**"
   ]
  },
  {
   "cell_type": "code",
   "execution_count": 185,
   "id": "488597a7-a2a7-4a46-b6cf-c00a9b50f0f1",
   "metadata": {},
   "outputs": [],
   "source": [
    "def display_confusion_matrix(model_name, y_test, y_pred):\n",
    "    from sklearn.metrics import confusion_matrix\n",
    "    confusion_mat = confusion_matrix(y_test, y_pred)\n",
    "    print(f'Confusion Matrix for {model_name}: ')\n",
    "    print(f'{confusion_mat}\\n')"
   ]
  },
  {
   "cell_type": "code",
   "execution_count": 186,
   "id": "c2bd5188-7bf4-4997-9624-7a17c6761e10",
   "metadata": {},
   "outputs": [
    {
     "name": "stdout",
     "output_type": "stream",
     "text": [
      "Confusion Matrix for LogisticRegression: \n",
      "[[67 10]\n",
      " [17 90]]\n",
      "\n",
      "Confusion Matrix for SVC: \n",
      "[[68  9]\n",
      " [11 96]]\n",
      "\n",
      "Confusion Matrix for KNeighboursClassifier: \n",
      "[[68  9]\n",
      " [11 96]]\n",
      "\n",
      "Confusion Matrix for XGBClassifier: \n",
      "[[68  9]\n",
      " [11 96]]\n",
      "\n",
      "Confusion Matrix for LGBMClassifier: \n",
      "[[69  8]\n",
      " [13 94]]\n",
      "\n",
      "Confusion Matrix for CatBoostClassifier: \n",
      "[[69  8]\n",
      " [13 94]]\n",
      "\n",
      "Confusion Matrix for GradientBoostingClassifier: \n",
      "[[69  8]\n",
      " [15 92]]\n",
      "\n",
      "Confusion Matrix for RandomForestClassifier: \n",
      "[[68  9]\n",
      " [14 93]]\n",
      "\n"
     ]
    }
   ],
   "source": [
    "conf_mat = {\n",
    "    'LogisticRegression': display_confusion_matrix('LogisticRegression', y_test, y_log_pred),\n",
    "    'SVC': display_confusion_matrix('SVC', y_test, y_svm_pred),\n",
    "    'KNeighboursClassifier': display_confusion_matrix('KNeighboursClassifier', y_test, y_svm_pred),\n",
    "    'XGBClassifier': display_confusion_matrix('XGBClassifier', y_test, y_xgb_pred),\n",
    "    'LGBMClassifier': display_confusion_matrix('LGBMClassifier', y_test, y_lgbm_pred),\n",
    "    'CatBoostClassifier': display_confusion_matrix('CatBoostClassifier', y_test, y_cat_pred),\n",
    "    'GradientBoostingClassifier': display_confusion_matrix('GradientBoostingClassifier', y_test, y_gradient_pred),\n",
    "    'RandomForestClassifier': display_confusion_matrix('RandomForestClassifier', y_test, y_rand_pred)\n",
    "}"
   ]
  },
  {
   "cell_type": "code",
   "execution_count": 157,
   "id": "9d6c70a1-04e6-415a-a007-9185f9e71973",
   "metadata": {},
   "outputs": [],
   "source": [
    "from sklearn.metrics import confusion_matrix\n",
    "confusion_mat = confusion_matrix(y_test, y_rand_pred)"
   ]
  },
  {
   "cell_type": "code",
   "execution_count": 159,
   "id": "5f77f7ab-32a7-4a92-8efe-0402a5106fa5",
   "metadata": {},
   "outputs": [
    {
     "data": {
      "image/png": "[encoded data removed]",
      "text/plain": [
       "<Figure size 640x480 with 2 Axes>"
      ]
     },
     "metadata": {},
     "output_type": "display_data"
    }
   ],
   "source": [
    "sns.heatmap(confusion_mat, annot=True, cmap='winter');"
   ]
  },
  {
   "cell_type": "markdown",
   "id": "5f8f0a9b-da5f-4a73-a7e2-7578dc12481d",
   "metadata": {},
   "source": [
    "**Confusion Matrix using `crosstab()`**"
   ]
  },
  {
   "cell_type": "code",
   "execution_count": 167,
   "id": "bc221d0d-e2f3-4eb9-bd13-5ca730c561a7",
   "metadata": {},
   "outputs": [
    {
     "data": {
      "text/html": [
       "<div>\n",
       "<style scoped>\n",
       "    .dataframe tbody tr th:only-of-type {\n",
       "        vertical-align: middle;\n",
       "    }\n",
       "\n",
       "    .dataframe tbody tr th {\n",
       "        vertical-align: top;\n",
       "    }\n",
       "\n",
       "    .dataframe thead th {\n",
       "        text-align: right;\n",
       "    }\n",
       "</style>\n",
       "<table border=\"1\" class=\"dataframe\">\n",
       "  <thead>\n",
       "    <tr style=\"text-align: right;\">\n",
       "      <th>Predicted Labels</th>\n",
       "      <th>0</th>\n",
       "      <th>1</th>\n",
       "    </tr>\n",
       "    <tr>\n",
       "      <th>Actual Labels</th>\n",
       "      <th></th>\n",
       "      <th></th>\n",
       "    </tr>\n",
       "  </thead>\n",
       "  <tbody>\n",
       "    <tr>\n",
       "      <th>0</th>\n",
       "      <td>68</td>\n",
       "      <td>9</td>\n",
       "    </tr>\n",
       "    <tr>\n",
       "      <th>1</th>\n",
       "      <td>14</td>\n",
       "      <td>93</td>\n",
       "    </tr>\n",
       "  </tbody>\n",
       "</table>\n",
       "</div>"
      ],
      "text/plain": [
       "Predicted Labels   0   1\n",
       "Actual Labels           \n",
       "0                 68   9\n",
       "1                 14  93"
      ]
     },
     "execution_count": 167,
     "metadata": {},
     "output_type": "execute_result"
    }
   ],
   "source": [
    "pd.crosstab(y_test, y_rand_pred, rownames=['Actual Labels'], colnames=['Predicted Labels'])"
   ]
  },
  {
   "cell_type": "code",
   "execution_count": 171,
   "id": "fd6d8020-d6a2-4de9-8981-47766b6873ed",
   "metadata": {},
   "outputs": [
    {
     "data": {
      "image/png": "[encoded data removed]",
      "text/plain": [
       "<Figure size 640x480 with 2 Axes>"
      ]
     },
     "metadata": {},
     "output_type": "display_data"
    }
   ],
   "source": [
    "from sklearn.metrics import ConfusionMatrixDisplay\n",
    "ConfusionMatrixDisplay.from_estimator(rand_clf, x, y, cmap='inferno');"
   ]
  },
  {
   "cell_type": "code",
   "execution_count": 173,
   "id": "83c0f81b-9f65-4bca-89be-7bf1c0a2cbd8",
   "metadata": {},
   "outputs": [
    {
     "data": {
      "image/png": "[encoded data removed]",
      "text/plain": [
       "<Figure size 640x480 with 2 Axes>"
      ]
     },
     "metadata": {},
     "output_type": "display_data"
    }
   ],
   "source": [
    "ConfusionMatrixDisplay.from_predictions(y_test, y_rand_pred, cmap='winter');"
   ]
  },
  {
   "cell_type": "markdown",
   "id": "4b475fb3-75aa-40c8-926c-58981aa81437",
   "metadata": {},
   "source": [
    "**Classification Report**"
   ]
  },
  {
   "cell_type": "code",
   "execution_count": 181,
   "id": "715ef58e-a116-4cf4-9a4a-0f652e9ad13d",
   "metadata": {},
   "outputs": [
    {
     "name": "stdout",
     "output_type": "stream",
     "text": [
      "Classification Report for LogisticRegression: \n",
      "              precision    recall  f1-score   support\n",
      "\n",
      "           0       0.83      0.88      0.86        77\n",
      "           1       0.91      0.87      0.89       107\n",
      "\n",
      "    accuracy                           0.88       184\n",
      "   macro avg       0.87      0.88      0.87       184\n",
      "weighted avg       0.88      0.88      0.88       184\n",
      "\n",
      "\n",
      "Classification Report for SVC: \n",
      "              precision    recall  f1-score   support\n",
      "\n",
      "           0       0.83      0.88      0.86        77\n",
      "           1       0.91      0.87      0.89       107\n",
      "\n",
      "    accuracy                           0.88       184\n",
      "   macro avg       0.87      0.88      0.87       184\n",
      "weighted avg       0.88      0.88      0.88       184\n",
      "\n",
      "\n",
      "Classification Report for KNeighbors: \n",
      "              precision    recall  f1-score   support\n",
      "\n",
      "           0       0.83      0.88      0.86        77\n",
      "           1       0.91      0.87      0.89       107\n",
      "\n",
      "    accuracy                           0.88       184\n",
      "   macro avg       0.87      0.88      0.87       184\n",
      "weighted avg       0.88      0.88      0.88       184\n",
      "\n",
      "\n",
      "Classification Report for XGBClassifier: \n",
      "              precision    recall  f1-score   support\n",
      "\n",
      "           0       0.83      0.88      0.86        77\n",
      "           1       0.91      0.87      0.89       107\n",
      "\n",
      "    accuracy                           0.88       184\n",
      "   macro avg       0.87      0.88      0.87       184\n",
      "weighted avg       0.88      0.88      0.88       184\n",
      "\n",
      "\n",
      "Classification Report for LGBMClassifier: \n",
      "              precision    recall  f1-score   support\n",
      "\n",
      "           0       0.83      0.88      0.86        77\n",
      "           1       0.91      0.87      0.89       107\n",
      "\n",
      "    accuracy                           0.88       184\n",
      "   macro avg       0.87      0.88      0.87       184\n",
      "weighted avg       0.88      0.88      0.88       184\n",
      "\n",
      "\n",
      "Classification Report for CatBoostClassifier: \n",
      "              precision    recall  f1-score   support\n",
      "\n",
      "           0       0.83      0.88      0.86        77\n",
      "           1       0.91      0.87      0.89       107\n",
      "\n",
      "    accuracy                           0.88       184\n",
      "   macro avg       0.87      0.88      0.87       184\n",
      "weighted avg       0.88      0.88      0.88       184\n",
      "\n",
      "\n",
      "Classification Report for GradientBoostingClassifier: \n",
      "              precision    recall  f1-score   support\n",
      "\n",
      "           0       0.83      0.88      0.86        77\n",
      "           1       0.91      0.87      0.89       107\n",
      "\n",
      "    accuracy                           0.88       184\n",
      "   macro avg       0.87      0.88      0.87       184\n",
      "weighted avg       0.88      0.88      0.88       184\n",
      "\n",
      "\n",
      "Classification Report for RandomForestClassifier: \n",
      "              precision    recall  f1-score   support\n",
      "\n",
      "           0       0.83      0.88      0.86        77\n",
      "           1       0.91      0.87      0.89       107\n",
      "\n",
      "    accuracy                           0.88       184\n",
      "   macro avg       0.87      0.88      0.87       184\n",
      "weighted avg       0.88      0.88      0.88       184\n",
      "\n",
      "\n"
     ]
    }
   ],
   "source": [
    "def display_class_report(model_name, y_test, y_pred):\n",
    "    classi_report = classification_report(y_test, y_rand_pred)\n",
    "    print(f'Classification Report for {model_name}: ')\n",
    "    print(f'{classi_report}\\n')\n",
    "\n",
    "class_report = {\n",
    "    'LogisticRegression': display_class_report('LogisticRegression', y_test, y_log_pred),\n",
    "    'SVC': display_class_report('SVC', y_test, y_svm_pred),\n",
    "    'KNeighboursClassifier': display_class_report('KNeighbors', y_test, y_svm_pred),\n",
    "    'XGBClassifier': display_class_report('XGBClassifier', y_test, y_xgb_pred),\n",
    "    'LGBMClassifier': display_class_report('LGBMClassifier', y_test, y_lgbm_pred),\n",
    "    'CatBoostClassifier': display_class_report('CatBoostClassifier', y_test, y_cat_pred),\n",
    "    'GradientBoostingClassifier': display_class_report('GradientBoostingClassifier', y_test, y_gradient_pred),\n",
    "    'RandomForestClassifier': display_class_report('RandomForestClassifier', y_test, y_rand_pred)\n",
    "}"
   ]
  },
  {
   "cell_type": "code",
   "execution_count": null,
   "id": "5c0db220-aa4c-434c-98f2-80820764bb21",
   "metadata": {},
   "outputs": [],
   "source": []
  }
 ],
 "metadata": {
  "kernelspec": {
   "display_name": "Python 3 (ipykernel)",
   "language": "python",
   "name": "python3"
  },
  "language_info": {
   "codemirror_mode": {
    "name": "ipython",
    "version": 3
   },
   "file_extension": ".py",
   "mimetype": "text/x-python",
   "name": "python",
   "nbconvert_exporter": "python",
   "pygments_lexer": "ipython3",
   "version": "3.12.7"
  }
 },
 "nbformat": 4,
 "nbformat_minor": 5
}
