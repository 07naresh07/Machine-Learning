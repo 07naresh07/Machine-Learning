{
 "cells": [
  {
   "cell_type": "code",
   "execution_count": 220,
   "id": "2e0bd098-990c-4ebf-9942-b89471f13585",
   "metadata": {},
   "outputs": [],
   "source": [
    "import numpy as np\n",
    "import pandas as pd\n",
    "import seaborn as sns\n",
    "import matplotlib.pyplot as plt\n",
    "from sklearn.model_selection import train_test_split, cross_val_score\n",
    "from sklearn.ensemble import RandomForestClassifier, GradientBoostingClassifier\n",
    "from sklearn.linear_model import LogisticRegression\n",
    "from sklearn.neighbors import KNeighborsClassifier\n",
    "from xgboost import XGBClassifier\n",
    "from lightgbm import LGBMClassifier\n",
    "from catboost import CatBoostClassifier\n",
    "from sklearn.decomposition import PCA\n",
    "from sklearn.svm import SVC\n",
    "from sklearn.datasets import load_digits\n",
    "from sklearn.preprocessing import OneHotEncoder, StandardScaler\n",
    "from sklearn.compose import ColumnTransformer\n",
    "from sklearn.impute import SimpleImputer\n",
    "from sklearn.metrics import confusion_matrix, roc_auc_score, roc_curve, recall_score, precision_score, f1_score, accuracy_score, classification_report"
   ]
  },
  {
   "cell_type": "code",
   "execution_count": 221,
   "id": "00dbd9c1-6017-4d27-b5cc-0feb4b8c0f2f",
   "metadata": {},
   "outputs": [
    {
     "data": {
      "text/html": [
       "<div>\n",
       "<style scoped>\n",
       "    .dataframe tbody tr th:only-of-type {\n",
       "        vertical-align: middle;\n",
       "    }\n",
       "\n",
       "    .dataframe tbody tr th {\n",
       "        vertical-align: top;\n",
       "    }\n",
       "\n",
       "    .dataframe thead th {\n",
       "        text-align: right;\n",
       "    }\n",
       "</style>\n",
       "<table border=\"1\" class=\"dataframe\">\n",
       "  <thead>\n",
       "    <tr style=\"text-align: right;\">\n",
       "      <th></th>\n",
       "      <th>Gender</th>\n",
       "      <th>Age</th>\n",
       "      <th>Height</th>\n",
       "      <th>Weight</th>\n",
       "      <th>family_history</th>\n",
       "      <th>FAVC</th>\n",
       "      <th>FCVC</th>\n",
       "      <th>NCP</th>\n",
       "      <th>CAEC</th>\n",
       "      <th>SMOKE</th>\n",
       "      <th>CH2O</th>\n",
       "      <th>SCC</th>\n",
       "      <th>FAF</th>\n",
       "      <th>TUE</th>\n",
       "      <th>CALC</th>\n",
       "      <th>MTRANS</th>\n",
       "      <th>Obesity</th>\n",
       "    </tr>\n",
       "  </thead>\n",
       "  <tbody>\n",
       "    <tr>\n",
       "      <th>0</th>\n",
       "      <td>Female</td>\n",
       "      <td>21.0</td>\n",
       "      <td>1.62</td>\n",
       "      <td>64.0</td>\n",
       "      <td>yes</td>\n",
       "      <td>no</td>\n",
       "      <td>2.0</td>\n",
       "      <td>3.0</td>\n",
       "      <td>Sometimes</td>\n",
       "      <td>no</td>\n",
       "      <td>2.0</td>\n",
       "      <td>no</td>\n",
       "      <td>NaN</td>\n",
       "      <td>NaN</td>\n",
       "      <td>no</td>\n",
       "      <td>Public_Transportation</td>\n",
       "      <td>Normal_Weight</td>\n",
       "    </tr>\n",
       "    <tr>\n",
       "      <th>1</th>\n",
       "      <td>Female</td>\n",
       "      <td>21.0</td>\n",
       "      <td>1.52</td>\n",
       "      <td>56.0</td>\n",
       "      <td>yes</td>\n",
       "      <td>no</td>\n",
       "      <td>3.0</td>\n",
       "      <td>3.0</td>\n",
       "      <td>Sometimes</td>\n",
       "      <td>yes</td>\n",
       "      <td>3.0</td>\n",
       "      <td>yes</td>\n",
       "      <td>3.0</td>\n",
       "      <td>0.0</td>\n",
       "      <td>Sometimes</td>\n",
       "      <td>Public_Transportation</td>\n",
       "      <td>Normal_Weight</td>\n",
       "    </tr>\n",
       "    <tr>\n",
       "      <th>2</th>\n",
       "      <td>NaN</td>\n",
       "      <td>23.0</td>\n",
       "      <td>1.80</td>\n",
       "      <td>77.0</td>\n",
       "      <td>yes</td>\n",
       "      <td>no</td>\n",
       "      <td>2.0</td>\n",
       "      <td>3.0</td>\n",
       "      <td>Sometimes</td>\n",
       "      <td>no</td>\n",
       "      <td>2.0</td>\n",
       "      <td>no</td>\n",
       "      <td>2.0</td>\n",
       "      <td>1.0</td>\n",
       "      <td>Frequently</td>\n",
       "      <td>NaN</td>\n",
       "      <td>Normal_Weight</td>\n",
       "    </tr>\n",
       "    <tr>\n",
       "      <th>3</th>\n",
       "      <td>Male</td>\n",
       "      <td>27.0</td>\n",
       "      <td>NaN</td>\n",
       "      <td>87.0</td>\n",
       "      <td>no</td>\n",
       "      <td>no</td>\n",
       "      <td>3.0</td>\n",
       "      <td>3.0</td>\n",
       "      <td>Sometimes</td>\n",
       "      <td>no</td>\n",
       "      <td>2.0</td>\n",
       "      <td>no</td>\n",
       "      <td>2.0</td>\n",
       "      <td>0.0</td>\n",
       "      <td>Frequently</td>\n",
       "      <td>Walking</td>\n",
       "      <td>Overweight_Level_I</td>\n",
       "    </tr>\n",
       "    <tr>\n",
       "      <th>4</th>\n",
       "      <td>Male</td>\n",
       "      <td>22.0</td>\n",
       "      <td>1.78</td>\n",
       "      <td>89.8</td>\n",
       "      <td>no</td>\n",
       "      <td>no</td>\n",
       "      <td>2.0</td>\n",
       "      <td>1.0</td>\n",
       "      <td>Sometimes</td>\n",
       "      <td>no</td>\n",
       "      <td>2.0</td>\n",
       "      <td>no</td>\n",
       "      <td>0.0</td>\n",
       "      <td>0.0</td>\n",
       "      <td>Sometimes</td>\n",
       "      <td>Public_Transportation</td>\n",
       "      <td>Overweight_Level_II</td>\n",
       "    </tr>\n",
       "  </tbody>\n",
       "</table>\n",
       "</div>"
      ],
      "text/plain": [
       "   Gender   Age  Height  Weight family_history FAVC  FCVC  NCP       CAEC  \\\n",
       "0  Female  21.0    1.62    64.0            yes   no   2.0  3.0  Sometimes   \n",
       "1  Female  21.0    1.52    56.0            yes   no   3.0  3.0  Sometimes   \n",
       "2     NaN  23.0    1.80    77.0            yes   no   2.0  3.0  Sometimes   \n",
       "3    Male  27.0     NaN    87.0             no   no   3.0  3.0  Sometimes   \n",
       "4    Male  22.0    1.78    89.8             no   no   2.0  1.0  Sometimes   \n",
       "\n",
       "  SMOKE  CH2O  SCC  FAF  TUE        CALC                 MTRANS  \\\n",
       "0    no   2.0   no  NaN  NaN          no  Public_Transportation   \n",
       "1   yes   3.0  yes  3.0  0.0   Sometimes  Public_Transportation   \n",
       "2    no   2.0   no  2.0  1.0  Frequently                    NaN   \n",
       "3    no   2.0   no  2.0  0.0  Frequently                Walking   \n",
       "4    no   2.0   no  0.0  0.0   Sometimes  Public_Transportation   \n",
       "\n",
       "               Obesity  \n",
       "0        Normal_Weight  \n",
       "1        Normal_Weight  \n",
       "2        Normal_Weight  \n",
       "3   Overweight_Level_I  \n",
       "4  Overweight_Level_II  "
      ]
     },
     "execution_count": 221,
     "metadata": {},
     "output_type": "execute_result"
    }
   ],
   "source": [
    "obesity = pd.read_csv('ObesityPrediction.csv')\n",
    "obesity.head()"
   ]
  },
  {
   "cell_type": "code",
   "execution_count": 222,
   "id": "ffe719f9-39df-4863-9d59-fd6bb6002719",
   "metadata": {},
   "outputs": [
    {
     "data": {
      "text/plain": [
       "Gender            123\n",
       "Age               114\n",
       "Height            101\n",
       "Weight            119\n",
       "family_history    110\n",
       "FAVC               99\n",
       "FCVC               88\n",
       "NCP               125\n",
       "CAEC              115\n",
       "SMOKE             103\n",
       "CH2O              102\n",
       "SCC               118\n",
       "FAF               102\n",
       "TUE               129\n",
       "CALC              127\n",
       "MTRANS             96\n",
       "Obesity             0\n",
       "dtype: int64"
      ]
     },
     "execution_count": 222,
     "metadata": {},
     "output_type": "execute_result"
    }
   ],
   "source": [
    "obesity.isna().sum()"
   ]
  },
  {
   "cell_type": "markdown",
   "id": "891238dc-fcc6-4bd3-9e4f-b074ae802043",
   "metadata": {},
   "source": [
    "**Mapping Target column with relevant values**"
   ]
  },
  {
   "cell_type": "code",
   "execution_count": 223,
   "id": "1fe5c80b-1a4b-4925-87f8-4b601a914b9b",
   "metadata": {},
   "outputs": [],
   "source": [
    "# Mapping 'Obesity' Column to 1-Overweight and 0-Normalweight\n",
    "obesity['Obesity'] = obesity['Obesity'].map({'Normal_Weight':0, 'Overweight_Level_I':1, 'Overweight_Level_II':2, 'Obesity_Type_I':3, \n",
    "                                             'Insufficient_Weight':4, 'Obesity_Type_II':5, 'Obesity_Type_III':6})"
   ]
  },
  {
   "cell_type": "markdown",
   "id": "ae6598ae-8a98-42ed-9802-971e2826d4be",
   "metadata": {},
   "source": [
    "**Separating categorical and numerica columns**"
   ]
  },
  {
   "cell_type": "code",
   "execution_count": 224,
   "id": "822af830-5669-4436-92ff-ec316fb38e79",
   "metadata": {},
   "outputs": [],
   "source": [
    "category_features = [col for col in obesity.columns if obesity[col].dropna().apply(lambda x: isinstance(x, str)).all()]\n",
    "numeric_features = [col for col in obesity.columns if obesity[col].dropna().apply(lambda x: isinstance(x, (int, float))).all()]"
   ]
  },
  {
   "cell_type": "markdown",
   "id": "a433430b-1cdd-4abe-8756-99aa609d15af",
   "metadata": {},
   "source": [
    "**Filling Missing Values with SimpleImputer**"
   ]
  },
  {
   "cell_type": "code",
   "execution_count": 225,
   "id": "726f5c22-01f5-4cec-8a27-90ca20cfa40c",
   "metadata": {},
   "outputs": [],
   "source": [
    "cat_imputer = SimpleImputer(strategy='most_frequent')\n",
    "num_imputer = SimpleImputer(strategy='mean')\n",
    "oneHot = OneHotEncoder()"
   ]
  },
  {
   "cell_type": "code",
   "execution_count": 226,
   "id": "0c435fdb-76af-40f1-8069-c8779b4a70e9",
   "metadata": {},
   "outputs": [],
   "source": [
    "fill = ColumnTransformer([('categorical_filling', cat_imputer, category_features),\n",
    "                                ('numerical_filling', num_imputer, numeric_features)],\n",
    "                               remainder='passthrough')\n",
    "filled_value = fill.fit_transform(obesity)"
   ]
  },
  {
   "cell_type": "markdown",
   "id": "ec645546-6a5e-42f0-b9ea-5da72d2401ba",
   "metadata": {},
   "source": [
    "**Creating DataFrame out of filled values**"
   ]
  },
  {
   "cell_type": "code",
   "execution_count": 227,
   "id": "60f8e27b-582c-4762-94ec-ad8e56b80781",
   "metadata": {},
   "outputs": [],
   "source": [
    "filled_df = pd.DataFrame(filled_value, columns=category_features+numeric_features).round(2)"
   ]
  },
  {
   "cell_type": "markdown",
   "id": "8cbc7b5e-346f-43c8-8895-ce5ec248811e",
   "metadata": {},
   "source": [
    "**Making column appearance or order accoring to the original column patterns**"
   ]
  },
  {
   "cell_type": "code",
   "execution_count": 228,
   "id": "bab9d5da-c9b6-427b-afb7-e42d461cb3e7",
   "metadata": {},
   "outputs": [
    {
     "data": {
      "text/html": [
       "<div>\n",
       "<style scoped>\n",
       "    .dataframe tbody tr th:only-of-type {\n",
       "        vertical-align: middle;\n",
       "    }\n",
       "\n",
       "    .dataframe tbody tr th {\n",
       "        vertical-align: top;\n",
       "    }\n",
       "\n",
       "    .dataframe thead th {\n",
       "        text-align: right;\n",
       "    }\n",
       "</style>\n",
       "<table border=\"1\" class=\"dataframe\">\n",
       "  <thead>\n",
       "    <tr style=\"text-align: right;\">\n",
       "      <th></th>\n",
       "      <th>Gender</th>\n",
       "      <th>Age</th>\n",
       "      <th>Height</th>\n",
       "      <th>Weight</th>\n",
       "      <th>family_history</th>\n",
       "      <th>FAVC</th>\n",
       "      <th>FCVC</th>\n",
       "      <th>NCP</th>\n",
       "      <th>CAEC</th>\n",
       "      <th>SMOKE</th>\n",
       "      <th>CH2O</th>\n",
       "      <th>SCC</th>\n",
       "      <th>FAF</th>\n",
       "      <th>TUE</th>\n",
       "      <th>CALC</th>\n",
       "      <th>MTRANS</th>\n",
       "      <th>Obesity</th>\n",
       "    </tr>\n",
       "  </thead>\n",
       "  <tbody>\n",
       "    <tr>\n",
       "      <th>0</th>\n",
       "      <td>Female</td>\n",
       "      <td>21.0</td>\n",
       "      <td>1.62</td>\n",
       "      <td>64.0</td>\n",
       "      <td>yes</td>\n",
       "      <td>no</td>\n",
       "      <td>2.0</td>\n",
       "      <td>3.0</td>\n",
       "      <td>Sometimes</td>\n",
       "      <td>no</td>\n",
       "      <td>2.0</td>\n",
       "      <td>no</td>\n",
       "      <td>1.003953</td>\n",
       "      <td>0.653087</td>\n",
       "      <td>no</td>\n",
       "      <td>Public_Transportation</td>\n",
       "      <td>0.0</td>\n",
       "    </tr>\n",
       "    <tr>\n",
       "      <th>1</th>\n",
       "      <td>Female</td>\n",
       "      <td>21.0</td>\n",
       "      <td>1.52</td>\n",
       "      <td>56.0</td>\n",
       "      <td>yes</td>\n",
       "      <td>no</td>\n",
       "      <td>3.0</td>\n",
       "      <td>3.0</td>\n",
       "      <td>Sometimes</td>\n",
       "      <td>yes</td>\n",
       "      <td>3.0</td>\n",
       "      <td>yes</td>\n",
       "      <td>3.0</td>\n",
       "      <td>0.0</td>\n",
       "      <td>Sometimes</td>\n",
       "      <td>Public_Transportation</td>\n",
       "      <td>0.0</td>\n",
       "    </tr>\n",
       "    <tr>\n",
       "      <th>2</th>\n",
       "      <td>Male</td>\n",
       "      <td>23.0</td>\n",
       "      <td>1.8</td>\n",
       "      <td>77.0</td>\n",
       "      <td>yes</td>\n",
       "      <td>no</td>\n",
       "      <td>2.0</td>\n",
       "      <td>3.0</td>\n",
       "      <td>Sometimes</td>\n",
       "      <td>no</td>\n",
       "      <td>2.0</td>\n",
       "      <td>no</td>\n",
       "      <td>2.0</td>\n",
       "      <td>1.0</td>\n",
       "      <td>Frequently</td>\n",
       "      <td>Public_Transportation</td>\n",
       "      <td>0.0</td>\n",
       "    </tr>\n",
       "    <tr>\n",
       "      <th>3</th>\n",
       "      <td>Male</td>\n",
       "      <td>27.0</td>\n",
       "      <td>1.702195</td>\n",
       "      <td>87.0</td>\n",
       "      <td>no</td>\n",
       "      <td>no</td>\n",
       "      <td>3.0</td>\n",
       "      <td>3.0</td>\n",
       "      <td>Sometimes</td>\n",
       "      <td>no</td>\n",
       "      <td>2.0</td>\n",
       "      <td>no</td>\n",
       "      <td>2.0</td>\n",
       "      <td>0.0</td>\n",
       "      <td>Frequently</td>\n",
       "      <td>Walking</td>\n",
       "      <td>1.0</td>\n",
       "    </tr>\n",
       "    <tr>\n",
       "      <th>4</th>\n",
       "      <td>Male</td>\n",
       "      <td>22.0</td>\n",
       "      <td>1.78</td>\n",
       "      <td>89.8</td>\n",
       "      <td>no</td>\n",
       "      <td>no</td>\n",
       "      <td>2.0</td>\n",
       "      <td>1.0</td>\n",
       "      <td>Sometimes</td>\n",
       "      <td>no</td>\n",
       "      <td>2.0</td>\n",
       "      <td>no</td>\n",
       "      <td>0.0</td>\n",
       "      <td>0.0</td>\n",
       "      <td>Sometimes</td>\n",
       "      <td>Public_Transportation</td>\n",
       "      <td>2.0</td>\n",
       "    </tr>\n",
       "  </tbody>\n",
       "</table>\n",
       "</div>"
      ],
      "text/plain": [
       "   Gender   Age    Height Weight family_history FAVC FCVC  NCP       CAEC  \\\n",
       "0  Female  21.0      1.62   64.0            yes   no  2.0  3.0  Sometimes   \n",
       "1  Female  21.0      1.52   56.0            yes   no  3.0  3.0  Sometimes   \n",
       "2    Male  23.0       1.8   77.0            yes   no  2.0  3.0  Sometimes   \n",
       "3    Male  27.0  1.702195   87.0             no   no  3.0  3.0  Sometimes   \n",
       "4    Male  22.0      1.78   89.8             no   no  2.0  1.0  Sometimes   \n",
       "\n",
       "  SMOKE CH2O  SCC       FAF       TUE        CALC                 MTRANS  \\\n",
       "0    no  2.0   no  1.003953  0.653087          no  Public_Transportation   \n",
       "1   yes  3.0  yes       3.0       0.0   Sometimes  Public_Transportation   \n",
       "2    no  2.0   no       2.0       1.0  Frequently  Public_Transportation   \n",
       "3    no  2.0   no       2.0       0.0  Frequently                Walking   \n",
       "4    no  2.0   no       0.0       0.0   Sometimes  Public_Transportation   \n",
       "\n",
       "  Obesity  \n",
       "0     0.0  \n",
       "1     0.0  \n",
       "2     0.0  \n",
       "3     1.0  \n",
       "4     2.0  "
      ]
     },
     "execution_count": 228,
     "metadata": {},
     "output_type": "execute_result"
    }
   ],
   "source": [
    "obesity_df = filled_df[obesity.columns]\n",
    "obesity_df.head()"
   ]
  },
  {
   "cell_type": "markdown",
   "id": "39752f45-9ecc-42cb-9607-340fe4e660ac",
   "metadata": {},
   "source": [
    "**Splitting x and y value**"
   ]
  },
  {
   "cell_type": "code",
   "execution_count": 229,
   "id": "0369a716-2ad4-4e74-a067-50405706a0ac",
   "metadata": {},
   "outputs": [],
   "source": [
    "X = obesity_df.drop(columns=['Obesity'])\n",
    "y = obesity_df.Obesity.astype(int)"
   ]
  },
  {
   "cell_type": "markdown",
   "id": "078d703e-e0cc-4fe5-aac2-e3ceee9e854b",
   "metadata": {},
   "source": [
    "**Category Transform: Changing string value to numeric values**"
   ]
  },
  {
   "cell_type": "code",
   "execution_count": 230,
   "id": "0d604ef2-39f7-4ff3-aba6-7ad77ee29b89",
   "metadata": {},
   "outputs": [],
   "source": [
    "transformer = ColumnTransformer([('cat_conversion', oneHot, category_features)],\n",
    "                                remainder = 'passthrough')\n",
    "transformed_data = transformer.fit_transform(X)"
   ]
  },
  {
   "cell_type": "code",
   "execution_count": 231,
   "id": "49d0fb86-1bbe-463f-a609-3420222eece7",
   "metadata": {},
   "outputs": [],
   "source": [
    "# Skimming floating values to 2-decimal places\n",
    "transformed_x = pd.DataFrame(transformed_data).map(lambda col: round(col, 2) if isinstance(col, (int, float)) else col)"
   ]
  },
  {
   "cell_type": "code",
   "execution_count": 232,
   "id": "3e71b812-2f71-4d37-b829-930d7d23328b",
   "metadata": {},
   "outputs": [
    {
     "data": {
      "text/html": [
       "<div>\n",
       "<style scoped>\n",
       "    .dataframe tbody tr th:only-of-type {\n",
       "        vertical-align: middle;\n",
       "    }\n",
       "\n",
       "    .dataframe tbody tr th {\n",
       "        vertical-align: top;\n",
       "    }\n",
       "\n",
       "    .dataframe thead th {\n",
       "        text-align: right;\n",
       "    }\n",
       "</style>\n",
       "<table border=\"1\" class=\"dataframe\">\n",
       "  <thead>\n",
       "    <tr style=\"text-align: right;\">\n",
       "      <th></th>\n",
       "      <th>0</th>\n",
       "      <th>1</th>\n",
       "      <th>2</th>\n",
       "      <th>3</th>\n",
       "      <th>4</th>\n",
       "      <th>5</th>\n",
       "      <th>6</th>\n",
       "      <th>7</th>\n",
       "      <th>8</th>\n",
       "      <th>9</th>\n",
       "      <th>...</th>\n",
       "      <th>21</th>\n",
       "      <th>22</th>\n",
       "      <th>23</th>\n",
       "      <th>24</th>\n",
       "      <th>25</th>\n",
       "      <th>26</th>\n",
       "      <th>27</th>\n",
       "      <th>28</th>\n",
       "      <th>29</th>\n",
       "      <th>30</th>\n",
       "    </tr>\n",
       "  </thead>\n",
       "  <tbody>\n",
       "    <tr>\n",
       "      <th>0</th>\n",
       "      <td>1.0</td>\n",
       "      <td>0.0</td>\n",
       "      <td>0.0</td>\n",
       "      <td>1.0</td>\n",
       "      <td>1.0</td>\n",
       "      <td>0.0</td>\n",
       "      <td>0.0</td>\n",
       "      <td>0.0</td>\n",
       "      <td>1.0</td>\n",
       "      <td>0.0</td>\n",
       "      <td>...</td>\n",
       "      <td>1.0</td>\n",
       "      <td>0.0</td>\n",
       "      <td>21.0</td>\n",
       "      <td>1.62</td>\n",
       "      <td>64.0</td>\n",
       "      <td>2.0</td>\n",
       "      <td>3.0</td>\n",
       "      <td>2.0</td>\n",
       "      <td>1.0</td>\n",
       "      <td>0.65</td>\n",
       "    </tr>\n",
       "    <tr>\n",
       "      <th>1</th>\n",
       "      <td>1.0</td>\n",
       "      <td>0.0</td>\n",
       "      <td>0.0</td>\n",
       "      <td>1.0</td>\n",
       "      <td>1.0</td>\n",
       "      <td>0.0</td>\n",
       "      <td>0.0</td>\n",
       "      <td>0.0</td>\n",
       "      <td>1.0</td>\n",
       "      <td>0.0</td>\n",
       "      <td>...</td>\n",
       "      <td>1.0</td>\n",
       "      <td>0.0</td>\n",
       "      <td>21.0</td>\n",
       "      <td>1.52</td>\n",
       "      <td>56.0</td>\n",
       "      <td>3.0</td>\n",
       "      <td>3.0</td>\n",
       "      <td>3.0</td>\n",
       "      <td>3.0</td>\n",
       "      <td>0.00</td>\n",
       "    </tr>\n",
       "    <tr>\n",
       "      <th>2</th>\n",
       "      <td>0.0</td>\n",
       "      <td>1.0</td>\n",
       "      <td>0.0</td>\n",
       "      <td>1.0</td>\n",
       "      <td>1.0</td>\n",
       "      <td>0.0</td>\n",
       "      <td>0.0</td>\n",
       "      <td>0.0</td>\n",
       "      <td>1.0</td>\n",
       "      <td>0.0</td>\n",
       "      <td>...</td>\n",
       "      <td>1.0</td>\n",
       "      <td>0.0</td>\n",
       "      <td>23.0</td>\n",
       "      <td>1.80</td>\n",
       "      <td>77.0</td>\n",
       "      <td>2.0</td>\n",
       "      <td>3.0</td>\n",
       "      <td>2.0</td>\n",
       "      <td>2.0</td>\n",
       "      <td>1.00</td>\n",
       "    </tr>\n",
       "    <tr>\n",
       "      <th>3</th>\n",
       "      <td>0.0</td>\n",
       "      <td>1.0</td>\n",
       "      <td>1.0</td>\n",
       "      <td>0.0</td>\n",
       "      <td>1.0</td>\n",
       "      <td>0.0</td>\n",
       "      <td>0.0</td>\n",
       "      <td>0.0</td>\n",
       "      <td>1.0</td>\n",
       "      <td>0.0</td>\n",
       "      <td>...</td>\n",
       "      <td>0.0</td>\n",
       "      <td>1.0</td>\n",
       "      <td>27.0</td>\n",
       "      <td>1.70</td>\n",
       "      <td>87.0</td>\n",
       "      <td>3.0</td>\n",
       "      <td>3.0</td>\n",
       "      <td>2.0</td>\n",
       "      <td>2.0</td>\n",
       "      <td>0.00</td>\n",
       "    </tr>\n",
       "    <tr>\n",
       "      <th>4</th>\n",
       "      <td>0.0</td>\n",
       "      <td>1.0</td>\n",
       "      <td>1.0</td>\n",
       "      <td>0.0</td>\n",
       "      <td>1.0</td>\n",
       "      <td>0.0</td>\n",
       "      <td>0.0</td>\n",
       "      <td>0.0</td>\n",
       "      <td>1.0</td>\n",
       "      <td>0.0</td>\n",
       "      <td>...</td>\n",
       "      <td>1.0</td>\n",
       "      <td>0.0</td>\n",
       "      <td>22.0</td>\n",
       "      <td>1.78</td>\n",
       "      <td>89.8</td>\n",
       "      <td>2.0</td>\n",
       "      <td>1.0</td>\n",
       "      <td>2.0</td>\n",
       "      <td>0.0</td>\n",
       "      <td>0.00</td>\n",
       "    </tr>\n",
       "  </tbody>\n",
       "</table>\n",
       "<p>5 rows × 31 columns</p>\n",
       "</div>"
      ],
      "text/plain": [
       "    0    1    2    3    4    5    6    7    8    9   ...   21   22    23  \\\n",
       "0  1.0  0.0  0.0  1.0  1.0  0.0  0.0  0.0  1.0  0.0  ...  1.0  0.0  21.0   \n",
       "1  1.0  0.0  0.0  1.0  1.0  0.0  0.0  0.0  1.0  0.0  ...  1.0  0.0  21.0   \n",
       "2  0.0  1.0  0.0  1.0  1.0  0.0  0.0  0.0  1.0  0.0  ...  1.0  0.0  23.0   \n",
       "3  0.0  1.0  1.0  0.0  1.0  0.0  0.0  0.0  1.0  0.0  ...  0.0  1.0  27.0   \n",
       "4  0.0  1.0  1.0  0.0  1.0  0.0  0.0  0.0  1.0  0.0  ...  1.0  0.0  22.0   \n",
       "\n",
       "     24    25   26   27   28   29    30  \n",
       "0  1.62  64.0  2.0  3.0  2.0  1.0  0.65  \n",
       "1  1.52  56.0  3.0  3.0  3.0  3.0  0.00  \n",
       "2  1.80  77.0  2.0  3.0  2.0  2.0  1.00  \n",
       "3  1.70  87.0  3.0  3.0  2.0  2.0  0.00  \n",
       "4  1.78  89.8  2.0  1.0  2.0  0.0  0.00  \n",
       "\n",
       "[5 rows x 31 columns]"
      ]
     },
     "execution_count": 232,
     "metadata": {},
     "output_type": "execute_result"
    }
   ],
   "source": [
    "transformed_x.head()"
   ]
  },
  {
   "cell_type": "markdown",
   "id": "6e8d88af-5854-4efd-b0ba-e2113d667269",
   "metadata": {},
   "source": [
    "**Splitting train and test data**"
   ]
  },
  {
   "cell_type": "code",
   "execution_count": 233,
   "id": "978a714e-fa21-4d12-8912-92e3e5d96a64",
   "metadata": {},
   "outputs": [],
   "source": [
    "np.random.seed(42)\n",
    "X_train, X_test, y_train, y_test = train_test_split(transformed_x, y, test_size=0.2)"
   ]
  },
  {
   "cell_type": "markdown",
   "id": "8c2bab2c-3a7d-4e10-b757-0d8a1fb3987d",
   "metadata": {},
   "source": [
    "## Normalizing Data and ML Models that require normalization"
   ]
  },
  {
   "cell_type": "markdown",
   "id": "8a9579ef-0b23-41ae-889e-77b0686d200f",
   "metadata": {},
   "source": [
    "**`LinearRegression, LogisticRegression, SVM, K-NearestNeighbors` require normalized data**"
   ]
  },
  {
   "cell_type": "code",
   "execution_count": 234,
   "id": "48b314c3-b071-4f88-9e3c-49114406dce9",
   "metadata": {},
   "outputs": [],
   "source": [
    "scaler = StandardScaler()\n",
    "X_trains = scaler.fit_transform(X_train)\n",
    "X_tests = scaler.transform(X_test)"
   ]
  },
  {
   "cell_type": "markdown",
   "id": "b9a34ba6-d752-46de-aae9-2fd50c65a982",
   "metadata": {},
   "source": [
    "**1. `LogisticRegression`**"
   ]
  },
  {
   "cell_type": "code",
   "execution_count": 235,
   "id": "79719d0c-cb48-46c5-8dde-dbca9f0f3891",
   "metadata": {},
   "outputs": [
    {
     "data": {
      "text/plain": [
       "79.7"
      ]
     },
     "execution_count": 235,
     "metadata": {},
     "output_type": "execute_result"
    }
   ],
   "source": [
    "log_reg = LogisticRegression()\n",
    "log_reg.fit(X_trains, y_train)\n",
    "round(log_reg.score(X_tests, y_test), 3)*100"
   ]
  },
  {
   "cell_type": "code",
   "execution_count": 236,
   "id": "00f97eef-98aa-4c6b-a5c3-d3a15903265a",
   "metadata": {},
   "outputs": [],
   "source": [
    "y_log_pred = log_reg.predict(X_tests)"
   ]
  },
  {
   "cell_type": "markdown",
   "id": "408c7f5f-21cf-4d50-821a-7a8f95ac5903",
   "metadata": {},
   "source": [
    "**2. `Support Vector Mechanism (SVM)`**"
   ]
  },
  {
   "cell_type": "code",
   "execution_count": 237,
   "id": "eb63af7b-4518-4877-bd89-fc2d9f39ec12",
   "metadata": {},
   "outputs": [
    {
     "data": {
      "text/plain": [
       "78.5"
      ]
     },
     "execution_count": 237,
     "metadata": {},
     "output_type": "execute_result"
    }
   ],
   "source": [
    "svm = SVC()\n",
    "svm.fit(X_trains, y_train)\n",
    "round(svm.score(X_tests, y_test), 3)*100"
   ]
  },
  {
   "cell_type": "code",
   "execution_count": 238,
   "id": "b3014ff5-1e46-4f9f-bb54-094dd9b81176",
   "metadata": {},
   "outputs": [],
   "source": [
    "y_svm_pred = svm.predict(X_tests)"
   ]
  },
  {
   "cell_type": "markdown",
   "id": "ab60235c-4280-442c-a13a-ad191604f251",
   "metadata": {},
   "source": [
    "**3. `K-Nearest Neighbors (KNN)`**"
   ]
  },
  {
   "cell_type": "code",
   "execution_count": 239,
   "id": "454baa27-9cc6-4818-a38d-3cea323ddf29",
   "metadata": {},
   "outputs": [
    {
     "data": {
      "text/plain": [
       "76.1"
      ]
     },
     "execution_count": 239,
     "metadata": {},
     "output_type": "execute_result"
    }
   ],
   "source": [
    "knn = KNeighborsClassifier(n_neighbors=5, n_jobs=-1)\n",
    "knn.fit(X_trains, y_train)\n",
    "round(knn.score(X_tests, y_test), 3)*100"
   ]
  },
  {
   "cell_type": "code",
   "execution_count": 240,
   "id": "7dcc3d52-4493-45ac-b56c-52ce70d7666a",
   "metadata": {},
   "outputs": [],
   "source": [
    "y_knn_pred = knn.predict(X_tests)"
   ]
  },
  {
   "cell_type": "markdown",
   "id": "3753a176-001f-4803-b1bf-4a5e0e1f3881",
   "metadata": {},
   "source": [
    "**4. `Principal Component Analysis (PCA)`**\n",
    "* PCA is used for dimensionality reduction (higher dimension data to lower)\n",
    "* PCA is similar to StandardScaler(), but it changes the dimensions\n",
    "* If we have 20 columns, using PCA, columns can be reduced to `n_components=n` number of dimensions"
   ]
  },
  {
   "cell_type": "code",
   "execution_count": 241,
   "id": "ebb6631d-601b-453b-bb98-ec0f9605d1ce",
   "metadata": {},
   "outputs": [],
   "source": [
    "scaler = StandardScaler()\n",
    "X_scaled = scaler.fit_transform(transformed_x)"
   ]
  },
  {
   "cell_type": "code",
   "execution_count": 242,
   "id": "384fb824-5748-4410-ab08-262226277d3d",
   "metadata": {},
   "outputs": [],
   "source": [
    "pca = PCA(n_components=2)\n",
    "X_pca = pca.fit_transform(X_scaled)"
   ]
  },
  {
   "cell_type": "code",
   "execution_count": 243,
   "id": "65993cdb-6e31-48b2-a92d-181cd6ca920b",
   "metadata": {},
   "outputs": [],
   "source": [
    "#Splitting Data in training and testing sets\n",
    "np.random.seed(42)\n",
    "X_train_I, X_test_I, y_train_I, y_test_I = train_test_split(X_pca, y, test_size=0.2)"
   ]
  },
  {
   "cell_type": "code",
   "execution_count": 244,
   "id": "7fb19981-c98c-445e-9ddf-6d3e630f5ebb",
   "metadata": {},
   "outputs": [
    {
     "data": {
      "text/plain": [
       "48.0"
      ]
     },
     "execution_count": 244,
     "metadata": {},
     "output_type": "execute_result"
    }
   ],
   "source": [
    "# Using ML model on training and testing sets\n",
    "clf = LogisticRegression()\n",
    "clf.fit(X_train_I, y_train_I)\n",
    "round(clf.score(X_test_I, y_test_I), 2)*100"
   ]
  },
  {
   "cell_type": "markdown",
   "id": "a0c29b1e-7f22-4267-b621-7f159e7be4aa",
   "metadata": {},
   "source": [
    "## ML models that do not require normalization"
   ]
  },
  {
   "cell_type": "markdown",
   "id": "5f172138-9490-48dc-8cd0-7ce0ba122813",
   "metadata": {},
   "source": [
    "**1. Gradient Boosted Frameworks**\n",
    "* `XGBClassifier`"
   ]
  },
  {
   "cell_type": "code",
   "execution_count": 245,
   "id": "d6ece1f5-8bc8-4544-b183-e2f2a42aeeda",
   "metadata": {},
   "outputs": [
    {
     "data": {
      "text/plain": [
       "92.0"
      ]
     },
     "execution_count": 245,
     "metadata": {},
     "output_type": "execute_result"
    }
   ],
   "source": [
    "xgb_clf = XGBClassifier(n_estimators=100, learning_rate=0.1, max_depth=4, random_state=42)\n",
    "xgb_clf.fit(X_train, y_train)\n",
    "round(xgb_clf.score(X_test, y_test), 3)*100"
   ]
  },
  {
   "cell_type": "code",
   "execution_count": 246,
   "id": "fc218faf-2151-457e-9f07-7f34fc4140bd",
   "metadata": {},
   "outputs": [],
   "source": [
    "y_xgb_pred = xgb_clf.predict(X_test)"
   ]
  },
  {
   "cell_type": "markdown",
   "id": "3cfec76d-5c7b-428a-81a3-4e01c022f5bd",
   "metadata": {},
   "source": [
    "* `LGBMClassifier`"
   ]
  },
  {
   "cell_type": "code",
   "execution_count": 247,
   "id": "b0845670-dd8c-4923-84ea-0ca1f6d06287",
   "metadata": {},
   "outputs": [
    {
     "data": {
      "text/plain": [
       "92.2"
      ]
     },
     "execution_count": 247,
     "metadata": {},
     "output_type": "execute_result"
    }
   ],
   "source": [
    "lgbm_clf = LGBMClassifier(n_estimators=100, learning_rate=0.1, max_depth=3, random_state=42, verbose=-1)\n",
    "lgbm_clf.fit(X_train, y_train)\n",
    "round(lgbm_clf.score(X_test, y_test), 3)*100"
   ]
  },
  {
   "cell_type": "code",
   "execution_count": 248,
   "id": "eb49e669-2ed5-4270-8643-407056a0857e",
   "metadata": {},
   "outputs": [],
   "source": [
    "y_lgbm_pred = lgbm_clf.predict(X_test)"
   ]
  },
  {
   "cell_type": "markdown",
   "id": "fb2a1e99-57fb-4917-a366-c3f8f5fafcf4",
   "metadata": {},
   "source": [
    "* `CatBoostClassifier`"
   ]
  },
  {
   "cell_type": "code",
   "execution_count": 249,
   "id": "f4ff76d5-41ae-4606-9bd2-ff77a4477681",
   "metadata": {},
   "outputs": [
    {
     "data": {
      "text/plain": [
       "83.2"
      ]
     },
     "execution_count": 249,
     "metadata": {},
     "output_type": "execute_result"
    }
   ],
   "source": [
    "catboost_clf = CatBoostClassifier(n_estimators=100, learning_rate=0.1, max_depth=3, verbose=0, random_state=42)\n",
    "catboost_clf.fit(X_train, y_train)\n",
    "round(catboost_clf.score(X_test, y_test), 3)*100"
   ]
  },
  {
   "cell_type": "code",
   "execution_count": 250,
   "id": "bdfbbc46-46f8-4101-977b-75319200f7fe",
   "metadata": {},
   "outputs": [],
   "source": [
    "y_cat_pred = catboost_clf.predict(X_test)"
   ]
  },
  {
   "cell_type": "markdown",
   "id": "c28f6ad0-93c9-4387-8e16-8ad69278e681",
   "metadata": {},
   "source": [
    "**2. `GradientBoostingClassifier`**"
   ]
  },
  {
   "cell_type": "code",
   "execution_count": 251,
   "id": "4cb45d1b-8144-4eea-9cda-e637c0b31d21",
   "metadata": {},
   "outputs": [
    {
     "data": {
      "text/plain": [
       "92.7"
      ]
     },
     "execution_count": 251,
     "metadata": {},
     "output_type": "execute_result"
    }
   ],
   "source": [
    "grad_clf = GradientBoostingClassifier(n_estimators=150, learning_rate=0.3, max_depth=3, random_state=42)\n",
    "grad_clf.fit(X_train, y_train)\n",
    "round(grad_clf.score(X_test, y_test), 3)*100"
   ]
  },
  {
   "cell_type": "code",
   "execution_count": 252,
   "id": "2ea965d8-e5ee-4eb7-a5ca-675330e87d58",
   "metadata": {},
   "outputs": [],
   "source": [
    "y_gradient_pred = grad_clf.predict(X_test)"
   ]
  },
  {
   "cell_type": "markdown",
   "id": "91b74c36-d20a-477e-8981-b8ca9b557245",
   "metadata": {},
   "source": [
    "**3. `RandomForestClassifier`**"
   ]
  },
  {
   "cell_type": "code",
   "execution_count": 253,
   "id": "19fc489d-7e0f-403f-b5cd-78b5ec4197f2",
   "metadata": {},
   "outputs": [
    {
     "data": {
      "text/plain": [
       "91.3"
      ]
     },
     "execution_count": 253,
     "metadata": {},
     "output_type": "execute_result"
    }
   ],
   "source": [
    "rand_clf = RandomForestClassifier()\n",
    "rand_clf.fit(X_train, y_train)\n",
    "round(rand_clf.score(X_test, y_test), 3)*100"
   ]
  },
  {
   "cell_type": "code",
   "execution_count": 254,
   "id": "ebaaad71-c52f-4d10-ab4d-055472208ab7",
   "metadata": {},
   "outputs": [],
   "source": [
    "y_rand_pred = rand_clf.predict(X_test)"
   ]
  },
  {
   "cell_type": "markdown",
   "id": "a7b0bfd6-ecb0-440b-8fa4-4f1a42daf7f5",
   "metadata": {},
   "source": [
    "## Creating Dictionary out of all Machine Learning Models"
   ]
  },
  {
   "cell_type": "markdown",
   "id": "f2906719-2720-4dce-85a6-96c1a1919ce6",
   "metadata": {},
   "source": [
    "**Creating Function for all kind of scores**"
   ]
  },
  {
   "cell_type": "code",
   "execution_count": 255,
   "id": "16de6412-1a44-4207-a5c3-af749d08de87",
   "metadata": {},
   "outputs": [],
   "source": [
    "def model_evaluation(y_test, y_pred):\n",
    "    print(f'AccuracyScor: {accuracy_score(y_test, y_pred):.3f}'),\n",
    "    print(f'PrecisionScore: {precision_score(y_test, y_pred, average='weighted'):.3f}'),\n",
    "    print(f'RecallScore: {recall_score(y_test, y_pred, average='weighted'):.3f}'),\n",
    "    print(f'F1Score: {f1_score(y_test, y_pred, average='weighted'):.3f}')\n",
    "    print('\\n')\n",
    "    \n",
    "    metrics = {'AccuracyScore': accuracy_score(y_test, y_pred),\n",
    "               'PrecisionScore': precision_score(y_test, y_pred, average='weighted'),\n",
    "               'RecallScore': recall_score(y_test, y_pred, average='weighted'),\n",
    "               'F1Score': f1_score(y_test, y_pred, average='micro')\n",
    "              }\n",
    "    return metrics"
   ]
  },
  {
   "cell_type": "code",
   "execution_count": 256,
   "id": "476e7153-8e8d-45e4-824a-d29b9e9c026a",
   "metadata": {},
   "outputs": [
    {
     "name": "stdout",
     "output_type": "stream",
     "text": [
      "AccuracyScor: 0.797\n",
      "PrecisionScore: 0.808\n",
      "RecallScore: 0.797\n",
      "F1Score: 0.790\n",
      "\n",
      "\n",
      "AccuracyScor: 0.785\n",
      "PrecisionScore: 0.783\n",
      "RecallScore: 0.785\n",
      "F1Score: 0.783\n",
      "\n",
      "\n",
      "AccuracyScor: 0.761\n",
      "PrecisionScore: 0.759\n",
      "RecallScore: 0.761\n",
      "F1Score: 0.758\n",
      "\n",
      "\n",
      "AccuracyScor: 0.920\n",
      "PrecisionScore: 0.921\n",
      "RecallScore: 0.920\n",
      "F1Score: 0.919\n",
      "\n",
      "\n",
      "AccuracyScor: 0.922\n",
      "PrecisionScore: 0.923\n",
      "RecallScore: 0.922\n",
      "F1Score: 0.921\n",
      "\n",
      "\n",
      "AccuracyScor: 0.832\n",
      "PrecisionScore: 0.837\n",
      "RecallScore: 0.832\n",
      "F1Score: 0.831\n",
      "\n",
      "\n",
      "AccuracyScor: 0.927\n",
      "PrecisionScore: 0.928\n",
      "RecallScore: 0.927\n",
      "F1Score: 0.927\n",
      "\n",
      "\n",
      "AccuracyScor: 0.913\n",
      "PrecisionScore: 0.915\n",
      "RecallScore: 0.913\n",
      "F1Score: 0.913\n",
      "\n",
      "\n"
     ]
    }
   ],
   "source": [
    "ml_models = {\n",
    "    'LogisticRegression': model_evaluation(y_test, y_log_pred),\n",
    "    'SupportVectorMechanism': model_evaluation(y_test, y_svm_pred),\n",
    "    'K-NearestNeighbors': model_evaluation(y_test, y_knn_pred),\n",
    "    'XGBClassifier': model_evaluation(y_test, y_xgb_pred),\n",
    "    'LGBMClassifier': model_evaluation(y_test, y_lgbm_pred),\n",
    "    'CatBoostClassifier': model_evaluation(y_test, y_cat_pred),\n",
    "    'GradientBoostingClassifier': model_evaluation(y_test, y_gradient_pred),\n",
    "    'RandomForestClassifier': model_evaluation(y_test, y_rand_pred)\n",
    "}"
   ]
  },
  {
   "cell_type": "code",
   "execution_count": 257,
   "id": "32c35020-80b8-494d-9102-0682906f2956",
   "metadata": {},
   "outputs": [],
   "source": [
    "model_df = pd.DataFrame.from_dict(ml_models, orient='index')"
   ]
  },
  {
   "cell_type": "code",
   "execution_count": 258,
   "id": "7fa10785-8426-4a46-82ae-74913f23f76a",
   "metadata": {},
   "outputs": [
    {
     "data": {
      "text/html": [
       "<div>\n",
       "<style scoped>\n",
       "    .dataframe tbody tr th:only-of-type {\n",
       "        vertical-align: middle;\n",
       "    }\n",
       "\n",
       "    .dataframe tbody tr th {\n",
       "        vertical-align: top;\n",
       "    }\n",
       "\n",
       "    .dataframe thead th {\n",
       "        text-align: right;\n",
       "    }\n",
       "</style>\n",
       "<table border=\"1\" class=\"dataframe\">\n",
       "  <thead>\n",
       "    <tr style=\"text-align: right;\">\n",
       "      <th></th>\n",
       "      <th>AccuracyScore</th>\n",
       "      <th>PrecisionScore</th>\n",
       "      <th>RecallScore</th>\n",
       "      <th>F1Score</th>\n",
       "    </tr>\n",
       "  </thead>\n",
       "  <tbody>\n",
       "    <tr>\n",
       "      <th>LogisticRegression</th>\n",
       "      <td>0.796690</td>\n",
       "      <td>0.807941</td>\n",
       "      <td>0.796690</td>\n",
       "      <td>0.796690</td>\n",
       "    </tr>\n",
       "    <tr>\n",
       "      <th>SupportVectorMechanism</th>\n",
       "      <td>0.784870</td>\n",
       "      <td>0.782731</td>\n",
       "      <td>0.784870</td>\n",
       "      <td>0.784870</td>\n",
       "    </tr>\n",
       "    <tr>\n",
       "      <th>K-NearestNeighbors</th>\n",
       "      <td>0.761229</td>\n",
       "      <td>0.759423</td>\n",
       "      <td>0.761229</td>\n",
       "      <td>0.761229</td>\n",
       "    </tr>\n",
       "    <tr>\n",
       "      <th>XGBClassifier</th>\n",
       "      <td>0.919622</td>\n",
       "      <td>0.921266</td>\n",
       "      <td>0.919622</td>\n",
       "      <td>0.919622</td>\n",
       "    </tr>\n",
       "    <tr>\n",
       "      <th>LGBMClassifier</th>\n",
       "      <td>0.921986</td>\n",
       "      <td>0.922715</td>\n",
       "      <td>0.921986</td>\n",
       "      <td>0.921986</td>\n",
       "    </tr>\n",
       "    <tr>\n",
       "      <th>CatBoostClassifier</th>\n",
       "      <td>0.832151</td>\n",
       "      <td>0.837120</td>\n",
       "      <td>0.832151</td>\n",
       "      <td>0.832151</td>\n",
       "    </tr>\n",
       "    <tr>\n",
       "      <th>GradientBoostingClassifier</th>\n",
       "      <td>0.926714</td>\n",
       "      <td>0.928292</td>\n",
       "      <td>0.926714</td>\n",
       "      <td>0.926714</td>\n",
       "    </tr>\n",
       "    <tr>\n",
       "      <th>RandomForestClassifier</th>\n",
       "      <td>0.912530</td>\n",
       "      <td>0.914579</td>\n",
       "      <td>0.912530</td>\n",
       "      <td>0.912530</td>\n",
       "    </tr>\n",
       "  </tbody>\n",
       "</table>\n",
       "</div>"
      ],
      "text/plain": [
       "                            AccuracyScore  PrecisionScore  RecallScore  \\\n",
       "LogisticRegression               0.796690        0.807941     0.796690   \n",
       "SupportVectorMechanism           0.784870        0.782731     0.784870   \n",
       "K-NearestNeighbors               0.761229        0.759423     0.761229   \n",
       "XGBClassifier                    0.919622        0.921266     0.919622   \n",
       "LGBMClassifier                   0.921986        0.922715     0.921986   \n",
       "CatBoostClassifier               0.832151        0.837120     0.832151   \n",
       "GradientBoostingClassifier       0.926714        0.928292     0.926714   \n",
       "RandomForestClassifier           0.912530        0.914579     0.912530   \n",
       "\n",
       "                             F1Score  \n",
       "LogisticRegression          0.796690  \n",
       "SupportVectorMechanism      0.784870  \n",
       "K-NearestNeighbors          0.761229  \n",
       "XGBClassifier               0.919622  \n",
       "LGBMClassifier              0.921986  \n",
       "CatBoostClassifier          0.832151  \n",
       "GradientBoostingClassifier  0.926714  \n",
       "RandomForestClassifier      0.912530  "
      ]
     },
     "execution_count": 258,
     "metadata": {},
     "output_type": "execute_result"
    }
   ],
   "source": [
    "model_df"
   ]
  },
  {
   "cell_type": "code",
   "execution_count": 259,
   "id": "8f97e0be-383b-4035-862b-76c52b1297b1",
   "metadata": {},
   "outputs": [
    {
     "data": {
      "text/plain": [
       "<Axes: >"
      ]
     },
     "execution_count": 259,
     "metadata": {},
     "output_type": "execute_result"
    },
    {
     "data": {
      "image/png": "[encoded data removed]",
      "text/plain": [
       "<Figure size 1000x800 with 1 Axes>"
      ]
     },
     "metadata": {},
     "output_type": "display_data"
    }
   ],
   "source": [
    "model_df.plot(kind='bar', figsize=(10,8))"
   ]
  },
  {
   "cell_type": "code",
   "execution_count": 260,
   "id": "b923a1f8-c9d0-4043-8c13-050cfefcada2",
   "metadata": {},
   "outputs": [],
   "source": [
    "models_long = model_df.reset_index().melt(id_vars='index', var_name='Metrics', value_name='Score')\n",
    "models_long.rename(columns={'index':'Models'}, inplace=True)"
   ]
  },
  {
   "cell_type": "code",
   "execution_count": 261,
   "id": "c7294095-83cd-4d32-af9f-16a3a277fa2a",
   "metadata": {},
   "outputs": [
    {
     "data": {
      "image/png": "[encoded data removed]",
      "text/plain": [
       "<Figure size 1200x800 with 1 Axes>"
      ]
     },
     "metadata": {},
     "output_type": "display_data"
    }
   ],
   "source": [
    "plt.figure(figsize=(12, 8))\n",
    "sns.barplot(data=models_long, x='Metrics', y='Score', hue='Models', palette='bright')\n",
    "plt.title('Model Evaluation', fontsize=14)\n",
    "plt.xlabel('Models', fontsize=12)\n",
    "plt.ylabel('Score', fontsize=12)\n",
    "plt.xticks(rotation=45, fontsize=10)\n",
    "plt.legend(title='Metrics', fontsize=10, bbox_to_anchor = (1.01, 1.01))\n",
    "plt.tight_layout()\n",
    "plt.show();"
   ]
  },
  {
   "cell_type": "markdown",
   "id": "6a722cf2-d3ca-4a84-9c58-b2bc1e3dde71",
   "metadata": {},
   "source": [
    "## Cross Validation"
   ]
  },
  {
   "cell_type": "code",
   "execution_count": 262,
   "id": "57e4845a-33ec-49fd-8796-95fcd2469d9e",
   "metadata": {},
   "outputs": [],
   "source": [
    "x = transformed_x\n",
    "y = obesity_df.Obesity"
   ]
  },
  {
   "cell_type": "code",
   "execution_count": 267,
   "id": "83d1b8b4-2b6f-47b3-a094-d5a547f110c5",
   "metadata": {},
   "outputs": [
    {
     "ename": "ValueError",
     "evalue": "\nAll the 5 fits failed.\nIt is very likely that your model is misconfigured.\nYou can try to debug the error by setting error_score='raise'.\n\nBelow are more details about the failures:\n--------------------------------------------------------------------------------\n5 fits failed with the following error:\nTraceback (most recent call last):\n  File \"/Users/nareshdhami/Desktop/MachineLearning/env/lib/python3.12/site-packages/sklearn/model_selection/_validation.py\", line 888, in _fit_and_score\n    estimator.fit(X_train, y_train, **fit_params)\n  File \"/Users/nareshdhami/Desktop/MachineLearning/env/lib/python3.12/site-packages/sklearn/base.py\", line 1473, in wrapper\n    return fit_method(estimator, *args, **kwargs)\n           ^^^^^^^^^^^^^^^^^^^^^^^^^^^^^^^^^^^^^^\n  File \"/Users/nareshdhami/Desktop/MachineLearning/env/lib/python3.12/site-packages/sklearn/linear_model/_logistic.py\", line 1231, in fit\n    check_classification_targets(y)\n  File \"/Users/nareshdhami/Desktop/MachineLearning/env/lib/python3.12/site-packages/sklearn/utils/multiclass.py\", line 219, in check_classification_targets\n    raise ValueError(\nValueError: Unknown label type: unknown. Maybe you are trying to fit a classifier, which expects discrete classes on a regression target with continuous values.\n",
     "output_type": "error",
     "traceback": [
      "\u001b[0;31m---------------------------------------------------------------------------\u001b[0m",
      "\u001b[0;31mValueError\u001b[0m                                Traceback (most recent call last)",
      "Cell \u001b[0;32mIn[267], line 8\u001b[0m\n\u001b[1;32m      6\u001b[0m     results[model_name]\u001b[38;5;241m=\u001b[39m {}\n\u001b[1;32m      7\u001b[0m     \u001b[38;5;28;01mfor\u001b[39;00m metric \u001b[38;5;129;01min\u001b[39;00m score_list:\n\u001b[0;32m----> 8\u001b[0m         score \u001b[38;5;241m=\u001b[39m cross_val_score(estimator\u001b[38;5;241m=\u001b[39mmod, X\u001b[38;5;241m=\u001b[39mx, y\u001b[38;5;241m=\u001b[39my, cv\u001b[38;5;241m=\u001b[39m\u001b[38;5;241m5\u001b[39m, scoring\u001b[38;5;241m=\u001b[39mmetric)\u001b[38;5;241m.\u001b[39mmean()\n\u001b[1;32m      9\u001b[0m         results[model_name][metric] \u001b[38;5;241m=\u001b[39m score\n\u001b[1;32m     11\u001b[0m \u001b[38;5;28;01mfor\u001b[39;00m model, metrics \u001b[38;5;129;01min\u001b[39;00m results\u001b[38;5;241m.\u001b[39mitems():\n",
      "File \u001b[0;32m~/Desktop/MachineLearning/env/lib/python3.12/site-packages/sklearn/utils/_param_validation.py:213\u001b[0m, in \u001b[0;36mvalidate_params.<locals>.decorator.<locals>.wrapper\u001b[0;34m(*args, **kwargs)\u001b[0m\n\u001b[1;32m    207\u001b[0m \u001b[38;5;28;01mtry\u001b[39;00m:\n\u001b[1;32m    208\u001b[0m     \u001b[38;5;28;01mwith\u001b[39;00m config_context(\n\u001b[1;32m    209\u001b[0m         skip_parameter_validation\u001b[38;5;241m=\u001b[39m(\n\u001b[1;32m    210\u001b[0m             prefer_skip_nested_validation \u001b[38;5;129;01mor\u001b[39;00m global_skip_validation\n\u001b[1;32m    211\u001b[0m         )\n\u001b[1;32m    212\u001b[0m     ):\n\u001b[0;32m--> 213\u001b[0m         \u001b[38;5;28;01mreturn\u001b[39;00m func(\u001b[38;5;241m*\u001b[39margs, \u001b[38;5;241m*\u001b[39m\u001b[38;5;241m*\u001b[39mkwargs)\n\u001b[1;32m    214\u001b[0m \u001b[38;5;28;01mexcept\u001b[39;00m InvalidParameterError \u001b[38;5;28;01mas\u001b[39;00m e:\n\u001b[1;32m    215\u001b[0m     \u001b[38;5;66;03m# When the function is just a wrapper around an estimator, we allow\u001b[39;00m\n\u001b[1;32m    216\u001b[0m     \u001b[38;5;66;03m# the function to delegate validation to the estimator, but we replace\u001b[39;00m\n\u001b[1;32m    217\u001b[0m     \u001b[38;5;66;03m# the name of the estimator by the name of the function in the error\u001b[39;00m\n\u001b[1;32m    218\u001b[0m     \u001b[38;5;66;03m# message to avoid confusion.\u001b[39;00m\n\u001b[1;32m    219\u001b[0m     msg \u001b[38;5;241m=\u001b[39m re\u001b[38;5;241m.\u001b[39msub(\n\u001b[1;32m    220\u001b[0m         \u001b[38;5;124mr\u001b[39m\u001b[38;5;124m\"\u001b[39m\u001b[38;5;124mparameter of \u001b[39m\u001b[38;5;124m\\\u001b[39m\u001b[38;5;124mw+ must be\u001b[39m\u001b[38;5;124m\"\u001b[39m,\n\u001b[1;32m    221\u001b[0m         \u001b[38;5;124mf\u001b[39m\u001b[38;5;124m\"\u001b[39m\u001b[38;5;124mparameter of \u001b[39m\u001b[38;5;132;01m{\u001b[39;00mfunc\u001b[38;5;241m.\u001b[39m\u001b[38;5;18m__qualname__\u001b[39m\u001b[38;5;132;01m}\u001b[39;00m\u001b[38;5;124m must be\u001b[39m\u001b[38;5;124m\"\u001b[39m,\n\u001b[1;32m    222\u001b[0m         \u001b[38;5;28mstr\u001b[39m(e),\n\u001b[1;32m    223\u001b[0m     )\n",
      "File \u001b[0;32m~/Desktop/MachineLearning/env/lib/python3.12/site-packages/sklearn/model_selection/_validation.py:712\u001b[0m, in \u001b[0;36mcross_val_score\u001b[0;34m(estimator, X, y, groups, scoring, cv, n_jobs, verbose, fit_params, params, pre_dispatch, error_score)\u001b[0m\n\u001b[1;32m    709\u001b[0m \u001b[38;5;66;03m# To ensure multimetric format is not supported\u001b[39;00m\n\u001b[1;32m    710\u001b[0m scorer \u001b[38;5;241m=\u001b[39m check_scoring(estimator, scoring\u001b[38;5;241m=\u001b[39mscoring)\n\u001b[0;32m--> 712\u001b[0m cv_results \u001b[38;5;241m=\u001b[39m cross_validate(\n\u001b[1;32m    713\u001b[0m     estimator\u001b[38;5;241m=\u001b[39mestimator,\n\u001b[1;32m    714\u001b[0m     X\u001b[38;5;241m=\u001b[39mX,\n\u001b[1;32m    715\u001b[0m     y\u001b[38;5;241m=\u001b[39my,\n\u001b[1;32m    716\u001b[0m     groups\u001b[38;5;241m=\u001b[39mgroups,\n\u001b[1;32m    717\u001b[0m     scoring\u001b[38;5;241m=\u001b[39m{\u001b[38;5;124m\"\u001b[39m\u001b[38;5;124mscore\u001b[39m\u001b[38;5;124m\"\u001b[39m: scorer},\n\u001b[1;32m    718\u001b[0m     cv\u001b[38;5;241m=\u001b[39mcv,\n\u001b[1;32m    719\u001b[0m     n_jobs\u001b[38;5;241m=\u001b[39mn_jobs,\n\u001b[1;32m    720\u001b[0m     verbose\u001b[38;5;241m=\u001b[39mverbose,\n\u001b[1;32m    721\u001b[0m     fit_params\u001b[38;5;241m=\u001b[39mfit_params,\n\u001b[1;32m    722\u001b[0m     params\u001b[38;5;241m=\u001b[39mparams,\n\u001b[1;32m    723\u001b[0m     pre_dispatch\u001b[38;5;241m=\u001b[39mpre_dispatch,\n\u001b[1;32m    724\u001b[0m     error_score\u001b[38;5;241m=\u001b[39merror_score,\n\u001b[1;32m    725\u001b[0m )\n\u001b[1;32m    726\u001b[0m \u001b[38;5;28;01mreturn\u001b[39;00m cv_results[\u001b[38;5;124m\"\u001b[39m\u001b[38;5;124mtest_score\u001b[39m\u001b[38;5;124m\"\u001b[39m]\n",
      "File \u001b[0;32m~/Desktop/MachineLearning/env/lib/python3.12/site-packages/sklearn/utils/_param_validation.py:213\u001b[0m, in \u001b[0;36mvalidate_params.<locals>.decorator.<locals>.wrapper\u001b[0;34m(*args, **kwargs)\u001b[0m\n\u001b[1;32m    207\u001b[0m \u001b[38;5;28;01mtry\u001b[39;00m:\n\u001b[1;32m    208\u001b[0m     \u001b[38;5;28;01mwith\u001b[39;00m config_context(\n\u001b[1;32m    209\u001b[0m         skip_parameter_validation\u001b[38;5;241m=\u001b[39m(\n\u001b[1;32m    210\u001b[0m             prefer_skip_nested_validation \u001b[38;5;129;01mor\u001b[39;00m global_skip_validation\n\u001b[1;32m    211\u001b[0m         )\n\u001b[1;32m    212\u001b[0m     ):\n\u001b[0;32m--> 213\u001b[0m         \u001b[38;5;28;01mreturn\u001b[39;00m func(\u001b[38;5;241m*\u001b[39margs, \u001b[38;5;241m*\u001b[39m\u001b[38;5;241m*\u001b[39mkwargs)\n\u001b[1;32m    214\u001b[0m \u001b[38;5;28;01mexcept\u001b[39;00m InvalidParameterError \u001b[38;5;28;01mas\u001b[39;00m e:\n\u001b[1;32m    215\u001b[0m     \u001b[38;5;66;03m# When the function is just a wrapper around an estimator, we allow\u001b[39;00m\n\u001b[1;32m    216\u001b[0m     \u001b[38;5;66;03m# the function to delegate validation to the estimator, but we replace\u001b[39;00m\n\u001b[1;32m    217\u001b[0m     \u001b[38;5;66;03m# the name of the estimator by the name of the function in the error\u001b[39;00m\n\u001b[1;32m    218\u001b[0m     \u001b[38;5;66;03m# message to avoid confusion.\u001b[39;00m\n\u001b[1;32m    219\u001b[0m     msg \u001b[38;5;241m=\u001b[39m re\u001b[38;5;241m.\u001b[39msub(\n\u001b[1;32m    220\u001b[0m         \u001b[38;5;124mr\u001b[39m\u001b[38;5;124m\"\u001b[39m\u001b[38;5;124mparameter of \u001b[39m\u001b[38;5;124m\\\u001b[39m\u001b[38;5;124mw+ must be\u001b[39m\u001b[38;5;124m\"\u001b[39m,\n\u001b[1;32m    221\u001b[0m         \u001b[38;5;124mf\u001b[39m\u001b[38;5;124m\"\u001b[39m\u001b[38;5;124mparameter of \u001b[39m\u001b[38;5;132;01m{\u001b[39;00mfunc\u001b[38;5;241m.\u001b[39m\u001b[38;5;18m__qualname__\u001b[39m\u001b[38;5;132;01m}\u001b[39;00m\u001b[38;5;124m must be\u001b[39m\u001b[38;5;124m\"\u001b[39m,\n\u001b[1;32m    222\u001b[0m         \u001b[38;5;28mstr\u001b[39m(e),\n\u001b[1;32m    223\u001b[0m     )\n",
      "File \u001b[0;32m~/Desktop/MachineLearning/env/lib/python3.12/site-packages/sklearn/model_selection/_validation.py:443\u001b[0m, in \u001b[0;36mcross_validate\u001b[0;34m(estimator, X, y, groups, scoring, cv, n_jobs, verbose, fit_params, params, pre_dispatch, return_train_score, return_estimator, return_indices, error_score)\u001b[0m\n\u001b[1;32m    422\u001b[0m parallel \u001b[38;5;241m=\u001b[39m Parallel(n_jobs\u001b[38;5;241m=\u001b[39mn_jobs, verbose\u001b[38;5;241m=\u001b[39mverbose, pre_dispatch\u001b[38;5;241m=\u001b[39mpre_dispatch)\n\u001b[1;32m    423\u001b[0m results \u001b[38;5;241m=\u001b[39m parallel(\n\u001b[1;32m    424\u001b[0m     delayed(_fit_and_score)(\n\u001b[1;32m    425\u001b[0m         clone(estimator),\n\u001b[0;32m   (...)\u001b[0m\n\u001b[1;32m    440\u001b[0m     \u001b[38;5;28;01mfor\u001b[39;00m train, test \u001b[38;5;129;01min\u001b[39;00m indices\n\u001b[1;32m    441\u001b[0m )\n\u001b[0;32m--> 443\u001b[0m _warn_or_raise_about_fit_failures(results, error_score)\n\u001b[1;32m    445\u001b[0m \u001b[38;5;66;03m# For callable scoring, the return type is only know after calling. If the\u001b[39;00m\n\u001b[1;32m    446\u001b[0m \u001b[38;5;66;03m# return type is a dictionary, the error scores can now be inserted with\u001b[39;00m\n\u001b[1;32m    447\u001b[0m \u001b[38;5;66;03m# the correct key.\u001b[39;00m\n\u001b[1;32m    448\u001b[0m \u001b[38;5;28;01mif\u001b[39;00m \u001b[38;5;28mcallable\u001b[39m(scoring):\n",
      "File \u001b[0;32m~/Desktop/MachineLearning/env/lib/python3.12/site-packages/sklearn/model_selection/_validation.py:529\u001b[0m, in \u001b[0;36m_warn_or_raise_about_fit_failures\u001b[0;34m(results, error_score)\u001b[0m\n\u001b[1;32m    522\u001b[0m \u001b[38;5;28;01mif\u001b[39;00m num_failed_fits \u001b[38;5;241m==\u001b[39m num_fits:\n\u001b[1;32m    523\u001b[0m     all_fits_failed_message \u001b[38;5;241m=\u001b[39m (\n\u001b[1;32m    524\u001b[0m         \u001b[38;5;124mf\u001b[39m\u001b[38;5;124m\"\u001b[39m\u001b[38;5;130;01m\\n\u001b[39;00m\u001b[38;5;124mAll the \u001b[39m\u001b[38;5;132;01m{\u001b[39;00mnum_fits\u001b[38;5;132;01m}\u001b[39;00m\u001b[38;5;124m fits failed.\u001b[39m\u001b[38;5;130;01m\\n\u001b[39;00m\u001b[38;5;124m\"\u001b[39m\n\u001b[1;32m    525\u001b[0m         \u001b[38;5;124m\"\u001b[39m\u001b[38;5;124mIt is very likely that your model is misconfigured.\u001b[39m\u001b[38;5;130;01m\\n\u001b[39;00m\u001b[38;5;124m\"\u001b[39m\n\u001b[1;32m    526\u001b[0m         \u001b[38;5;124m\"\u001b[39m\u001b[38;5;124mYou can try to debug the error by setting error_score=\u001b[39m\u001b[38;5;124m'\u001b[39m\u001b[38;5;124mraise\u001b[39m\u001b[38;5;124m'\u001b[39m\u001b[38;5;124m.\u001b[39m\u001b[38;5;130;01m\\n\u001b[39;00m\u001b[38;5;130;01m\\n\u001b[39;00m\u001b[38;5;124m\"\u001b[39m\n\u001b[1;32m    527\u001b[0m         \u001b[38;5;124mf\u001b[39m\u001b[38;5;124m\"\u001b[39m\u001b[38;5;124mBelow are more details about the failures:\u001b[39m\u001b[38;5;130;01m\\n\u001b[39;00m\u001b[38;5;132;01m{\u001b[39;00mfit_errors_summary\u001b[38;5;132;01m}\u001b[39;00m\u001b[38;5;124m\"\u001b[39m\n\u001b[1;32m    528\u001b[0m     )\n\u001b[0;32m--> 529\u001b[0m     \u001b[38;5;28;01mraise\u001b[39;00m \u001b[38;5;167;01mValueError\u001b[39;00m(all_fits_failed_message)\n\u001b[1;32m    531\u001b[0m \u001b[38;5;28;01melse\u001b[39;00m:\n\u001b[1;32m    532\u001b[0m     some_fits_failed_message \u001b[38;5;241m=\u001b[39m (\n\u001b[1;32m    533\u001b[0m         \u001b[38;5;124mf\u001b[39m\u001b[38;5;124m\"\u001b[39m\u001b[38;5;130;01m\\n\u001b[39;00m\u001b[38;5;132;01m{\u001b[39;00mnum_failed_fits\u001b[38;5;132;01m}\u001b[39;00m\u001b[38;5;124m fits failed out of a total of \u001b[39m\u001b[38;5;132;01m{\u001b[39;00mnum_fits\u001b[38;5;132;01m}\u001b[39;00m\u001b[38;5;124m.\u001b[39m\u001b[38;5;130;01m\\n\u001b[39;00m\u001b[38;5;124m\"\u001b[39m\n\u001b[1;32m    534\u001b[0m         \u001b[38;5;124m\"\u001b[39m\u001b[38;5;124mThe score on these train-test partitions for these parameters\u001b[39m\u001b[38;5;124m\"\u001b[39m\n\u001b[0;32m   (...)\u001b[0m\n\u001b[1;32m    538\u001b[0m         \u001b[38;5;124mf\u001b[39m\u001b[38;5;124m\"\u001b[39m\u001b[38;5;124mBelow are more details about the failures:\u001b[39m\u001b[38;5;130;01m\\n\u001b[39;00m\u001b[38;5;132;01m{\u001b[39;00mfit_errors_summary\u001b[38;5;132;01m}\u001b[39;00m\u001b[38;5;124m\"\u001b[39m\n\u001b[1;32m    539\u001b[0m     )\n",
      "\u001b[0;31mValueError\u001b[0m: \nAll the 5 fits failed.\nIt is very likely that your model is misconfigured.\nYou can try to debug the error by setting error_score='raise'.\n\nBelow are more details about the failures:\n--------------------------------------------------------------------------------\n5 fits failed with the following error:\nTraceback (most recent call last):\n  File \"/Users/nareshdhami/Desktop/MachineLearning/env/lib/python3.12/site-packages/sklearn/model_selection/_validation.py\", line 888, in _fit_and_score\n    estimator.fit(X_train, y_train, **fit_params)\n  File \"/Users/nareshdhami/Desktop/MachineLearning/env/lib/python3.12/site-packages/sklearn/base.py\", line 1473, in wrapper\n    return fit_method(estimator, *args, **kwargs)\n           ^^^^^^^^^^^^^^^^^^^^^^^^^^^^^^^^^^^^^^\n  File \"/Users/nareshdhami/Desktop/MachineLearning/env/lib/python3.12/site-packages/sklearn/linear_model/_logistic.py\", line 1231, in fit\n    check_classification_targets(y)\n  File \"/Users/nareshdhami/Desktop/MachineLearning/env/lib/python3.12/site-packages/sklearn/utils/multiclass.py\", line 219, in check_classification_targets\n    raise ValueError(\nValueError: Unknown label type: unknown. Maybe you are trying to fit a classifier, which expects discrete classes on a regression target with continuous values.\n"
     ]
    }
   ],
   "source": [
    "models_val = [log_reg, svm, knn, xgb_clf, lgbm_clf, catboost_clf, grad_clf, rand_clf]\n",
    "score_list = ['accuracy', 'precision', 'recall', 'f1']\n",
    "results = {}\n",
    "for mod in models_val:\n",
    "    model_name = mod.__class__.__name__\n",
    "    results[model_name]= {}\n",
    "    for metric in score_list:\n",
    "        score = cross_val_score(estimator=mod, X=x, y=y, cv=5, scoring=metric).mean()\n",
    "        results[model_name][metric] = score\n",
    "\n",
    "for model, metrics in results.items():\n",
    "    print(f'\\n{model}: ')\n",
    "    for metric, score in metrics.items():\n",
    "        print(f'{metric}: {score:.3f}')"
   ]
  },
  {
   "cell_type": "code",
   "execution_count": null,
   "id": "cdc4d813-d398-41cc-9453-f6a70b34f342",
   "metadata": {},
   "outputs": [],
   "source": []
  }
 ],
 "metadata": {
  "kernelspec": {
   "display_name": "Python 3 (ipykernel)",
   "language": "python",
   "name": "python3"
  },
  "language_info": {
   "codemirror_mode": {
    "name": "ipython",
    "version": 3
   },
   "file_extension": ".py",
   "mimetype": "text/x-python",
   "name": "python",
   "nbconvert_exporter": "python",
   "pygments_lexer": "ipython3",
   "version": "3.12.7"
  }
 },
 "nbformat": 4,
 "nbformat_minor": 5
}
