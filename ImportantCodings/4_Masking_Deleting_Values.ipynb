{
 "cells": [
  {
   "cell_type": "code",
   "execution_count": 100,
   "id": "87e2af94-1b54-41c7-86a4-386163e0aff7",
   "metadata": {},
   "outputs": [],
   "source": [
    "import numpy as np\n",
    "import pandas as pd\n",
    "import seaborn as sns\n",
    "import matplotlib.pyplot as plt\n",
    "from sklearn.model_selection import train_test_split, cross_val_score\n",
    "from sklearn.ensemble import RandomForestClassifier\n",
    "from sklearn.linear_model import LogisticRegression, LinearRegression\n",
    "from sklearn.svm import SVC\n",
    "from sklearn.datasets import load_digits\n",
    "from sklearn.metrics import confusion_matrix, roc_auc_score, roc_curve, recall_score, precision_score, f1_score, accuracy_score, classification_report"
   ]
  },
  {
   "cell_type": "code",
   "execution_count": 101,
   "id": "da63fd03-3dbb-4ebc-a995-e586c8b4c734",
   "metadata": {},
   "outputs": [
    {
     "data": {
      "text/html": [
       "<div>\n",
       "<style scoped>\n",
       "    .dataframe tbody tr th:only-of-type {\n",
       "        vertical-align: middle;\n",
       "    }\n",
       "\n",
       "    .dataframe tbody tr th {\n",
       "        vertical-align: top;\n",
       "    }\n",
       "\n",
       "    .dataframe thead th {\n",
       "        text-align: right;\n",
       "    }\n",
       "</style>\n",
       "<table border=\"1\" class=\"dataframe\">\n",
       "  <thead>\n",
       "    <tr style=\"text-align: right;\">\n",
       "      <th></th>\n",
       "      <th>Gender</th>\n",
       "      <th>Age</th>\n",
       "      <th>Height</th>\n",
       "      <th>Weight</th>\n",
       "      <th>family_history</th>\n",
       "      <th>FAVC</th>\n",
       "      <th>FCVC</th>\n",
       "      <th>NCP</th>\n",
       "      <th>CAEC</th>\n",
       "      <th>SMOKE</th>\n",
       "      <th>CH2O</th>\n",
       "      <th>SCC</th>\n",
       "      <th>FAF</th>\n",
       "      <th>TUE</th>\n",
       "      <th>CALC</th>\n",
       "      <th>MTRANS</th>\n",
       "      <th>Obesity</th>\n",
       "    </tr>\n",
       "  </thead>\n",
       "  <tbody>\n",
       "    <tr>\n",
       "      <th>0</th>\n",
       "      <td>Female</td>\n",
       "      <td>21.0</td>\n",
       "      <td>1.62</td>\n",
       "      <td>64.0</td>\n",
       "      <td>yes</td>\n",
       "      <td>no</td>\n",
       "      <td>2.0</td>\n",
       "      <td>3.0</td>\n",
       "      <td>Sometimes</td>\n",
       "      <td>no</td>\n",
       "      <td>2.0</td>\n",
       "      <td>no</td>\n",
       "      <td>0.0</td>\n",
       "      <td>1.0</td>\n",
       "      <td>no</td>\n",
       "      <td>Public_Transportation</td>\n",
       "      <td>Normal_Weight</td>\n",
       "    </tr>\n",
       "    <tr>\n",
       "      <th>1</th>\n",
       "      <td>Female</td>\n",
       "      <td>21.0</td>\n",
       "      <td>1.52</td>\n",
       "      <td>56.0</td>\n",
       "      <td>yes</td>\n",
       "      <td>no</td>\n",
       "      <td>3.0</td>\n",
       "      <td>3.0</td>\n",
       "      <td>Sometimes</td>\n",
       "      <td>yes</td>\n",
       "      <td>3.0</td>\n",
       "      <td>yes</td>\n",
       "      <td>3.0</td>\n",
       "      <td>0.0</td>\n",
       "      <td>Sometimes</td>\n",
       "      <td>Public_Transportation</td>\n",
       "      <td>Normal_Weight</td>\n",
       "    </tr>\n",
       "    <tr>\n",
       "      <th>2</th>\n",
       "      <td>Male</td>\n",
       "      <td>23.0</td>\n",
       "      <td>1.80</td>\n",
       "      <td>77.0</td>\n",
       "      <td>yes</td>\n",
       "      <td>no</td>\n",
       "      <td>2.0</td>\n",
       "      <td>3.0</td>\n",
       "      <td>Sometimes</td>\n",
       "      <td>no</td>\n",
       "      <td>2.0</td>\n",
       "      <td>no</td>\n",
       "      <td>2.0</td>\n",
       "      <td>1.0</td>\n",
       "      <td>Frequently</td>\n",
       "      <td>Public_Transportation</td>\n",
       "      <td>Normal_Weight</td>\n",
       "    </tr>\n",
       "    <tr>\n",
       "      <th>3</th>\n",
       "      <td>Male</td>\n",
       "      <td>27.0</td>\n",
       "      <td>1.80</td>\n",
       "      <td>87.0</td>\n",
       "      <td>no</td>\n",
       "      <td>no</td>\n",
       "      <td>3.0</td>\n",
       "      <td>3.0</td>\n",
       "      <td>Sometimes</td>\n",
       "      <td>no</td>\n",
       "      <td>2.0</td>\n",
       "      <td>no</td>\n",
       "      <td>2.0</td>\n",
       "      <td>0.0</td>\n",
       "      <td>Frequently</td>\n",
       "      <td>Walking</td>\n",
       "      <td>Overweight_Level_I</td>\n",
       "    </tr>\n",
       "    <tr>\n",
       "      <th>4</th>\n",
       "      <td>Male</td>\n",
       "      <td>22.0</td>\n",
       "      <td>1.78</td>\n",
       "      <td>89.8</td>\n",
       "      <td>no</td>\n",
       "      <td>no</td>\n",
       "      <td>2.0</td>\n",
       "      <td>1.0</td>\n",
       "      <td>Sometimes</td>\n",
       "      <td>no</td>\n",
       "      <td>2.0</td>\n",
       "      <td>no</td>\n",
       "      <td>0.0</td>\n",
       "      <td>0.0</td>\n",
       "      <td>Sometimes</td>\n",
       "      <td>Public_Transportation</td>\n",
       "      <td>Overweight_Level_II</td>\n",
       "    </tr>\n",
       "  </tbody>\n",
       "</table>\n",
       "</div>"
      ],
      "text/plain": [
       "   Gender   Age  Height  ...        CALC                 MTRANS              Obesity\n",
       "0  Female  21.0    1.62  ...          no  Public_Transportation        Normal_Weight\n",
       "1  Female  21.0    1.52  ...   Sometimes  Public_Transportation        Normal_Weight\n",
       "2    Male  23.0    1.80  ...  Frequently  Public_Transportation        Normal_Weight\n",
       "3    Male  27.0    1.80  ...  Frequently                Walking   Overweight_Level_I\n",
       "4    Male  22.0    1.78  ...   Sometimes  Public_Transportation  Overweight_Level_II\n",
       "\n",
       "[5 rows x 17 columns]"
      ]
     },
     "execution_count": 101,
     "metadata": {},
     "output_type": "execute_result"
    }
   ],
   "source": [
    "obesity = pd.read_csv('Obesity prediction.csv')\n",
    "obesity.head()"
   ]
  },
  {
   "cell_type": "code",
   "execution_count": 102,
   "id": "b31c7a0e-4fc4-4d41-a99a-5813101a6849",
   "metadata": {},
   "outputs": [],
   "source": [
    "obesity_df = obesity.drop('Obesity', axis=1)\n",
    "Obesity = obesity['Obesity']"
   ]
  },
  {
   "cell_type": "code",
   "execution_count": 103,
   "id": "66d140a0-1f65-44eb-b09c-04097d9b59b6",
   "metadata": {},
   "outputs": [],
   "source": [
    "column_names = obesity_df.columns\n",
    "probability = 0.05"
   ]
  },
  {
   "cell_type": "code",
   "execution_count": 111,
   "id": "2efe6152-9f1a-46eb-b034-a6c4a54fcbf8",
   "metadata": {},
   "outputs": [],
   "source": [
    "#To get index or numerical location value of columns\n",
    "column_index = [obesity_df.columns.get_loc(col) for col in column_names]"
   ]
  },
  {
   "cell_type": "code",
   "execution_count": 113,
   "id": "9e409533-edb7-4f5c-8a66-45cbaf18942c",
   "metadata": {},
   "outputs": [],
   "source": [
    "#Creating a 2D matrix\n",
    "mask = np.random.rand(len(obesity_df), len(column_names))<probability"
   ]
  },
  {
   "cell_type": "code",
   "execution_count": 114,
   "id": "114bc856-16f4-4ad9-bfb1-706b8daa75d8",
   "metadata": {},
   "outputs": [],
   "source": [
    "##Creates a mask that replaces condition statement to 'Nan' by default: If we want to replace with specific value .mask(condition, other=0)\n",
    "obesity_df[column_names] = obesity_df[column_names].mask(mask)"
   ]
  },
  {
   "cell_type": "code",
   "execution_count": 115,
   "id": "a87c4774-5405-448a-a95d-bf06898a08ad",
   "metadata": {},
   "outputs": [
    {
     "data": {
      "text/plain": [
       "Gender            226\n",
       "Age               226\n",
       "Height            188\n",
       "Weight            222\n",
       "family_history    212\n",
       "FAVC              200\n",
       "FCVC              170\n",
       "NCP               224\n",
       "CAEC              243\n",
       "SMOKE             230\n",
       "CH2O              195\n",
       "SCC               210\n",
       "FAF               197\n",
       "TUE               209\n",
       "CALC              218\n",
       "MTRANS            191\n",
       "Obesity             0\n",
       "dtype: int64"
      ]
     },
     "execution_count": 115,
     "metadata": {},
     "output_type": "execute_result"
    }
   ],
   "source": [
    "obesity_df.isna().sum()"
   ]
  },
  {
   "cell_type": "code",
   "execution_count": 108,
   "id": "f2945657-d9f2-4329-9ff6-f456b7ed4844",
   "metadata": {},
   "outputs": [],
   "source": [
    "obesity_df['Obesity'] = Obesity"
   ]
  },
  {
   "cell_type": "code",
   "execution_count": 109,
   "id": "3c6fc26b-6b5e-4c10-909a-3187f1cbe3b4",
   "metadata": {},
   "outputs": [],
   "source": [
    "obesity_df.to_csv('ObesityPrediction.csv', index=False)"
   ]
  },
  {
   "cell_type": "code",
   "execution_count": 110,
   "id": "f02ee7e8-865b-48d5-9aa1-5ba86ae31ee9",
   "metadata": {},
   "outputs": [
    {
     "data": {
      "text/plain": [
       "Gender            123\n",
       "Age               114\n",
       "Height            101\n",
       "Weight            119\n",
       "family_history    110\n",
       "FAVC               99\n",
       "FCVC               88\n",
       "NCP               125\n",
       "CAEC              115\n",
       "SMOKE             103\n",
       "CH2O              102\n",
       "SCC               118\n",
       "FAF               102\n",
       "TUE               129\n",
       "CALC              127\n",
       "MTRANS             96\n",
       "Obesity             0\n",
       "dtype: int64"
      ]
     },
     "execution_count": 110,
     "metadata": {},
     "output_type": "execute_result"
    }
   ],
   "source": [
    "obesity_df.isna().sum()"
   ]
  },
  {
   "cell_type": "code",
   "execution_count": null,
   "id": "daff2442-e7e6-4e2d-8319-315d53970af5",
   "metadata": {},
   "outputs": [],
   "source": []
  }
 ],
 "metadata": {
  "kernelspec": {
   "display_name": "Python 3 (ipykernel)",
   "language": "python",
   "name": "python3"
  },
  "language_info": {
   "codemirror_mode": {
    "name": "ipython",
    "version": 3
   },
   "file_extension": ".py",
   "mimetype": "text/x-python",
   "name": "python",
   "nbconvert_exporter": "python",
   "pygments_lexer": "ipython3",
   "version": "3.12.7"
  }
 },
 "nbformat": 4,
 "nbformat_minor": 5
}
