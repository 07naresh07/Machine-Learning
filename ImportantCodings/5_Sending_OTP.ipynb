{
 "cells": [
  {
   "cell_type": "code",
   "execution_count": 2,
   "id": "21af5073-0d80-436e-a42a-5138dc7dec40",
   "metadata": {},
   "outputs": [],
   "source": [
    "import smtplib\n",
    "import string\n",
    "import random\n",
    "from email.message import EmailMessage"
   ]
  },
  {
   "cell_type": "code",
   "execution_count": 36,
   "id": "0bae2fa8-c7f1-4048-9d9d-3552bbaabf03",
   "metadata": {},
   "outputs": [
    {
     "data": {
      "text/plain": [
       "['2', 'l', '4', 'g', '1', 'q']"
      ]
     },
     "execution_count": 36,
     "metadata": {},
     "output_type": "execute_result"
    }
   ],
   "source": [
    "otp = []\n",
    "for i in range(3):\n",
    "    otp.append(str(random.randint(0,9)))\n",
    "    otp.append(random.choice(string.ascii_letters))\n",
    "otp"
   ]
  },
  {
   "cell_type": "code",
   "execution_count": 37,
   "id": "3b137d6f-de01-46af-bab0-51deb091b32a",
   "metadata": {},
   "outputs": [],
   "source": [
    "random.shuffle(otp)"
   ]
  },
  {
   "cell_type": "code",
   "execution_count": 38,
   "id": "351272ed-2514-421d-b53a-d1ab19aa2696",
   "metadata": {},
   "outputs": [
    {
     "data": {
      "text/plain": [
       "'g21l4q'"
      ]
     },
     "execution_count": 38,
     "metadata": {},
     "output_type": "execute_result"
    }
   ],
   "source": [
    "otp=''.join(otp)\n",
    "otp"
   ]
  },
  {
   "cell_type": "code",
   "execution_count": 41,
   "id": "110dc984-bcba-469e-9906-37890cab3209",
   "metadata": {},
   "outputs": [],
   "source": [
    "sender_email = 'ndhami74@gmail.com'\n",
    "sender_password = 'goac lskj fxto ceom'\n",
    "receiver_email = ['er.ndhami1995@gmail.com', 'dhaminirajan18@gmail.com', 'naresh.dhami765@gmail.com', 'pritambgt90@gmail.com']\n",
    "msg = EmailMessage()\n",
    "msg['From']=sender_email\n",
    "msg['To']=receiver_email\n",
    "msg['Subject']='OTP verification'\n",
    "msg.set_content(f'Your OTP for Mobile Banking: {otp}\\nIf you did not request for OTP contact: {sender_email}\\nThank you!')"
   ]
  },
  {
   "cell_type": "code",
   "execution_count": 42,
   "id": "e2f88f1c-60d9-49d0-975a-0ea7aefaa911",
   "metadata": {},
   "outputs": [
    {
     "name": "stdout",
     "output_type": "stream",
     "text": [
      "\n",
      "Email Sent Successfully!\n",
      "\n"
     ]
    },
    {
     "name": "stdin",
     "output_type": "stream",
     "text": [
      "Enter Received OTP:  g21l4q\n"
     ]
    },
    {
     "name": "stdout",
     "output_type": "stream",
     "text": [
      "OTP Verification Completed!\n"
     ]
    }
   ],
   "source": [
    "server = smtplib.SMTP('smtp.gmail.com', 587)\n",
    "server.starttls()\n",
    "server.login(sender_email, sender_password)\n",
    "server.send_message(msg)\n",
    "print('\\nEmail Sent Successfully!\\n')\n",
    "received_otp = input('Enter Received OTP: ')\n",
    "if received_otp==otp:\n",
    "    print('OTP Verification Completed!')\n",
    "else:\n",
    "    print('OTP Verification Failed!')"
   ]
  },
  {
   "cell_type": "code",
   "execution_count": null,
   "id": "1d93a010-de57-4e90-bdf7-6972ad69c61c",
   "metadata": {},
   "outputs": [],
   "source": []
  }
 ],
 "metadata": {
  "kernelspec": {
   "display_name": "Python 3 (ipykernel)",
   "language": "python",
   "name": "python3"
  },
  "language_info": {
   "codemirror_mode": {
    "name": "ipython",
    "version": 3
   },
   "file_extension": ".py",
   "mimetype": "text/x-python",
   "name": "python",
   "nbconvert_exporter": "python",
   "pygments_lexer": "ipython3",
   "version": "3.12.7"
  }
 },
 "nbformat": 4,
 "nbformat_minor": 5
}
