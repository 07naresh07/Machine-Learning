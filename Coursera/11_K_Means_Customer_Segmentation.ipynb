{
 "cells": [
  {
   "cell_type": "markdown",
   "metadata": {},
   "source": [
    "**Importing Libraries**"
   ]
  },
  {
   "cell_type": "code",
   "execution_count": 1,
   "metadata": {},
   "outputs": [],
   "source": [
    "import pandas as pd\n",
    "import numpy as np\n",
    "import seaborn as sns\n",
    "import matplotlib.pyplot as plt\n",
    "\n",
    "from sklearn.preprocessing import StandardScaler, normalize, LabelEncoder\n",
    "from sklearn.cluster import KMeans\n",
    "import plotly.express as px\n",
    "\n",
    "import warnings\n",
    "warnings.filterwarnings('ignore')"
   ]
  },
  {
   "cell_type": "markdown",
   "metadata": {},
   "source": [
    "**Load Datas**"
   ]
  },
  {
   "cell_type": "code",
   "execution_count": 2,
   "metadata": {},
   "outputs": [
    {
     "data": {
      "text/html": [
       "<div>\n",
       "<style scoped>\n",
       "    .dataframe tbody tr th:only-of-type {\n",
       "        vertical-align: middle;\n",
       "    }\n",
       "\n",
       "    .dataframe tbody tr th {\n",
       "        vertical-align: top;\n",
       "    }\n",
       "\n",
       "    .dataframe thead th {\n",
       "        text-align: right;\n",
       "    }\n",
       "</style>\n",
       "<table border=\"1\" class=\"dataframe\">\n",
       "  <thead>\n",
       "    <tr style=\"text-align: right;\">\n",
       "      <th></th>\n",
       "      <th>Customer Id</th>\n",
       "      <th>Age</th>\n",
       "      <th>Edu</th>\n",
       "      <th>Years Employed</th>\n",
       "      <th>Income</th>\n",
       "      <th>Card Debt</th>\n",
       "      <th>Other Debt</th>\n",
       "      <th>Defaulted</th>\n",
       "      <th>Address</th>\n",
       "      <th>DebtIncomeRatio</th>\n",
       "    </tr>\n",
       "  </thead>\n",
       "  <tbody>\n",
       "    <tr>\n",
       "      <th>483</th>\n",
       "      <td>484</td>\n",
       "      <td>22</td>\n",
       "      <td>1</td>\n",
       "      <td>1</td>\n",
       "      <td>17</td>\n",
       "      <td>0.806</td>\n",
       "      <td>2.356</td>\n",
       "      <td>0.0</td>\n",
       "      <td>NBA003</td>\n",
       "      <td>18.6</td>\n",
       "    </tr>\n",
       "    <tr>\n",
       "      <th>133</th>\n",
       "      <td>134</td>\n",
       "      <td>32</td>\n",
       "      <td>3</td>\n",
       "      <td>5</td>\n",
       "      <td>23</td>\n",
       "      <td>0.326</td>\n",
       "      <td>0.709</td>\n",
       "      <td>0.0</td>\n",
       "      <td>NBA009</td>\n",
       "      <td>4.5</td>\n",
       "    </tr>\n",
       "    <tr>\n",
       "      <th>313</th>\n",
       "      <td>314</td>\n",
       "      <td>29</td>\n",
       "      <td>2</td>\n",
       "      <td>3</td>\n",
       "      <td>15</td>\n",
       "      <td>0.147</td>\n",
       "      <td>0.243</td>\n",
       "      <td>0.0</td>\n",
       "      <td>NBA008</td>\n",
       "      <td>2.6</td>\n",
       "    </tr>\n",
       "    <tr>\n",
       "      <th>627</th>\n",
       "      <td>628</td>\n",
       "      <td>27</td>\n",
       "      <td>1</td>\n",
       "      <td>0</td>\n",
       "      <td>16</td>\n",
       "      <td>0.130</td>\n",
       "      <td>0.046</td>\n",
       "      <td>0.0</td>\n",
       "      <td>NBA005</td>\n",
       "      <td>1.1</td>\n",
       "    </tr>\n",
       "    <tr>\n",
       "      <th>120</th>\n",
       "      <td>121</td>\n",
       "      <td>29</td>\n",
       "      <td>2</td>\n",
       "      <td>6</td>\n",
       "      <td>21</td>\n",
       "      <td>0.369</td>\n",
       "      <td>2.046</td>\n",
       "      <td>0.0</td>\n",
       "      <td>NBA004</td>\n",
       "      <td>11.5</td>\n",
       "    </tr>\n",
       "  </tbody>\n",
       "</table>\n",
       "</div>"
      ],
      "text/plain": [
       "     Customer Id  Age  Edu  Years Employed  Income  Card Debt  Other Debt  \\\n",
       "483          484   22    1               1      17      0.806       2.356   \n",
       "133          134   32    3               5      23      0.326       0.709   \n",
       "313          314   29    2               3      15      0.147       0.243   \n",
       "627          628   27    1               0      16      0.130       0.046   \n",
       "120          121   29    2               6      21      0.369       2.046   \n",
       "\n",
       "     Defaulted Address  DebtIncomeRatio  \n",
       "483        0.0  NBA003             18.6  \n",
       "133        0.0  NBA009              4.5  \n",
       "313        0.0  NBA008              2.6  \n",
       "627        0.0  NBA005              1.1  \n",
       "120        0.0  NBA004             11.5  "
      ]
     },
     "execution_count": 2,
     "metadata": {},
     "output_type": "execute_result"
    }
   ],
   "source": [
    "df = pd.read_csv(\"https://cf-courses-data.s3.us.cloud-object-storage.appdomain.cloud/IBMDeveloperSkillsNetwork-ML0101EN-SkillsNetwork/labs/Module%204/data/Cust_Segmentation.csv\")\n",
    "df.sample(5)"
   ]
  },
  {
   "cell_type": "markdown",
   "metadata": {},
   "source": [
    "**Preprocessing**"
   ]
  },
  {
   "cell_type": "code",
   "execution_count": 3,
   "metadata": {},
   "outputs": [
    {
     "name": "stdout",
     "output_type": "stream",
     "text": [
      "<class 'pandas.core.frame.DataFrame'>\n",
      "RangeIndex: 850 entries, 0 to 849\n",
      "Data columns (total 10 columns):\n",
      " #   Column           Non-Null Count  Dtype  \n",
      "---  ------           --------------  -----  \n",
      " 0   Customer Id      850 non-null    int64  \n",
      " 1   Age              850 non-null    int64  \n",
      " 2   Edu              850 non-null    int64  \n",
      " 3   Years Employed   850 non-null    int64  \n",
      " 4   Income           850 non-null    int64  \n",
      " 5   Card Debt        850 non-null    float64\n",
      " 6   Other Debt       850 non-null    float64\n",
      " 7   Defaulted        700 non-null    float64\n",
      " 8   Address          850 non-null    object \n",
      " 9   DebtIncomeRatio  850 non-null    float64\n",
      "dtypes: float64(4), int64(5), object(1)\n",
      "memory usage: 66.5+ KB\n"
     ]
    }
   ],
   "source": [
    "df.info()"
   ]
  },
  {
   "cell_type": "code",
   "execution_count": 4,
   "metadata": {},
   "outputs": [],
   "source": [
    "df.dropna(inplace=True)"
   ]
  },
  {
   "cell_type": "code",
   "execution_count": 5,
   "metadata": {},
   "outputs": [
    {
     "data": {
      "text/html": [
       "<div>\n",
       "<style scoped>\n",
       "    .dataframe tbody tr th:only-of-type {\n",
       "        vertical-align: middle;\n",
       "    }\n",
       "\n",
       "    .dataframe tbody tr th {\n",
       "        vertical-align: top;\n",
       "    }\n",
       "\n",
       "    .dataframe thead th {\n",
       "        text-align: right;\n",
       "    }\n",
       "</style>\n",
       "<table border=\"1\" class=\"dataframe\">\n",
       "  <thead>\n",
       "    <tr style=\"text-align: right;\">\n",
       "      <th></th>\n",
       "      <th>Customer Id</th>\n",
       "      <th>Age</th>\n",
       "      <th>Edu</th>\n",
       "      <th>Years Employed</th>\n",
       "      <th>Income</th>\n",
       "      <th>Card Debt</th>\n",
       "      <th>Other Debt</th>\n",
       "      <th>Defaulted</th>\n",
       "      <th>DebtIncomeRatio</th>\n",
       "    </tr>\n",
       "  </thead>\n",
       "  <tbody>\n",
       "    <tr>\n",
       "      <th>0</th>\n",
       "      <td>1</td>\n",
       "      <td>41</td>\n",
       "      <td>2</td>\n",
       "      <td>6</td>\n",
       "      <td>19</td>\n",
       "      <td>0.124</td>\n",
       "      <td>1.073</td>\n",
       "      <td>0.0</td>\n",
       "      <td>6.3</td>\n",
       "    </tr>\n",
       "    <tr>\n",
       "      <th>1</th>\n",
       "      <td>2</td>\n",
       "      <td>47</td>\n",
       "      <td>1</td>\n",
       "      <td>26</td>\n",
       "      <td>100</td>\n",
       "      <td>4.582</td>\n",
       "      <td>8.218</td>\n",
       "      <td>0.0</td>\n",
       "      <td>12.8</td>\n",
       "    </tr>\n",
       "    <tr>\n",
       "      <th>2</th>\n",
       "      <td>3</td>\n",
       "      <td>33</td>\n",
       "      <td>2</td>\n",
       "      <td>10</td>\n",
       "      <td>57</td>\n",
       "      <td>6.111</td>\n",
       "      <td>5.802</td>\n",
       "      <td>1.0</td>\n",
       "      <td>20.9</td>\n",
       "    </tr>\n",
       "    <tr>\n",
       "      <th>3</th>\n",
       "      <td>4</td>\n",
       "      <td>29</td>\n",
       "      <td>2</td>\n",
       "      <td>4</td>\n",
       "      <td>19</td>\n",
       "      <td>0.681</td>\n",
       "      <td>0.516</td>\n",
       "      <td>0.0</td>\n",
       "      <td>6.3</td>\n",
       "    </tr>\n",
       "    <tr>\n",
       "      <th>4</th>\n",
       "      <td>5</td>\n",
       "      <td>47</td>\n",
       "      <td>1</td>\n",
       "      <td>31</td>\n",
       "      <td>253</td>\n",
       "      <td>9.308</td>\n",
       "      <td>8.908</td>\n",
       "      <td>0.0</td>\n",
       "      <td>7.2</td>\n",
       "    </tr>\n",
       "  </tbody>\n",
       "</table>\n",
       "</div>"
      ],
      "text/plain": [
       "   Customer Id  Age  Edu  Years Employed  Income  Card Debt  Other Debt  \\\n",
       "0            1   41    2               6      19      0.124       1.073   \n",
       "1            2   47    1              26     100      4.582       8.218   \n",
       "2            3   33    2              10      57      6.111       5.802   \n",
       "3            4   29    2               4      19      0.681       0.516   \n",
       "4            5   47    1              31     253      9.308       8.908   \n",
       "\n",
       "   Defaulted  DebtIncomeRatio  \n",
       "0        0.0              6.3  \n",
       "1        0.0             12.8  \n",
       "2        1.0             20.9  \n",
       "3        0.0              6.3  \n",
       "4        0.0              7.2  "
      ]
     },
     "execution_count": 5,
     "metadata": {},
     "output_type": "execute_result"
    }
   ],
   "source": [
    "df = df.drop(columns='Address')\n",
    "df.head()"
   ]
  },
  {
   "cell_type": "markdown",
   "metadata": {},
   "source": [
    "**Separating datas in raw data and labels**"
   ]
  },
  {
   "cell_type": "code",
   "execution_count": 6,
   "metadata": {},
   "outputs": [],
   "source": [
    "X = df.iloc[:, 1:].values\n",
    "y = df.iloc[:, 0].values"
   ]
  },
  {
   "cell_type": "markdown",
   "metadata": {},
   "source": [
    "**Standardize data**"
   ]
  },
  {
   "cell_type": "code",
   "execution_count": 7,
   "metadata": {},
   "outputs": [],
   "source": [
    "scaler = StandardScaler()\n",
    "X = scaler.fit_transform(X)"
   ]
  },
  {
   "cell_type": "markdown",
   "metadata": {},
   "source": [
    "**Building model and model operaions**"
   ]
  },
  {
   "cell_type": "code",
   "execution_count": 8,
   "metadata": {},
   "outputs": [
    {
     "data": {
      "text/html": [
       "<style>#sk-container-id-1 {\n",
       "  /* Definition of color scheme common for light and dark mode */\n",
       "  --sklearn-color-text: #000;\n",
       "  --sklearn-color-text-muted: #666;\n",
       "  --sklearn-color-line: gray;\n",
       "  /* Definition of color scheme for unfitted estimators */\n",
       "  --sklearn-color-unfitted-level-0: #fff5e6;\n",
       "  --sklearn-color-unfitted-level-1: #f6e4d2;\n",
       "  --sklearn-color-unfitted-level-2: #ffe0b3;\n",
       "  --sklearn-color-unfitted-level-3: chocolate;\n",
       "  /* Definition of color scheme for fitted estimators */\n",
       "  --sklearn-color-fitted-level-0: #f0f8ff;\n",
       "  --sklearn-color-fitted-level-1: #d4ebff;\n",
       "  --sklearn-color-fitted-level-2: #b3dbfd;\n",
       "  --sklearn-color-fitted-level-3: cornflowerblue;\n",
       "\n",
       "  /* Specific color for light theme */\n",
       "  --sklearn-color-text-on-default-background: var(--sg-text-color, var(--theme-code-foreground, var(--jp-content-font-color1, black)));\n",
       "  --sklearn-color-background: var(--sg-background-color, var(--theme-background, var(--jp-layout-color0, white)));\n",
       "  --sklearn-color-border-box: var(--sg-text-color, var(--theme-code-foreground, var(--jp-content-font-color1, black)));\n",
       "  --sklearn-color-icon: #696969;\n",
       "\n",
       "  @media (prefers-color-scheme: dark) {\n",
       "    /* Redefinition of color scheme for dark theme */\n",
       "    --sklearn-color-text-on-default-background: var(--sg-text-color, var(--theme-code-foreground, var(--jp-content-font-color1, white)));\n",
       "    --sklearn-color-background: var(--sg-background-color, var(--theme-background, var(--jp-layout-color0, #111)));\n",
       "    --sklearn-color-border-box: var(--sg-text-color, var(--theme-code-foreground, var(--jp-content-font-color1, white)));\n",
       "    --sklearn-color-icon: #878787;\n",
       "  }\n",
       "}\n",
       "\n",
       "#sk-container-id-1 {\n",
       "  color: var(--sklearn-color-text);\n",
       "}\n",
       "\n",
       "#sk-container-id-1 pre {\n",
       "  padding: 0;\n",
       "}\n",
       "\n",
       "#sk-container-id-1 input.sk-hidden--visually {\n",
       "  border: 0;\n",
       "  clip: rect(1px 1px 1px 1px);\n",
       "  clip: rect(1px, 1px, 1px, 1px);\n",
       "  height: 1px;\n",
       "  margin: -1px;\n",
       "  overflow: hidden;\n",
       "  padding: 0;\n",
       "  position: absolute;\n",
       "  width: 1px;\n",
       "}\n",
       "\n",
       "#sk-container-id-1 div.sk-dashed-wrapped {\n",
       "  border: 1px dashed var(--sklearn-color-line);\n",
       "  margin: 0 0.4em 0.5em 0.4em;\n",
       "  box-sizing: border-box;\n",
       "  padding-bottom: 0.4em;\n",
       "  background-color: var(--sklearn-color-background);\n",
       "}\n",
       "\n",
       "#sk-container-id-1 div.sk-container {\n",
       "  /* jupyter's `normalize.less` sets `[hidden] { display: none; }`\n",
       "     but bootstrap.min.css set `[hidden] { display: none !important; }`\n",
       "     so we also need the `!important` here to be able to override the\n",
       "     default hidden behavior on the sphinx rendered scikit-learn.org.\n",
       "     See: https://github.com/scikit-learn/scikit-learn/issues/21755 */\n",
       "  display: inline-block !important;\n",
       "  position: relative;\n",
       "}\n",
       "\n",
       "#sk-container-id-1 div.sk-text-repr-fallback {\n",
       "  display: none;\n",
       "}\n",
       "\n",
       "div.sk-parallel-item,\n",
       "div.sk-serial,\n",
       "div.sk-item {\n",
       "  /* draw centered vertical line to link estimators */\n",
       "  background-image: linear-gradient(var(--sklearn-color-text-on-default-background), var(--sklearn-color-text-on-default-background));\n",
       "  background-size: 2px 100%;\n",
       "  background-repeat: no-repeat;\n",
       "  background-position: center center;\n",
       "}\n",
       "\n",
       "/* Parallel-specific style estimator block */\n",
       "\n",
       "#sk-container-id-1 div.sk-parallel-item::after {\n",
       "  content: \"\";\n",
       "  width: 100%;\n",
       "  border-bottom: 2px solid var(--sklearn-color-text-on-default-background);\n",
       "  flex-grow: 1;\n",
       "}\n",
       "\n",
       "#sk-container-id-1 div.sk-parallel {\n",
       "  display: flex;\n",
       "  align-items: stretch;\n",
       "  justify-content: center;\n",
       "  background-color: var(--sklearn-color-background);\n",
       "  position: relative;\n",
       "}\n",
       "\n",
       "#sk-container-id-1 div.sk-parallel-item {\n",
       "  display: flex;\n",
       "  flex-direction: column;\n",
       "}\n",
       "\n",
       "#sk-container-id-1 div.sk-parallel-item:first-child::after {\n",
       "  align-self: flex-end;\n",
       "  width: 50%;\n",
       "}\n",
       "\n",
       "#sk-container-id-1 div.sk-parallel-item:last-child::after {\n",
       "  align-self: flex-start;\n",
       "  width: 50%;\n",
       "}\n",
       "\n",
       "#sk-container-id-1 div.sk-parallel-item:only-child::after {\n",
       "  width: 0;\n",
       "}\n",
       "\n",
       "/* Serial-specific style estimator block */\n",
       "\n",
       "#sk-container-id-1 div.sk-serial {\n",
       "  display: flex;\n",
       "  flex-direction: column;\n",
       "  align-items: center;\n",
       "  background-color: var(--sklearn-color-background);\n",
       "  padding-right: 1em;\n",
       "  padding-left: 1em;\n",
       "}\n",
       "\n",
       "\n",
       "/* Toggleable style: style used for estimator/Pipeline/ColumnTransformer box that is\n",
       "clickable and can be expanded/collapsed.\n",
       "- Pipeline and ColumnTransformer use this feature and define the default style\n",
       "- Estimators will overwrite some part of the style using the `sk-estimator` class\n",
       "*/\n",
       "\n",
       "/* Pipeline and ColumnTransformer style (default) */\n",
       "\n",
       "#sk-container-id-1 div.sk-toggleable {\n",
       "  /* Default theme specific background. It is overwritten whether we have a\n",
       "  specific estimator or a Pipeline/ColumnTransformer */\n",
       "  background-color: var(--sklearn-color-background);\n",
       "}\n",
       "\n",
       "/* Toggleable label */\n",
       "#sk-container-id-1 label.sk-toggleable__label {\n",
       "  cursor: pointer;\n",
       "  display: flex;\n",
       "  width: 100%;\n",
       "  margin-bottom: 0;\n",
       "  padding: 0.5em;\n",
       "  box-sizing: border-box;\n",
       "  text-align: center;\n",
       "  align-items: start;\n",
       "  justify-content: space-between;\n",
       "  gap: 0.5em;\n",
       "}\n",
       "\n",
       "#sk-container-id-1 label.sk-toggleable__label .caption {\n",
       "  font-size: 0.6rem;\n",
       "  font-weight: lighter;\n",
       "  color: var(--sklearn-color-text-muted);\n",
       "}\n",
       "\n",
       "#sk-container-id-1 label.sk-toggleable__label-arrow:before {\n",
       "  /* Arrow on the left of the label */\n",
       "  content: \"▸\";\n",
       "  float: left;\n",
       "  margin-right: 0.25em;\n",
       "  color: var(--sklearn-color-icon);\n",
       "}\n",
       "\n",
       "#sk-container-id-1 label.sk-toggleable__label-arrow:hover:before {\n",
       "  color: var(--sklearn-color-text);\n",
       "}\n",
       "\n",
       "/* Toggleable content - dropdown */\n",
       "\n",
       "#sk-container-id-1 div.sk-toggleable__content {\n",
       "  max-height: 0;\n",
       "  max-width: 0;\n",
       "  overflow: hidden;\n",
       "  text-align: left;\n",
       "  /* unfitted */\n",
       "  background-color: var(--sklearn-color-unfitted-level-0);\n",
       "}\n",
       "\n",
       "#sk-container-id-1 div.sk-toggleable__content.fitted {\n",
       "  /* fitted */\n",
       "  background-color: var(--sklearn-color-fitted-level-0);\n",
       "}\n",
       "\n",
       "#sk-container-id-1 div.sk-toggleable__content pre {\n",
       "  margin: 0.2em;\n",
       "  border-radius: 0.25em;\n",
       "  color: var(--sklearn-color-text);\n",
       "  /* unfitted */\n",
       "  background-color: var(--sklearn-color-unfitted-level-0);\n",
       "}\n",
       "\n",
       "#sk-container-id-1 div.sk-toggleable__content.fitted pre {\n",
       "  /* unfitted */\n",
       "  background-color: var(--sklearn-color-fitted-level-0);\n",
       "}\n",
       "\n",
       "#sk-container-id-1 input.sk-toggleable__control:checked~div.sk-toggleable__content {\n",
       "  /* Expand drop-down */\n",
       "  max-height: 200px;\n",
       "  max-width: 100%;\n",
       "  overflow: auto;\n",
       "}\n",
       "\n",
       "#sk-container-id-1 input.sk-toggleable__control:checked~label.sk-toggleable__label-arrow:before {\n",
       "  content: \"▾\";\n",
       "}\n",
       "\n",
       "/* Pipeline/ColumnTransformer-specific style */\n",
       "\n",
       "#sk-container-id-1 div.sk-label input.sk-toggleable__control:checked~label.sk-toggleable__label {\n",
       "  color: var(--sklearn-color-text);\n",
       "  background-color: var(--sklearn-color-unfitted-level-2);\n",
       "}\n",
       "\n",
       "#sk-container-id-1 div.sk-label.fitted input.sk-toggleable__control:checked~label.sk-toggleable__label {\n",
       "  background-color: var(--sklearn-color-fitted-level-2);\n",
       "}\n",
       "\n",
       "/* Estimator-specific style */\n",
       "\n",
       "/* Colorize estimator box */\n",
       "#sk-container-id-1 div.sk-estimator input.sk-toggleable__control:checked~label.sk-toggleable__label {\n",
       "  /* unfitted */\n",
       "  background-color: var(--sklearn-color-unfitted-level-2);\n",
       "}\n",
       "\n",
       "#sk-container-id-1 div.sk-estimator.fitted input.sk-toggleable__control:checked~label.sk-toggleable__label {\n",
       "  /* fitted */\n",
       "  background-color: var(--sklearn-color-fitted-level-2);\n",
       "}\n",
       "\n",
       "#sk-container-id-1 div.sk-label label.sk-toggleable__label,\n",
       "#sk-container-id-1 div.sk-label label {\n",
       "  /* The background is the default theme color */\n",
       "  color: var(--sklearn-color-text-on-default-background);\n",
       "}\n",
       "\n",
       "/* On hover, darken the color of the background */\n",
       "#sk-container-id-1 div.sk-label:hover label.sk-toggleable__label {\n",
       "  color: var(--sklearn-color-text);\n",
       "  background-color: var(--sklearn-color-unfitted-level-2);\n",
       "}\n",
       "\n",
       "/* Label box, darken color on hover, fitted */\n",
       "#sk-container-id-1 div.sk-label.fitted:hover label.sk-toggleable__label.fitted {\n",
       "  color: var(--sklearn-color-text);\n",
       "  background-color: var(--sklearn-color-fitted-level-2);\n",
       "}\n",
       "\n",
       "/* Estimator label */\n",
       "\n",
       "#sk-container-id-1 div.sk-label label {\n",
       "  font-family: monospace;\n",
       "  font-weight: bold;\n",
       "  display: inline-block;\n",
       "  line-height: 1.2em;\n",
       "}\n",
       "\n",
       "#sk-container-id-1 div.sk-label-container {\n",
       "  text-align: center;\n",
       "}\n",
       "\n",
       "/* Estimator-specific */\n",
       "#sk-container-id-1 div.sk-estimator {\n",
       "  font-family: monospace;\n",
       "  border: 1px dotted var(--sklearn-color-border-box);\n",
       "  border-radius: 0.25em;\n",
       "  box-sizing: border-box;\n",
       "  margin-bottom: 0.5em;\n",
       "  /* unfitted */\n",
       "  background-color: var(--sklearn-color-unfitted-level-0);\n",
       "}\n",
       "\n",
       "#sk-container-id-1 div.sk-estimator.fitted {\n",
       "  /* fitted */\n",
       "  background-color: var(--sklearn-color-fitted-level-0);\n",
       "}\n",
       "\n",
       "/* on hover */\n",
       "#sk-container-id-1 div.sk-estimator:hover {\n",
       "  /* unfitted */\n",
       "  background-color: var(--sklearn-color-unfitted-level-2);\n",
       "}\n",
       "\n",
       "#sk-container-id-1 div.sk-estimator.fitted:hover {\n",
       "  /* fitted */\n",
       "  background-color: var(--sklearn-color-fitted-level-2);\n",
       "}\n",
       "\n",
       "/* Specification for estimator info (e.g. \"i\" and \"?\") */\n",
       "\n",
       "/* Common style for \"i\" and \"?\" */\n",
       "\n",
       ".sk-estimator-doc-link,\n",
       "a:link.sk-estimator-doc-link,\n",
       "a:visited.sk-estimator-doc-link {\n",
       "  float: right;\n",
       "  font-size: smaller;\n",
       "  line-height: 1em;\n",
       "  font-family: monospace;\n",
       "  background-color: var(--sklearn-color-background);\n",
       "  border-radius: 1em;\n",
       "  height: 1em;\n",
       "  width: 1em;\n",
       "  text-decoration: none !important;\n",
       "  margin-left: 0.5em;\n",
       "  text-align: center;\n",
       "  /* unfitted */\n",
       "  border: var(--sklearn-color-unfitted-level-1) 1pt solid;\n",
       "  color: var(--sklearn-color-unfitted-level-1);\n",
       "}\n",
       "\n",
       ".sk-estimator-doc-link.fitted,\n",
       "a:link.sk-estimator-doc-link.fitted,\n",
       "a:visited.sk-estimator-doc-link.fitted {\n",
       "  /* fitted */\n",
       "  border: var(--sklearn-color-fitted-level-1) 1pt solid;\n",
       "  color: var(--sklearn-color-fitted-level-1);\n",
       "}\n",
       "\n",
       "/* On hover */\n",
       "div.sk-estimator:hover .sk-estimator-doc-link:hover,\n",
       ".sk-estimator-doc-link:hover,\n",
       "div.sk-label-container:hover .sk-estimator-doc-link:hover,\n",
       ".sk-estimator-doc-link:hover {\n",
       "  /* unfitted */\n",
       "  background-color: var(--sklearn-color-unfitted-level-3);\n",
       "  color: var(--sklearn-color-background);\n",
       "  text-decoration: none;\n",
       "}\n",
       "\n",
       "div.sk-estimator.fitted:hover .sk-estimator-doc-link.fitted:hover,\n",
       ".sk-estimator-doc-link.fitted:hover,\n",
       "div.sk-label-container:hover .sk-estimator-doc-link.fitted:hover,\n",
       ".sk-estimator-doc-link.fitted:hover {\n",
       "  /* fitted */\n",
       "  background-color: var(--sklearn-color-fitted-level-3);\n",
       "  color: var(--sklearn-color-background);\n",
       "  text-decoration: none;\n",
       "}\n",
       "\n",
       "/* Span, style for the box shown on hovering the info icon */\n",
       ".sk-estimator-doc-link span {\n",
       "  display: none;\n",
       "  z-index: 9999;\n",
       "  position: relative;\n",
       "  font-weight: normal;\n",
       "  right: .2ex;\n",
       "  padding: .5ex;\n",
       "  margin: .5ex;\n",
       "  width: min-content;\n",
       "  min-width: 20ex;\n",
       "  max-width: 50ex;\n",
       "  color: var(--sklearn-color-text);\n",
       "  box-shadow: 2pt 2pt 4pt #999;\n",
       "  /* unfitted */\n",
       "  background: var(--sklearn-color-unfitted-level-0);\n",
       "  border: .5pt solid var(--sklearn-color-unfitted-level-3);\n",
       "}\n",
       "\n",
       ".sk-estimator-doc-link.fitted span {\n",
       "  /* fitted */\n",
       "  background: var(--sklearn-color-fitted-level-0);\n",
       "  border: var(--sklearn-color-fitted-level-3);\n",
       "}\n",
       "\n",
       ".sk-estimator-doc-link:hover span {\n",
       "  display: block;\n",
       "}\n",
       "\n",
       "/* \"?\"-specific style due to the `<a>` HTML tag */\n",
       "\n",
       "#sk-container-id-1 a.estimator_doc_link {\n",
       "  float: right;\n",
       "  font-size: 1rem;\n",
       "  line-height: 1em;\n",
       "  font-family: monospace;\n",
       "  background-color: var(--sklearn-color-background);\n",
       "  border-radius: 1rem;\n",
       "  height: 1rem;\n",
       "  width: 1rem;\n",
       "  text-decoration: none;\n",
       "  /* unfitted */\n",
       "  color: var(--sklearn-color-unfitted-level-1);\n",
       "  border: var(--sklearn-color-unfitted-level-1) 1pt solid;\n",
       "}\n",
       "\n",
       "#sk-container-id-1 a.estimator_doc_link.fitted {\n",
       "  /* fitted */\n",
       "  border: var(--sklearn-color-fitted-level-1) 1pt solid;\n",
       "  color: var(--sklearn-color-fitted-level-1);\n",
       "}\n",
       "\n",
       "/* On hover */\n",
       "#sk-container-id-1 a.estimator_doc_link:hover {\n",
       "  /* unfitted */\n",
       "  background-color: var(--sklearn-color-unfitted-level-3);\n",
       "  color: var(--sklearn-color-background);\n",
       "  text-decoration: none;\n",
       "}\n",
       "\n",
       "#sk-container-id-1 a.estimator_doc_link.fitted:hover {\n",
       "  /* fitted */\n",
       "  background-color: var(--sklearn-color-fitted-level-3);\n",
       "}\n",
       "</style><div id=\"sk-container-id-1\" class=\"sk-top-container\"><div class=\"sk-text-repr-fallback\"><pre>KMeans(n_clusters=3, n_init=12, random_state=42)</pre><b>In a Jupyter environment, please rerun this cell to show the HTML representation or trust the notebook. <br />On GitHub, the HTML representation is unable to render, please try loading this page with nbviewer.org.</b></div><div class=\"sk-container\" hidden><div class=\"sk-item\"><div class=\"sk-estimator fitted sk-toggleable\"><input class=\"sk-toggleable__control sk-hidden--visually\" id=\"sk-estimator-id-1\" type=\"checkbox\" checked><label for=\"sk-estimator-id-1\" class=\"sk-toggleable__label fitted sk-toggleable__label-arrow\"><div><div>KMeans</div></div><div><a class=\"sk-estimator-doc-link fitted\" rel=\"noreferrer\" target=\"_blank\" href=\"https://scikit-learn.org/1.6/modules/generated/sklearn.cluster.KMeans.html\">?<span>Documentation for KMeans</span></a><span class=\"sk-estimator-doc-link fitted\">i<span>Fitted</span></span></div></label><div class=\"sk-toggleable__content fitted\"><pre>KMeans(n_clusters=3, n_init=12, random_state=42)</pre></div> </div></div></div></div>"
      ],
      "text/plain": [
       "KMeans(n_clusters=3, n_init=12, random_state=42)"
      ]
     },
     "execution_count": 8,
     "metadata": {},
     "output_type": "execute_result"
    }
   ],
   "source": [
    "model = KMeans(n_clusters=3,\n",
    "               init='k-means++',\n",
    "               n_init=12,\n",
    "               random_state=42)\n",
    "model.fit(X)"
   ]
  },
  {
   "cell_type": "code",
   "execution_count": 9,
   "metadata": {},
   "outputs": [],
   "source": [
    "labels = model.labels_"
   ]
  },
  {
   "cell_type": "code",
   "execution_count": 10,
   "metadata": {},
   "outputs": [
    {
     "data": {
      "text/html": [
       "<div>\n",
       "<style scoped>\n",
       "    .dataframe tbody tr th:only-of-type {\n",
       "        vertical-align: middle;\n",
       "    }\n",
       "\n",
       "    .dataframe tbody tr th {\n",
       "        vertical-align: top;\n",
       "    }\n",
       "\n",
       "    .dataframe thead th {\n",
       "        text-align: right;\n",
       "    }\n",
       "</style>\n",
       "<table border=\"1\" class=\"dataframe\">\n",
       "  <thead>\n",
       "    <tr style=\"text-align: right;\">\n",
       "      <th></th>\n",
       "      <th>Customer Id</th>\n",
       "      <th>Age</th>\n",
       "      <th>Edu</th>\n",
       "      <th>Years Employed</th>\n",
       "      <th>Income</th>\n",
       "      <th>Card Debt</th>\n",
       "      <th>Other Debt</th>\n",
       "      <th>Defaulted</th>\n",
       "      <th>DebtIncomeRatio</th>\n",
       "    </tr>\n",
       "    <tr>\n",
       "      <th>Cluster Labels</th>\n",
       "      <th></th>\n",
       "      <th></th>\n",
       "      <th></th>\n",
       "      <th></th>\n",
       "      <th></th>\n",
       "      <th></th>\n",
       "      <th></th>\n",
       "      <th></th>\n",
       "      <th></th>\n",
       "    </tr>\n",
       "  </thead>\n",
       "  <tbody>\n",
       "    <tr>\n",
       "      <th>0</th>\n",
       "      <td>419.763975</td>\n",
       "      <td>31.366460</td>\n",
       "      <td>1.850932</td>\n",
       "      <td>3.689441</td>\n",
       "      <td>30.484472</td>\n",
       "      <td>1.488199</td>\n",
       "      <td>2.734901</td>\n",
       "      <td>0.975155</td>\n",
       "      <td>13.936025</td>\n",
       "    </tr>\n",
       "    <tr>\n",
       "      <th>1</th>\n",
       "      <td>416.848000</td>\n",
       "      <td>43.112000</td>\n",
       "      <td>1.960000</td>\n",
       "      <td>16.904000</td>\n",
       "      <td>96.056000</td>\n",
       "      <td>4.172896</td>\n",
       "      <td>7.811616</td>\n",
       "      <td>0.208000</td>\n",
       "      <td>14.398400</td>\n",
       "    </tr>\n",
       "    <tr>\n",
       "      <th>2</th>\n",
       "      <td>438.731884</td>\n",
       "      <td>33.727053</td>\n",
       "      <td>1.601449</td>\n",
       "      <td>7.644928</td>\n",
       "      <td>36.246377</td>\n",
       "      <td>0.788126</td>\n",
       "      <td>1.748710</td>\n",
       "      <td>0.000000</td>\n",
       "      <td>7.581884</td>\n",
       "    </tr>\n",
       "  </tbody>\n",
       "</table>\n",
       "</div>"
      ],
      "text/plain": [
       "                Customer Id        Age       Edu  Years Employed     Income  \\\n",
       "Cluster Labels                                                                \n",
       "0                419.763975  31.366460  1.850932        3.689441  30.484472   \n",
       "1                416.848000  43.112000  1.960000       16.904000  96.056000   \n",
       "2                438.731884  33.727053  1.601449        7.644928  36.246377   \n",
       "\n",
       "                Card Debt  Other Debt  Defaulted  DebtIncomeRatio  \n",
       "Cluster Labels                                                     \n",
       "0                1.488199    2.734901   0.975155        13.936025  \n",
       "1                4.172896    7.811616   0.208000        14.398400  \n",
       "2                0.788126    1.748710   0.000000         7.581884  "
      ]
     },
     "execution_count": 10,
     "metadata": {},
     "output_type": "execute_result"
    }
   ],
   "source": [
    "df['Cluster Labels'] = labels\n",
    "df.groupby('Cluster Labels').mean()"
   ]
  },
  {
   "cell_type": "code",
   "execution_count": 11,
   "metadata": {},
   "outputs": [
    {
     "data": {
      "text/html": [
       "<div>\n",
       "<style scoped>\n",
       "    .dataframe tbody tr th:only-of-type {\n",
       "        vertical-align: middle;\n",
       "    }\n",
       "\n",
       "    .dataframe tbody tr th {\n",
       "        vertical-align: top;\n",
       "    }\n",
       "\n",
       "    .dataframe thead th {\n",
       "        text-align: right;\n",
       "    }\n",
       "</style>\n",
       "<table border=\"1\" class=\"dataframe\">\n",
       "  <thead>\n",
       "    <tr style=\"text-align: right;\">\n",
       "      <th></th>\n",
       "      <th>Customer Id</th>\n",
       "      <th>Age</th>\n",
       "      <th>Edu</th>\n",
       "      <th>Years Employed</th>\n",
       "      <th>Income</th>\n",
       "      <th>Card Debt</th>\n",
       "      <th>Other Debt</th>\n",
       "      <th>Defaulted</th>\n",
       "      <th>DebtIncomeRatio</th>\n",
       "      <th>Cluster Labels</th>\n",
       "    </tr>\n",
       "  </thead>\n",
       "  <tbody>\n",
       "    <tr>\n",
       "      <th>0</th>\n",
       "      <td>1</td>\n",
       "      <td>41</td>\n",
       "      <td>2</td>\n",
       "      <td>6</td>\n",
       "      <td>19</td>\n",
       "      <td>0.124</td>\n",
       "      <td>1.073</td>\n",
       "      <td>0.0</td>\n",
       "      <td>6.3</td>\n",
       "      <td>2</td>\n",
       "    </tr>\n",
       "    <tr>\n",
       "      <th>1</th>\n",
       "      <td>2</td>\n",
       "      <td>47</td>\n",
       "      <td>1</td>\n",
       "      <td>26</td>\n",
       "      <td>100</td>\n",
       "      <td>4.582</td>\n",
       "      <td>8.218</td>\n",
       "      <td>0.0</td>\n",
       "      <td>12.8</td>\n",
       "      <td>1</td>\n",
       "    </tr>\n",
       "    <tr>\n",
       "      <th>2</th>\n",
       "      <td>3</td>\n",
       "      <td>33</td>\n",
       "      <td>2</td>\n",
       "      <td>10</td>\n",
       "      <td>57</td>\n",
       "      <td>6.111</td>\n",
       "      <td>5.802</td>\n",
       "      <td>1.0</td>\n",
       "      <td>20.9</td>\n",
       "      <td>0</td>\n",
       "    </tr>\n",
       "    <tr>\n",
       "      <th>3</th>\n",
       "      <td>4</td>\n",
       "      <td>29</td>\n",
       "      <td>2</td>\n",
       "      <td>4</td>\n",
       "      <td>19</td>\n",
       "      <td>0.681</td>\n",
       "      <td>0.516</td>\n",
       "      <td>0.0</td>\n",
       "      <td>6.3</td>\n",
       "      <td>2</td>\n",
       "    </tr>\n",
       "    <tr>\n",
       "      <th>4</th>\n",
       "      <td>5</td>\n",
       "      <td>47</td>\n",
       "      <td>1</td>\n",
       "      <td>31</td>\n",
       "      <td>253</td>\n",
       "      <td>9.308</td>\n",
       "      <td>8.908</td>\n",
       "      <td>0.0</td>\n",
       "      <td>7.2</td>\n",
       "      <td>1</td>\n",
       "    </tr>\n",
       "  </tbody>\n",
       "</table>\n",
       "</div>"
      ],
      "text/plain": [
       "   Customer Id  Age  Edu  Years Employed  Income  Card Debt  Other Debt  \\\n",
       "0            1   41    2               6      19      0.124       1.073   \n",
       "1            2   47    1              26     100      4.582       8.218   \n",
       "2            3   33    2              10      57      6.111       5.802   \n",
       "3            4   29    2               4      19      0.681       0.516   \n",
       "4            5   47    1              31     253      9.308       8.908   \n",
       "\n",
       "   Defaulted  DebtIncomeRatio  Cluster Labels  \n",
       "0        0.0              6.3               2  \n",
       "1        0.0             12.8               1  \n",
       "2        1.0             20.9               0  \n",
       "3        0.0              6.3               2  \n",
       "4        0.0              7.2               1  "
      ]
     },
     "execution_count": 11,
     "metadata": {},
     "output_type": "execute_result"
    }
   ],
   "source": [
    "df.head(5)"
   ]
  },
  {
   "cell_type": "markdown",
   "metadata": {},
   "source": [
    "**Visualization**"
   ]
  },
  {
   "cell_type": "code",
   "execution_count": 12,
   "metadata": {},
   "outputs": [
    {
     "data": {
      "image/png": "[encoded data removed]",
      "text/plain": [
       "<Figure size 600x400 with 1 Axes>"
      ]
     },
     "metadata": {},
     "output_type": "display_data"
    }
   ],
   "source": [
    "area = np.pi*(X[:, 1])**2\n",
    "plt.figure(figsize=(6, 4))\n",
    "plt.scatter(X[:, 0], X[:, 3], s=2*area, c=labels.astype(float), cmap='tab10', alpha=0.6, ec='k') # Customer Id column is dropped in X\n",
    "plt.xlabel('Age', fontsize=12)\n",
    "plt.ylabel('Income', fontsize=12)\n",
    "plt.show()"
   ]
  },
  {
   "cell_type": "markdown",
   "metadata": {},
   "source": [
    "**3D-Visualization using `plotly express`**"
   ]
  },
  {
   "cell_type": "code",
   "execution_count": 13,
   "metadata": {},
   "outputs": [
    {
     "data": {
      "application/vnd.plotly.v1+json": {
       "config": {
        "plotlyServerURL": "https://plot.ly"
       },
       "data": [
        {
         "hovertemplate": "1=%{x}<br>0=%{y}<br>3=%{z}<br>color=%{marker.color}<extra></extra>",
         "legendgroup": "",
         "marker": {
          "color": {
           "bdata": "AAAAAAAAAEAAAAAAAADwPwAAAAAAAAAAAAAAAAAAAEAAAAAAAADwPwAAAAAAAABAAAAAAAAAAEAAAAAAAADwPwAAAAAAAAAAAAAAAAAAAEAAAAAAAAAAAAAAAAAAAABAAAAAAAAAAEAAAAAAAAAAQAAAAAAAAABAAAAAAAAAAAAAAAAAAADwPwAAAAAAAPA/AAAAAAAAAEAAAAAAAAAAQAAAAAAAAABAAAAAAAAAAEAAAAAAAADwPwAAAAAAAAAAAAAAAAAAAEAAAAAAAAAAAAAAAAAAAAAAAAAAAAAAAEAAAAAAAAAAAAAAAAAAAPA/AAAAAAAAAAAAAAAAAADwPwAAAAAAAABAAAAAAAAAAEAAAAAAAAAAQAAAAAAAAPA/AAAAAAAA8D8AAAAAAAAAAAAAAAAAAAAAAAAAAAAAAAAAAAAAAAAAAAAAAAAAAABAAAAAAAAAAEAAAAAAAAAAQAAAAAAAAPA/AAAAAAAAAEAAAAAAAADwPwAAAAAAAPA/AAAAAAAAAEAAAAAAAAAAQAAAAAAAAABAAAAAAAAAAAAAAAAAAAAAQAAAAAAAAAAAAAAAAAAAAEAAAAAAAAAAQAAAAAAAAABAAAAAAAAAAEAAAAAAAAAAQAAAAAAAAABAAAAAAAAAAEAAAAAAAADwPwAAAAAAAABAAAAAAAAAAAAAAAAAAADwPwAAAAAAAPA/AAAAAAAAAAAAAAAAAAAAAAAAAAAAAABAAAAAAAAAAEAAAAAAAAAAAAAAAAAAAAAAAAAAAAAAAEAAAAAAAAAAQAAAAAAAAAAAAAAAAAAAAEAAAAAAAAAAAAAAAAAAAABAAAAAAAAAAAAAAAAAAAAAAAAAAAAAAPA/AAAAAAAAAEAAAAAAAAAAQAAAAAAAAABAAAAAAAAAAEAAAAAAAAAAAAAAAAAAAABAAAAAAAAAAAAAAAAAAAAAQAAAAAAAAABAAAAAAAAA8D8AAAAAAAAAQAAAAAAAAABAAAAAAAAAAEAAAAAAAAAAQAAAAAAAAABAAAAAAAAAAEAAAAAAAAAAQAAAAAAAAABAAAAAAAAAAEAAAAAAAAAAQAAAAAAAAABAAAAAAAAAAEAAAAAAAAAAQAAAAAAAAABAAAAAAAAAAEAAAAAAAAAAQAAAAAAAAABAAAAAAAAAAAAAAAAAAAAAAAAAAAAAAABAAAAAAAAAAEAAAAAAAAAAQAAAAAAAAPA/AAAAAAAAAEAAAAAAAAAAAAAAAAAAAABAAAAAAAAAAEAAAAAAAAAAQAAAAAAAAAAAAAAAAAAAAEAAAAAAAAAAQAAAAAAAAPA/AAAAAAAAAAAAAAAAAAAAAAAAAAAAAPA/AAAAAAAAAEAAAAAAAAAAQAAAAAAAAABAAAAAAAAAAEAAAAAAAAAAQAAAAAAAAABAAAAAAAAAAEAAAAAAAAAAQAAAAAAAAPA/AAAAAAAAAEAAAAAAAAAAQAAAAAAAAAAAAAAAAAAAAEAAAAAAAAAAAAAAAAAAAABAAAAAAAAAAEAAAAAAAAAAAAAAAAAAAPA/AAAAAAAAAAAAAAAAAAAAQAAAAAAAAABAAAAAAAAA8D8AAAAAAAAAAAAAAAAAAPA/AAAAAAAAAEAAAAAAAAAAQAAAAAAAAPA/AAAAAAAAAAAAAAAAAAAAQAAAAAAAAABAAAAAAAAA8D8AAAAAAADwPwAAAAAAAABAAAAAAAAA8D8AAAAAAAAAAAAAAAAAAABAAAAAAAAAAAAAAAAAAAAAQAAAAAAAAPA/AAAAAAAAAEAAAAAAAAAAAAAAAAAAAABAAAAAAAAAAEAAAAAAAAAAQAAAAAAAAAAAAAAAAAAAAAAAAAAAAAAAQAAAAAAAAAAAAAAAAAAA8D8AAAAAAAAAQAAAAAAAAABAAAAAAAAAAEAAAAAAAAAAQAAAAAAAAPA/AAAAAAAAAEAAAAAAAAAAAAAAAAAAAPA/AAAAAAAAAEAAAAAAAAAAQAAAAAAAAABAAAAAAAAA8D8AAAAAAAAAQAAAAAAAAAAAAAAAAAAA8D8AAAAAAAAAQAAAAAAAAABAAAAAAAAAAEAAAAAAAAAAQAAAAAAAAABAAAAAAAAA8D8AAAAAAAAAQAAAAAAAAABAAAAAAAAAAEAAAAAAAAAAQAAAAAAAAABAAAAAAAAA8D8AAAAAAAAAAAAAAAAAAABAAAAAAAAAAAAAAAAAAAAAQAAAAAAAAABAAAAAAAAAAEAAAAAAAAAAAAAAAAAAAPA/AAAAAAAAAAAAAAAAAADwPwAAAAAAAABAAAAAAAAAAEAAAAAAAAAAAAAAAAAAAABAAAAAAAAAAEAAAAAAAAAAAAAAAAAAAAAAAAAAAAAAAAAAAAAAAAAAQAAAAAAAAABAAAAAAAAAAEAAAAAAAAAAQAAAAAAAAPA/AAAAAAAA8D8AAAAAAAAAQAAAAAAAAABAAAAAAAAA8D8AAAAAAAAAQAAAAAAAAABAAAAAAAAAAAAAAAAAAAAAQAAAAAAAAABAAAAAAAAAAAAAAAAAAAAAQAAAAAAAAAAAAAAAAAAA8D8AAAAAAAAAQAAAAAAAAABAAAAAAAAAAEAAAAAAAAAAQAAAAAAAAAAAAAAAAAAAAEAAAAAAAADwPwAAAAAAAAAAAAAAAAAAAEAAAAAAAAAAQAAAAAAAAABAAAAAAAAAAEAAAAAAAAAAQAAAAAAAAAAAAAAAAAAAAAAAAAAAAADwPwAAAAAAAABAAAAAAAAA8D8AAAAAAAAAQAAAAAAAAABAAAAAAAAAAAAAAAAAAAAAAAAAAAAAAABAAAAAAAAAAEAAAAAAAAAAQAAAAAAAAPA/AAAAAAAAAAAAAAAAAAAAQAAAAAAAAABAAAAAAAAAAAAAAAAAAAAAQAAAAAAAAPA/AAAAAAAAAEAAAAAAAAAAQAAAAAAAAABAAAAAAAAAAAAAAAAAAADwPwAAAAAAAABAAAAAAAAAAEAAAAAAAAAAQAAAAAAAAABAAAAAAAAAAEAAAAAAAADwPwAAAAAAAABAAAAAAAAAAEAAAAAAAAAAQAAAAAAAAABAAAAAAAAAAEAAAAAAAADwPwAAAAAAAABAAAAAAAAAAEAAAAAAAADwPwAAAAAAAAAAAAAAAAAAAEAAAAAAAAAAAAAAAAAAAABAAAAAAAAAAEAAAAAAAAAAQAAAAAAAAPA/AAAAAAAA8D8AAAAAAAAAQAAAAAAAAAAAAAAAAAAAAEAAAAAAAADwPwAAAAAAAAAAAAAAAAAAAAAAAAAAAAAAQAAAAAAAAABAAAAAAAAAAAAAAAAAAAAAQAAAAAAAAABAAAAAAAAAAEAAAAAAAAAAQAAAAAAAAPA/AAAAAAAAAEAAAAAAAADwPwAAAAAAAABAAAAAAAAAAEAAAAAAAAAAQAAAAAAAAABAAAAAAAAA8D8AAAAAAAAAQAAAAAAAAAAAAAAAAAAAAEAAAAAAAADwPwAAAAAAAABAAAAAAAAAAEAAAAAAAAAAQAAAAAAAAAAAAAAAAAAAAEAAAAAAAAAAQAAAAAAAAPA/AAAAAAAAAAAAAAAAAADwPwAAAAAAAABAAAAAAAAAAEAAAAAAAAAAQAAAAAAAAAAAAAAAAAAAAAAAAAAAAAAAQAAAAAAAAAAAAAAAAAAA8D8AAAAAAAAAQAAAAAAAAPA/AAAAAAAAAEAAAAAAAADwPwAAAAAAAABAAAAAAAAAAAAAAAAAAAAAQAAAAAAAAABAAAAAAAAA8D8AAAAAAAAAAAAAAAAAAABAAAAAAAAA8D8AAAAAAAAAQAAAAAAAAABAAAAAAAAAAEAAAAAAAADwPwAAAAAAAABAAAAAAAAAAEAAAAAAAAAAQAAAAAAAAABAAAAAAAAA8D8AAAAAAAAAAAAAAAAAAABAAAAAAAAAAEAAAAAAAAAAQAAAAAAAAABAAAAAAAAA8D8AAAAAAAAAAAAAAAAAAABAAAAAAAAAAEAAAAAAAADwPwAAAAAAAABAAAAAAAAAAAAAAAAAAAAAQAAAAAAAAPA/AAAAAAAAAEAAAAAAAADwPwAAAAAAAABAAAAAAAAAAEAAAAAAAAAAQAAAAAAAAABAAAAAAAAAAEAAAAAAAAAAQAAAAAAAAABAAAAAAAAA8D8AAAAAAADwPwAAAAAAAABAAAAAAAAA8D8AAAAAAAAAQAAAAAAAAAAAAAAAAAAAAEAAAAAAAAAAQAAAAAAAAABAAAAAAAAAAAAAAAAAAAAAAAAAAAAAAABAAAAAAAAAAEAAAAAAAAAAQAAAAAAAAABAAAAAAAAAAEAAAAAAAADwPwAAAAAAAAAAAAAAAAAAAAAAAAAAAAAAQAAAAAAAAPA/AAAAAAAAAEAAAAAAAAAAQAAAAAAAAABAAAAAAAAAAAAAAAAAAADwPwAAAAAAAAAAAAAAAAAAAAAAAAAAAAAAAAAAAAAAAAAAAAAAAAAAAEAAAAAAAAAAQAAAAAAAAAAAAAAAAAAAAEAAAAAAAAAAAAAAAAAAAAAAAAAAAAAAAEAAAAAAAAAAAAAAAAAAAPA/AAAAAAAAAEAAAAAAAAAAAAAAAAAAAABAAAAAAAAAAAAAAAAAAADwPwAAAAAAAPA/AAAAAAAAAEAAAAAAAAAAAAAAAAAAAABAAAAAAAAAAAAAAAAAAAAAAAAAAAAAAAAAAAAAAAAAAEAAAAAAAAAAQAAAAAAAAPA/AAAAAAAAAEAAAAAAAAAAAAAAAAAAAABAAAAAAAAAAEAAAAAAAAAAAAAAAAAAAABAAAAAAAAAAAAAAAAAAAAAQAAAAAAAAABAAAAAAAAAAEAAAAAAAAAAAAAAAAAAAABAAAAAAAAA8D8AAAAAAAAAQAAAAAAAAPA/AAAAAAAAAEAAAAAAAADwPwAAAAAAAABAAAAAAAAAAAAAAAAAAAAAQAAAAAAAAABAAAAAAAAAAEAAAAAAAAAAAAAAAAAAAAAAAAAAAAAAAEAAAAAAAAAAQAAAAAAAAPA/AAAAAAAAAEAAAAAAAAAAQAAAAAAAAPA/AAAAAAAAAEAAAAAAAAAAAAAAAAAAAABAAAAAAAAAAAAAAAAAAAAAQAAAAAAAAAAAAAAAAAAAAAAAAAAAAAAAAAAAAAAAAPA/AAAAAAAAAAAAAAAAAAAAQAAAAAAAAABAAAAAAAAAAAAAAAAAAAAAQAAAAAAAAABAAAAAAAAAAEAAAAAAAADwPwAAAAAAAAAAAAAAAAAAAAAAAAAAAAAAQAAAAAAAAABAAAAAAAAAAEAAAAAAAAAAQAAAAAAAAABAAAAAAAAAAAAAAAAAAADwPwAAAAAAAABAAAAAAAAA8D8AAAAAAAAAQAAAAAAAAAAAAAAAAAAAAEAAAAAAAAAAQAAAAAAAAAAAAAAAAAAAAEAAAAAAAAAAQAAAAAAAAAAAAAAAAAAAAAAAAAAAAAAAAAAAAAAAAAAAAAAAAAAAAEAAAAAAAADwPwAAAAAAAAAAAAAAAAAAAAAAAAAAAAAAQAAAAAAAAABAAAAAAAAAAEAAAAAAAAAAQAAAAAAAAPA/AAAAAAAAAAAAAAAAAAAAQAAAAAAAAABAAAAAAAAAAEAAAAAAAADwPwAAAAAAAABAAAAAAAAA8D8AAAAAAAAAQAAAAAAAAABAAAAAAAAA8D8AAAAAAAAAAAAAAAAAAPA/AAAAAAAA8D8AAAAAAAAAAAAAAAAAAABAAAAAAAAAAEAAAAAAAAAAAAAAAAAAAABAAAAAAAAA8D8AAAAAAADwPwAAAAAAAABAAAAAAAAA8D8AAAAAAADwPwAAAAAAAABAAAAAAAAAAEAAAAAAAADwPwAAAAAAAABAAAAAAAAAAEAAAAAAAAAAQAAAAAAAAABAAAAAAAAAAEAAAAAAAAAAAAAAAAAAAABAAAAAAAAAAEAAAAAAAADwPwAAAAAAAABAAAAAAAAAAEAAAAAAAADwPwAAAAAAAABAAAAAAAAAAEAAAAAAAAAAQAAAAAAAAABAAAAAAAAAAEAAAAAAAAAAAAAAAAAAAABAAAAAAAAAAEAAAAAAAAAAAAAAAAAAAABAAAAAAAAAAEAAAAAAAAAAQAAAAAAAAABAAAAAAAAAAAAAAAAAAAAAQAAAAAAAAPA/AAAAAAAAAEAAAAAAAADwPwAAAAAAAABAAAAAAAAAAEAAAAAAAAAAAAAAAAAAAABAAAAAAAAAAAAAAAAAAAAAQAAAAAAAAAAAAAAAAAAAAAAAAAAAAAAAQAAAAAAAAABAAAAAAAAA8D8AAAAAAAAAAAAAAAAAAPA/AAAAAAAAAEAAAAAAAADwPwAAAAAAAPA/AAAAAAAAAEAAAAAAAAAAAAAAAAAAAABAAAAAAAAA8D8AAAAAAAAAQAAAAAAAAPA/AAAAAAAAAEAAAAAAAAAAQAAAAAAAAABAAAAAAAAA8D8AAAAAAAAAQAAAAAAAAAAAAAAAAAAAAEAAAAAAAADwPwAAAAAAAPA/AAAAAAAAAEAAAAAAAAAAQAAAAAAAAABAAAAAAAAAAEAAAAAAAAAAQAAAAAAAAABAAAAAAAAAAEAAAAAAAAAAQAAAAAAAAAAAAAAAAAAAAEAAAAAAAAAAQAAAAAAAAPA/AAAAAAAAAEAAAAAAAAAAQAAAAAAAAABAAAAAAAAAAEAAAAAAAAAAAAAAAAAAAABAAAAAAAAAAEAAAAAAAAAAQAAAAAAAAAAAAAAAAAAA8D8AAAAAAADwPwAAAAAAAABAAAAAAAAAAEAAAAAAAAAAQAAAAAAAAAAAAAAAAAAAAEAAAAAAAAAAQAAAAAAAAABAAAAAAAAAAAAAAAAAAAAAAAAAAAAAAABAAAAAAAAAAAAAAAAAAAAAQAAAAAAAAABAAAAAAAAAAEAAAAAAAAAAQAAAAAAAAABAAAAAAAAAAEAAAAAAAAAAQAAAAAAAAABAAAAAAAAAAEAAAAAAAADwPwAAAAAAAABAAAAAAAAAAEAAAAAAAAAAQAAAAAAAAABAAAAAAAAAAEAAAAAAAADwPwAAAAAAAAAAAAAAAAAAAAAAAAAAAAAAQAAAAAAAAAAAAAAAAAAAAEAAAAAAAAAAQAAAAAAAAABAAAAAAAAA8D8AAAAAAAAAAAAAAAAAAABAAAAAAAAAAEAAAAAAAAAAQAAAAAAAAABAAAAAAAAA8D8AAAAAAAAAAAAAAAAAAABAAAAAAAAAAAAAAAAAAAAAQAAAAAAAAABAAAAAAAAAAAAAAAAAAAAAQAAAAAAAAABAAAAAAAAAAEAAAAAAAAAAAAAAAAAAAAAAAAAAAAAA8D8AAAAAAAAAQAAAAAAAAABAAAAAAAAAAEAAAAAAAAAAAAAAAAAAAABAAAAAAAAAAEAAAAAAAAAAQAAAAAAAAABAAAAAAAAAAEAAAAAAAAAAQAAAAAAAAABAAAAAAAAAAEAAAAAAAAAAQAAAAAAAAABAAAAAAAAAAEAAAAAAAAAAQAAAAAAAAABAAAAAAAAAAEAAAAAAAAAAAAAAAAAAAABAAAAAAAAA8D8=",
           "dtype": "f8"
          },
          "coloraxis": "coloraxis",
          "line": {
           "width": 0.25
          },
          "opacity": 0.7,
          "size": 5,
          "symbol": "circle"
         },
         "mode": "markers",
         "name": "",
         "scene": "scene",
         "showlegend": false,
         "type": "scatter3d",
         "x": {
          "bdata": "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",
          "dtype": "f8"
         },
         "y": {
          "bdata": "39SnYfKV6D9JXdMTMU74P+XKWpmKys2/hfZVKu12579JXdMTMU74PwzEUP10Jdk/0qWnAgWX7D9JXdMTMU74P9yjUyKVTPI/ooWqJyW+9b94x1XL/3frv4X2VSrtdue/Y7vT0QtM8D+F9lUq7Xbnv4AAo/JUQsI/eMdVy/93679WjNNyHk30PyYiUbtPI9E/ooWqJyW+9b8MxFD9dCXZPzEOtyqAjLu/7AOowN+U5D/SpacCBZfsPxxuKniuvve/eMdVy/9367+d5R11U/CRPyYiUbtPI9E/lVaqyDe/+b+IJ6ppSsD9v8JFU2S6Tvo/eMdVy/93678mIlG7TyPRP8JFU2S6Tvo/lVaqyDe/+b94x1XL/3frv0ld0xMxTvg/gACj8lRCwj+ihaonJb71v4X2VSrtdue/MQ63KoCMu79YB62OaufWv2uYVWwSee+/7AOowN+U5D+1FlMFzU/+P/kyqB/Nk+A/MQ63KoCMu7+AAKPyVELCP9yjUyKVTPI/ooWqJyW+9b8/qazQj+nevzEOtyqAjLu/r7SqhhK98b8MxFD9dCXZP6KFqiclvvW/kiVWidp147/sA6jA35TkP5IlVonadeO/hfZVKu1257/lylqZisrNv2O709ELTPA/neUddVPwkT/f1Kdh8pXoP+XKWpmKys2/kiVWidp147/sA6jA35TkPzwu07RDT/w/eMdVy/93678cbip4rr73vyYiUbtPI9E/neUddVPwkT8/qazQj+nev4X2VSrtdue/MQ63KoCMu78MxFD9dCXZP1gHrY5q59a/lVaqyDe/+b+SJVaJ2nXjv4AAo/JUQsI/3KNTIpVM8j9rmFVsEnnvv0ld0xMxTvg/39SnYfKV6D8pnSrXm73zv9KlpwIFl+w/gACj8lRCwj8pnSrXm73zv5IlVonadeO/ooWqJyW+9b/5MqgfzZPgP5IlVonadeO/WAetjmrn1r/lylqZisrNv4X2VSrtdue/eMdVy/9367/lylqZisrNv/kyqB/Nk+A/WAetjmrn1r9YB62OaufWv3jHVcv/d+u/r7SqhhK98b9rmFVsEnnvv53lHXVT8JE/neUddVPwkT8/qazQj+nev1gHrY5q59a/hfZVKu1257+d5R11U/CRP9yjUyKVTPI/7AOowN+U5D+AAKPyVELCPxxuKniuvve/r7SqhhK98b+SJVaJ2nXjvzEOtyqAjLu/eMdVy/9367/PdFPDp032P6KFqiclvvW/KZ0q15u987/lylqZisrNvwzEUP10Jdk/MQ63KoCMu7/5MqgfzZPgP9yjUyKVTPI/eMdVy/93678/qazQj+nev4AAo/JUQsI/neUddVPwkT8/qazQj+nev3jHVcv/d+u/gACj8lRCwj8/qazQj+nev5IlVonadeO/r7SqhhK98b/CRVNkuk76P/kyqB/Nk+A/P6ms0I/p3r8/qazQj+nev2uYVWwSee+/P6ms0I/p3r8RaGl7tCgCQOwDqMDflOQ/r7SqhhK98b+F9lUq7Xbnv9RzKdNvKAFA+TKoH82T4D/lylqZisrNv6KFqiclvvW/SV3TEzFO+D/f1Kdh8pXoP6+0qoYSvfG/wkVTZLpO+j8mIlG7TyPRP0ld0xMxTvg/JiJRu08j0T/sA6jA35TkPw8/KhnBv/u/1HMp028oAUBJXdMTMU74P9/Up2Hyleg/SV3TEzFO+D+VVqrIN7/5v/kyqB/Nk+A/l3/pKisoAEDlylqZisrNv2O709ELTPA/7AOowN+U5D9rmFVsEnnvvz+prNCP6d6/JiJRu08j0T/SpacCBZfsPymdKtebvfO/+TKoH82T4D/CRVNkuk76Pw8/KhnBv/u/7AOowN+U5D8/qazQj+nevxxuKniuvve/P6ms0I/p3r8/qazQj+nev7UWUwXNT/4/hfZVKu12578mIlG7TyPRP890U8OnTfY/+TKoH82T4D8xDrcqgIy7v2uYVWwSee+/39SnYfKV6D+F9lUq7Xbnv6KFqiclvvW/WAetjmrn1r8cbip4rr73vz+prNCP6d6/gACj8lRCwj+vtKqGEr3xv2O709ELTPA/JiJRu08j0T94x1XL/3frv3jHVcv/d+u/r7SqhhK98b/5MqgfzZPgPzEOtyqAjLu/l3/pKisoAEB4x1XL/3frv/kyqB/Nk+A/HG4qeK6+978PPyoZwb/7v+wDqMDflOQ/WAetjmrn1r+F9lUq7Xbnv2O709ELTPA/ilDpyz0pBEAMxFD9dCXZP+wDqMDflOQ/Y7vT0QtM8D+d5R11U/CRP6KFqiclvvW/39SnYfKV6D94x1XL/3frv6KFqiclvvW/7AOowN+U5D+F9lUq7Xbnv6+0qoYSvfG/39SnYfKV6D+vtKqGEr3xv8JFU2S6Tvo/neUddVPwkT8cbip4rr73v/kyqB/Nk+A/DMRQ/XQl2T+SJVaJ2nXjv+XKWpmKys2/MQ63KoCMu79rmFVsEnnvv5IlVonadeO/a5hVbBJ577+F9lUq7XbnvymdKtebvfO/39SnYfKV6D/SpacCBZfsPwzEUP10Jdk/HG4qeK6+97/lylqZisrNvz+prNCP6d6/JiJRu08j0T/sA6jA35TkP53lHXVT8JE/DMRQ/XQl2T+SJVaJ2nXjv5IlVonadeO/hfZVKu1257/5MqgfzZPgPz+prNCP6d6/DMRQ/XQl2T/f1Kdh8pXoP9/Up2Hyleg/VozTch5N9D+VVqrIN7/5vzEOtyqAjLu/KZ0q15u987+F9lUq7Xbnv53lHXVT8JE/+TKoH82T4D8xDrcqgIy7v9yjUyKVTPI/HG4qeK6+97/PdFPDp032P9/Up2Hyleg/1HMp028oAUAcbip4rr73v8JFU2S6Tvo/EWhpe7QoAkD5MqgfzZPgPyYiUbtPI9E/PC7TtENP/D/5MqgfzZPgP9KlpwIFl+w/eMdVy/93679rmFVsEnnvv6KFqiclvvW/MQ63KoCMu79JXdMTMU74P6+0qoYSvfG/neUddVPwkT8/qazQj+nev4X2VSrtdue/3KNTIpVM8j/sA6jA35TkP4AAo/JUQsI/Dz8qGcG/+7/SpacCBZfsPyYiUbtPI9E/ooWqJyW+9b+ihaonJb71v890U8OnTfY/eMdVy/9367/f1Kdh8pXoP890U8OnTfY/l3/pKisoAECAAKPyVELCPymdKtebvfO/a5hVbBJ5779ju9PRC0zwPxFoaXu0KAJAWAetjmrn1r+AAKPyVELCP53lHXVT8JE/WAetjmrn1r/SpacCBZfsPymdKtebvfO/iCeqaUrA/b+1FlMFzU/+P890U8OnTfY/5cpamYrKzb9ju9PRC0zwP5IlVonadeO/MQ63KoCMu78mIlG7TyPRPwzEUP10Jdk/WAetjmrn1r/5MqgfzZPgPz+prNCP6d6/KZ0q15u9879WjNNyHk30P/kyqB/Nk+A/ooWqJyW+9b+SJVaJ2nXjv5IlVonadeO/a5hVbBJ5778/qazQj+nev0ld0xMxTvg/SV3TEzFO+D9WjNNyHk30P4X2VSrtdue/gACj8lRCwj+F9lUq7Xbnv/kyqB/Nk+A/lVaqyDe/+b/PdFPDp032PyYiUbtPI9E/0qWnAgWX7D8xDrcqgIy7vwzEUP10Jdk/neUddVPwkT9WjNNyHk30P2O709ELTPA/TlypI/koA0Cd5R11U/CRP3jHVcv/d+u/+TKoH82T4D9YB62OaufWv5VWqsg3v/m/39SnYfKV6D8xDrcqgIy7vzEOtyqAjLu/P6ms0I/p3r+KUOnLPSkEQOwDqMDflOQ/39SnYfKV6D9ju9PRC0zwP4AAo/JUQsI/l3/pKisoAEBrmFVsEnnvv4AAo/JUQsI/DMRQ/XQl2T9JXdMTMU74P+XKWpmKys2/39SnYfKV6D/lylqZisrNvw8/KhnBv/u/MQ63KoCMu7+Xf+kqKygAQIAAo/JUQsI/HG4qeK6+97+F9lUq7Xbnv890U8OnTfY/VozTch5N9D/f1Kdh8pXoP3jHVcv/d+u/JiJRu08j0T8pnSrXm73zv8JFU2S6Tvo/JiJRu08j0T9YB62OaufWvz+prNCP6d6/wkVTZLpO+j9WjNNyHk30P/kyqB/Nk+A/39SnYfKV6D+1FlMFzU/+P5VWqsg3v/m/Y7vT0QtM8D/lylqZisrNv4X2VSrtdue/ooWqJyW+9b8mIlG7TyPRPzEOtyqAjLu/lVaqyDe/+b/f1Kdh8pXoP1gHrY5q59a/neUddVPwkT/f1Kdh8pXoPw8/KhnBv/u/HG4qeK6+978pnSrXm73zv+wDqMDflOQ/DMRQ/XQl2T/sA6jA35TkP4X2VSrtdue/KZ0q15u987/lylqZisrNv6KFqiclvvW/hfZVKu125794x1XL/3frvz+prNCP6d6/eMdVy/9367/5MqgfzZPgP+XKWpmKys2/39SnYfKV6D+F9lUq7Xbnvz+prNCP6d6/eMdVy/9367+d5R11U/CRP05cqSP5KANAz3RTw6dN9j8cbip4rr73v3jHVcv/d+u/ooWqJyW+9b/f1Kdh8pXoP2O709ELTPA/a5hVbBJ57794x1XL/3frv53lHXVT8JE/P6ms0I/p3r/SpacCBZfsP4X2VSrtdue/gACj8lRCwj8/qazQj+nev2O709ELTPA/P6ms0I/p3r94x1XL/3frv53lHXVT8JE/DMRQ/XQl2T/sA6jA35TkPwzEUP10Jdk/a5hVbBJ57788LtO0Q0/8PwzEUP10Jdk/Y7vT0QtM8D+AAKPyVELCPyYiUbtPI9E/z3RTw6dN9j+VVqrIN7/5v0ld0xMxTvg/kiVWidp147+Xf+kqKygAQM90U8OnTfY/hfZVKu1257+vtKqGEr3xv/kyqB/Nk+A/kiVWidp147/f1Kdh8pXoPymdKtebvfO/MQ63KoCMu78pnSrXm73zv/kyqB/Nk+A/r7SqhhK98b8/qazQj+nev+wDqMDflOQ/0qWnAgWX7D8cbip4rr73vzEOtyqAjLu/eMdVy/9367+F9lUq7Xbnv4X2VSrtdue/ooWqJyW+9b8RaGl7tCgCQPkyqB/Nk+A/eMdVy/9367/5MqgfzZPgPwzEUP10Jdk/MQ63KoCMu78/qazQj+nev+wDqMDflOQ/WAetjmrn1r/co1MilUzyP9/Up2Hyleg/eMdVy/93678pnSrXm73zv2O709ELTPA/VozTch5N9D+d5R11U/CRPzEOtyqAjLu/hfZVKu12579YB62OaufWv2uYVWwSee+/+TKoH82T4D8/qazQj+nev3jHVcv/d+u/a5hVbBJ5778/qazQj+nev1gHrY5q59a/hfZVKu12578/qazQj+nev1gHrY5q59a/+TKoH82T4D9rmFVsEnnvv4X2VSrtdue/P6ms0I/p3r/f1Kdh8pXoP53lHXVT8JE/DMRQ/XQl2T+F9lUq7XbnvyYiUbtPI9E/r7SqhhK98b9rmFVsEnnvv9KlpwIFl+w/gACj8lRCwj/CRVNkuk76P1aM03IeTfQ/r7SqhhK98b+1FlMFzU/+P5IlVonadeO/PC7TtENP/D+AAKPyVELCP6KFqiclvvW/0qWnAgWX7D94x1XL/3frv9RzKdNvKAFA+TKoH82T4D+F9lUq7Xbnv+wDqMDflOQ/a5hVbBJ577+ihaonJb71v6+0qoYSvfG/7AOowN+U5D+1FlMFzU/+P6+0qoYSvfG/JiJRu08j0T/UcynTbygBQHjHVcv/d+u/hfZVKu12579OXKkj+SgDQFgHrY5q59a/WAetjmrn1r+AAKPyVELCPz+prNCP6d6/eMdVy/93678xDrcqgIy7vxFoaXu0KAJAtRZTBc1P/j/UcynTbygBQJIlVonadeO/r7SqhhK98b/SpacCBZfsP2uYVWwSee+/39SnYfKV6D9rmFVsEnnvvyYiUbtPI9E/hfZVKu12579rmFVsEnnvvw8/KhnBv/u/39SnYfKV6D8cbip4rr73v1aM03IeTfQ/VozTch5N9D/lylqZisrNvw8/KhnBv/u/7AOowN+U5D/sA6jA35TkP8dEKXSCKQVAhfZVKu1257+F9lUq7Xbnv/kyqB/Nk+A/a5hVbBJ5778pnSrXm73zv4AAo/JUQsI/neUddVPwkT8pnSrXm73zvw8/KhnBv/u/HG4qeK6+979YB62OaufWvzEOtyqAjLu/+TKoH82T4D/PdFPDp032P53lHXVT8JE/5cpamYrKzb+SJVaJ2nXjv05cqSP5KANA0qWnAgWX7D94x1XL/3frv53lHXVT8JE/39SnYfKV6D/f1Kdh8pXoPxFoaXu0KAJAeMdVy/9367+d5R11U/CRP9KlpwIFl+w/wkVTZLpO+j/lylqZisrNvyYiUbtPI9E/neUddVPwkT/CRVNkuk76PzEOtyqAjLu/39SnYfKV6D/5MqgfzZPgP890U8OnTfY/5cpamYrKzb8xDrcqgIy7vzEOtyqAjLu/VozTch5N9D8pnSrXm73zvz+prNCP6d6/MQ63KoCMu79WjNNyHk30P9yjUyKVTPI/DMRQ/XQl2T9rmFVsEnnvv4X2VSrtdue/hfZVKu1257+VVqrIN7/5v0ld0xMxTvg/a5hVbBJ577+ihaonJb71v6+0qoYSvfG/7AOowN+U5D/lylqZisrNv5IlVonadeO/+TKoH82T4D+ihaonJb71v2uYVWwSee+/DMRQ/XQl2T+AAKPyVELCP/kyqB/Nk+A/Y7vT0QtM8D+ihaonJb71vw8/KhnBv/u/r7SqhhK98b9ju9PRC0zwP4AAo/JUQsI/MQ63KoCMu79JXdMTMU74P8JFU2S6Tvo/hfZVKu1257+AAKPyVELCP53lHXVT8JE/+TKoH82T4D/f1Kdh8pXoP4X2VSrtdue/+TKoH82T4D/lylqZisrNv/kyqB/Nk+A/7AOowN+U5D8xDrcqgIy7v4X2VSrtdue/kiVWidp1478MxFD9dCXZPymdKtebvfO/r7SqhhK98b+F9lUq7Xbnv3jHVcv/d+u/wkVTZLpO+j+vtKqGEr3xv4AAo/JUQsI/kiVWidp147/f1Kdh8pXoPzEOtyqAjLu/VozTch5N9D+VVqrIN7/5vzEOtyqAjLu/P6ms0I/p3r/lylqZisrNv+wDqMDflOQ/gACj8lRCwj+AAKPyVELCP1gHrY5q59a/VozTch5N9D9rmFVsEnnvv9/Up2Hyleg/wkVTZLpO+j+1FlMFzU/+P1aM03IeTfQ/5cpamYrKzb/lylqZisrNv2uYVWwSee+/gACj8lRCwj+SJVaJ2nXjv3jHVcv/d+u/HG4qeK6+978cbip4rr73v6+0qoYSvfG/P6ms0I/p3r8MxFD9dCXZP4X2VSrtdue/WAetjmrn1r9YB62OaufWv9/Up2Hyleg/eMdVy/93678pnSrXm73zv1gHrY5q59a/1HMp028oAUA=",
          "dtype": "f8"
         },
         "z": {
          "bdata": "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",
          "dtype": "f8"
         }
        }
       ],
       "layout": {
        "coloraxis": {
         "colorbar": {
          "title": {
           "text": "color"
          }
         },
         "colorscale": [
          [
           0,
           "#000004"
          ],
          [
           0.1111111111111111,
           "#1b0c41"
          ],
          [
           0.2222222222222222,
           "#4a0c6b"
          ],
          [
           0.3333333333333333,
           "#781c6d"
          ],
          [
           0.4444444444444444,
           "#a52c60"
          ],
          [
           0.5555555555555556,
           "#cf4446"
          ],
          [
           0.6666666666666666,
           "#ed6925"
          ],
          [
           0.7777777777777778,
           "#fb9b06"
          ],
          [
           0.8888888888888888,
           "#f7d13d"
          ],
          [
           1,
           "#fcffa4"
          ]
         ],
         "showscale": false
        },
        "height": 800,
        "legend": {
         "tracegroupgap": 0
        },
        "margin": {
         "t": 60
        },
        "scene": {
         "domain": {
          "x": [
           0,
           1
          ],
          "y": [
           0,
           1
          ]
         },
         "xaxis": {
          "title": {
           "text": "Education"
          }
         },
         "yaxis": {
          "title": {
           "text": "Age"
          }
         },
         "zaxis": {
          "title": {
           "text": "Income"
          }
         }
        },
        "template": {
         "data": {
          "bar": [
           {
            "error_x": {
             "color": "#2a3f5f"
            },
            "error_y": {
             "color": "#2a3f5f"
            },
            "marker": {
             "line": {
              "color": "#E5ECF6",
              "width": 0.5
             },
             "pattern": {
              "fillmode": "overlay",
              "size": 10,
              "solidity": 0.2
             }
            },
            "type": "bar"
           }
          ],
          "barpolar": [
           {
            "marker": {
             "line": {
              "color": "#E5ECF6",
              "width": 0.5
             },
             "pattern": {
              "fillmode": "overlay",
              "size": 10,
              "solidity": 0.2
             }
            },
            "type": "barpolar"
           }
          ],
          "carpet": [
           {
            "aaxis": {
             "endlinecolor": "#2a3f5f",
             "gridcolor": "white",
             "linecolor": "white",
             "minorgridcolor": "white",
             "startlinecolor": "#2a3f5f"
            },
            "baxis": {
             "endlinecolor": "#2a3f5f",
             "gridcolor": "white",
             "linecolor": "white",
             "minorgridcolor": "white",
             "startlinecolor": "#2a3f5f"
            },
            "type": "carpet"
           }
          ],
          "choropleth": [
           {
            "colorbar": {
             "outlinewidth": 0,
             "ticks": ""
            },
            "type": "choropleth"
           }
          ],
          "contour": [
           {
            "colorbar": {
             "outlinewidth": 0,
             "ticks": ""
            },
            "colorscale": [
             [
              0,
              "#0d0887"
             ],
             [
              0.1111111111111111,
              "#46039f"
             ],
             [
              0.2222222222222222,
              "#7201a8"
             ],
             [
              0.3333333333333333,
              "#9c179e"
             ],
             [
              0.4444444444444444,
              "#bd3786"
             ],
             [
              0.5555555555555556,
              "#d8576b"
             ],
             [
              0.6666666666666666,
              "#ed7953"
             ],
             [
              0.7777777777777778,
              "#fb9f3a"
             ],
             [
              0.8888888888888888,
              "#fdca26"
             ],
             [
              1,
              "#f0f921"
             ]
            ],
            "type": "contour"
           }
          ],
          "contourcarpet": [
           {
            "colorbar": {
             "outlinewidth": 0,
             "ticks": ""
            },
            "type": "contourcarpet"
           }
          ],
          "heatmap": [
           {
            "colorbar": {
             "outlinewidth": 0,
             "ticks": ""
            },
            "colorscale": [
             [
              0,
              "#0d0887"
             ],
             [
              0.1111111111111111,
              "#46039f"
             ],
             [
              0.2222222222222222,
              "#7201a8"
             ],
             [
              0.3333333333333333,
              "#9c179e"
             ],
             [
              0.4444444444444444,
              "#bd3786"
             ],
             [
              0.5555555555555556,
              "#d8576b"
             ],
             [
              0.6666666666666666,
              "#ed7953"
             ],
             [
              0.7777777777777778,
              "#fb9f3a"
             ],
             [
              0.8888888888888888,
              "#fdca26"
             ],
             [
              1,
              "#f0f921"
             ]
            ],
            "type": "heatmap"
           }
          ],
          "histogram": [
           {
            "marker": {
             "pattern": {
              "fillmode": "overlay",
              "size": 10,
              "solidity": 0.2
             }
            },
            "type": "histogram"
           }
          ],
          "histogram2d": [
           {
            "colorbar": {
             "outlinewidth": 0,
             "ticks": ""
            },
            "colorscale": [
             [
              0,
              "#0d0887"
             ],
             [
              0.1111111111111111,
              "#46039f"
             ],
             [
              0.2222222222222222,
              "#7201a8"
             ],
             [
              0.3333333333333333,
              "#9c179e"
             ],
             [
              0.4444444444444444,
              "#bd3786"
             ],
             [
              0.5555555555555556,
              "#d8576b"
             ],
             [
              0.6666666666666666,
              "#ed7953"
             ],
             [
              0.7777777777777778,
              "#fb9f3a"
             ],
             [
              0.8888888888888888,
              "#fdca26"
             ],
             [
              1,
              "#f0f921"
             ]
            ],
            "type": "histogram2d"
           }
          ],
          "histogram2dcontour": [
           {
            "colorbar": {
             "outlinewidth": 0,
             "ticks": ""
            },
            "colorscale": [
             [
              0,
              "#0d0887"
             ],
             [
              0.1111111111111111,
              "#46039f"
             ],
             [
              0.2222222222222222,
              "#7201a8"
             ],
             [
              0.3333333333333333,
              "#9c179e"
             ],
             [
              0.4444444444444444,
              "#bd3786"
             ],
             [
              0.5555555555555556,
              "#d8576b"
             ],
             [
              0.6666666666666666,
              "#ed7953"
             ],
             [
              0.7777777777777778,
              "#fb9f3a"
             ],
             [
              0.8888888888888888,
              "#fdca26"
             ],
             [
              1,
              "#f0f921"
             ]
            ],
            "type": "histogram2dcontour"
           }
          ],
          "mesh3d": [
           {
            "colorbar": {
             "outlinewidth": 0,
             "ticks": ""
            },
            "type": "mesh3d"
           }
          ],
          "parcoords": [
           {
            "line": {
             "colorbar": {
              "outlinewidth": 0,
              "ticks": ""
             }
            },
            "type": "parcoords"
           }
          ],
          "pie": [
           {
            "automargin": true,
            "type": "pie"
           }
          ],
          "scatter": [
           {
            "fillpattern": {
             "fillmode": "overlay",
             "size": 10,
             "solidity": 0.2
            },
            "type": "scatter"
           }
          ],
          "scatter3d": [
           {
            "line": {
             "colorbar": {
              "outlinewidth": 0,
              "ticks": ""
             }
            },
            "marker": {
             "colorbar": {
              "outlinewidth": 0,
              "ticks": ""
             }
            },
            "type": "scatter3d"
           }
          ],
          "scattercarpet": [
           {
            "marker": {
             "colorbar": {
              "outlinewidth": 0,
              "ticks": ""
             }
            },
            "type": "scattercarpet"
           }
          ],
          "scattergeo": [
           {
            "marker": {
             "colorbar": {
              "outlinewidth": 0,
              "ticks": ""
             }
            },
            "type": "scattergeo"
           }
          ],
          "scattergl": [
           {
            "marker": {
             "colorbar": {
              "outlinewidth": 0,
              "ticks": ""
             }
            },
            "type": "scattergl"
           }
          ],
          "scattermap": [
           {
            "marker": {
             "colorbar": {
              "outlinewidth": 0,
              "ticks": ""
             }
            },
            "type": "scattermap"
           }
          ],
          "scattermapbox": [
           {
            "marker": {
             "colorbar": {
              "outlinewidth": 0,
              "ticks": ""
             }
            },
            "type": "scattermapbox"
           }
          ],
          "scatterpolar": [
           {
            "marker": {
             "colorbar": {
              "outlinewidth": 0,
              "ticks": ""
             }
            },
            "type": "scatterpolar"
           }
          ],
          "scatterpolargl": [
           {
            "marker": {
             "colorbar": {
              "outlinewidth": 0,
              "ticks": ""
             }
            },
            "type": "scatterpolargl"
           }
          ],
          "scatterternary": [
           {
            "marker": {
             "colorbar": {
              "outlinewidth": 0,
              "ticks": ""
             }
            },
            "type": "scatterternary"
           }
          ],
          "surface": [
           {
            "colorbar": {
             "outlinewidth": 0,
             "ticks": ""
            },
            "colorscale": [
             [
              0,
              "#0d0887"
             ],
             [
              0.1111111111111111,
              "#46039f"
             ],
             [
              0.2222222222222222,
              "#7201a8"
             ],
             [
              0.3333333333333333,
              "#9c179e"
             ],
             [
              0.4444444444444444,
              "#bd3786"
             ],
             [
              0.5555555555555556,
              "#d8576b"
             ],
             [
              0.6666666666666666,
              "#ed7953"
             ],
             [
              0.7777777777777778,
              "#fb9f3a"
             ],
             [
              0.8888888888888888,
              "#fdca26"
             ],
             [
              1,
              "#f0f921"
             ]
            ],
            "type": "surface"
           }
          ],
          "table": [
           {
            "cells": {
             "fill": {
              "color": "#EBF0F8"
             },
             "line": {
              "color": "white"
             }
            },
            "header": {
             "fill": {
              "color": "#C8D4E3"
             },
             "line": {
              "color": "white"
             }
            },
            "type": "table"
           }
          ]
         },
         "layout": {
          "annotationdefaults": {
           "arrowcolor": "#2a3f5f",
           "arrowhead": 0,
           "arrowwidth": 1
          },
          "autotypenumbers": "strict",
          "coloraxis": {
           "colorbar": {
            "outlinewidth": 0,
            "ticks": ""
           }
          },
          "colorscale": {
           "diverging": [
            [
             0,
             "#8e0152"
            ],
            [
             0.1,
             "#c51b7d"
            ],
            [
             0.2,
             "#de77ae"
            ],
            [
             0.3,
             "#f1b6da"
            ],
            [
             0.4,
             "#fde0ef"
            ],
            [
             0.5,
             "#f7f7f7"
            ],
            [
             0.6,
             "#e6f5d0"
            ],
            [
             0.7,
             "#b8e186"
            ],
            [
             0.8,
             "#7fbc41"
            ],
            [
             0.9,
             "#4d9221"
            ],
            [
             1,
             "#276419"
            ]
           ],
           "sequential": [
            [
             0,
             "#0d0887"
            ],
            [
             0.1111111111111111,
             "#46039f"
            ],
            [
             0.2222222222222222,
             "#7201a8"
            ],
            [
             0.3333333333333333,
             "#9c179e"
            ],
            [
             0.4444444444444444,
             "#bd3786"
            ],
            [
             0.5555555555555556,
             "#d8576b"
            ],
            [
             0.6666666666666666,
             "#ed7953"
            ],
            [
             0.7777777777777778,
             "#fb9f3a"
            ],
            [
             0.8888888888888888,
             "#fdca26"
            ],
            [
             1,
             "#f0f921"
            ]
           ],
           "sequentialminus": [
            [
             0,
             "#0d0887"
            ],
            [
             0.1111111111111111,
             "#46039f"
            ],
            [
             0.2222222222222222,
             "#7201a8"
            ],
            [
             0.3333333333333333,
             "#9c179e"
            ],
            [
             0.4444444444444444,
             "#bd3786"
            ],
            [
             0.5555555555555556,
             "#d8576b"
            ],
            [
             0.6666666666666666,
             "#ed7953"
            ],
            [
             0.7777777777777778,
             "#fb9f3a"
            ],
            [
             0.8888888888888888,
             "#fdca26"
            ],
            [
             1,
             "#f0f921"
            ]
           ]
          },
          "colorway": [
           "#636efa",
           "#EF553B",
           "#00cc96",
           "#ab63fa",
           "#FFA15A",
           "#19d3f3",
           "#FF6692",
           "#B6E880",
           "#FF97FF",
           "#FECB52"
          ],
          "font": {
           "color": "#2a3f5f"
          },
          "geo": {
           "bgcolor": "white",
           "lakecolor": "white",
           "landcolor": "#E5ECF6",
           "showlakes": true,
           "showland": true,
           "subunitcolor": "white"
          },
          "hoverlabel": {
           "align": "left"
          },
          "hovermode": "closest",
          "mapbox": {
           "style": "light"
          },
          "paper_bgcolor": "white",
          "plot_bgcolor": "#E5ECF6",
          "polar": {
           "angularaxis": {
            "gridcolor": "white",
            "linecolor": "white",
            "ticks": ""
           },
           "bgcolor": "#E5ECF6",
           "radialaxis": {
            "gridcolor": "white",
            "linecolor": "white",
            "ticks": ""
           }
          },
          "scene": {
           "xaxis": {
            "backgroundcolor": "#E5ECF6",
            "gridcolor": "white",
            "gridwidth": 2,
            "linecolor": "white",
            "showbackground": true,
            "ticks": "",
            "zerolinecolor": "white"
           },
           "yaxis": {
            "backgroundcolor": "#E5ECF6",
            "gridcolor": "white",
            "gridwidth": 2,
            "linecolor": "white",
            "showbackground": true,
            "ticks": "",
            "zerolinecolor": "white"
           },
           "zaxis": {
            "backgroundcolor": "#E5ECF6",
            "gridcolor": "white",
            "gridwidth": 2,
            "linecolor": "white",
            "showbackground": true,
            "ticks": "",
            "zerolinecolor": "white"
           }
          },
          "shapedefaults": {
           "line": {
            "color": "#2a3f5f"
           }
          },
          "ternary": {
           "aaxis": {
            "gridcolor": "white",
            "linecolor": "white",
            "ticks": ""
           },
           "baxis": {
            "gridcolor": "white",
            "linecolor": "white",
            "ticks": ""
           },
           "bgcolor": "#E5ECF6",
           "caxis": {
            "gridcolor": "white",
            "linecolor": "white",
            "ticks": ""
           }
          },
          "title": {
           "x": 0.05
          },
          "xaxis": {
           "automargin": true,
           "gridcolor": "white",
           "linecolor": "white",
           "ticks": "",
           "title": {
            "standoff": 15
           },
           "zerolinecolor": "white",
           "zerolinewidth": 2
          },
          "yaxis": {
           "automargin": true,
           "gridcolor": "white",
           "linecolor": "white",
           "ticks": "",
           "title": {
            "standoff": 15
           },
           "zerolinecolor": "white",
           "zerolinewidth": 2
          }
         }
        },
        "width": 1000
       }
      }
     },
     "metadata": {},
     "output_type": "display_data"
    }
   ],
   "source": [
    "fig = px.scatter_3d(X, x=1, y=0, z=3, opacity=0.7, color=labels.astype(float), color_continuous_scale='inferno')\n",
    "fig.update_traces(marker=dict(size=5, line=dict(width=0.25)), showlegend=False)\n",
    "fig.update_layout(coloraxis_showscale=False, width=1000, height=800, scene=dict(\n",
    "    xaxis=dict(title='Education'),\n",
    "    yaxis=dict(title='Age'),\n",
    "    zaxis=dict(title='Income')\n",
    "))\n",
    "fig.show()"
   ]
  },
  {
   "cell_type": "code",
   "execution_count": null,
   "metadata": {},
   "outputs": [],
   "source": []
  }
 ],
 "metadata": {
  "kernelspec": {
   "display_name": ".venv",
   "language": "python",
   "name": "python3"
  },
  "language_info": {
   "codemirror_mode": {
    "name": "ipython",
    "version": 3
   },
   "file_extension": ".py",
   "mimetype": "text/x-python",
   "name": "python",
   "nbconvert_exporter": "python",
   "pygments_lexer": "ipython3",
   "version": "3.10.11"
  }
 },
 "nbformat": 4,
 "nbformat_minor": 2
}
