{
 "cells": [
  {
   "cell_type": "markdown",
   "metadata": {},
   "source": [
    "# Objective\n",
    "\n",
    "* Train a Neural Network to Solve the XOR Problem\n",
    "* Implement Backpropagation for Neural Network Training\n",
    "* Demonstrate the Use of Activation Functions\n",
    "* Understand the Learning Process Over Multiple Epochs\n",
    "* Demonstrate Weight and Bias Adjustments via Gradient Descent\n",
    "* Evaluate the Model's Performance After Training\n",
    "* Monitor and Analyze the Training Process\n"
   ]
  },
  {
   "cell_type": "markdown",
   "metadata": {},
   "source": [
    "**Import Libraries**"
   ]
  },
  {
   "cell_type": "code",
   "execution_count": 1,
   "metadata": {},
   "outputs": [],
   "source": [
    "import numpy as np\n",
    "import matplotlib.pyplot as plt"
   ]
  },
  {
   "cell_type": "markdown",
   "metadata": {},
   "source": [
    "### Initialize Inputs"
   ]
  },
  {
   "cell_type": "code",
   "execution_count": 2,
   "metadata": {},
   "outputs": [],
   "source": [
    "# Defining inputs and expected output (XOR truth table)\n",
    "X = np.array([[0, 0], [0, 1], [1, 0], [1, 1]]).T  # 2x4 matrix, each column is a training example\n",
    "d = np.array([0, 1, 1, 0])  # Expected output of XOR "
   ]
  },
  {
   "cell_type": "markdown",
   "metadata": {},
   "source": [
    "### Declare the network parameters\n",
    "\n",
    "Define the network parameters such as\n",
    "1. number of input neurons\n",
    "2. hidden layer neurons\n",
    "3. output neurons\n",
    "4. learning rate\n",
    "5. number of epochs\n"
   ]
  },
  {
   "cell_type": "code",
   "execution_count": 3,
   "metadata": {},
   "outputs": [],
   "source": [
    "# Network parameters\n",
    "inputSize = 2   # Number of input neurons (x1, x2)\n",
    "hiddenSize = 2  # Number of hidden neurons\n",
    "outputSize = 1  # Size of output node\n",
    "lr = 0.1        # Learning Rate\n",
    "epochs = 180000 # Number of training epochs"
   ]
  },
  {
   "cell_type": "markdown",
   "metadata": {},
   "source": [
    "### Define the weights\n",
    "Declare the weights for the neurons. The initial weights are taken as random numbers which are then optimized by the backpropagation algorithm\n"
   ]
  },
  {
   "cell_type": "code",
   "execution_count": 4,
   "metadata": {},
   "outputs": [],
   "source": [
    "# Initialize weights and biases randomly within the range [-1, 1]\n",
    "w1 = np.random.rand(hiddenSize, inputSize)*2 - 1    # Weights from input to hidden layer\n",
    "b1 = np.random.rand(hiddenSize, 1)*2 - 1            # Bias for hidden layer\n",
    "w2 = np.random.rand(outputSize, hiddenSize)*2 - 1   # Weights from hidden to output layer\n",
    "b2 = np.random.rand(outputSize, 1)*2 - 1            # Bias for output layer"
   ]
  },
  {
   "cell_type": "markdown",
   "metadata": {},
   "source": [
    "### **Training the Neural Network**\n",
    "\n",
    "The neural network works in 5 stages: \n",
    "1. Forward pass\n",
    "    * The input **X** is multiplied by the weights **w1** and passed through the first layer, followed by the application of the sigmoid or ReLU activation function. This gives the output for the hidden layer.\n",
    "    * The output of the hidden layer is then passed through the second set of weights **w2** to compute the final output. Again, a sigmoid activation function is used to generate the final output **a2**.\n",
    "    \n",
    "2. Error calculation\n",
    "    * The error is computed as the difference between the expected output **(d)** and the actual output **(a2)**.\n",
    "3. Backward pass\n",
    "    * **Output Layer**: The derivative of the sigmoid activation function is applied to the error, producing the gradient for the output layer **(da2)**. This is used to calculate how much the weights in the output layer need to be adjusted.\n",
    "    * **Hidden Layer**: The error is then propagated backward to the hidden layer. The gradient at the hidden layer **(da1)** is computed by taking the dot product of the transpose of the weights **(w2.T)** and the gradient from the output layer. The derivative of the activation function (sigmoid or ReLU) is used to adjust this error.\n",
    "4. Weights and bias updates\n",
    "    * After computing the **gradients (dz1, dz2)**, the **weights (w1, w2)** and **biases (b1, b2)** are updated using the **learning rate (lr)** and **the gradients**. The updates are done to minimize the error and improve the model’s predictions.\n",
    "5. Training:\n",
    "    * This entire process is repeated over many iterations **(epochs)**. During each epoch, the model adjusts its weights and biases to reduce the error. Over time, the network learns to approximate the XOR function.\n",
    "Forward Pass:\n",
    "\n"
   ]
  },
  {
   "cell_type": "code",
   "execution_count": 12,
   "metadata": {},
   "outputs": [
    {
     "name": "stdout",
     "output_type": "stream",
     "text": [
      "Epochs: 4999, Average Error: 0.0065\n",
      "Epochs: 9999, Average Error: 0.0064\n",
      "Epochs: 14999, Average Error: 0.0064\n",
      "Epochs: 19999, Average Error: 0.0064\n",
      "Epochs: 24999, Average Error: 0.0064\n",
      "Epochs: 29999, Average Error: 0.0063\n",
      "Epochs: 34999, Average Error: 0.0063\n",
      "Epochs: 39999, Average Error: 0.0063\n",
      "Epochs: 44999, Average Error: 0.0062\n",
      "Epochs: 49999, Average Error: 0.0062\n",
      "Epochs: 54999, Average Error: 0.0062\n",
      "Epochs: 59999, Average Error: 0.0062\n",
      "Epochs: 64999, Average Error: 0.0061\n",
      "Epochs: 69999, Average Error: 0.0061\n",
      "Epochs: 74999, Average Error: 0.0061\n",
      "Epochs: 79999, Average Error: 0.0061\n",
      "Epochs: 84999, Average Error: 0.0060\n",
      "Epochs: 89999, Average Error: 0.0060\n",
      "Epochs: 94999, Average Error: 0.0060\n",
      "Epochs: 99999, Average Error: 0.0060\n",
      "Epochs: 104999, Average Error: 0.0059\n",
      "Epochs: 109999, Average Error: 0.0059\n",
      "Epochs: 114999, Average Error: 0.0059\n",
      "Epochs: 119999, Average Error: 0.0059\n",
      "Epochs: 124999, Average Error: 0.0058\n",
      "Epochs: 129999, Average Error: 0.0058\n",
      "Epochs: 134999, Average Error: 0.0058\n",
      "Epochs: 139999, Average Error: 0.0058\n",
      "Epochs: 144999, Average Error: 0.0057\n",
      "Epochs: 149999, Average Error: 0.0057\n",
      "Epochs: 154999, Average Error: 0.0057\n",
      "Epochs: 159999, Average Error: 0.0057\n",
      "Epochs: 164999, Average Error: 0.0057\n",
      "Epochs: 169999, Average Error: 0.0056\n",
      "Epochs: 174999, Average Error: 0.0056\n",
      "Epochs: 179999, Average Error: 0.0056\n"
     ]
    }
   ],
   "source": [
    "# Training the network using backpropagation\n",
    "error_list = []\n",
    "for epoch in range(epochs):\n",
    "    # Forward pass\n",
    "    z1 = np.dot(w1, X)+b1       # Weighted sum for hidden layer\n",
    "    a1 = 1.0/(1.0+np.exp(-z1))    # Sigmoid activation for hidden layer\n",
    "\n",
    "    z2 = np.dot(w2, a1)+b2      # Weighted sum for output layer\n",
    "    a2 = 1.0/(1.0+np.exp(-z2))    # Sigmoid activation for output layer\n",
    "\n",
    "    # Error calculation and backpropagation\n",
    "    error = d - a2              # Difference between expected and actual output\n",
    "    da2 = error*(a2*(1-a2))     # Derivative for output layer\n",
    "    dz2 = da2                   # Gradient for output layer\n",
    "\n",
    "    # Propagate error to hidden layer\n",
    "    da1 = np.dot(w2.T, dz2)     # Gradient for hidden layer\n",
    "    dz1 = da1*(a1*(1-a1))\n",
    "    \n",
    "    # Update weights and biases\n",
    "    w2+= lr*np.dot(dz2, a1.T)     # Update weights from hidden to output layer\n",
    "    b2+= lr*np.sum(dz2, axis=1, keepdims=True)  # Update bias for output layer\n",
    "\n",
    "    w1+= lr*np.dot(dz1, X.T)      # Update weights from input to hidden layer\n",
    "    b1+= lr*np.sum(dz1, axis=1, keepdims=True)  # Update bias for hidden layer\n",
    "\n",
    "    if (epoch+1)%5000==0:\n",
    "        print(f'Epochs: {epoch}, Average Error: {np.average(abs(error)):.4f}')\n",
    "        error_list.append(np.average(abs(error)))"
   ]
  },
  {
   "cell_type": "markdown",
   "metadata": {},
   "source": [
    "**Testing Network**"
   ]
  },
  {
   "cell_type": "code",
   "execution_count": 13,
   "metadata": {},
   "outputs": [
    {
     "name": "stdout",
     "output_type": "stream",
     "text": [
      "Final output after updated weight and bias: [[0.00533945 0.99394268 0.99391514 0.00491132]]\n",
      "True Labels: [0 1 1 0]\n",
      "Error after training: [[-0.00533945  0.00605732  0.00608486 -0.00491132]]\n",
      "Average Error: 0.0056\n"
     ]
    }
   ],
   "source": [
    "# Testing trained network\n",
    "z1 = np.dot(w1, X)+b1           # Weighted sum for hidden layer\n",
    "a1 = 1.0/(1.0+np.exp(-z1))      # Sigmoid activation for hidden layer\n",
    "\n",
    "z2 = np.dot(w2, a1)+b2          # Weighted sum for output layer\n",
    "a2 = 1.0/(1.0+np.exp(-z2))      # Sigmoid activation for output layer\n",
    "\n",
    "# Printing result\n",
    "print(f'Final output after updated weight and bias: {a2}')\n",
    "print(f'True Labels: {d}')\n",
    "print(f'Error after training: {error}')\n",
    "print(f'Average Error: {np.average(abs(error)):.4f}')"
   ]
  },
  {
   "cell_type": "markdown",
   "metadata": {},
   "source": [
    "**Plot the error result**"
   ]
  },
  {
   "cell_type": "code",
   "execution_count": 14,
   "metadata": {},
   "outputs": [
    {
     "data": {
      "image/png": "[encoded data removed]",
      "text/plain": [
       "<Figure size 640x480 with 1 Axes>"
      ]
     },
     "metadata": {},
     "output_type": "display_data"
    }
   ],
   "source": [
    "plt.plot(error_list)\n",
    "plt.xlabel('Number of Epochs')\n",
    "plt.ylabel('Error Value')\n",
    "plt.title('Errors')\n",
    "plt.show()"
   ]
  },
  {
   "cell_type": "markdown",
   "metadata": {},
   "source": [
    "## Back Propagation fro **AND** Gate"
   ]
  },
  {
   "cell_type": "code",
   "execution_count": 27,
   "metadata": {},
   "outputs": [
    {
     "name": "stdout",
     "output_type": "stream",
     "text": [
      "Epochs: 9999, Average Error: 0.0226\n",
      "Epochs: 19999, Average Error: 0.0141\n",
      "Epochs: 29999, Average Error: 0.0110\n",
      "Epochs: 39999, Average Error: 0.0092\n",
      "Epochs: 49999, Average Error: 0.0081\n",
      "Epochs: 59999, Average Error: 0.0073\n",
      "Epochs: 69999, Average Error: 0.0067\n",
      "Epochs: 79999, Average Error: 0.0062\n",
      "Epochs: 89999, Average Error: 0.0058\n",
      "Epochs: 99999, Average Error: 0.0055\n",
      "Epochs: 109999, Average Error: 0.0052\n",
      "Epochs: 119999, Average Error: 0.0049\n",
      "Epochs: 129999, Average Error: 0.0047\n",
      "Epochs: 139999, Average Error: 0.0046\n",
      "Epochs: 149999, Average Error: 0.0044\n",
      "Epochs: 159999, Average Error: 0.0042\n",
      "Epochs: 169999, Average Error: 0.0041\n",
      "Epochs: 179999, Average Error: 0.0040\n",
      "Epochs: 189999, Average Error: 0.0039\n",
      "Epochs: 199999, Average Error: 0.0037\n",
      "Outcome: [[2.000e-04 4.200e-03 4.300e-03 9.937e-01]]\n",
      "Ground Truth: [0 0 0 1]\n",
      "Error: [[-0.0002 -0.0042 -0.0043  0.0063]]\n",
      "Average Error: 0.0037\n"
     ]
    },
    {
     "data": {
      "image/png": "[encoded data removed]",
      "text/plain": [
       "<Figure size 640x480 with 1 Axes>"
      ]
     },
     "metadata": {},
     "output_type": "display_data"
    }
   ],
   "source": [
    "def back_propagation(num_epochs, learning_rate):\n",
    "    X = np.array([[0,0], [0, 1], [1, 0], [1, 1]]).T\n",
    "    d = np.array([0, 0, 0, 1])\n",
    "\n",
    "    num_inputs = 2\n",
    "    num_hidden = 2\n",
    "    num_output = 1\n",
    "    epochs = num_epochs\n",
    "    lr = learning_rate\n",
    "\n",
    "    w1 = np.random.rand(num_hidden, num_inputs)*2-1\n",
    "    b1 = np.random.rand(num_hidden, 1)*2-1\n",
    "    w2 = np.random.rand(num_output, num_hidden)*2-1\n",
    "    b2 = np.random.rand(num_output, 1)*2-1\n",
    "\n",
    "    error_data = []\n",
    "    for epoch in range(epochs):\n",
    "        z1 = np.dot(w1, X)+b1\n",
    "        a1 = 1.0/(1.0+np.exp(-z1))\n",
    "        z2 = np.dot(w2, a1)+b2\n",
    "        a2 = np.around(1.0/(1.0+np.exp(-z2)), decimals=4)\n",
    "\n",
    "        # Error calculation\n",
    "        error = d - a2\n",
    "        da2 = error*(a2*(1-a2))\n",
    "        dz2 = da2\n",
    "\n",
    "        da1 = np.dot(w2.T, dz2)\n",
    "        dz1 = da1*(a1*(1-a1))\n",
    "\n",
    "        w2+= lr*np.dot(dz2, a1.T)\n",
    "        b2+= lr*np.sum(dz2, axis=1, keepdims=True)\n",
    "        w1+= lr*np.dot(dz1, X.T)\n",
    "        b1+= lr*np.sum(dz1, axis=1, keepdims=True)\n",
    "\n",
    "        if (epoch+1)%10000 == 0:\n",
    "            print(f'Epochs: {epoch}, Average Error: {np.average(abs(error)):.4f}')\n",
    "            error_data.append(np.average(abs(error)))\n",
    "    def comparison_data():\n",
    "        z1 = np.dot(w1, X)+b1\n",
    "        a1 = 1.0/(1.0+np.exp(-z1))\n",
    "        z2 = np.dot(w2, a1)+b2\n",
    "        a2 = np.around(1.0/(1.0+np.exp(-z2)), decimals=4)\n",
    "        print(f'Outcome: {a2}')\n",
    "        print(f'Ground Truth: {d}')\n",
    "        print(f'Error: {error}')\n",
    "        print(f'Average Error: {np.average(abs(error)):.4f}')\n",
    "    comparison_data()\n",
    "\n",
    "    def plot_data():\n",
    "        plt.plot(error_data, color='orange')\n",
    "        plt.title('Error Plot')\n",
    "        plt.xlabel('Number of Epochs')\n",
    "        plt.ylabel('Error Value')\n",
    "        plt.show()\n",
    "    plot_data()\n",
    "back_propagation(200000, 0.1)\n",
    "        "
   ]
  },
  {
   "cell_type": "markdown",
   "metadata": {},
   "source": [
    "**For 1000000 epochs and Learning rate: 0.01 for *XOR* Gaate**"
   ]
  },
  {
   "cell_type": "code",
   "execution_count": 28,
   "metadata": {},
   "outputs": [
    {
     "name": "stdout",
     "output_type": "stream",
     "text": [
      "Epochs: 9999, Average Error: 0.1396\n",
      "Epochs: 19999, Average Error: 0.0650\n",
      "Epochs: 29999, Average Error: 0.0457\n",
      "Epochs: 39999, Average Error: 0.0366\n",
      "Epochs: 49999, Average Error: 0.0312\n",
      "Epochs: 59999, Average Error: 0.0275\n",
      "Epochs: 69999, Average Error: 0.0248\n",
      "Epochs: 79999, Average Error: 0.0228\n",
      "Epochs: 89999, Average Error: 0.0211\n",
      "Epochs: 99999, Average Error: 0.0197\n",
      "Epochs: 109999, Average Error: 0.0186\n",
      "Epochs: 119999, Average Error: 0.0176\n",
      "Epochs: 129999, Average Error: 0.0168\n",
      "Epochs: 139999, Average Error: 0.0161\n",
      "Epochs: 149999, Average Error: 0.0154\n",
      "Epochs: 159999, Average Error: 0.0149\n",
      "Epochs: 169999, Average Error: 0.0143\n",
      "Epochs: 179999, Average Error: 0.0138\n",
      "Epochs: 189999, Average Error: 0.0134\n",
      "Epochs: 199999, Average Error: 0.0130\n",
      "Outcome: [[0.0203 0.9857 0.9858 0.9967]]\n",
      "Ground Truth: [0 1 1 1]\n",
      "Error: [[-0.0203  0.0143  0.0142  0.0033]]\n",
      "Average Error: 0.0130\n"
     ]
    },
    {
     "data": {
      "image/png": "[encoded data removed]",
      "text/plain": [
       "<Figure size 640x480 with 1 Axes>"
      ]
     },
     "metadata": {},
     "output_type": "display_data"
    }
   ],
   "source": [
    "def back_propagation(num_epochs, learning_rate):\n",
    "    X = np.array([[0,0], [0, 1], [1, 0], [1, 1]]).T\n",
    "    d = np.array([0, 1, 1, 1])\n",
    "\n",
    "    num_inputs = 2\n",
    "    num_hidden = 2\n",
    "    num_output = 1\n",
    "    epochs = num_epochs\n",
    "    lr = learning_rate\n",
    "\n",
    "    w1 = np.random.rand(num_hidden, num_inputs)*2-1\n",
    "    b1 = np.random.rand(num_hidden, 1)*2-1\n",
    "    w2 = np.random.rand(num_output, num_hidden)*2-1\n",
    "    b2 = np.random.rand(num_output, 1)*2-1\n",
    "\n",
    "    error_data = []\n",
    "    for epoch in range(epochs):\n",
    "        z1 = np.dot(w1, X)+b1\n",
    "        a1 = 1.0/(1.0+np.exp(-z1))\n",
    "        z2 = np.dot(w2, a1)+b2\n",
    "        a2 = np.around(1.0/(1.0+np.exp(-z2)), decimals=4)\n",
    "\n",
    "        # Error calculation\n",
    "        error = d - a2\n",
    "        da2 = error*(a2*(1-a2))\n",
    "        dz2 = da2\n",
    "\n",
    "        da1 = np.dot(w2.T, dz2)\n",
    "        dz1 = da1*(a1*(1-a1))\n",
    "\n",
    "        w2+= lr*np.dot(dz2, a1.T)\n",
    "        b2+= lr*np.sum(dz2, axis=1, keepdims=True)\n",
    "        w1+= lr*np.dot(dz1, X.T)\n",
    "        b1+= lr*np.sum(dz1, axis=1, keepdims=True)\n",
    "\n",
    "        if (epoch+1)%10000 == 0:\n",
    "            print(f'Epochs: {epoch}, Average Error: {np.average(abs(error)):.4f}')\n",
    "            error_data.append(np.average(abs(error)))\n",
    "    def comparison_data():\n",
    "        z1 = np.dot(w1, X)+b1\n",
    "        a1 = 1.0/(1.0+np.exp(-z1))\n",
    "        z2 = np.dot(w2, a1)+b2\n",
    "        a2 = np.around(1.0/(1.0+np.exp(-z2)), decimals=4)\n",
    "        print(f'Outcome: {a2}')\n",
    "        print(f'Ground Truth: {d}')\n",
    "        print(f'Error: {error}')\n",
    "        print(f'Average Error: {np.average(abs(error)):.4f}')\n",
    "    comparison_data()\n",
    "\n",
    "    def plot_data():\n",
    "        plt.plot(error_data, color='orange')\n",
    "        plt.title('Error Plot')\n",
    "        plt.xlabel('Number of Epochs')\n",
    "        plt.ylabel('Error Value')\n",
    "        plt.show()\n",
    "    plot_data()\n",
    "back_propagation(200000, 0.01)"
   ]
  },
  {
   "cell_type": "code",
   "execution_count": null,
   "metadata": {},
   "outputs": [],
   "source": []
  }
 ],
 "metadata": {
  "kernelspec": {
   "display_name": ".venv",
   "language": "python",
   "name": "python3"
  },
  "language_info": {
   "codemirror_mode": {
    "name": "ipython",
    "version": 3
   },
   "file_extension": ".py",
   "mimetype": "text/x-python",
   "name": "python",
   "nbconvert_exporter": "python",
   "pygments_lexer": "ipython3",
   "version": "3.10.11"
  }
 },
 "nbformat": 4,
 "nbformat_minor": 2
}
