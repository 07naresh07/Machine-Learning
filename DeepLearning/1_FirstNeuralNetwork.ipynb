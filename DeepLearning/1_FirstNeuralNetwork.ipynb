{
 "cells": [
  {
   "cell_type": "markdown",
   "metadata": {},
   "source": [
    "**How Neural Network works**"
   ]
  },
  {
   "cell_type": "markdown",
   "metadata": {},
   "source": [
    "<img src=\"http://cocl.us/neural_network_example\" alt=\"Neural Network Example\" width=\"600px\">"
   ]
  },
  {
   "cell_type": "markdown",
   "metadata": {},
   "source": [
    "**Import Library and preceed with workflow to create simple neural network**"
   ]
  },
  {
   "cell_type": "code",
   "execution_count": 1,
   "metadata": {},
   "outputs": [],
   "source": [
    "import numpy as np\n",
    "weights = np.around(np.random.uniform(size=6), decimals=2)\n",
    "biases = np.around(np.random.uniform(size=3), decimals=2)"
   ]
  },
  {
   "cell_type": "code",
   "execution_count": 2,
   "metadata": {},
   "outputs": [
    {
     "name": "stdout",
     "output_type": "stream",
     "text": [
      "Weights: [0.99 0.41 0.18 0.88 0.96 0.26]\n",
      "Biases: [0.64 0.24 0.37]\n"
     ]
    }
   ],
   "source": [
    "print(f'Weights: {weights}\\nBiases: {biases}')"
   ]
  },
  {
   "cell_type": "markdown",
   "metadata": {},
   "source": [
    "Now that we have the weights and the biases defined for the network, let's compute the output for a given input, $x_1$ and $x_2$."
   ]
  },
  {
   "cell_type": "code",
   "execution_count": 3,
   "metadata": {},
   "outputs": [
    {
     "name": "stdout",
     "output_type": "stream",
     "text": [
      "x1 is 0.5 x2 is 0.85\n"
     ]
    }
   ],
   "source": [
    "x_1 = 0.5 # input 1\n",
    "x_2 = 0.85 # input 2\n",
    "\n",
    "print('x1 is {} x2 is {}'.format(x_1, x_2))"
   ]
  },
  {
   "cell_type": "markdown",
   "metadata": {},
   "source": [
    "**Let's start by computing the weighted sum of the inputs, $z_{1, 1}$, at the first node of the hidden layer.**"
   ]
  },
  {
   "cell_type": "code",
   "execution_count": 4,
   "metadata": {},
   "outputs": [
    {
     "name": "stdout",
     "output_type": "stream",
     "text": [
      "The weighted sum of the inputs at the first node in the hidden layer is 2.395\n"
     ]
    }
   ],
   "source": [
    "z_11 = x_1*weights[0] + x_2+weights[1] + biases[0]\n",
    "print('The weighted sum of the inputs at the first node in the hidden layer is {}'.format(z_11))"
   ]
  },
  {
   "cell_type": "markdown",
   "metadata": {},
   "source": [
    "**Let's calculate the weighted sum of the inputs, $z_{1, 2}$ at the second node of the hidden layer.**"
   ]
  },
  {
   "cell_type": "code",
   "execution_count": 5,
   "metadata": {},
   "outputs": [
    {
     "name": "stdout",
     "output_type": "stream",
     "text": [
      "The weighted sum of the inputs at the second node in the hidden layer is 1.496\n"
     ]
    }
   ],
   "source": [
    "z_12 = x_1*weights[3] + x_2*weights[4] + biases[1]\n",
    "print('The weighted sum of the inputs at the second node in the hidden layer is {}'.format(np.around(z_12, decimals=3)))"
   ]
  },
  {
   "cell_type": "markdown",
   "metadata": {},
   "source": [
    "Next, assuming a sigmoid activation function, let's compute the activation of the first node, $a_{1, 1}$, in the hidden layer."
   ]
  },
  {
   "cell_type": "code",
   "execution_count": 6,
   "metadata": {},
   "outputs": [
    {
     "name": "stdout",
     "output_type": "stream",
     "text": [
      "Actication of the first node on hidden layer is 0.916\n"
     ]
    }
   ],
   "source": [
    "a_11 = 1.0/(1.0+np.exp(-z_11))\n",
    "print('Actication of the first node on hidden layer is {}'.format(np.around(a_11, decimals=3)))"
   ]
  },
  {
   "cell_type": "markdown",
   "metadata": {},
   "source": [
    "Let's also compute the activation of the second node, $a_{1, 2}$, in the hidden layer. Assign the value to **a_12**."
   ]
  },
  {
   "cell_type": "code",
   "execution_count": 7,
   "metadata": {},
   "outputs": [
    {
     "name": "stdout",
     "output_type": "stream",
     "text": [
      "Activation of second node on hidden layer is 0.817\n"
     ]
    }
   ],
   "source": [
    "a_12 = 1.0/(1.0+np.exp(-z_12))\n",
    "print('Activation of second node on hidden layer is {}'.format(np.around(a_12, decimals=3)))"
   ]
  },
  {
   "cell_type": "markdown",
   "metadata": {},
   "source": [
    "**Now these activations will serve as the inputs to the output layer. So, let's compute the weighted sum of these inputs to the node in the output layer. Assign the value to **z_2**.**"
   ]
  },
  {
   "cell_type": "code",
   "execution_count": 8,
   "metadata": {},
   "outputs": [
    {
     "name": "stdout",
     "output_type": "stream",
     "text": [
      "The weighted sum of the inputs at the node in the output layer is 1.462\n"
     ]
    }
   ],
   "source": [
    "z_2 = a_11*weights[4] + a_12*weights[5] + biases[2]\n",
    "print('The weighted sum of the inputs at the node in the output layer is {}'.format(np.around(z_2, decimals=3)))"
   ]
  },
  {
   "cell_type": "markdown",
   "metadata": {},
   "source": [
    "Finally, let's compute the output of the network as the activation of the node in the output layer. Assign the value to **a_2**."
   ]
  },
  {
   "cell_type": "code",
   "execution_count": 9,
   "metadata": {},
   "outputs": [
    {
     "name": "stdout",
     "output_type": "stream",
     "text": [
      "The out of the input x1=0.5 and x2=0.85 is 0.812.\n"
     ]
    }
   ],
   "source": [
    "a_2 = 1.0/(1.0+np.exp(-z_2))\n",
    "print('The out of the input x1=0.5 and x2=0.85 is {}.'.format(np.around(a_2, decimals=3)))"
   ]
  },
  {
   "cell_type": "markdown",
   "metadata": {},
   "source": [
    "Obviously, neural networks for real problems are composed of many hidden layers and many more nodes in each layer. So, we can't continue making predictions using this very inefficient approach of computing the weighted sum at each node and the activation of each node manually. \n"
   ]
  },
  {
   "cell_type": "markdown",
   "metadata": {},
   "source": [
    "In order to code an automatic way of making predictions, let's generalize our network. A general network would take $n$ inputs, would have many hidden layers, each hidden layer having $m$ nodes, and would have an output layer. Although the network is showing one hidden layer, but we will code the network to have many hidden layers. Similarly, although the network shows an output layer with one node, we will code the network to have more than one node in the output layer.\n"
   ]
  },
  {
   "cell_type": "markdown",
   "metadata": {},
   "source": [
    "<img src=\"http://cocl.us/general_neural_network\" alt=\"Neural Network General\" width=\"600px\">"
   ]
  },
  {
   "cell_type": "markdown",
   "metadata": {},
   "source": [
    "### **Build a Neural Network**"
   ]
  },
  {
   "cell_type": "code",
   "execution_count": 79,
   "metadata": {},
   "outputs": [],
   "source": [
    "n = 2 # Number of input\n",
    "num_hidden_layers = 2   # number of hidden layers\n",
    "m = [2, 2] # Number of nodes in each hidden layer\n",
    "num_node_output = 1 # Number of nodes in the output layer"
   ]
  },
  {
   "cell_type": "markdown",
   "metadata": {},
   "source": [
    "Now that we defined the structure of the network, let's go ahead and inititailize the weights and the biases in the network to random numbers"
   ]
  },
  {
   "cell_type": "code",
   "execution_count": 80,
   "metadata": {},
   "outputs": [
    {
     "name": "stdout",
     "output_type": "stream",
     "text": [
      "{'layer_1': {'node_1': {'weights': array([0.18, 0.99]), 'bias': array([0.04])}, 'node_2': {'weights': array([0.31, 0.41]), 'bias': array([0.23])}}, 'layer_2': {'node_1': {'weights': array([0.27, 0.11]), 'bias': array([0.81])}, 'node_2': {'weights': array([0.25, 0.63]), 'bias': array([0.36])}}, 'output': {'node_1': {'weights': array([0.  , 0.25]), 'bias': array([0.83])}}}\n"
     ]
    }
   ],
   "source": [
    "import numpy as np\n",
    "\n",
    "num_nodes_previous = n  # number of nodes in the previous layer\n",
    "network = {}\n",
    "# determine name of layer\n",
    "for layer in range(num_hidden_layers+1):\n",
    "    if layer==num_hidden_layers:\n",
    "        layer_name = 'output'\n",
    "        num_nodes = num_node_output\n",
    "    else:\n",
    "        layer_name = 'layer_{}'.format(layer+1)\n",
    "        num_nodes = m[layer]\n",
    "    \n",
    "    # initialize weights and biases associated with each node in the current layer\n",
    "    network[layer_name] = {}\n",
    "    for node in range(num_nodes):\n",
    "        node_name = 'node_{}'.format(node+1)\n",
    "        network[layer_name][node_name]={\n",
    "            'weights': np.around(np.random.uniform(size = num_nodes_previous), decimals=2),\n",
    "            'bias': np.around(np.random.uniform(size=1), decimals=2)\n",
    "        }\n",
    "    num_nodes_previous = num_nodes\n",
    "print(network)"
   ]
  },
  {
   "cell_type": "markdown",
   "metadata": {},
   "source": [
    "So now with the above code, we are able to initialize the weights and the biases pertaining to any network of any number of hidden layers and number of nodes in each layer. But let's put this code in a function so that we are able to repetitively execute all this code whenever we want to construct a neural network."
   ]
  },
  {
   "cell_type": "code",
   "execution_count": 81,
   "metadata": {},
   "outputs": [],
   "source": [
    "def initialize_network(num_input, num_hidden_layers, num_nodes_hidden, num_nodes_output):\n",
    "    num_nodes_previous = num_input\n",
    "    network = {}\n",
    "    for layer in range(num_hidden_layers+1):\n",
    "        if layer == num_hidden_layers:\n",
    "            layer_name = 'output'\n",
    "            num_nodes = num_nodes_output\n",
    "        else:\n",
    "            layer_name = 'layer_{}'.format(layer+1)\n",
    "            num_nodes = num_nodes_hidden[layer]\n",
    "        \n",
    "        network[layer_name] = {}\n",
    "        for node in range(num_nodes):\n",
    "            node_name = 'node_{}'.format(node+1)\n",
    "            network[layer_name][node_name] = {\n",
    "                'weights': np.around(np.random.uniform(size=num_nodes_previous), decimals=2),\n",
    "                'bias': np.around(np.random.uniform(size=1), decimals=2)\n",
    "            }\n",
    "        num_nodes_previous = num_nodes\n",
    "    return network"
   ]
  },
  {
   "cell_type": "markdown",
   "metadata": {},
   "source": [
    "#### Use the *initialize_network* function to create a network that:\n",
    "\n",
    "1. takes 5 inputs\n",
    "2. has three hidden layers\n",
    "3. has 3 nodes in the first layer, 2 nodes in the second layer, and 3 nodes in the third layer\n",
    "4. has 1 node in the output layer\n",
    "\n",
    "Call the network **small_network**."
   ]
  },
  {
   "cell_type": "code",
   "execution_count": 82,
   "metadata": {},
   "outputs": [
    {
     "data": {
      "text/plain": [
       "{'layer_1': {'node_1': {'weights': array([0.41, 0.09, 0.97, 0.65, 0.66]),\n",
       "   'bias': array([0.93])},\n",
       "  'node_2': {'weights': array([0.93, 0.88, 0.4 , 0.28, 0.48]),\n",
       "   'bias': array([0.76])},\n",
       "  'node_3': {'weights': array([0.51, 0.38, 0.6 , 0.64, 0.98]),\n",
       "   'bias': array([0.62])}},\n",
       " 'layer_2': {'node_1': {'weights': array([0.39, 0.93, 0.73]),\n",
       "   'bias': array([0.43])},\n",
       "  'node_2': {'weights': array([0.46, 1.  , 0.96]), 'bias': array([0.01])}},\n",
       " 'layer_3': {'node_1': {'weights': array([0.85, 0.36]), 'bias': array([0.4])},\n",
       "  'node_2': {'weights': array([0.29, 0.61]), 'bias': array([0.18])},\n",
       "  'node_3': {'weights': array([0.21, 0.22]), 'bias': array([0.56])}},\n",
       " 'output': {'node_1': {'weights': array([0.1 , 0.31, 0.81]),\n",
       "   'bias': array([0.49])}}}"
      ]
     },
     "execution_count": 82,
     "metadata": {},
     "output_type": "execute_result"
    }
   ],
   "source": [
    "small_network = initialize_network(num_input=5, num_hidden_layers=3, num_nodes_hidden=[3, 2, 3], num_nodes_output=1)\n",
    "small_network"
   ]
  },
  {
   "cell_type": "markdown",
   "metadata": {},
   "source": [
    "### Compute Weighted Sum at Each Node"
   ]
  },
  {
   "cell_type": "markdown",
   "metadata": {},
   "source": [
    "The weighted sum at each node is computed as the dot product of the inputs and the weights plus the bias. So let's create a function called *compute_weighted_sum* that does just that.\n"
   ]
  },
  {
   "cell_type": "code",
   "execution_count": 83,
   "metadata": {},
   "outputs": [],
   "source": [
    "def compute_weighted_sum(inputs, weights, bias):\n",
    "    return np.sum(inputs*weights)+bias"
   ]
  },
  {
   "cell_type": "markdown",
   "metadata": {},
   "source": [
    "Let's generate 5 inputs that we can feed to **small_network**."
   ]
  },
  {
   "cell_type": "code",
   "execution_count": 84,
   "metadata": {},
   "outputs": [
    {
     "name": "stdout",
     "output_type": "stream",
     "text": [
      "The inputs to the network are: [0.15 0.74 0.26 0.53 0.01]\n"
     ]
    }
   ],
   "source": [
    "np.random.seed(12)\n",
    "inputs = np.around(np.random.uniform(size=5), decimals=2)\n",
    "print('The inputs to the network are: {}'.format(inputs))"
   ]
  },
  {
   "cell_type": "markdown",
   "metadata": {},
   "source": [
    "#### Use the *compute_weighted_sum* function to compute the weighted sum at the first node in the first hidden layer."
   ]
  },
  {
   "cell_type": "code",
   "execution_count": 85,
   "metadata": {},
   "outputs": [
    {
     "name": "stdout",
     "output_type": "stream",
     "text": [
      "The weighted sum at the first hidden layer node is 1.661\n"
     ]
    }
   ],
   "source": [
    "node_weights = small_network['layer_1']['node_1']['weights']\n",
    "node_bias = small_network['layer_1']['node_1']['bias']\n",
    "\n",
    "weighted_sum = compute_weighted_sum(inputs, node_weights, node_bias)\n",
    "print(f'The weighted sum at the first hidden layer node is {np.around(weighted_sum[0], decimals=3)}')"
   ]
  },
  {
   "cell_type": "markdown",
   "metadata": {},
   "source": [
    "### **Compute Node Activation**"
   ]
  },
  {
   "cell_type": "markdown",
   "metadata": {},
   "source": [
    "The output of each node is simply a non-linear tranformation of the weighted sum. We use activation functions for this mapping. Let's use the sigmoid function as the activation function here. So let's define a function that takes a weighted sum as input and returns the non-linear transformation of the input using the sigmoid function."
   ]
  },
  {
   "cell_type": "code",
   "execution_count": 86,
   "metadata": {},
   "outputs": [],
   "source": [
    "def node_activation(weighted_sum):\n",
    "    return 1.0/(1.0+np.exp(-1*weighted_sum))"
   ]
  },
  {
   "cell_type": "markdown",
   "metadata": {},
   "source": [
    "#### Use the *node_activation* function to compute the output of the first node in the first hidden layer."
   ]
  },
  {
   "cell_type": "code",
   "execution_count": 87,
   "metadata": {},
   "outputs": [
    {
     "name": "stdout",
     "output_type": "stream",
     "text": [
      "The output of the first node in the hidden layer is 0.84\n"
     ]
    }
   ],
   "source": [
    "node_output = node_activation(compute_weighted_sum(inputs, node_weights, node_bias))\n",
    "print('The output of the first node in the hidden layer is {}'.format(np.around(node_output[0], decimals=3)))"
   ]
  },
  {
   "cell_type": "markdown",
   "metadata": {},
   "source": [
    "### *Forward Propagation*"
   ]
  },
  {
   "cell_type": "markdown",
   "metadata": {},
   "source": [
    "The final piece of building a neural network that can perform predictions is to put everything together. So let's create a function that applies the *compute_weighted_sum* and *node_activation* functions to each node in the network and propagates the data all the way to the output layer and outputs a prediction for each node in the output layer.\n"
   ]
  },
  {
   "cell_type": "markdown",
   "metadata": {},
   "source": [
    "The way we are going to accomplish this is through the following procedure:\n",
    "\n",
    "1. Start with the input layer as the input to the first hidden layer.\n",
    "2. Compute the weighted sum at the nodes of the current layer.\n",
    "3. Compute the output of the nodes of the current layer.\n",
    "4. Set the output of the current layer to be the input to the next layer.\n",
    "5. Move to the next layer in the network.\n",
    "6. Repeat steps 2 - 5 until we compute the output of the output layer.\n"
   ]
  },
  {
   "cell_type": "code",
   "execution_count": 88,
   "metadata": {},
   "outputs": [],
   "source": [
    "def forward_propagate(network, inputs):\n",
    "    layer_input = list(inputs)\n",
    "    for layer in network:\n",
    "        layer_data = network[layer]\n",
    "        layer_output = []\n",
    "        for node in layer_data:\n",
    "            node_data = layer_data[node]\n",
    "\n",
    "            # compute the weighted sum and the output of each node at the same time \n",
    "            node_output = node_activation(compute_weighted_sum(layer_input, node_data['weights'], node_data['bias']))\n",
    "            layer_output.append(np.around(node_output[0], decimals=4))\n",
    "\n",
    "        if layer!='output':\n",
    "            print('The output of the hidden layer number {} is {}'.format(layer.split('_')[1], layer_output))\n",
    "        layer_input = layer_output\n",
    "    network_predictions = layer_output\n",
    "    return network_predictions"
   ]
  },
  {
   "cell_type": "markdown",
   "metadata": {},
   "source": [
    "#### Use the *forward_propagate* function to compute the prediction of our small network\n"
   ]
  },
  {
   "cell_type": "code",
   "execution_count": 91,
   "metadata": {},
   "outputs": [
    {
     "name": "stdout",
     "output_type": "stream",
     "text": [
      "The output of the hidden layer number 1 is [0.8404, 0.8591, 0.815]\n",
      "The output of the hidden layer number 2 is [0.8958, 0.8847]\n",
      "The output of the hidden layer number 3 is [0.8146, 0.727, 0.7197]\n",
      "The predicted value by network for the given input is 0.799\n"
     ]
    }
   ],
   "source": [
    "final_output = forward_propagate(network=small_network, inputs=inputs)\n",
    "print('The predicted value by network for the given input is {}'.format(np.around(final_output[0], decimals=4)))"
   ]
  },
  {
   "cell_type": "markdown",
   "metadata": {},
   "source": [
    "So we built the code to define a neural network. We can specify the number of inputs that a neural network can take, the number of hidden layers as well as the number of nodes in each hidden layer, and the number of nodes in the output layer.\n"
   ]
  },
  {
   "cell_type": "markdown",
   "metadata": {},
   "source": [
    "### **Let's check with new set of data**"
   ]
  },
  {
   "cell_type": "code",
   "execution_count": 95,
   "metadata": {},
   "outputs": [
    {
     "name": "stdout",
     "output_type": "stream",
     "text": [
      "The output of the hidden layer number 1 is [0.9554, 0.8423, 0.9062]\n",
      "The output of the hidden layer number 2 is [0.7543, 0.8726, 0.9373, 0.8681]\n",
      "The output of the hidden layer number 3 is [0.922, 0.9327, 0.9158]\n",
      "The output of the hidden layer number 4 is [0.8334, 0.8078, 0.7211, 0.8718]\n",
      "The prediction outcome is: [0.777 0.972 0.92  0.937]\n"
     ]
    }
   ],
   "source": [
    "my_network = initialize_network(num_input=6, num_hidden_layers=4, num_nodes_hidden=[3, 4, 3, 4], num_nodes_output=4)\n",
    "input_data = np.around(np.random.uniform(size=6), decimals=3)\n",
    "\n",
    "predictions = forward_propagate(network=my_network, inputs=input_data)\n",
    "print('The prediction outcome is: {}'.format(np.around(predictions, decimals=3)))"
   ]
  },
  {
   "cell_type": "code",
   "execution_count": null,
   "metadata": {},
   "outputs": [],
   "source": []
  }
 ],
 "metadata": {
  "kernelspec": {
   "display_name": ".venv",
   "language": "python",
   "name": "python3"
  },
  "language_info": {
   "codemirror_mode": {
    "name": "ipython",
    "version": 3
   },
   "file_extension": ".py",
   "mimetype": "text/x-python",
   "name": "python",
   "nbconvert_exporter": "python",
   "pygments_lexer": "ipython3",
   "version": "3.10.11"
  }
 },
 "nbformat": 4,
 "nbformat_minor": 2
}
