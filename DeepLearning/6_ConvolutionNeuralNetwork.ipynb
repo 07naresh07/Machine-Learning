{
 "cells": [
  {
   "cell_type": "markdown",
   "metadata": {},
   "source": [
    "### **Import Libraries**"
   ]
  },
  {
   "cell_type": "code",
   "execution_count": 5,
   "metadata": {},
   "outputs": [],
   "source": [
    "import pandas as pd\n",
    "import matplotlib.pyplot as plt\n",
    "import numpy as np\n",
    "\n",
    "import keras\n",
    "from keras.models import Sequential\n",
    "from keras.layers import Input, Dense\n",
    "from keras.utils import to_categorical\n",
    "from keras.layers import Conv2D, MaxPooling2D, Flatten\n",
    "from keras.datasets import mnist"
   ]
  },
  {
   "cell_type": "markdown",
   "metadata": {},
   "source": [
    "## **Convolutional Neural Network with One Set of Convolutional and Pooling Layers**\n"
   ]
  },
  {
   "cell_type": "code",
   "execution_count": 32,
   "metadata": {},
   "outputs": [],
   "source": [
    "# Import datasets\n",
    "(X_train, y_train), (X_test, y_test) = mnist.load_data()\n",
    "X_train = X_train.reshape(X_train.shape[0], 28, 28, 1).astype('float32')\n",
    "X_test = X_test.reshape(X_test.shape[0], 28, 28, 1).astype('float32')"
   ]
  },
  {
   "cell_type": "markdown",
   "metadata": {},
   "source": [
    "Let's normalize the pixel values to be between 0 and 1\n"
   ]
  },
  {
   "cell_type": "code",
   "execution_count": 36,
   "metadata": {},
   "outputs": [],
   "source": [
    "X_train = X_train/255\n",
    "X_test = X_test/255"
   ]
  },
  {
   "cell_type": "markdown",
   "metadata": {},
   "source": [
    "Next, let's convert the target variable into binary categories\n"
   ]
  },
  {
   "cell_type": "code",
   "execution_count": 37,
   "metadata": {},
   "outputs": [],
   "source": [
    "y_train = to_categorical(y_train)\n",
    "y_test = to_categorical(y_test)\n",
    "\n",
    "num_classes = y_test.shape[1]   # Number of categories"
   ]
  },
  {
   "cell_type": "markdown",
   "metadata": {},
   "source": [
    "**Model Building**"
   ]
  },
  {
   "cell_type": "code",
   "execution_count": 40,
   "metadata": {},
   "outputs": [],
   "source": [
    "def convolution_model():\n",
    "    model = Sequential()\n",
    "    model.add(Input(shape=(28, 28, 1)))\n",
    "    model.add(Conv2D(16, kernel_size=(5, 5), strides=(1, 1), activation='relu'))\n",
    "    model.add(MaxPooling2D(pool_size=(2, 2), strides=(2, 2)))\n",
    "\n",
    "    model.add(Flatten())\n",
    "    model.add(Dense(100, activation='relu'))\n",
    "    model.add(Dense(num_classes, activation='softmax'))\n",
    "\n",
    "    # Compile model\n",
    "    model.compile(optimizer='adam',\n",
    "                  loss='categorical_crossentropy',\n",
    "                  metrics=['accuracy'])\n",
    "    return model"
   ]
  },
  {
   "cell_type": "markdown",
   "metadata": {},
   "source": [
    "Finally, let's call the function to create the model, and then let's train it and evaluate it.\n"
   ]
  },
  {
   "cell_type": "code",
   "execution_count": 41,
   "metadata": {},
   "outputs": [
    {
     "name": "stdout",
     "output_type": "stream",
     "text": [
      "Epoch 1/100\n"
     ]
    },
    {
     "name": "stderr",
     "output_type": "stream",
     "text": [
      "2025-04-23 21:31:08.916229: I tensorflow/core/grappler/optimizers/custom_graph_optimizer_registry.cc:117] Plugin optimizer for device_type GPU is enabled.\n"
     ]
    },
    {
     "name": "stdout",
     "output_type": "stream",
     "text": [
      "300/300 - 5s - loss: 0.3122 - accuracy: 0.9120 - val_loss: 0.1311 - val_accuracy: 0.9615 - 5s/epoch - 17ms/step\n",
      "Epoch 2/100\n",
      "300/300 - 4s - loss: 0.1092 - accuracy: 0.9676 - val_loss: 0.0768 - val_accuracy: 0.9751 - 4s/epoch - 13ms/step\n",
      "Epoch 3/100\n",
      "300/300 - 4s - loss: 0.0819 - accuracy: 0.9756 - val_loss: 0.0785 - val_accuracy: 0.9751 - 4s/epoch - 13ms/step\n",
      "Epoch 4/100\n",
      "300/300 - 4s - loss: 0.0743 - accuracy: 0.9774 - val_loss: 0.0631 - val_accuracy: 0.9807 - 4s/epoch - 12ms/step\n",
      "Epoch 5/100\n",
      "300/300 - 4s - loss: 0.0666 - accuracy: 0.9807 - val_loss: 0.0685 - val_accuracy: 0.9811 - 4s/epoch - 12ms/step\n",
      "Epoch 6/100\n",
      "300/300 - 4s - loss: 0.0708 - accuracy: 0.9792 - val_loss: 0.0917 - val_accuracy: 0.9746 - 4s/epoch - 12ms/step\n",
      "Epoch 7/100\n",
      "300/300 - 4s - loss: 0.0767 - accuracy: 0.9794 - val_loss: 0.0727 - val_accuracy: 0.9808 - 4s/epoch - 12ms/step\n",
      "Epoch 8/100\n",
      "300/300 - 4s - loss: 0.0821 - accuracy: 0.9793 - val_loss: 0.0924 - val_accuracy: 0.9781 - 4s/epoch - 12ms/step\n",
      "Epoch 9/100\n",
      "300/300 - 4s - loss: 0.0954 - accuracy: 0.9788 - val_loss: 0.1102 - val_accuracy: 0.9770 - 4s/epoch - 12ms/step\n",
      "Epoch 10/100\n",
      "300/300 - 4s - loss: 0.1202 - accuracy: 0.9758 - val_loss: 0.1355 - val_accuracy: 0.9742 - 4s/epoch - 12ms/step\n",
      "Epoch 11/100\n",
      "300/300 - 4s - loss: 0.1536 - accuracy: 0.9748 - val_loss: 0.1567 - val_accuracy: 0.9753 - 4s/epoch - 12ms/step\n",
      "Epoch 12/100\n",
      "300/300 - 4s - loss: 0.1801 - accuracy: 0.9737 - val_loss: 0.2681 - val_accuracy: 0.9635 - 4s/epoch - 12ms/step\n",
      "Epoch 13/100\n",
      "300/300 - 4s - loss: 0.2193 - accuracy: 0.9726 - val_loss: 0.3151 - val_accuracy: 0.9694 - 4s/epoch - 12ms/step\n",
      "Epoch 14/100\n",
      "300/300 - 4s - loss: 0.2716 - accuracy: 0.9711 - val_loss: 0.3083 - val_accuracy: 0.9717 - 4s/epoch - 13ms/step\n",
      "Epoch 15/100\n",
      "300/300 - 4s - loss: 0.3824 - accuracy: 0.9679 - val_loss: 0.5309 - val_accuracy: 0.9629 - 4s/epoch - 13ms/step\n",
      "Epoch 16/100\n",
      "300/300 - 4s - loss: 0.4589 - accuracy: 0.9677 - val_loss: 0.3762 - val_accuracy: 0.9762 - 4s/epoch - 13ms/step\n",
      "Epoch 17/100\n",
      "300/300 - 4s - loss: 0.5178 - accuracy: 0.9674 - val_loss: 0.5428 - val_accuracy: 0.9709 - 4s/epoch - 13ms/step\n",
      "Epoch 18/100\n",
      "300/300 - 4s - loss: 0.5870 - accuracy: 0.9670 - val_loss: 1.1270 - val_accuracy: 0.9469 - 4s/epoch - 12ms/step\n",
      "Epoch 19/100\n",
      "300/300 - 4s - loss: 0.6470 - accuracy: 0.9679 - val_loss: 0.9406 - val_accuracy: 0.9601 - 4s/epoch - 13ms/step\n",
      "Epoch 20/100\n",
      "300/300 - 4s - loss: 0.7591 - accuracy: 0.9659 - val_loss: 0.8596 - val_accuracy: 0.9680 - 4s/epoch - 13ms/step\n",
      "Epoch 21/100\n",
      "300/300 - 4s - loss: 0.8832 - accuracy: 0.9662 - val_loss: 0.9809 - val_accuracy: 0.9661 - 4s/epoch - 13ms/step\n",
      "Epoch 22/100\n",
      "300/300 - 4s - loss: 0.8619 - accuracy: 0.9676 - val_loss: 1.2464 - val_accuracy: 0.9572 - 4s/epoch - 12ms/step\n",
      "Epoch 23/100\n",
      "300/300 - 4s - loss: 1.1648 - accuracy: 0.9625 - val_loss: 1.5143 - val_accuracy: 0.9562 - 4s/epoch - 12ms/step\n",
      "Epoch 24/100\n",
      "300/300 - 4s - loss: 1.2472 - accuracy: 0.9626 - val_loss: 1.1802 - val_accuracy: 0.9682 - 4s/epoch - 12ms/step\n",
      "Epoch 25/100\n",
      "300/300 - 4s - loss: 1.2556 - accuracy: 0.9663 - val_loss: 1.5259 - val_accuracy: 0.9611 - 4s/epoch - 12ms/step\n",
      "Epoch 26/100\n",
      "300/300 - 4s - loss: 1.3566 - accuracy: 0.9654 - val_loss: 1.5404 - val_accuracy: 0.9640 - 4s/epoch - 12ms/step\n",
      "Epoch 27/100\n",
      "300/300 - 4s - loss: 1.6893 - accuracy: 0.9621 - val_loss: 1.4495 - val_accuracy: 0.9680 - 4s/epoch - 12ms/step\n",
      "Epoch 28/100\n",
      "300/300 - 4s - loss: 1.7662 - accuracy: 0.9632 - val_loss: 1.8612 - val_accuracy: 0.9635 - 4s/epoch - 12ms/step\n",
      "Epoch 29/100\n",
      "300/300 - 4s - loss: 1.6883 - accuracy: 0.9651 - val_loss: 1.6947 - val_accuracy: 0.9655 - 4s/epoch - 12ms/step\n",
      "Epoch 30/100\n",
      "300/300 - 4s - loss: 1.9589 - accuracy: 0.9636 - val_loss: 1.8520 - val_accuracy: 0.9655 - 4s/epoch - 12ms/step\n",
      "Epoch 31/100\n",
      "300/300 - 4s - loss: 2.0772 - accuracy: 0.9633 - val_loss: 2.0644 - val_accuracy: 0.9630 - 4s/epoch - 12ms/step\n",
      "Epoch 32/100\n",
      "300/300 - 4s - loss: 2.3756 - accuracy: 0.9614 - val_loss: 4.2427 - val_accuracy: 0.9492 - 4s/epoch - 12ms/step\n",
      "Epoch 33/100\n",
      "300/300 - 4s - loss: 2.6676 - accuracy: 0.9603 - val_loss: 4.4556 - val_accuracy: 0.9422 - 4s/epoch - 12ms/step\n",
      "Epoch 34/100\n",
      "300/300 - 4s - loss: 2.5229 - accuracy: 0.9638 - val_loss: 3.7865 - val_accuracy: 0.9518 - 4s/epoch - 12ms/step\n",
      "Epoch 35/100\n",
      "300/300 - 4s - loss: 2.6570 - accuracy: 0.9632 - val_loss: 2.9504 - val_accuracy: 0.9624 - 4s/epoch - 12ms/step\n",
      "Epoch 36/100\n",
      "300/300 - 4s - loss: 2.6325 - accuracy: 0.9635 - val_loss: 3.7661 - val_accuracy: 0.9585 - 4s/epoch - 12ms/step\n",
      "Epoch 37/100\n",
      "300/300 - 4s - loss: 3.2763 - accuracy: 0.9612 - val_loss: 4.3804 - val_accuracy: 0.9517 - 4s/epoch - 12ms/step\n",
      "Epoch 38/100\n",
      "300/300 - 4s - loss: 3.5522 - accuracy: 0.9609 - val_loss: 4.0703 - val_accuracy: 0.9616 - 4s/epoch - 12ms/step\n",
      "Epoch 39/100\n",
      "300/300 - 4s - loss: 3.5006 - accuracy: 0.9618 - val_loss: 2.8867 - val_accuracy: 0.9671 - 4s/epoch - 12ms/step\n",
      "Epoch 40/100\n",
      "300/300 - 4s - loss: 3.7467 - accuracy: 0.9608 - val_loss: 4.4681 - val_accuracy: 0.9582 - 4s/epoch - 12ms/step\n",
      "Epoch 41/100\n",
      "300/300 - 4s - loss: 4.2076 - accuracy: 0.9595 - val_loss: 3.8831 - val_accuracy: 0.9609 - 4s/epoch - 12ms/step\n",
      "Epoch 42/100\n",
      "300/300 - 4s - loss: 4.3908 - accuracy: 0.9603 - val_loss: 6.6275 - val_accuracy: 0.9485 - 4s/epoch - 12ms/step\n",
      "Epoch 43/100\n",
      "300/300 - 4s - loss: 4.6281 - accuracy: 0.9604 - val_loss: 4.3023 - val_accuracy: 0.9625 - 4s/epoch - 13ms/step\n",
      "Epoch 44/100\n",
      "300/300 - 4s - loss: 4.9096 - accuracy: 0.9602 - val_loss: 3.8683 - val_accuracy: 0.9683 - 4s/epoch - 12ms/step\n",
      "Epoch 45/100\n",
      "300/300 - 4s - loss: 5.0693 - accuracy: 0.9598 - val_loss: 5.9759 - val_accuracy: 0.9605 - 4s/epoch - 12ms/step\n",
      "Epoch 46/100\n",
      "300/300 - 4s - loss: 4.9271 - accuracy: 0.9613 - val_loss: 6.3067 - val_accuracy: 0.9555 - 4s/epoch - 12ms/step\n",
      "Epoch 47/100\n",
      "300/300 - 4s - loss: 5.7374 - accuracy: 0.9586 - val_loss: 6.2010 - val_accuracy: 0.9575 - 4s/epoch - 12ms/step\n",
      "Epoch 48/100\n",
      "300/300 - 4s - loss: 5.8067 - accuracy: 0.9604 - val_loss: 5.0480 - val_accuracy: 0.9621 - 4s/epoch - 13ms/step\n",
      "Epoch 49/100\n",
      "300/300 - 4s - loss: 5.1287 - accuracy: 0.9635 - val_loss: 7.4883 - val_accuracy: 0.9565 - 4s/epoch - 13ms/step\n",
      "Epoch 50/100\n",
      "300/300 - 4s - loss: 5.9594 - accuracy: 0.9613 - val_loss: 6.3870 - val_accuracy: 0.9609 - 4s/epoch - 13ms/step\n",
      "Epoch 51/100\n",
      "300/300 - 4s - loss: 7.3415 - accuracy: 0.9562 - val_loss: 6.5446 - val_accuracy: 0.9683 - 4s/epoch - 13ms/step\n",
      "Epoch 52/100\n",
      "300/300 - 4s - loss: 6.6060 - accuracy: 0.9606 - val_loss: 6.2862 - val_accuracy: 0.9646 - 4s/epoch - 12ms/step\n",
      "Epoch 53/100\n",
      "300/300 - 4s - loss: 6.8620 - accuracy: 0.9590 - val_loss: 5.0737 - val_accuracy: 0.9719 - 4s/epoch - 12ms/step\n",
      "Epoch 54/100\n",
      "300/300 - 4s - loss: 7.3916 - accuracy: 0.9593 - val_loss: 7.6588 - val_accuracy: 0.9556 - 4s/epoch - 13ms/step\n",
      "Epoch 55/100\n",
      "300/300 - 4s - loss: 7.9079 - accuracy: 0.9580 - val_loss: 6.3868 - val_accuracy: 0.9680 - 4s/epoch - 12ms/step\n",
      "Epoch 56/100\n",
      "300/300 - 4s - loss: 8.1647 - accuracy: 0.9584 - val_loss: 7.3279 - val_accuracy: 0.9652 - 4s/epoch - 12ms/step\n",
      "Epoch 57/100\n",
      "300/300 - 4s - loss: 9.2998 - accuracy: 0.9548 - val_loss: 10.9346 - val_accuracy: 0.9530 - 4s/epoch - 13ms/step\n",
      "Epoch 58/100\n",
      "300/300 - 4s - loss: 9.2134 - accuracy: 0.9589 - val_loss: 7.2164 - val_accuracy: 0.9656 - 4s/epoch - 13ms/step\n",
      "Epoch 59/100\n",
      "300/300 - 4s - loss: 9.3436 - accuracy: 0.9579 - val_loss: 8.8855 - val_accuracy: 0.9567 - 4s/epoch - 13ms/step\n",
      "Epoch 60/100\n",
      "300/300 - 4s - loss: 8.6759 - accuracy: 0.9604 - val_loss: 11.6869 - val_accuracy: 0.9529 - 4s/epoch - 13ms/step\n",
      "Epoch 61/100\n",
      "300/300 - 4s - loss: 10.4047 - accuracy: 0.9570 - val_loss: 10.0712 - val_accuracy: 0.9554 - 4s/epoch - 13ms/step\n",
      "Epoch 62/100\n",
      "300/300 - 4s - loss: 11.1716 - accuracy: 0.9550 - val_loss: 10.8939 - val_accuracy: 0.9634 - 4s/epoch - 13ms/step\n",
      "Epoch 63/100\n",
      "300/300 - 4s - loss: 11.0017 - accuracy: 0.9571 - val_loss: 10.5735 - val_accuracy: 0.9618 - 4s/epoch - 13ms/step\n",
      "Epoch 64/100\n",
      "300/300 - 4s - loss: 12.7226 - accuracy: 0.9549 - val_loss: 13.7856 - val_accuracy: 0.9526 - 4s/epoch - 13ms/step\n",
      "Epoch 65/100\n",
      "300/300 - 4s - loss: 12.5432 - accuracy: 0.9558 - val_loss: 12.9414 - val_accuracy: 0.9532 - 4s/epoch - 13ms/step\n",
      "Epoch 66/100\n",
      "300/300 - 4s - loss: 12.5127 - accuracy: 0.9559 - val_loss: 11.5075 - val_accuracy: 0.9661 - 4s/epoch - 13ms/step\n",
      "Epoch 67/100\n",
      "300/300 - 4s - loss: 12.0284 - accuracy: 0.9573 - val_loss: 17.0842 - val_accuracy: 0.9481 - 4s/epoch - 12ms/step\n",
      "Epoch 68/100\n",
      "300/300 - 4s - loss: 13.1309 - accuracy: 0.9569 - val_loss: 14.5099 - val_accuracy: 0.9567 - 4s/epoch - 13ms/step\n",
      "Epoch 69/100\n",
      "300/300 - 4s - loss: 12.8681 - accuracy: 0.9571 - val_loss: 10.0133 - val_accuracy: 0.9650 - 4s/epoch - 13ms/step\n",
      "Epoch 70/100\n",
      "300/300 - 4s - loss: 12.9228 - accuracy: 0.9588 - val_loss: 14.6798 - val_accuracy: 0.9573 - 4s/epoch - 13ms/step\n",
      "Epoch 71/100\n",
      "300/300 - 4s - loss: 13.4604 - accuracy: 0.9573 - val_loss: 13.2176 - val_accuracy: 0.9602 - 4s/epoch - 13ms/step\n",
      "Epoch 72/100\n",
      "300/300 - 4s - loss: 14.8533 - accuracy: 0.9558 - val_loss: 16.0488 - val_accuracy: 0.9517 - 4s/epoch - 13ms/step\n",
      "Epoch 73/100\n",
      "300/300 - 4s - loss: 16.6952 - accuracy: 0.9533 - val_loss: 15.1807 - val_accuracy: 0.9578 - 4s/epoch - 13ms/step\n",
      "Epoch 74/100\n",
      "300/300 - 4s - loss: 17.8400 - accuracy: 0.9525 - val_loss: 19.3812 - val_accuracy: 0.9572 - 4s/epoch - 13ms/step\n",
      "Epoch 75/100\n",
      "300/300 - 4s - loss: 16.3768 - accuracy: 0.9563 - val_loss: 19.0874 - val_accuracy: 0.9491 - 4s/epoch - 13ms/step\n",
      "Epoch 76/100\n",
      "300/300 - 4s - loss: 18.3432 - accuracy: 0.9529 - val_loss: 22.7481 - val_accuracy: 0.9444 - 4s/epoch - 13ms/step\n",
      "Epoch 77/100\n",
      "300/300 - 4s - loss: 18.1466 - accuracy: 0.9553 - val_loss: 20.2540 - val_accuracy: 0.9558 - 4s/epoch - 13ms/step\n",
      "Epoch 78/100\n",
      "300/300 - 4s - loss: 19.3373 - accuracy: 0.9534 - val_loss: 23.7512 - val_accuracy: 0.9464 - 4s/epoch - 13ms/step\n",
      "Epoch 79/100\n",
      "300/300 - 4s - loss: 17.3451 - accuracy: 0.9581 - val_loss: 15.3420 - val_accuracy: 0.9587 - 4s/epoch - 13ms/step\n",
      "Epoch 80/100\n",
      "300/300 - 4s - loss: 19.2672 - accuracy: 0.9551 - val_loss: 26.7906 - val_accuracy: 0.9455 - 4s/epoch - 13ms/step\n",
      "Epoch 81/100\n",
      "300/300 - 4s - loss: 19.1612 - accuracy: 0.9550 - val_loss: 26.7810 - val_accuracy: 0.9456 - 4s/epoch - 13ms/step\n",
      "Epoch 82/100\n",
      "300/300 - 4s - loss: 20.8114 - accuracy: 0.9528 - val_loss: 19.8309 - val_accuracy: 0.9577 - 4s/epoch - 13ms/step\n",
      "Epoch 83/100\n",
      "300/300 - 4s - loss: 21.8363 - accuracy: 0.9530 - val_loss: 19.3082 - val_accuracy: 0.9629 - 4s/epoch - 13ms/step\n",
      "Epoch 84/100\n",
      "300/300 - 4s - loss: 20.3317 - accuracy: 0.9559 - val_loss: 25.1619 - val_accuracy: 0.9444 - 4s/epoch - 13ms/step\n",
      "Epoch 85/100\n",
      "300/300 - 4s - loss: 22.9390 - accuracy: 0.9537 - val_loss: 18.6422 - val_accuracy: 0.9610 - 4s/epoch - 13ms/step\n",
      "Epoch 86/100\n",
      "300/300 - 4s - loss: 20.2792 - accuracy: 0.9580 - val_loss: 29.9183 - val_accuracy: 0.9392 - 4s/epoch - 13ms/step\n",
      "Epoch 87/100\n",
      "300/300 - 4s - loss: 23.9470 - accuracy: 0.9531 - val_loss: 20.4762 - val_accuracy: 0.9622 - 4s/epoch - 13ms/step\n",
      "Epoch 88/100\n",
      "300/300 - 4s - loss: 23.2360 - accuracy: 0.9542 - val_loss: 24.1280 - val_accuracy: 0.9573 - 4s/epoch - 13ms/step\n",
      "Epoch 89/100\n",
      "300/300 - 4s - loss: 26.0950 - accuracy: 0.9511 - val_loss: 32.1755 - val_accuracy: 0.9462 - 4s/epoch - 13ms/step\n",
      "Epoch 90/100\n",
      "300/300 - 4s - loss: 25.4003 - accuracy: 0.9533 - val_loss: 23.1417 - val_accuracy: 0.9581 - 4s/epoch - 13ms/step\n",
      "Epoch 91/100\n",
      "300/300 - 4s - loss: 25.0515 - accuracy: 0.9544 - val_loss: 26.6758 - val_accuracy: 0.9521 - 4s/epoch - 13ms/step\n",
      "Epoch 92/100\n",
      "300/300 - 4s - loss: 24.8808 - accuracy: 0.9549 - val_loss: 32.9446 - val_accuracy: 0.9425 - 4s/epoch - 13ms/step\n",
      "Epoch 93/100\n",
      "300/300 - 4s - loss: 26.9696 - accuracy: 0.9530 - val_loss: 43.0929 - val_accuracy: 0.9305 - 4s/epoch - 13ms/step\n",
      "Epoch 94/100\n",
      "300/300 - 4s - loss: 25.6144 - accuracy: 0.9555 - val_loss: 24.9801 - val_accuracy: 0.9565 - 4s/epoch - 13ms/step\n",
      "Epoch 95/100\n",
      "300/300 - 4s - loss: 26.6695 - accuracy: 0.9535 - val_loss: 40.7199 - val_accuracy: 0.9436 - 4s/epoch - 13ms/step\n",
      "Epoch 96/100\n",
      "300/300 - 4s - loss: 28.8543 - accuracy: 0.9537 - val_loss: 27.2910 - val_accuracy: 0.9524 - 4s/epoch - 13ms/step\n",
      "Epoch 97/100\n",
      "300/300 - 4s - loss: 27.6091 - accuracy: 0.9562 - val_loss: 26.6154 - val_accuracy: 0.9608 - 4s/epoch - 13ms/step\n",
      "Epoch 98/100\n",
      "300/300 - 4s - loss: 29.5079 - accuracy: 0.9528 - val_loss: 39.0592 - val_accuracy: 0.9437 - 4s/epoch - 13ms/step\n",
      "Epoch 99/100\n",
      "300/300 - 4s - loss: 32.9978 - accuracy: 0.9530 - val_loss: 39.8494 - val_accuracy: 0.9452 - 4s/epoch - 13ms/step\n",
      "Epoch 100/100\n",
      "300/300 - 4s - loss: 34.1033 - accuracy: 0.9507 - val_loss: 39.2496 - val_accuracy: 0.9563 - 4s/epoch - 13ms/step\n",
      "313/313 [==============================] - 2s 7ms/step - loss: 39.2495 - accuracy: 0.9563\n",
      "Accuracy: 0.9563000202178955 \n",
      "Error: 4.369997978210449\n"
     ]
    }
   ],
   "source": [
    "model = convolution_model()\n",
    "model.fit(X_train, y_train, validation_data=(X_test, y_test), epochs=100, batch_size=200, verbose=2)\n",
    "\n",
    "# Evaluate model\n",
    "score = model.evaluate(X_test, y_test)\n",
    "print('Accuracy: {} \\nError: {}'.format(score[1], 100-score[1]*100))"
   ]
  },
  {
   "cell_type": "markdown",
   "metadata": {},
   "source": [
    "### **Convolutional Neural Network with Two Sets of Convolutional and Pooling Layers**"
   ]
  },
  {
   "cell_type": "code",
   "execution_count": 45,
   "metadata": {},
   "outputs": [],
   "source": [
    "def convolution_model_2_layers():\n",
    "    model = Sequential()\n",
    "\n",
    "    model.add(Input(shape=(28, 28, 1)))\n",
    "    model.add(Conv2D(16, kernel_size=(5, 5), strides=(1, 1), activation='relu'))\n",
    "    model.add(MaxPooling2D(pool_size=(2, 2), strides=(2, 2)))\n",
    "\n",
    "    model.add(Conv2D(8, kernel_size=(2, 2), strides=(1, 1), activation='relu'))\n",
    "    model.add(MaxPooling2D(pool_size=(2, 2), strides=(2, 2)))\n",
    "\n",
    "    model.add(Flatten())\n",
    "    model.add(Dense(100, activation='relu'))\n",
    "    model.add(Dense(num_classes, activation='softmax'))\n",
    "\n",
    "    # Compile model\n",
    "    model.compile(optimizer='adam',\n",
    "                  loss='categorical_crossentropy',\n",
    "                  metrics=['accuracy'])\n",
    "    return model"
   ]
  },
  {
   "cell_type": "markdown",
   "metadata": {},
   "source": [
    "### **Model Building**\n",
    "\n",
    "Now, let's call the function to create our new convolutional neural network, and then let's train it and evaluate it.\n"
   ]
  },
  {
   "cell_type": "code",
   "execution_count": 46,
   "metadata": {},
   "outputs": [
    {
     "name": "stdout",
     "output_type": "stream",
     "text": [
      "Epoch 1/10\n",
      "300/300 - 5s - loss: 0.4777 - accuracy: 0.8649 - val_loss: 0.1440 - val_accuracy: 0.9572 - 5s/epoch - 16ms/step\n",
      "Epoch 2/10\n",
      "300/300 - 4s - loss: 0.1317 - accuracy: 0.9598 - val_loss: 0.0976 - val_accuracy: 0.9701 - 4s/epoch - 13ms/step\n",
      "Epoch 3/10\n",
      "300/300 - 4s - loss: 0.1051 - accuracy: 0.9680 - val_loss: 0.0792 - val_accuracy: 0.9746 - 4s/epoch - 13ms/step\n",
      "Epoch 4/10\n",
      "300/300 - 4s - loss: 0.0935 - accuracy: 0.9721 - val_loss: 0.0732 - val_accuracy: 0.9757 - 4s/epoch - 13ms/step\n",
      "Epoch 5/10\n",
      "300/300 - 4s - loss: 0.0937 - accuracy: 0.9727 - val_loss: 0.0823 - val_accuracy: 0.9749 - 4s/epoch - 13ms/step\n",
      "Epoch 6/10\n",
      "300/300 - 4s - loss: 0.0929 - accuracy: 0.9741 - val_loss: 0.0837 - val_accuracy: 0.9764 - 4s/epoch - 15ms/step\n",
      "Epoch 7/10\n",
      "300/300 - 4s - loss: 0.1064 - accuracy: 0.9733 - val_loss: 0.1280 - val_accuracy: 0.9710 - 4s/epoch - 14ms/step\n",
      "Epoch 8/10\n",
      "300/300 - 4s - loss: 0.1316 - accuracy: 0.9719 - val_loss: 0.1454 - val_accuracy: 0.9690 - 4s/epoch - 14ms/step\n",
      "Epoch 9/10\n",
      "300/300 - 4s - loss: 0.1903 - accuracy: 0.9699 - val_loss: 0.2258 - val_accuracy: 0.9702 - 4s/epoch - 14ms/step\n",
      "Epoch 10/10\n",
      "300/300 - 4s - loss: 0.2616 - accuracy: 0.9687 - val_loss: 0.3725 - val_accuracy: 0.9650 - 4s/epoch - 14ms/step\n",
      "313/313 [==============================] - 3s 8ms/step - loss: 0.3725 - accuracy: 0.9650\n",
      "Accuracy: 0.965 \n",
      "Error: 4.370\n"
     ]
    }
   ],
   "source": [
    "model_2 = convolution_model_2_layers()\n",
    "model_2.fit(X_train, y_train, batch_size=200, validation_data=(X_test, y_test), epochs=10, verbose=2)\n",
    "\n",
    "# Evaluate model\n",
    "score_2 = model_2.evaluate(X_test, y_test)\n",
    "print(f'Accuracy: {score_2[1]:.3f} \\nError: {(100-score[1]*100):.3f}')"
   ]
  },
  {
   "cell_type": "markdown",
   "metadata": {},
   "source": [
    "**Lets try with 1024 batch_size**"
   ]
  },
  {
   "cell_type": "code",
   "execution_count": 47,
   "metadata": {},
   "outputs": [
    {
     "name": "stdout",
     "output_type": "stream",
     "text": [
      "Epoch 1/10\n",
      "59/59 [==============================] - 2s 31ms/step - loss: 18.3835 - accuracy: 0.9697 - val_loss: 14.9870 - val_accuracy: 0.9741\n",
      "Epoch 2/10\n",
      "59/59 [==============================] - 1s 23ms/step - loss: 9.9776 - accuracy: 0.9785 - val_loss: 11.9634 - val_accuracy: 0.9759\n",
      "Epoch 3/10\n",
      "59/59 [==============================] - 1s 24ms/step - loss: 9.5714 - accuracy: 0.9787 - val_loss: 11.2725 - val_accuracy: 0.9771\n",
      "Epoch 4/10\n",
      "59/59 [==============================] - 1s 23ms/step - loss: 8.7007 - accuracy: 0.9800 - val_loss: 11.9287 - val_accuracy: 0.9751\n",
      "Epoch 5/10\n",
      "59/59 [==============================] - 1s 23ms/step - loss: 8.4787 - accuracy: 0.9794 - val_loss: 11.6930 - val_accuracy: 0.9751\n",
      "Epoch 6/10\n",
      "59/59 [==============================] - 2s 25ms/step - loss: 8.4159 - accuracy: 0.9796 - val_loss: 11.1375 - val_accuracy: 0.9769\n",
      "Epoch 7/10\n",
      "59/59 [==============================] - 1s 25ms/step - loss: 7.9053 - accuracy: 0.9798 - val_loss: 11.1221 - val_accuracy: 0.9754\n",
      "Epoch 8/10\n",
      "59/59 [==============================] - 1s 24ms/step - loss: 8.7764 - accuracy: 0.9784 - val_loss: 11.9837 - val_accuracy: 0.9709\n",
      "Epoch 9/10\n",
      "59/59 [==============================] - 1s 24ms/step - loss: 8.6944 - accuracy: 0.9784 - val_loss: 11.4575 - val_accuracy: 0.9760\n",
      "Epoch 10/10\n",
      "59/59 [==============================] - 1s 23ms/step - loss: 8.0631 - accuracy: 0.9800 - val_loss: 10.6567 - val_accuracy: 0.9762\n",
      "313/313 [==============================] - 2s 7ms/step - loss: 10.6568 - accuracy: 0.9762\n",
      "Accuracy: 0.976 \n",
      "Error: 2.380\n"
     ]
    }
   ],
   "source": [
    "model.fit(X_train, y_train, validation_data=(X_test, y_test), epochs=10, batch_size=1024, verbose=True)\n",
    "\n",
    "# Model evaluate\n",
    "score_10 = model.evaluate(X_test, y_test)\n",
    "print(f'Accuracy: {score_10[1]:.3f} \\nError: {(100-score_10[1]*100):.3f}')"
   ]
  },
  {
   "cell_type": "code",
   "execution_count": 48,
   "metadata": {},
   "outputs": [
    {
     "name": "stdout",
     "output_type": "stream",
     "text": [
      "Epoch 1/25\n",
      "59/59 [==============================] - 1s 25ms/step - loss: 8.0282 - accuracy: 0.9794 - val_loss: 11.7283 - val_accuracy: 0.9714\n",
      "Epoch 2/25\n",
      "59/59 [==============================] - 1s 23ms/step - loss: 8.7193 - accuracy: 0.9780 - val_loss: 11.7940 - val_accuracy: 0.9748\n",
      "Epoch 3/25\n",
      "59/59 [==============================] - 1s 23ms/step - loss: 8.3295 - accuracy: 0.9786 - val_loss: 11.0210 - val_accuracy: 0.9760\n",
      "Epoch 4/25\n",
      "59/59 [==============================] - 1s 24ms/step - loss: 8.9274 - accuracy: 0.9771 - val_loss: 10.4702 - val_accuracy: 0.9773\n",
      "Epoch 5/25\n",
      "59/59 [==============================] - 1s 22ms/step - loss: 8.9470 - accuracy: 0.9778 - val_loss: 12.3990 - val_accuracy: 0.9732\n",
      "Epoch 6/25\n",
      "59/59 [==============================] - 1s 25ms/step - loss: 8.4734 - accuracy: 0.9779 - val_loss: 9.6472 - val_accuracy: 0.9771\n",
      "Epoch 7/25\n",
      "59/59 [==============================] - 1s 24ms/step - loss: 8.5471 - accuracy: 0.9782 - val_loss: 10.7799 - val_accuracy: 0.9745\n",
      "Epoch 8/25\n",
      "59/59 [==============================] - 1s 25ms/step - loss: 8.3527 - accuracy: 0.9772 - val_loss: 12.1206 - val_accuracy: 0.9725\n",
      "Epoch 9/25\n",
      "59/59 [==============================] - 1s 24ms/step - loss: 8.2873 - accuracy: 0.9784 - val_loss: 9.2852 - val_accuracy: 0.9761\n",
      "Epoch 10/25\n",
      "59/59 [==============================] - 1s 24ms/step - loss: 8.2331 - accuracy: 0.9792 - val_loss: 10.6950 - val_accuracy: 0.9735\n",
      "Epoch 11/25\n",
      "59/59 [==============================] - 1s 24ms/step - loss: 8.5965 - accuracy: 0.9779 - val_loss: 15.4703 - val_accuracy: 0.9628\n",
      "Epoch 12/25\n",
      "59/59 [==============================] - 1s 24ms/step - loss: 9.3690 - accuracy: 0.9760 - val_loss: 12.5098 - val_accuracy: 0.9726\n",
      "Epoch 13/25\n",
      "59/59 [==============================] - 1s 23ms/step - loss: 9.2356 - accuracy: 0.9764 - val_loss: 14.2512 - val_accuracy: 0.9682\n",
      "Epoch 14/25\n",
      "59/59 [==============================] - 1s 22ms/step - loss: 9.2324 - accuracy: 0.9761 - val_loss: 13.1958 - val_accuracy: 0.9687\n",
      "Epoch 15/25\n",
      "59/59 [==============================] - 1s 24ms/step - loss: 9.6920 - accuracy: 0.9754 - val_loss: 13.0749 - val_accuracy: 0.9726\n",
      "Epoch 16/25\n",
      "59/59 [==============================] - 1s 25ms/step - loss: 10.2213 - accuracy: 0.9750 - val_loss: 12.6054 - val_accuracy: 0.9727\n",
      "Epoch 17/25\n",
      "59/59 [==============================] - 1s 24ms/step - loss: 10.6175 - accuracy: 0.9739 - val_loss: 13.7247 - val_accuracy: 0.9716\n",
      "Epoch 18/25\n",
      "59/59 [==============================] - 1s 23ms/step - loss: 9.4079 - accuracy: 0.9764 - val_loss: 10.9810 - val_accuracy: 0.9754\n",
      "Epoch 19/25\n",
      "59/59 [==============================] - 1s 24ms/step - loss: 10.2360 - accuracy: 0.9741 - val_loss: 12.9346 - val_accuracy: 0.9748\n",
      "Epoch 20/25\n",
      "59/59 [==============================] - 1s 24ms/step - loss: 10.1099 - accuracy: 0.9757 - val_loss: 11.7723 - val_accuracy: 0.9740\n",
      "Epoch 21/25\n",
      "59/59 [==============================] - 1s 24ms/step - loss: 11.2695 - accuracy: 0.9735 - val_loss: 15.1300 - val_accuracy: 0.9641\n",
      "Epoch 22/25\n",
      "59/59 [==============================] - 1s 23ms/step - loss: 9.6893 - accuracy: 0.9756 - val_loss: 11.6339 - val_accuracy: 0.9726\n",
      "Epoch 23/25\n",
      "59/59 [==============================] - 1s 24ms/step - loss: 10.3172 - accuracy: 0.9739 - val_loss: 14.5357 - val_accuracy: 0.9674\n",
      "Epoch 24/25\n",
      "59/59 [==============================] - 1s 23ms/step - loss: 10.5848 - accuracy: 0.9741 - val_loss: 11.4356 - val_accuracy: 0.9729\n",
      "Epoch 25/25\n",
      "59/59 [==============================] - 1s 24ms/step - loss: 11.0352 - accuracy: 0.9731 - val_loss: 14.8369 - val_accuracy: 0.9662\n",
      "313/313 [==============================] - 2s 7ms/step - loss: 14.8368 - accuracy: 0.9663\n",
      "Accuracy: 0.966 \n",
      "Error: 3.370\n"
     ]
    }
   ],
   "source": [
    "model.fit(X_train, y_train, validation_data=(X_test, y_test), epochs=25, batch_size=1024, verbose=True)\n",
    "\n",
    "# Model evaluate\n",
    "score_25 = model.evaluate(X_test, y_test)\n",
    "print(f'Accuracy: {score_25[1]:.3f} \\nError: {(100-score_25[1]*100):.3f}')"
   ]
  },
  {
   "cell_type": "code",
   "execution_count": null,
   "metadata": {},
   "outputs": [],
   "source": []
  }
 ],
 "metadata": {
  "kernelspec": {
   "display_name": ".venv",
   "language": "python",
   "name": "python3"
  },
  "language_info": {
   "codemirror_mode": {
    "name": "ipython",
    "version": 3
   },
   "file_extension": ".py",
   "mimetype": "text/x-python",
   "name": "python",
   "nbconvert_exporter": "python",
   "pygments_lexer": "ipython3",
   "version": "3.10.11"
  }
 },
 "nbformat": 4,
 "nbformat_minor": 2
}
