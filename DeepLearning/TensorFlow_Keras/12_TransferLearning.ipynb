{
 "cells": [
  {
   "cell_type": "markdown",
   "metadata": {},
   "source": [
    "#### Learning objectives\n",
    "\n",
    "By the end of this lab, you will:\n",
    "\n",
    " - Import necessary libraries and load the dataset.\n",
    " - Load a pre-trained model, VGG16, excluding the top layers.\n",
    " - Add new layers on top of the base model and compile the model.\n",
    " - Train the model on the new dataset.\n",
    " - Unfreeze some of the layers of the pre-trained model and fine-tune them.\n"
   ]
  },
  {
   "cell_type": "code",
   "execution_count": 1,
   "metadata": {},
   "outputs": [],
   "source": [
    "import numpy as np\n",
    "import matplotlib.pyplot as plt\n",
    "import tensorflow as tf\n",
    "from tensorflow.keras.applications import VGG16\n",
    "from tensorflow.keras.layers import Dense, Flatten\n",
    "from tensorflow.keras.models import Sequential, clone_model\n",
    "from tensorflow.keras.preprocessing.image import ImageDataGenerator\n",
    "from PIL import Image\n",
    "import os"
   ]
  },
  {
   "cell_type": "markdown",
   "metadata": {},
   "source": [
    "**Load pre-trained model**"
   ]
  },
  {
   "cell_type": "code",
   "execution_count": 2,
   "metadata": {},
   "outputs": [
    {
     "name": "stderr",
     "output_type": "stream",
     "text": [
      "2025-06-25 20:44:29.926458: I metal_plugin/src/device/metal_device.cc:1154] Metal device set to: Apple M2\n",
      "2025-06-25 20:44:29.926481: I metal_plugin/src/device/metal_device.cc:296] systemMemory: 16.00 GB\n",
      "2025-06-25 20:44:29.926488: I metal_plugin/src/device/metal_device.cc:313] maxCacheSize: 5.33 GB\n",
      "2025-06-25 20:44:29.926516: I tensorflow/core/common_runtime/pluggable_device/pluggable_device_factory.cc:306] Could not identify NUMA node of platform GPU ID 0, defaulting to 0. Your kernel may not have been built with NUMA support.\n",
      "2025-06-25 20:44:29.926530: I tensorflow/core/common_runtime/pluggable_device/pluggable_device_factory.cc:272] Created TensorFlow device (/job:localhost/replica:0/task:0/device:GPU:0 with 0 MB memory) -> physical PluggableDevice (device: 0, name: METAL, pci bus id: <undefined>)\n"
     ]
    }
   ],
   "source": [
    "base_model = VGG16(weights='imagenet', include_top=False, input_shape=(224, 224, 3))\n",
    "\n",
    "# Freeze the base model layers\n",
    "for layer in base_model.layers:\n",
    "    layer.trainable = False"
   ]
  },
  {
   "cell_type": "markdown",
   "metadata": {},
   "source": [
    "**Create and compile the model**"
   ]
  },
  {
   "cell_type": "code",
   "execution_count": 3,
   "metadata": {},
   "outputs": [],
   "source": [
    "model = Sequential([\n",
    "    base_model,\n",
    "    Flatten(),\n",
    "    Dense(256, activation='relu'),\n",
    "    Dense(1, activation='sigmoid')\n",
    "])\n",
    "\n",
    "# Compile the model\n",
    "model.compile(loss='binary_crossentropy', metrics=['accuracy'], optimizer='adam')"
   ]
  },
  {
   "cell_type": "code",
   "execution_count": 4,
   "metadata": {},
   "outputs": [
    {
     "name": "stdout",
     "output_type": "stream",
     "text": [
      "Images are successfully saved in sample_data\n"
     ]
    }
   ],
   "source": [
    "# Create directories\n",
    "os.makedirs('sample_data/class_a', exist_ok=True)\n",
    "os.makedirs('sample_data/class_b', exist_ok=True)\n",
    "\n",
    "# Create image set\n",
    "for i in range(20):\n",
    "    # Create blank white images\n",
    "    img = Image.fromarray(np.ones((224, 224, 3), dtype=np.uint8)*225)\n",
    "    img.save(f'sample_data/class_a/img_{i}.jpg')\n",
    "\n",
    "    # Create blank black images\n",
    "    img = Image.fromarray(np.ones((224, 224, 3), dtype=np.uint8))\n",
    "    img.save(f'sample_data/class_b/img_{i}.jpg')\n",
    "print('Images are successfully saved in sample_data')"
   ]
  },
  {
   "cell_type": "markdown",
   "metadata": {},
   "source": [
    "**Training model generation**"
   ]
  },
  {
   "cell_type": "code",
   "execution_count": 5,
   "metadata": {},
   "outputs": [
    {
     "name": "stdout",
     "output_type": "stream",
     "text": [
      "Found 40 images belonging to 2 classes.\n",
      "Training images: 40 of 2 classes.\n",
      "Epoch 1/10\n"
     ]
    },
    {
     "name": "stderr",
     "output_type": "stream",
     "text": [
      "2025-06-25 20:44:30.667235: I tensorflow/core/grappler/optimizers/custom_graph_optimizer_registry.cc:117] Plugin optimizer for device_type GPU is enabled.\n"
     ]
    },
    {
     "name": "stdout",
     "output_type": "stream",
     "text": [
      "2/2 [==============================] - 2s 558ms/step - loss: 2.4564 - accuracy: 0.5000\n",
      "Epoch 2/10\n",
      "2/2 [==============================] - 0s 96ms/step - loss: 10.0638 - accuracy: 0.5000\n",
      "Epoch 3/10\n",
      "2/2 [==============================] - 0s 96ms/step - loss: 7.7570 - accuracy: 0.5000\n",
      "Epoch 4/10\n",
      "2/2 [==============================] - 0s 351ms/step - loss: 4.6348 - accuracy: 0.5000\n",
      "Epoch 5/10\n",
      "2/2 [==============================] - 0s 349ms/step - loss: 1.8786 - accuracy: 0.5000\n",
      "Epoch 6/10\n",
      "2/2 [==============================] - 0s 349ms/step - loss: 0.1736 - accuracy: 0.9000\n",
      "Epoch 7/10\n",
      "2/2 [==============================] - 0s 95ms/step - loss: 0.0727 - accuracy: 1.0000\n",
      "Epoch 8/10\n",
      "2/2 [==============================] - 0s 96ms/step - loss: 0.9128 - accuracy: 0.5000\n",
      "Epoch 9/10\n",
      "2/2 [==============================] - 0s 349ms/step - loss: 1.8986 - accuracy: 0.5000\n",
      "Epoch 10/10\n",
      "2/2 [==============================] - 0s 350ms/step - loss: 1.7612 - accuracy: 0.5000\n"
     ]
    }
   ],
   "source": [
    "train_datagen = ImageDataGenerator(rescale=1/255)\n",
    "train_generator = train_datagen.flow_from_directory('sample_data',\n",
    "                                                    target_size=(224, 224),\n",
    "                                                    class_mode='binary',\n",
    "                                                    batch_size=32,\n",
    "                                                    seed=42,\n",
    "                                                    shuffle=True)\n",
    "print(f'Training images: {train_generator.samples} of {train_generator.num_classes} classes.')\n",
    "if train_generator.samples>0:\n",
    "    model.fit(train_generator, epochs=10, batch_size=32)"
   ]
  },
  {
   "cell_type": "markdown",
   "metadata": {},
   "source": [
    "**Fine tune the model by un-freezing some of the layers from base_model**"
   ]
  },
  {
   "cell_type": "code",
   "execution_count": 6,
   "metadata": {},
   "outputs": [
    {
     "name": "stdout",
     "output_type": "stream",
     "text": [
      "Epoch 1/10\n",
      "2/2 [==============================] - 2s 606ms/step - loss: 0.7615 - accuracy: 0.5000\n",
      "Epoch 2/10\n",
      "2/2 [==============================] - 1s 425ms/step - loss: 0.7732 - accuracy: 0.5000\n",
      "Epoch 3/10\n",
      "2/2 [==============================] - 1s 425ms/step - loss: 0.6978 - accuracy: 0.4000\n",
      "Epoch 4/10\n",
      "2/2 [==============================] - 1s 118ms/step - loss: 0.6848 - accuracy: 0.5000\n",
      "Epoch 5/10\n",
      "2/2 [==============================] - 1s 424ms/step - loss: 0.8145 - accuracy: 0.5000\n",
      "Epoch 6/10\n",
      "2/2 [==============================] - 1s 423ms/step - loss: 0.6947 - accuracy: 0.5000\n",
      "Epoch 7/10\n",
      "2/2 [==============================] - 1s 424ms/step - loss: 0.6302 - accuracy: 0.5000\n",
      "Epoch 8/10\n",
      "2/2 [==============================] - 1s 423ms/step - loss: 0.6882 - accuracy: 0.5000\n",
      "Epoch 9/10\n",
      "2/2 [==============================] - 1s 423ms/step - loss: 0.6779 - accuracy: 0.5000\n",
      "Epoch 10/10\n",
      "2/2 [==============================] - 1s 118ms/step - loss: 0.6451 - accuracy: 0.5000\n"
     ]
    },
    {
     "data": {
      "text/plain": [
       "<keras.src.callbacks.History at 0x1738c1570>"
      ]
     },
     "execution_count": 6,
     "metadata": {},
     "output_type": "execute_result"
    }
   ],
   "source": [
    "for layer in base_model.layers[-4:]:\n",
    "    layer.trainable=True\n",
    "\n",
    "# Recompile the model and train\n",
    "model.compile(loss='binary_crossentropy', optimizer='adam', metrics=['accuracy'])\n",
    "model.fit(train_generator, epochs=10)"
   ]
  },
  {
   "cell_type": "markdown",
   "metadata": {},
   "source": [
    "**Visualize the data**\n",
    "\n",
    "Lets first generate training and validation dataset"
   ]
  },
  {
   "cell_type": "code",
   "execution_count": 7,
   "metadata": {},
   "outputs": [
    {
     "name": "stdout",
     "output_type": "stream",
     "text": [
      "Found 32 images belonging to 2 classes.\n",
      "Found 8 images belonging to 2 classes.\n",
      "Epoch 1/10\n",
      "2/2 [==============================] - 1s 679ms/step - loss: 1.1927 - accuracy: 0.5000 - val_loss: 0.5027 - val_accuracy: 0.5000\n",
      "Epoch 2/10\n",
      "2/2 [==============================] - 1s 532ms/step - loss: 0.5421 - accuracy: 0.5000 - val_loss: 0.6581 - val_accuracy: 1.0000\n",
      "Epoch 3/10\n",
      "2/2 [==============================] - 1s 533ms/step - loss: 0.6754 - accuracy: 1.0000 - val_loss: 0.6803 - val_accuracy: 1.0000\n",
      "Epoch 4/10\n",
      "2/2 [==============================] - 1s 533ms/step - loss: 0.6740 - accuracy: 1.0000 - val_loss: 0.6404 - val_accuracy: 1.0000\n",
      "Epoch 5/10\n",
      "2/2 [==============================] - 1s 532ms/step - loss: 0.5840 - accuracy: 1.0000 - val_loss: 0.4923 - val_accuracy: 1.0000\n",
      "Epoch 6/10\n",
      "2/2 [==============================] - 1s 532ms/step - loss: 0.5086 - accuracy: 1.0000 - val_loss: 0.4654 - val_accuracy: 1.0000\n",
      "Epoch 7/10\n",
      "2/2 [==============================] - 1s 533ms/step - loss: 0.4119 - accuracy: 0.6000 - val_loss: 0.3725 - val_accuracy: 0.5000\n",
      "Epoch 8/10\n",
      "2/2 [==============================] - 1s 223ms/step - loss: 0.3684 - accuracy: 0.6500 - val_loss: 0.3441 - val_accuracy: 1.0000\n",
      "Epoch 9/10\n",
      "2/2 [==============================] - 1s 222ms/step - loss: 0.3389 - accuracy: 1.0000 - val_loss: 0.3405 - val_accuracy: 1.0000\n",
      "Epoch 10/10\n",
      "2/2 [==============================] - 1s 532ms/step - loss: 0.3057 - accuracy: 1.0000 - val_loss: 0.2665 - val_accuracy: 1.0000\n"
     ]
    }
   ],
   "source": [
    "datagen = ImageDataGenerator(rescale=1/255, validation_split=0.2)\n",
    "\n",
    "train_generator_ = datagen.flow_from_directory('sample_data',\n",
    "                                               batch_size=32,\n",
    "                                               target_size=(224, 224),\n",
    "                                               shuffle=True,\n",
    "                                               class_mode='binary',\n",
    "                                               subset='training')\n",
    "\n",
    "validation_generator = datagen.flow_from_directory('sample_data',\n",
    "                                                   batch_size=32,\n",
    "                                                   target_size=(224, 224),\n",
    "                                                   shuffle=True,\n",
    "                                                   class_mode='binary',\n",
    "                                                   subset='validation')\n",
    "model.compile(loss='binary_crossentropy', metrics=['accuracy'], optimizer='adam')\n",
    "history = model.fit(train_generator, epochs=10, batch_size=32, validation_data=validation_generator)\n",
    "\n",
    "loss={'Training_Loss': model.history.history['loss'],\n",
    "      'Val_Loss': model.history.history['val_accuracy']\n",
    "}"
   ]
  },
  {
   "cell_type": "markdown",
   "metadata": {},
   "source": [
    "**Plotting data**"
   ]
  },
  {
   "cell_type": "code",
   "execution_count": 8,
   "metadata": {},
   "outputs": [
    {
     "data": {
      "image/png": "[encoded data removed]",
      "text/plain": [
       "<Figure size 600x600 with 1 Axes>"
      ]
     },
     "metadata": {},
     "output_type": "display_data"
    }
   ],
   "source": [
    "plt.figure(figsize=(6, 6))\n",
    "plt.plot(model.history.history['loss'], label='Training loss')\n",
    "plt.plot(model.history.history['val_loss'], label='Validation loss')\n",
    "plt.title('Training and Validation loss plot')\n",
    "plt.legend()\n",
    "plt.show()"
   ]
  },
  {
   "cell_type": "markdown",
   "metadata": {},
   "source": [
    "**Changing the optimizer to `sgd`**"
   ]
  },
  {
   "cell_type": "code",
   "execution_count": 9,
   "metadata": {},
   "outputs": [
    {
     "name": "stdout",
     "output_type": "stream",
     "text": [
      "Epoch 1/10\n",
      "2/2 [==============================] - 1s 675ms/step - loss: 0.2279 - accuracy: 1.0000 - val_loss: 0.0889 - val_accuracy: 1.0000\n",
      "Epoch 2/10\n",
      "2/2 [==============================] - 1s 218ms/step - loss: 0.0775 - accuracy: 1.0000 - val_loss: 0.0150 - val_accuracy: 1.0000\n",
      "Epoch 3/10\n",
      "2/2 [==============================] - 1s 218ms/step - loss: 0.0133 - accuracy: 1.0000 - val_loss: 0.0059 - val_accuracy: 1.0000\n",
      "Epoch 4/10\n",
      "2/2 [==============================] - 1s 217ms/step - loss: 0.0057 - accuracy: 1.0000 - val_loss: 0.0043 - val_accuracy: 1.0000\n",
      "Epoch 5/10\n",
      "2/2 [==============================] - 1s 217ms/step - loss: 0.0043 - accuracy: 1.0000 - val_loss: 0.0038 - val_accuracy: 1.0000\n",
      "Epoch 6/10\n",
      "2/2 [==============================] - 1s 217ms/step - loss: 0.0038 - accuracy: 1.0000 - val_loss: 0.0034 - val_accuracy: 1.0000\n",
      "Epoch 7/10\n",
      "2/2 [==============================] - 1s 527ms/step - loss: 0.0033 - accuracy: 1.0000 - val_loss: 0.0031 - val_accuracy: 1.0000\n",
      "Epoch 8/10\n",
      "2/2 [==============================] - 1s 217ms/step - loss: 0.0031 - accuracy: 1.0000 - val_loss: 0.0029 - val_accuracy: 1.0000\n",
      "Epoch 9/10\n",
      "2/2 [==============================] - 1s 217ms/step - loss: 0.0029 - accuracy: 1.0000 - val_loss: 0.0027 - val_accuracy: 1.0000\n",
      "Epoch 10/10\n",
      "2/2 [==============================] - 1s 218ms/step - loss: 0.0027 - accuracy: 1.0000 - val_loss: 0.0025 - val_accuracy: 1.0000\n"
     ]
    },
    {
     "data": {
      "image/png": "[encoded data removed]",
      "text/plain": [
       "<Figure size 600x600 with 1 Axes>"
      ]
     },
     "metadata": {},
     "output_type": "display_data"
    }
   ],
   "source": [
    "from tensorflow.keras.models import clone_model\n",
    "def reset_model(model):\n",
    "    model_clone = clone_model(model)\n",
    "    model_clone.set_weights(model.get_weights())\n",
    "    return model_clone\n",
    "\n",
    "# Prepare to reset the model for each optimizer test\n",
    "initial_model = reset_model(model)\n",
    "\n",
    "# Experiment with SGD optimizer\n",
    "sgd_model = reset_model(initial_model)\n",
    "\n",
    "sgd_model.compile(optimizer='sgd', metrics=['accuracy'], loss='binary_crossentropy')\n",
    "history = sgd_model.fit(train_generator, epochs=10, validation_data=validation_generator)\n",
    "\n",
    "plt.figure(figsize=(6, 6))\n",
    "plt.plot(sgd_model.history.history['accuracy'], label='Training loss')\n",
    "plt.plot(sgd_model.history.history['val_accuracy'], label='Validation loss')\n",
    "plt.title('Training and validation loss plot for SGD optimizer')\n",
    "plt.xlabel('Epochs')\n",
    "plt.ylabel('Loss')\n",
    "plt.legend()\n",
    "plt.show()"
   ]
  },
  {
   "cell_type": "markdown",
   "metadata": {},
   "source": [
    "**Change compiler to RMSprop optimizer**"
   ]
  },
  {
   "cell_type": "code",
   "execution_count": 10,
   "metadata": {},
   "outputs": [
    {
     "name": "stdout",
     "output_type": "stream",
     "text": [
      "Epoch 1/10\n",
      "2/2 [==============================] - 2s 706ms/step - loss: 1.5519 - accuracy: 0.5500 - val_loss: 61.8181 - val_accuracy: 0.5000\n",
      "Epoch 2/10\n",
      "2/2 [==============================] - 1s 247ms/step - loss: 46.7377 - accuracy: 0.5500 - val_loss: 3.1442e-04 - val_accuracy: 1.0000\n",
      "Epoch 3/10\n",
      "2/2 [==============================] - 1s 229ms/step - loss: 3.6734e-04 - accuracy: 1.0000 - val_loss: 7.7486e-07 - val_accuracy: 1.0000\n",
      "Epoch 4/10\n",
      "2/2 [==============================] - 1s 538ms/step - loss: 5.2154e-07 - accuracy: 1.0000 - val_loss: 3.5763e-07 - val_accuracy: 1.0000\n",
      "Epoch 5/10\n",
      "2/2 [==============================] - 1s 539ms/step - loss: 3.0994e-07 - accuracy: 1.0000 - val_loss: 2.3842e-07 - val_accuracy: 1.0000\n",
      "Epoch 6/10\n",
      "2/2 [==============================] - 1s 229ms/step - loss: 2.3842e-07 - accuracy: 1.0000 - val_loss: 1.7881e-07 - val_accuracy: 1.0000\n",
      "Epoch 7/10\n",
      "2/2 [==============================] - 1s 229ms/step - loss: 1.7881e-07 - accuracy: 1.0000 - val_loss: 1.1921e-07 - val_accuracy: 1.0000\n",
      "Epoch 8/10\n",
      "2/2 [==============================] - 1s 230ms/step - loss: 1.1921e-07 - accuracy: 1.0000 - val_loss: 1.1921e-07 - val_accuracy: 1.0000\n",
      "Epoch 9/10\n",
      "2/2 [==============================] - 1s 539ms/step - loss: 1.1921e-07 - accuracy: 1.0000 - val_loss: 1.1921e-07 - val_accuracy: 1.0000\n",
      "Epoch 10/10\n",
      "2/2 [==============================] - 1s 540ms/step - loss: 1.1921e-07 - accuracy: 1.0000 - val_loss: 5.9605e-08 - val_accuracy: 1.0000\n"
     ]
    },
    {
     "data": {
      "image/png": "[encoded data removed]",
      "text/plain": [
       "<Figure size 600x600 with 1 Axes>"
      ]
     },
     "metadata": {},
     "output_type": "display_data"
    }
   ],
   "source": [
    "rms_model = reset_model(initial_model)\n",
    "\n",
    "rms_model.compile(optimizer='rmsprop', metrics=['accuracy'], loss='binary_crossentropy')\n",
    "history = rms_model.fit(train_generator, epochs=10, validation_data=validation_generator)\n",
    "\n",
    "plt.figure(figsize=(6, 6))\n",
    "plt.plot(rms_model.history.history['accuracy'], label='Training loss')\n",
    "plt.plot(rms_model.history.history['val_accuracy'], label='Validation loss')\n",
    "plt.title('Training and validation loss plot for SGD optimizer')\n",
    "plt.xlabel('Epochs')\n",
    "plt.ylabel('Loss')\n",
    "plt.legend()\n",
    "plt.show()"
   ]
  },
  {
   "cell_type": "code",
   "execution_count": 11,
   "metadata": {},
   "outputs": [
    {
     "name": "stdout",
     "output_type": "stream",
     "text": [
      "Found 40 images belonging to 2 classes.\n",
      "2/2 [==============================] - 0s 92ms/step - loss: 0.2665 - accuracy: 1.0000\n",
      "Test Accuracy: 100.00%\n",
      "Test Loss: 0.2665\n"
     ]
    }
   ],
   "source": [
    "# Load and preprocess the test dataset\n",
    "test_datagen = ImageDataGenerator(rescale=1./255)\n",
    "test_generator = test_datagen.flow_from_directory(\n",
    "    'sample_data',\n",
    "    target_size=(224, 224),\n",
    "    batch_size=32,\n",
    "    class_mode='binary'\n",
    ")\n",
    "\n",
    "# Evaluate the fine-tuned model on the test set\n",
    "test_loss, test_accuracy = model.evaluate(test_generator)\n",
    "print(f'Test Accuracy: {test_accuracy * 100:.2f}%')\n",
    "print(f'Test Loss: {test_loss:.4f}')"
   ]
  }
 ],
 "metadata": {
  "kernelspec": {
   "display_name": ".venv",
   "language": "python",
   "name": "python3"
  },
  "language_info": {
   "codemirror_mode": {
    "name": "ipython",
    "version": 3
   },
   "file_extension": ".py",
   "mimetype": "text/x-python",
   "name": "python",
   "nbconvert_exporter": "python",
   "pygments_lexer": "ipython3",
   "version": "3.10.11"
  }
 },
 "nbformat": 4,
 "nbformat_minor": 2
}
