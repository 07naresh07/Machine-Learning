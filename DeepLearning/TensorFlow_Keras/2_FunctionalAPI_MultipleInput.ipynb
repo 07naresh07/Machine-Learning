{
 "cells": [
  {
   "cell_type": "markdown",
   "metadata": {},
   "source": [
    "**Import libraries**"
   ]
  },
  {
   "cell_type": "code",
   "execution_count": 1,
   "metadata": {},
   "outputs": [],
   "source": [
    "from tensorflow.keras.layers import Input, Dense, concatenate\n",
    "from tensorflow.keras.models import Model\n",
    "import warnings \n",
    "warnings.filterwarnings('ignore')"
   ]
  },
  {
   "cell_type": "markdown",
   "metadata": {},
   "source": [
    "**Defining layers and inputs**"
   ]
  },
  {
   "cell_type": "code",
   "execution_count": 2,
   "metadata": {},
   "outputs": [
    {
     "name": "stdout",
     "output_type": "stream",
     "text": [
      "Model: \"model_2\"\n",
      "__________________________________________________________________________________________________\n",
      " Layer (type)                Output Shape                 Param #   Connected to                  \n",
      "==================================================================================================\n",
      " input_1 (InputLayer)        [(None, 64)]                 0         []                            \n",
      "                                                                                                  \n",
      " input_2 (InputLayer)        [(None, 128)]                0         []                            \n",
      "                                                                                                  \n",
      " dense (Dense)               (None, 8)                    520       ['input_1[0][0]']             \n",
      "                                                                                                  \n",
      " dense_2 (Dense)             (None, 16)                   2064      ['input_2[0][0]']             \n",
      "                                                                                                  \n",
      " dense_1 (Dense)             (None, 4)                    36        ['dense[0][0]']               \n",
      "                                                                                                  \n",
      " dense_3 (Dense)             (None, 4)                    68        ['dense_2[0][0]']             \n",
      "                                                                                                  \n",
      " concatenate (Concatenate)   (None, 8)                    0         ['dense_1[0][0]',             \n",
      "                                                                     'dense_3[0][0]']             \n",
      "                                                                                                  \n",
      " dense_4 (Dense)             (None, 2)                    18        ['concatenate[0][0]']         \n",
      "                                                                                                  \n",
      " dense_5 (Dense)             (None, 2)                    6         ['dense_4[0][0]']             \n",
      "                                                                                                  \n",
      "==================================================================================================\n",
      "Total params: 2712 (10.59 KB)\n",
      "Trainable params: 2712 (10.59 KB)\n",
      "Non-trainable params: 0 (0.00 Byte)\n",
      "__________________________________________________________________________________________________\n"
     ]
    },
    {
     "name": "stderr",
     "output_type": "stream",
     "text": [
      "2025-05-29 19:59:59.898647: I metal_plugin/src/device/metal_device.cc:1154] Metal device set to: Apple M2\n",
      "2025-05-29 19:59:59.898991: I metal_plugin/src/device/metal_device.cc:296] systemMemory: 16.00 GB\n",
      "2025-05-29 19:59:59.898999: I metal_plugin/src/device/metal_device.cc:313] maxCacheSize: 5.33 GB\n",
      "2025-05-29 19:59:59.899406: I tensorflow/core/common_runtime/pluggable_device/pluggable_device_factory.cc:306] Could not identify NUMA node of platform GPU ID 0, defaulting to 0. Your kernel may not have been built with NUMA support.\n",
      "2025-05-29 19:59:59.899823: I tensorflow/core/common_runtime/pluggable_device/pluggable_device_factory.cc:272] Created TensorFlow device (/job:localhost/replica:0/task:0/device:GPU:0 with 0 MB memory) -> physical PluggableDevice (device: 0, name: METAL, pci bus id: <undefined>)\n"
     ]
    }
   ],
   "source": [
    "# Define multiple inputs\n",
    "inputA = Input(shape=(64))\n",
    "inputB = Input(shape=(128))\n",
    "\n",
    "# First branch operates on first input\n",
    "x = Dense(8, activation='relu')(inputA)\n",
    "x = Dense(4, activation='relu')(x)\n",
    "x = Model(inputs=inputA, outputs=x)\n",
    "\n",
    "#Second branch operates on second input\n",
    "y = Dense(16, activation='relu')(inputB)\n",
    "y = Dense(4, activation='relu')(y)\n",
    "y = Model(inputs=inputB, outputs=y)\n",
    "\n",
    "# Combine the output of two branches\n",
    "combined = concatenate([x.output, y.output])\n",
    "\n",
    "# Apply a FC (fully connected) layer and then a regression predictions on the combined outputs\n",
    "z = Dense(2, activation='relu')(combined)\n",
    "z = Dense(2, activation='linear')(z)\n",
    "\n",
    "# Define model again and model will accept the inputs from two different branches and then output a single value\n",
    "model = Model(inputs=[x.input, y.input], outputs=z)\n",
    "\n",
    "# Summarieze the model\n",
    "model.summary()"
   ]
  },
  {
   "cell_type": "markdown",
   "metadata": {},
   "source": [
    "**Same model but different approach**"
   ]
  },
  {
   "cell_type": "code",
   "execution_count": 3,
   "metadata": {},
   "outputs": [
    {
     "name": "stdout",
     "output_type": "stream",
     "text": [
      "Model: \"model_3\"\n",
      "__________________________________________________________________________________________________\n",
      " Layer (type)                Output Shape                 Param #   Connected to                  \n",
      "==================================================================================================\n",
      " input_3 (InputLayer)        [(None, 64)]                 0         []                            \n",
      "                                                                                                  \n",
      " input_4 (InputLayer)        [(None, 128)]                0         []                            \n",
      "                                                                                                  \n",
      " dense_6 (Dense)             (None, 8)                    520       ['input_3[0][0]']             \n",
      "                                                                                                  \n",
      " dense_8 (Dense)             (None, 16)                   2064      ['input_4[0][0]']             \n",
      "                                                                                                  \n",
      " dense_7 (Dense)             (None, 4)                    36        ['dense_6[0][0]']             \n",
      "                                                                                                  \n",
      " dense_9 (Dense)             (None, 4)                    68        ['dense_8[0][0]']             \n",
      "                                                                                                  \n",
      " concatenate_1 (Concatenate  (None, 8)                    0         ['dense_7[0][0]',             \n",
      " )                                                                   'dense_9[0][0]']             \n",
      "                                                                                                  \n",
      " dense_10 (Dense)            (None, 2)                    18        ['concatenate_1[0][0]']       \n",
      "                                                                                                  \n",
      " dense_11 (Dense)            (None, 1)                    3         ['dense_10[0][0]']            \n",
      "                                                                                                  \n",
      "==================================================================================================\n",
      "Total params: 2709 (10.58 KB)\n",
      "Trainable params: 2709 (10.58 KB)\n",
      "Non-trainable params: 0 (0.00 Byte)\n",
      "__________________________________________________________________________________________________\n"
     ]
    }
   ],
   "source": [
    "# Define inputs\n",
    "inputA_ = Input(shape=(64))\n",
    "inputB_ = Input(shape=(128))\n",
    "\n",
    "# Define the two different branches of Dense layers\n",
    "x_ = Dense(8, activation='relu')(inputA_)\n",
    "x_ = Dense(4, activation='relu')(x_)\n",
    "\n",
    "y_ = Dense(16, activation='relu')(inputB_)\n",
    "y_ = Dense(4, activation='relu')(y_)\n",
    "\n",
    "# Combine the model using concatenation\n",
    "combined_ = concatenate([x_, y_])\n",
    "\n",
    "# Define FC layer\n",
    "z_ = Dense(2, activation='relu')(combined_)\n",
    "z_ = Dense(1, activation='linear')(z_)\n",
    "\n",
    "# Define the model\n",
    "model_ = Model(inputs=[inputA_, inputB_], outputs=z_)\n",
    "\n",
    "# Summarize the model\n",
    "model_.summary()"
   ]
  },
  {
   "cell_type": "code",
   "execution_count": null,
   "metadata": {},
   "outputs": [],
   "source": []
  }
 ],
 "metadata": {
  "kernelspec": {
   "display_name": ".venv",
   "language": "python",
   "name": "python3"
  },
  "language_info": {
   "codemirror_mode": {
    "name": "ipython",
    "version": 3
   },
   "file_extension": ".py",
   "mimetype": "text/x-python",
   "name": "python",
   "nbconvert_exporter": "python",
   "pygments_lexer": "ipython3",
   "version": "3.10.11"
  }
 },
 "nbformat": 4,
 "nbformat_minor": 2
}
