{
 "cells": [
  {
   "cell_type": "code",
   "execution_count": 12,
   "metadata": {},
   "outputs": [],
   "source": [
    "import tensorflow as tf\n",
    "from tensorflow.keras.layers import Dense, MaxPooling2D, Conv2D, Flatten, Input, concatenate\n",
    "from tensorflow.keras.activations import linear, relu\n",
    "from tensorflow.keras.models import Model"
   ]
  },
  {
   "cell_type": "code",
   "execution_count": 11,
   "metadata": {},
   "outputs": [
    {
     "name": "stdout",
     "output_type": "stream",
     "text": [
      "Model: \"model_8\"\n",
      "__________________________________________________________________________________________________\n",
      " Layer (type)                Output Shape                 Param #   Connected to                  \n",
      "==================================================================================================\n",
      " input_9 (InputLayer)        [(None, 32, 32, 1)]          0         []                            \n",
      "                                                                                                  \n",
      " input_10 (InputLayer)       [(None, 32, 32, 1)]          0         []                            \n",
      "                                                                                                  \n",
      " conv2d_7 (Conv2D)           (None, 15, 15, 32)           320       ['input_9[0][0]']             \n",
      "                                                                                                  \n",
      " conv2d_8 (Conv2D)           (None, 15, 15, 32)           320       ['input_10[0][0]']            \n",
      "                                                                                                  \n",
      " max_pooling2d_6 (MaxPoolin  (None, 7, 7, 32)             0         ['conv2d_7[0][0]']            \n",
      " g2D)                                                                                             \n",
      "                                                                                                  \n",
      " max_pooling2d_7 (MaxPoolin  (None, 7, 7, 32)             0         ['conv2d_8[0][0]']            \n",
      " g2D)                                                                                             \n",
      "                                                                                                  \n",
      " flatten_6 (Flatten)         (None, 1568)                 0         ['max_pooling2d_6[0][0]']     \n",
      "                                                                                                  \n",
      " flatten_7 (Flatten)         (None, 1568)                 0         ['max_pooling2d_7[0][0]']     \n",
      "                                                                                                  \n",
      " concatenate_3 (Concatenate  (None, 3136)                 0         ['flatten_6[0][0]',           \n",
      " )                                                                   'flatten_7[0][0]']           \n",
      "                                                                                                  \n",
      " dense (Dense)               (None, 64)                   200768    ['concatenate_3[0][0]']       \n",
      "                                                                                                  \n",
      " dense_1 (Dense)             (None, 1)                    65        ['dense[0][0]']               \n",
      "                                                                                                  \n",
      "==================================================================================================\n",
      "Total params: 201473 (787.00 KB)\n",
      "Trainable params: 201473 (787.00 KB)\n",
      "Non-trainable params: 0 (0.00 Byte)\n",
      "__________________________________________________________________________________________________\n"
     ]
    }
   ],
   "source": [
    "# First input model\n",
    "inputA = Input(shape=(32, 32, 1))\n",
    "x = Conv2D(filters=32, kernel_size=(3, 3), strides=(2, 2), activation=relu)(inputA)\n",
    "x = MaxPooling2D(pool_size=(2, 2), strides=(2, 2))(x)\n",
    "x = Flatten()(x)\n",
    "x = Model(inputs=inputA, outputs=x)\n",
    "\n",
    "# Second input model\n",
    "inputB = Input(shape=(32, 32, 1))\n",
    "y = Conv2D(filters=32, kernel_size=(3, 3), strides=(2, 2), activation=relu)(inputB)\n",
    "y = MaxPooling2D(pool_size=(2, 2), strides=(2, 2))(y)\n",
    "y = Flatten()(y)\n",
    "y = Model(inputs=inputB, outputs=y)\n",
    "\n",
    "# Combining the output of two brances\n",
    "combined = concatenate([x.output, y.output])\n",
    "\n",
    "# Apply the fully connected layer and then a regression prediction on the combined outputs\n",
    "z = Dense(64, activation=relu)(combined)\n",
    "z = Dense(1, activation=linear)(z)\n",
    "\n",
    "# The model will accept the inputs of the two branches and then output a single value\n",
    "model = Model(inputs=[x.input, y.input], outputs=z)\n",
    "\n",
    "# Summarize the result\n",
    "model.summary()"
   ]
  },
  {
   "cell_type": "code",
   "execution_count": null,
   "metadata": {},
   "outputs": [],
   "source": []
  }
 ],
 "metadata": {
  "kernelspec": {
   "display_name": ".venv",
   "language": "python",
   "name": "python3"
  },
  "language_info": {
   "codemirror_mode": {
    "name": "ipython",
    "version": 3
   },
   "file_extension": ".py",
   "mimetype": "text/x-python",
   "name": "python",
   "nbconvert_exporter": "python",
   "pygments_lexer": "ipython3",
   "version": "3.10.11"
  }
 },
 "nbformat": 4,
 "nbformat_minor": 2
}
