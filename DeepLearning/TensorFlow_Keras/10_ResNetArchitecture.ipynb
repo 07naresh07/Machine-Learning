{
 "cells": [
  {
   "cell_type": "code",
   "execution_count": 2,
   "metadata": {},
   "outputs": [],
   "source": [
    "import numpy as np\n",
    "import tensorflow as tf\n",
    "from tensorflow.keras.layers import Input, Dense, BatchNormalization, Activation, Add, Conv2D, MaxPooling2D, Flatten\n",
    "from tensorflow.keras.models import Model"
   ]
  },
  {
   "cell_type": "code",
   "execution_count": 7,
   "metadata": {},
   "outputs": [
    {
     "name": "stdout",
     "output_type": "stream",
     "text": [
      "Model: \"model_2\"\n",
      "__________________________________________________________________________________________________\n",
      " Layer (type)                Output Shape                 Param #   Connected to                  \n",
      "==================================================================================================\n",
      " input_5 (InputLayer)        [(None, 64, 64, 3)]          0         []                            \n",
      "                                                                                                  \n",
      " conv2d_18 (Conv2D)          (None, 32, 32, 64)           9472      ['input_5[0][0]']             \n",
      "                                                                                                  \n",
      " batch_normalization_18 (Ba  (None, 32, 32, 64)           256       ['conv2d_18[0][0]']           \n",
      " tchNormalization)                                                                                \n",
      "                                                                                                  \n",
      " activation_17 (Activation)  (None, 32, 32, 64)           0         ['batch_normalization_18[0][0]\n",
      "                                                                    ']                            \n",
      "                                                                                                  \n",
      " conv2d_19 (Conv2D)          (None, 32, 32, 64)           36928     ['activation_17[0][0]']       \n",
      "                                                                                                  \n",
      " batch_normalization_19 (Ba  (None, 32, 32, 64)           256       ['conv2d_19[0][0]']           \n",
      " tchNormalization)                                                                                \n",
      "                                                                                                  \n",
      " activation_18 (Activation)  (None, 32, 32, 64)           0         ['batch_normalization_19[0][0]\n",
      "                                                                    ']                            \n",
      "                                                                                                  \n",
      " conv2d_20 (Conv2D)          (None, 32, 32, 64)           36928     ['activation_18[0][0]']       \n",
      "                                                                                                  \n",
      " batch_normalization_20 (Ba  (None, 32, 32, 64)           256       ['conv2d_20[0][0]']           \n",
      " tchNormalization)                                                                                \n",
      "                                                                                                  \n",
      " add_7 (Add)                 (None, 32, 32, 64)           0         ['batch_normalization_20[0][0]\n",
      "                                                                    ',                            \n",
      "                                                                     'activation_17[0][0]']       \n",
      "                                                                                                  \n",
      " activation_19 (Activation)  (None, 32, 32, 64)           0         ['add_7[0][0]']               \n",
      "                                                                                                  \n",
      " conv2d_21 (Conv2D)          (None, 32, 32, 64)           36928     ['activation_19[0][0]']       \n",
      "                                                                                                  \n",
      " batch_normalization_21 (Ba  (None, 32, 32, 64)           256       ['conv2d_21[0][0]']           \n",
      " tchNormalization)                                                                                \n",
      "                                                                                                  \n",
      " activation_20 (Activation)  (None, 32, 32, 64)           0         ['batch_normalization_21[0][0]\n",
      "                                                                    ']                            \n",
      "                                                                                                  \n",
      " conv2d_22 (Conv2D)          (None, 32, 32, 64)           36928     ['activation_20[0][0]']       \n",
      "                                                                                                  \n",
      " batch_normalization_22 (Ba  (None, 32, 32, 64)           256       ['conv2d_22[0][0]']           \n",
      " tchNormalization)                                                                                \n",
      "                                                                                                  \n",
      " add_8 (Add)                 (None, 32, 32, 64)           0         ['batch_normalization_22[0][0]\n",
      "                                                                    ',                            \n",
      "                                                                     'activation_19[0][0]']       \n",
      "                                                                                                  \n",
      " activation_21 (Activation)  (None, 32, 32, 64)           0         ['add_8[0][0]']               \n",
      "                                                                                                  \n",
      " flatten_3 (Flatten)         (None, 65536)                0         ['activation_21[0][0]']       \n",
      "                                                                                                  \n",
      " dense_3 (Dense)             (None, 10)                   655370    ['flatten_3[0][0]']           \n",
      "                                                                                                  \n",
      "==================================================================================================\n",
      "Total params: 813834 (3.10 MB)\n",
      "Trainable params: 813194 (3.10 MB)\n",
      "Non-trainable params: 640 (2.50 KB)\n",
      "__________________________________________________________________________________________________\n"
     ]
    }
   ],
   "source": [
    "def residual_block(x, filters, kernel_size=3, strides=1):\n",
    "    shortcut = x\n",
    "    x = Conv2D(filters, kernel_size, strides=strides, padding='same')(x)\n",
    "    x = BatchNormalization()(x)\n",
    "    x = Activation('relu')(x)\n",
    "    x = Conv2D(filters, kernel_size, strides=strides, padding='same')(x)\n",
    "    x = BatchNormalization()(x)\n",
    "    x = Add()([x, shortcut])\n",
    "    x = Activation('relu')(x)\n",
    "    return x\n",
    "\n",
    "input = Input(shape=(64, 64, 3))\n",
    "x = Conv2D(64, (7, 7), strides=2, padding='same')(input)\n",
    "x = BatchNormalization()(x)\n",
    "x = Activation('relu')(x)\n",
    "x = residual_block(x, 64)\n",
    "x = residual_block(x, 64)\n",
    "x = Flatten()(x)\n",
    "outputs = Dense(10, activation='softmax')(x)\n",
    "model = Model(inputs=input, outputs=outputs)\n",
    "model.compile(optimizer='Adam', loss='categorical_crossentropy', metrics=['accuracy'])\n",
    "model.summary()"
   ]
  },
  {
   "cell_type": "code",
   "execution_count": null,
   "metadata": {},
   "outputs": [],
   "source": []
  }
 ],
 "metadata": {
  "kernelspec": {
   "display_name": ".venv",
   "language": "python",
   "name": "python3"
  },
  "language_info": {
   "codemirror_mode": {
    "name": "ipython",
    "version": 3
   },
   "file_extension": ".py",
   "mimetype": "text/x-python",
   "name": "python",
   "nbconvert_exporter": "python",
   "pygments_lexer": "ipython3",
   "version": "3.10.11"
  }
 },
 "nbformat": 4,
 "nbformat_minor": 2
}
