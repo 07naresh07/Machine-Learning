{
 "cells": [
  {
   "cell_type": "code",
   "execution_count": 2,
   "metadata": {},
   "outputs": [],
   "source": [
    "import tensorflow as tf\n",
    "from tensorflow.keras.models import Model\n",
    "from tensorflow.keras.layers import Input, Dense, Lambda"
   ]
  },
  {
   "cell_type": "code",
   "execution_count": 5,
   "metadata": {},
   "outputs": [
    {
     "name": "stdout",
     "output_type": "stream",
     "text": [
      "Model: \"model_1\"\n",
      "__________________________________________________________________________________________________\n",
      " Layer (type)                Output Shape                 Param #   Connected to                  \n",
      "==================================================================================================\n",
      " input_3 (InputLayer)        [(None, 28, 28, 1)]          0         []                            \n",
      "                                                                                                  \n",
      " lambda_2 (Lambda)           (None, 784)                  0         ['input_3[0][0]']             \n",
      "                                                                                                  \n",
      " dense_1 (Dense)             (None, 64)                   50240     ['lambda_2[0][0]',            \n",
      "                                                                     'lambda_2[0][0]']            \n",
      "                                                                                                  \n",
      "==================================================================================================\n",
      "Total params: 50240 (196.25 KB)\n",
      "Trainable params: 50240 (196.25 KB)\n",
      "Non-trainable params: 0 (0.00 Byte)\n",
      "__________________________________________________________________________________________________\n"
     ]
    }
   ],
   "source": [
    "# Define input layer\n",
    "input = Input(shape=(28, 28, 1))\n",
    "\n",
    "# Apply Lambda to normalize the data\n",
    "flatten_normalize = Lambda(lambda x: tf.reshape(x, (-1, 28*28)))(input)\n",
    "\n",
    "# Define a shared convolution base\n",
    "conv_base = Dense(64, activation='relu')\n",
    "\n",
    "# Process the input through the shared layer\n",
    "processed_1 = conv_base(flatten_normalize)\n",
    "processed_2 = conv_base(flatten_normalize)\n",
    "\n",
    "# Create a model using shared layer\n",
    "model = Model(inputs=input, outputs = [processed_1, processed_2])\n",
    "model.summary()"
   ]
  },
  {
   "cell_type": "code",
   "execution_count": null,
   "metadata": {},
   "outputs": [],
   "source": []
  }
 ],
 "metadata": {
  "kernelspec": {
   "display_name": ".venv",
   "language": "python",
   "name": "python3"
  },
  "language_info": {
   "codemirror_mode": {
    "name": "ipython",
    "version": 3
   },
   "file_extension": ".py",
   "mimetype": "text/x-python",
   "name": "python",
   "nbconvert_exporter": "python",
   "pygments_lexer": "ipython3",
   "version": "3.10.11"
  }
 },
 "nbformat": 4,
 "nbformat_minor": 2
}
