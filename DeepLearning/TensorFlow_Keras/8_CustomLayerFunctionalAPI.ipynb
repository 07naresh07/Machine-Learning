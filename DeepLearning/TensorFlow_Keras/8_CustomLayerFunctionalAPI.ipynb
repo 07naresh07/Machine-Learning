{
 "cells": [
  {
   "cell_type": "markdown",
   "metadata": {},
   "source": [
    "**Importing Libraries**"
   ]
  },
  {
   "cell_type": "code",
   "execution_count": 68,
   "metadata": {},
   "outputs": [],
   "source": [
    "import numpy as np\n",
    "import tensorflow as tf\n",
    "from tensorflow.keras.models import Model, Sequential\n",
    "from tensorflow.keras.layers import Dense, Layer, Input, Dropout\n",
    "from tensorflow.keras.utils import plot_model\n",
    "from sklearn.model_selection import train_test_split\n",
    "from sklearn.metrics import mean_squared_error\n",
    "import matplotlib.pyplot as plt"
   ]
  },
  {
   "cell_type": "markdown",
   "metadata": {},
   "source": [
    "**Creating custom layer**"
   ]
  },
  {
   "cell_type": "code",
   "execution_count": 69,
   "metadata": {},
   "outputs": [],
   "source": [
    "class CustomDenseLayer(Layer):\n",
    "    def __init__(self, units=32):\n",
    "        super(CustomDenseLayer, self).__init__()\n",
    "        self.units = units\n",
    "    def build(self, input_shape):\n",
    "        self.w = self.add_weight(shape=(input_shape[-1], self.units), initializer='random_normal', trainable=True)\n",
    "        self.b = self.add_weight(shape=self.units, initializer='zeros', trainable=True)\n",
    "    def call(self, inputs):\n",
    "        return tf.nn.relu(tf.matmul(inputs, self.w)+self.b)"
   ]
  },
  {
   "cell_type": "markdown",
   "metadata": {},
   "source": [
    "**Generating input data**"
   ]
  },
  {
   "cell_type": "code",
   "execution_count": 70,
   "metadata": {},
   "outputs": [],
   "source": [
    "np.random.seed(42)\n",
    "X = np.random.rand(1000, 10)\n",
    "true_weights = np.random.rand(10, 1)\n",
    "y = X @ true_weights+np.random.normal(0, 0.1, size=(1000, 1))   #y = X + noise"
   ]
  },
  {
   "cell_type": "markdown",
   "metadata": {},
   "source": [
    "**Split dataset**"
   ]
  },
  {
   "cell_type": "code",
   "execution_count": 71,
   "metadata": {},
   "outputs": [],
   "source": [
    "X_train, X_test, y_train, y_test = train_test_split(X, y, test_size=0.2, random_state=42)"
   ]
  },
  {
   "cell_type": "markdown",
   "metadata": {},
   "source": [
    "**Using `FunctionalAPI` to define the layers**"
   ]
  },
  {
   "cell_type": "code",
   "execution_count": 72,
   "metadata": {},
   "outputs": [],
   "source": [
    "inputs = Input(shape=(10, ))\n",
    "x = CustomDenseLayer(512)(inputs)\n",
    "x = Dense(256, activation='relu')(x)\n",
    "x = Dropout(0.5)(x)\n",
    "x = CustomDenseLayer(256)(x)\n",
    "x = Dropout(0.5)(x)\n",
    "output = Dense(1)(x)"
   ]
  },
  {
   "cell_type": "markdown",
   "metadata": {},
   "source": [
    "**Model building**"
   ]
  },
  {
   "cell_type": "code",
   "execution_count": 73,
   "metadata": {},
   "outputs": [],
   "source": [
    "model = Model(inputs=inputs, outputs=output)\n",
    "model.compile(optimizer='Adam', metrics='mse')"
   ]
  },
  {
   "cell_type": "code",
   "execution_count": 74,
   "metadata": {},
   "outputs": [],
   "source": [
    "model.compile(loss='binary_crossentropy', metrics=['mse'], optimizer='Adam')"
   ]
  },
  {
   "cell_type": "markdown",
   "metadata": {},
   "source": [
    "**Fitting model**"
   ]
  },
  {
   "cell_type": "code",
   "execution_count": 75,
   "metadata": {},
   "outputs": [
    {
     "name": "stdout",
     "output_type": "stream",
     "text": [
      "Epoch 1/50\n",
      "20/20 [==============================] - 0s 11ms/step - loss: -17.0346 - mse: 3.1936 - val_loss: -24.0880 - val_mse: 9.1390\n",
      "Epoch 2/50\n",
      "20/20 [==============================] - 0s 5ms/step - loss: -22.5805 - mse: 16.7650 - val_loss: -24.0880 - val_mse: 21.0815\n",
      "Epoch 3/50\n",
      "20/20 [==============================] - 0s 5ms/step - loss: -22.5805 - mse: 22.9927 - val_loss: -24.0880 - val_mse: 23.5636\n",
      "Epoch 4/50\n",
      "20/20 [==============================] - 0s 5ms/step - loss: -22.5805 - mse: 23.6361 - val_loss: -24.0880 - val_mse: 23.9400\n",
      "Epoch 5/50\n",
      "20/20 [==============================] - 0s 5ms/step - loss: -22.5805 - mse: 24.4375 - val_loss: -24.0880 - val_mse: 23.9927\n",
      "Epoch 6/50\n",
      "20/20 [==============================] - 0s 5ms/step - loss: -22.5805 - mse: 24.3987 - val_loss: -24.0880 - val_mse: 23.9998\n",
      "Epoch 7/50\n",
      "20/20 [==============================] - 0s 7ms/step - loss: -22.5805 - mse: 25.3701 - val_loss: -24.0880 - val_mse: 24.0007\n",
      "Epoch 8/50\n",
      "20/20 [==============================] - 0s 5ms/step - loss: -22.5805 - mse: 24.2296 - val_loss: -24.0880 - val_mse: 24.0007\n",
      "Epoch 9/50\n",
      "20/20 [==============================] - 0s 5ms/step - loss: -22.5805 - mse: 24.9377 - val_loss: -24.0880 - val_mse: 24.0007\n",
      "Epoch 10/50\n",
      "20/20 [==============================] - 0s 5ms/step - loss: -22.5805 - mse: 24.5137 - val_loss: -24.0880 - val_mse: 24.0007\n",
      "Epoch 11/50\n",
      "20/20 [==============================] - 0s 5ms/step - loss: -22.5805 - mse: 25.1025 - val_loss: -24.0880 - val_mse: 24.0007\n",
      "Epoch 12/50\n",
      "20/20 [==============================] - 0s 5ms/step - loss: -22.5805 - mse: 24.1129 - val_loss: -24.0880 - val_mse: 24.0007\n",
      "Epoch 13/50\n",
      "20/20 [==============================] - 0s 5ms/step - loss: -22.5805 - mse: 24.3968 - val_loss: -24.0880 - val_mse: 24.0007\n",
      "Epoch 14/50\n",
      "20/20 [==============================] - 0s 6ms/step - loss: -22.5805 - mse: 24.3069 - val_loss: -24.0880 - val_mse: 24.0007\n",
      "Epoch 15/50\n",
      "20/20 [==============================] - 0s 5ms/step - loss: -22.5805 - mse: 24.0185 - val_loss: -24.0880 - val_mse: 24.0007\n",
      "Epoch 16/50\n",
      "20/20 [==============================] - 0s 5ms/step - loss: -22.5805 - mse: 24.7243 - val_loss: -24.0880 - val_mse: 24.0007\n",
      "Epoch 17/50\n",
      "20/20 [==============================] - 0s 5ms/step - loss: -22.5805 - mse: 25.1430 - val_loss: -24.0880 - val_mse: 24.0007\n",
      "Epoch 18/50\n",
      "20/20 [==============================] - 0s 5ms/step - loss: -22.5805 - mse: 24.2176 - val_loss: -24.0880 - val_mse: 24.0007\n",
      "Epoch 19/50\n",
      "20/20 [==============================] - 0s 5ms/step - loss: -22.5805 - mse: 24.4407 - val_loss: -24.0880 - val_mse: 24.0007\n",
      "Epoch 20/50\n",
      "20/20 [==============================] - 0s 5ms/step - loss: -22.5805 - mse: 25.0847 - val_loss: -24.0880 - val_mse: 24.0007\n",
      "Epoch 21/50\n",
      "20/20 [==============================] - 0s 5ms/step - loss: -22.5805 - mse: 24.5912 - val_loss: -24.0880 - val_mse: 24.0007\n",
      "Epoch 22/50\n",
      "20/20 [==============================] - 0s 5ms/step - loss: -22.5805 - mse: 25.2903 - val_loss: -24.0880 - val_mse: 24.0007\n",
      "Epoch 23/50\n",
      "20/20 [==============================] - 0s 5ms/step - loss: -22.5805 - mse: 25.2054 - val_loss: -24.0880 - val_mse: 24.0007\n",
      "Epoch 24/50\n",
      "20/20 [==============================] - 0s 6ms/step - loss: -22.5805 - mse: 24.2088 - val_loss: -24.0880 - val_mse: 24.0007\n",
      "Epoch 25/50\n",
      "20/20 [==============================] - 0s 5ms/step - loss: -22.5805 - mse: 24.3775 - val_loss: -24.0880 - val_mse: 24.0007\n",
      "Epoch 26/50\n",
      "20/20 [==============================] - 0s 5ms/step - loss: -22.5805 - mse: 24.4862 - val_loss: -24.0880 - val_mse: 24.0007\n",
      "Epoch 27/50\n",
      "20/20 [==============================] - 0s 5ms/step - loss: -22.5805 - mse: 24.7671 - val_loss: -24.0880 - val_mse: 24.0007\n",
      "Epoch 28/50\n",
      "20/20 [==============================] - 0s 7ms/step - loss: -22.5805 - mse: 24.5773 - val_loss: -24.0880 - val_mse: 24.0007\n",
      "Epoch 29/50\n",
      "20/20 [==============================] - 0s 5ms/step - loss: -22.5805 - mse: 24.9392 - val_loss: -24.0880 - val_mse: 24.0007\n",
      "Epoch 30/50\n",
      "20/20 [==============================] - 0s 5ms/step - loss: -22.5805 - mse: 24.8652 - val_loss: -24.0880 - val_mse: 24.0007\n",
      "Epoch 31/50\n",
      "20/20 [==============================] - 0s 5ms/step - loss: -22.5805 - mse: 24.9619 - val_loss: -24.0880 - val_mse: 24.0007\n",
      "Epoch 32/50\n",
      "20/20 [==============================] - 0s 5ms/step - loss: -22.5805 - mse: 24.4836 - val_loss: -24.0880 - val_mse: 24.0007\n",
      "Epoch 33/50\n",
      "20/20 [==============================] - 0s 5ms/step - loss: -22.5805 - mse: 23.9757 - val_loss: -24.0880 - val_mse: 24.0007\n",
      "Epoch 34/50\n",
      "20/20 [==============================] - 0s 5ms/step - loss: -22.5805 - mse: 24.8182 - val_loss: -24.0880 - val_mse: 24.0007\n",
      "Epoch 35/50\n",
      "20/20 [==============================] - 0s 5ms/step - loss: -22.5805 - mse: 24.4250 - val_loss: -24.0880 - val_mse: 24.0007\n",
      "Epoch 36/50\n",
      "20/20 [==============================] - 0s 5ms/step - loss: -22.5805 - mse: 24.9136 - val_loss: -24.0880 - val_mse: 24.0007\n",
      "Epoch 37/50\n",
      "20/20 [==============================] - 0s 5ms/step - loss: -22.5805 - mse: 25.3165 - val_loss: -24.0880 - val_mse: 24.0007\n",
      "Epoch 38/50\n",
      "20/20 [==============================] - 0s 5ms/step - loss: -22.5805 - mse: 25.4118 - val_loss: -24.0880 - val_mse: 24.0007\n",
      "Epoch 39/50\n",
      "20/20 [==============================] - 0s 5ms/step - loss: -22.5805 - mse: 24.7202 - val_loss: -24.0880 - val_mse: 24.0007\n",
      "Epoch 40/50\n",
      "20/20 [==============================] - 0s 5ms/step - loss: -22.5805 - mse: 24.6403 - val_loss: -24.0880 - val_mse: 24.0007\n",
      "Epoch 41/50\n",
      "20/20 [==============================] - 0s 6ms/step - loss: -22.5805 - mse: 24.6833 - val_loss: -24.0880 - val_mse: 24.0007\n",
      "Epoch 42/50\n",
      "20/20 [==============================] - 0s 5ms/step - loss: -22.5805 - mse: 24.4077 - val_loss: -24.0880 - val_mse: 24.0007\n",
      "Epoch 43/50\n",
      "20/20 [==============================] - 0s 5ms/step - loss: -22.5805 - mse: 25.0278 - val_loss: -24.0880 - val_mse: 24.0007\n",
      "Epoch 44/50\n",
      "20/20 [==============================] - 0s 5ms/step - loss: -22.5805 - mse: 25.3199 - val_loss: -24.0880 - val_mse: 24.0007\n",
      "Epoch 45/50\n",
      "20/20 [==============================] - 0s 5ms/step - loss: -22.5805 - mse: 25.2333 - val_loss: -24.0880 - val_mse: 24.0007\n",
      "Epoch 46/50\n",
      "20/20 [==============================] - 0s 5ms/step - loss: -22.5805 - mse: 24.7924 - val_loss: -24.0880 - val_mse: 24.0007\n",
      "Epoch 47/50\n",
      "20/20 [==============================] - 0s 5ms/step - loss: -22.5805 - mse: 25.0995 - val_loss: -24.0880 - val_mse: 24.0007\n",
      "Epoch 48/50\n",
      "20/20 [==============================] - 0s 7ms/step - loss: -22.5805 - mse: 24.6593 - val_loss: -24.0880 - val_mse: 24.0007\n",
      "Epoch 49/50\n",
      "20/20 [==============================] - 0s 5ms/step - loss: -22.5805 - mse: 25.1422 - val_loss: -24.0880 - val_mse: 24.0007\n",
      "Epoch 50/50\n",
      "20/20 [==============================] - 0s 5ms/step - loss: -22.5805 - mse: 24.6455 - val_loss: -24.0880 - val_mse: 24.0007\n"
     ]
    }
   ],
   "source": [
    "history = model.fit(X_train, y_train, epochs=50, batch_size=32, validation_split=0.2)"
   ]
  },
  {
   "cell_type": "markdown",
   "metadata": {},
   "source": [
    "**Predict and evaluate the model**"
   ]
  },
  {
   "cell_type": "code",
   "execution_count": 76,
   "metadata": {},
   "outputs": [
    {
     "name": "stdout",
     "output_type": "stream",
     "text": [
      "7/7 [==============================] - 0s 3ms/step\n",
      "MSE: 22.824\n"
     ]
    }
   ],
   "source": [
    "y_pred = model.predict(X_test)\n",
    "mse = mean_squared_error(y_test, y_pred)\n",
    "print(f'MSE: {mse:.3f}')"
   ]
  },
  {
   "cell_type": "markdown",
   "metadata": {},
   "source": [
    "**Plot the loss**"
   ]
  },
  {
   "cell_type": "code",
   "execution_count": 78,
   "metadata": {},
   "outputs": [
    {
     "data": {
      "image/png": "[encoded data removed]",
      "text/plain": [
       "<Figure size 600x600 with 1 Axes>"
      ]
     },
     "metadata": {},
     "output_type": "display_data"
    }
   ],
   "source": [
    "plt.figure(figsize=(6, 6))\n",
    "plt.plot(history.history['loss'], label='Train Loss')\n",
    "plt.plot(history.history['val_loss'], label='Validation Loss')\n",
    "plt.xlabel('Epochs')\n",
    "plt.ylabel('Loss')\n",
    "plt.title(\"Training and Validation Loss\")\n",
    "plt.legend()\n",
    "plt.show()"
   ]
  },
  {
   "cell_type": "code",
   "execution_count": null,
   "metadata": {},
   "outputs": [],
   "source": []
  }
 ],
 "metadata": {
  "kernelspec": {
   "display_name": ".venv",
   "language": "python",
   "name": "python3"
  },
  "language_info": {
   "codemirror_mode": {
    "name": "ipython",
    "version": 3
   },
   "file_extension": ".py",
   "mimetype": "text/x-python",
   "name": "python",
   "nbconvert_exporter": "python",
   "pygments_lexer": "ipython3",
   "version": "3.10.11"
  }
 },
 "nbformat": 4,
 "nbformat_minor": 2
}
